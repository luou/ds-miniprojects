{
 "cells": [
  {
   "cell_type": "code",
   "execution_count": 14,
   "metadata": {},
   "outputs": [
    {
     "name": "stdout",
     "output_type": "stream",
     "text": [
      "GIGABYTE\n",
      "GIGABYTE GeForce RTX 2070 DirectX 12 GV-N2070WF2-8GD Video Card\n",
      "Free Shipping\n",
      "MSI\n",
      "MSI GeForce RTX 2060 DirectX 12 RTX 2060 VENTUS XS 6G OC Video Card\n",
      "Free Shipping\n",
      "EVGA\n",
      "EVGA GeForce RTX 2070 SUPER BLACK GAMING, 08G-P4-3071-KR\n",
      "Free Shipping\n",
      "ASUS\n",
      "ASUS ROG Strix Radeon RX 5700 XT ROG-STRIX-RX5700XT-O8G-GAMING Video Card\n",
      "Free Shipping\n",
      "MSI\n",
      "MSI GeForce GTX 1660 SUPER DirectX 12 GTX 1660 SUPER VENTUS XS OC Video Card\n",
      "Free Shipping\n",
      "EVGA\n",
      "EVGA GeForce RTX 2060 KO ULTRA GAMING Video Card, 06G-P4-2068-KR, 6GB GDDR6, Dual Fans, Metal Backplate\n",
      "Free Shipping\n",
      "Sapphire Tech\n",
      "SAPPHIRE PULSE Radeon RX 5700 XT 100416P8GL Video Card\n",
      "Free Shipping\n",
      "ASUS\n",
      "ASUS GeForce GTX 1660 Super Overclocked 6GB Dual-fan EVO Edition Graphics Card (DUAL-GTX1660S-O6G-EVO)\n",
      "$3.99 Shipping\n",
      "Sapphire Tech\n",
      "SAPPHIRE PULSE Radeon RX 5600 XT DirectX 12 11296-01-20G Video Card\n",
      "$3.99 Shipping\n",
      "XFX\n",
      "XFX Radeon RX 5600 XT RX-56XT6DF46 Video Card THICC II PRO-14GBPS 6GB BOOST UP TO 1620M D6  3xDP HDMI\n",
      "Free Shipping\n",
      "ASRock\n",
      "ASRock Radeon RX 5700 XT DirectX 12 RX 5700 XT TAICHI X 8G OC+ Video Card\n",
      "Free Shipping\n",
      "EVGA\n",
      "EVGA GeForce RTX 2060 XC GAMING, 6GB GDDR6, HDB Fan Graphics Card 06G-P4-2063-KR\n",
      "Free Shipping\n"
     ]
    }
   ],
   "source": [
    "from urllib.request import urlopen as uReq\n",
    "from bs4 import BeautifulSoup as soup\n",
    "my_url = 'https://www.newegg.com/Video-Cards-Video-Devices/Category/ID-38?Tpk=graphics+card'\n",
    "uClient = uReq(my_url)\n",
    "page_html = uClient.read()\n",
    "uClient.close()\n",
    "\n",
    "filename = \"products.csv\"\n",
    "f = open(filename, \"w\")\n",
    "headers  = \"brand, product_name, shipping\\n\"\n",
    "\n",
    "f.write(headers)\n",
    "\n",
    "# html parsing \n",
    "page_soup = soup(page_html, \"html.parser\")\n",
    "\n",
    "# grab each product\n",
    "containers = page_soup.findAll(\"div\", {\"class\":\"item-container\"})\n",
    "for container in containers:\n",
    "    brand = container.div.div.a.img['title']\n",
    "    \n",
    "    title_container = container.findAll(\"a\", {\"class\":\"item-title\"})\n",
    "    product_name = title_container[0].text\n",
    "    \n",
    "    shipping_container = container.findAll(\"li\", {\"class\":\"price-ship\"})\n",
    "    shipping = shipping_container[0].text.strip()\n",
    "    \n",
    "    print(brand)\n",
    "    print(product_name)\n",
    "    print(shipping)\n",
    "    \n",
    "    f.write(brand + \",\" + product_name.replace(\",\",\"|\") + \",\" + shipping + \"\\n\")\n",
    "\n",
    "f.close()"
   ]
  },
  {
   "cell_type": "code",
   "execution_count": null,
   "metadata": {},
   "outputs": [],
   "source": []
  }
 ],
 "metadata": {
  "kernelspec": {
   "display_name": "Python 3",
   "language": "python",
   "name": "python3"
  },
  "language_info": {
   "codemirror_mode": {
    "name": "ipython",
    "version": 3
   },
   "file_extension": ".py",
   "mimetype": "text/x-python",
   "name": "python",
   "nbconvert_exporter": "python",
   "pygments_lexer": "ipython3",
   "version": "3.8.3"
  }
 },
 "nbformat": 4,
 "nbformat_minor": 4
}
