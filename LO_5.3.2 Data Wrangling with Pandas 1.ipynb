{
 "cells": [
  {
   "cell_type": "markdown",
   "metadata": {},
   "source": [
    "# Pandas Demonstration"
   ]
  },
  {
   "cell_type": "markdown",
   "metadata": {},
   "source": [
    "## Set-up"
   ]
  },
  {
   "cell_type": "code",
   "execution_count": 2,
   "metadata": {},
   "outputs": [],
   "source": [
    "# community convention, import as \"pd\"\n",
    "import pandas as pd\n",
    "\n",
    "# to imbed plots, prevents pop-up windows for plots\n",
    "%matplotlib inline"
   ]
  },
  {
   "cell_type": "markdown",
   "metadata": {},
   "source": [
    "## Data Reading"
   ]
  },
  {
   "cell_type": "markdown",
   "metadata": {},
   "source": [
    "* Pandas makes it easy to read data from files and even from web sites.\n",
    "* Here we use the Pandas Datareader module to read Google stock data from 2010 to the end of 2014."
   ]
  },
  {
   "cell_type": "code",
   "execution_count": 3,
   "metadata": {},
   "outputs": [
    {
     "data": {
      "text/html": [
       "<div>\n",
       "<style scoped>\n",
       "    .dataframe tbody tr th:only-of-type {\n",
       "        vertical-align: middle;\n",
       "    }\n",
       "\n",
       "    .dataframe tbody tr th {\n",
       "        vertical-align: top;\n",
       "    }\n",
       "\n",
       "    .dataframe thead th {\n",
       "        text-align: right;\n",
       "    }\n",
       "</style>\n",
       "<table border=\"1\" class=\"dataframe\">\n",
       "  <thead>\n",
       "    <tr style=\"text-align: right;\">\n",
       "      <th></th>\n",
       "      <th>Open</th>\n",
       "      <th>High</th>\n",
       "      <th>Low</th>\n",
       "      <th>Close</th>\n",
       "      <th>Volume</th>\n",
       "    </tr>\n",
       "    <tr>\n",
       "      <th>Date</th>\n",
       "      <th></th>\n",
       "      <th></th>\n",
       "      <th></th>\n",
       "      <th></th>\n",
       "      <th></th>\n",
       "    </tr>\n",
       "  </thead>\n",
       "  <tbody>\n",
       "    <tr>\n",
       "      <th>2010-01-04</th>\n",
       "      <td>313.16</td>\n",
       "      <td>314.44</td>\n",
       "      <td>311.81</td>\n",
       "      <td>313.06</td>\n",
       "      <td>NaN</td>\n",
       "    </tr>\n",
       "    <tr>\n",
       "      <th>2010-01-05</th>\n",
       "      <td>313.28</td>\n",
       "      <td>313.61</td>\n",
       "      <td>310.46</td>\n",
       "      <td>311.68</td>\n",
       "      <td>NaN</td>\n",
       "    </tr>\n",
       "    <tr>\n",
       "      <th>2010-01-06</th>\n",
       "      <td>312.62</td>\n",
       "      <td>312.62</td>\n",
       "      <td>302.88</td>\n",
       "      <td>303.83</td>\n",
       "      <td>NaN</td>\n",
       "    </tr>\n",
       "    <tr>\n",
       "      <th>2010-01-07</th>\n",
       "      <td>304.40</td>\n",
       "      <td>304.70</td>\n",
       "      <td>296.03</td>\n",
       "      <td>296.75</td>\n",
       "      <td>NaN</td>\n",
       "    </tr>\n",
       "    <tr>\n",
       "      <th>2010-01-08</th>\n",
       "      <td>295.70</td>\n",
       "      <td>301.32</td>\n",
       "      <td>294.26</td>\n",
       "      <td>300.71</td>\n",
       "      <td>NaN</td>\n",
       "    </tr>\n",
       "    <tr>\n",
       "      <th>...</th>\n",
       "      <td>...</td>\n",
       "      <td>...</td>\n",
       "      <td>...</td>\n",
       "      <td>...</td>\n",
       "      <td>...</td>\n",
       "    </tr>\n",
       "    <tr>\n",
       "      <th>2014-12-24</th>\n",
       "      <td>530.51</td>\n",
       "      <td>531.76</td>\n",
       "      <td>527.02</td>\n",
       "      <td>528.77</td>\n",
       "      <td>704035.0</td>\n",
       "    </tr>\n",
       "    <tr>\n",
       "      <th>2014-12-26</th>\n",
       "      <td>528.77</td>\n",
       "      <td>534.25</td>\n",
       "      <td>527.31</td>\n",
       "      <td>534.03</td>\n",
       "      <td>1037727.0</td>\n",
       "    </tr>\n",
       "    <tr>\n",
       "      <th>2014-12-29</th>\n",
       "      <td>532.19</td>\n",
       "      <td>535.48</td>\n",
       "      <td>530.01</td>\n",
       "      <td>530.33</td>\n",
       "      <td>2276104.0</td>\n",
       "    </tr>\n",
       "    <tr>\n",
       "      <th>2014-12-30</th>\n",
       "      <td>528.09</td>\n",
       "      <td>531.15</td>\n",
       "      <td>527.13</td>\n",
       "      <td>530.42</td>\n",
       "      <td>873923.0</td>\n",
       "    </tr>\n",
       "    <tr>\n",
       "      <th>2014-12-31</th>\n",
       "      <td>531.25</td>\n",
       "      <td>532.60</td>\n",
       "      <td>525.80</td>\n",
       "      <td>526.40</td>\n",
       "      <td>1371819.0</td>\n",
       "    </tr>\n",
       "  </tbody>\n",
       "</table>\n",
       "<p>1257 rows × 5 columns</p>\n",
       "</div>"
      ],
      "text/plain": [
       "              Open    High     Low   Close     Volume\n",
       "Date                                                 \n",
       "2010-01-04  313.16  314.44  311.81  313.06        NaN\n",
       "2010-01-05  313.28  313.61  310.46  311.68        NaN\n",
       "2010-01-06  312.62  312.62  302.88  303.83        NaN\n",
       "2010-01-07  304.40  304.70  296.03  296.75        NaN\n",
       "2010-01-08  295.70  301.32  294.26  300.71        NaN\n",
       "...            ...     ...     ...     ...        ...\n",
       "2014-12-24  530.51  531.76  527.02  528.77   704035.0\n",
       "2014-12-26  528.77  534.25  527.31  534.03  1037727.0\n",
       "2014-12-29  532.19  535.48  530.01  530.33  2276104.0\n",
       "2014-12-30  528.09  531.15  527.13  530.42   873923.0\n",
       "2014-12-31  531.25  532.60  525.80  526.40  1371819.0\n",
       "\n",
       "[1257 rows x 5 columns]"
      ]
     },
     "execution_count": 3,
     "metadata": {},
     "output_type": "execute_result"
    }
   ],
   "source": [
    "# Reading data from a file\n",
    "google = pd.read_csv('data/goog.csv', index_col='Date', parse_dates=True)\n",
    "google"
   ]
  },
  {
   "cell_type": "markdown",
   "metadata": {},
   "source": [
    "## Data Containers"
   ]
  },
  {
   "cell_type": "markdown",
   "metadata": {},
   "source": [
    "* The `google` object is a Pandas DataFrame container\n",
    "* standard library python methods like `type()` work on it"
   ]
  },
  {
   "cell_type": "code",
   "execution_count": 5,
   "metadata": {},
   "outputs": [
    {
     "data": {
      "text/plain": [
       "pandas.core.frame.DataFrame"
      ]
     },
     "execution_count": 5,
     "metadata": {},
     "output_type": "execute_result"
    }
   ],
   "source": [
    "type(google)"
   ]
  },
  {
   "cell_type": "markdown",
   "metadata": {},
   "source": [
    "Inspect the available attributes (\"fields\") and methods of the DataFrame by using tab-completion:"
   ]
  },
  {
   "cell_type": "code",
   "execution_count": 6,
   "metadata": {},
   "outputs": [
    {
     "name": "stdout",
     "output_type": "stream",
     "text": [
      "<class 'pandas.core.frame.DataFrame'>\n",
      "DatetimeIndex: 1257 entries, 2010-01-04 to 2014-12-31\n",
      "Data columns (total 5 columns):\n",
      " #   Column  Non-Null Count  Dtype  \n",
      "---  ------  --------------  -----  \n",
      " 0   Open    1257 non-null   float64\n",
      " 1   High    1257 non-null   float64\n",
      " 2   Low     1257 non-null   float64\n",
      " 3   Close   1257 non-null   float64\n",
      " 4   Volume  194 non-null    float64\n",
      "dtypes: float64(5)\n",
      "memory usage: 58.9 KB\n"
     ]
    }
   ],
   "source": [
    "## To explore the DataFrame contents, uncomment the following:\n",
    "google.info()"
   ]
  },
  {
   "cell_type": "markdown",
   "metadata": {},
   "source": [
    "## Data Inspection"
   ]
  },
  {
   "cell_type": "markdown",
   "metadata": {},
   "source": [
    "Use the method `DataFrame.head()` to inspect the first few rows of data:\n",
    "* great way to inspect smaller data sets\n",
    "* useful for verifying you've read the right file"
   ]
  },
  {
   "cell_type": "code",
   "execution_count": 7,
   "metadata": {},
   "outputs": [
    {
     "data": {
      "text/html": [
       "<div>\n",
       "<style scoped>\n",
       "    .dataframe tbody tr th:only-of-type {\n",
       "        vertical-align: middle;\n",
       "    }\n",
       "\n",
       "    .dataframe tbody tr th {\n",
       "        vertical-align: top;\n",
       "    }\n",
       "\n",
       "    .dataframe thead th {\n",
       "        text-align: right;\n",
       "    }\n",
       "</style>\n",
       "<table border=\"1\" class=\"dataframe\">\n",
       "  <thead>\n",
       "    <tr style=\"text-align: right;\">\n",
       "      <th></th>\n",
       "      <th>Open</th>\n",
       "      <th>High</th>\n",
       "      <th>Low</th>\n",
       "      <th>Close</th>\n",
       "      <th>Volume</th>\n",
       "    </tr>\n",
       "    <tr>\n",
       "      <th>Date</th>\n",
       "      <th></th>\n",
       "      <th></th>\n",
       "      <th></th>\n",
       "      <th></th>\n",
       "      <th></th>\n",
       "    </tr>\n",
       "  </thead>\n",
       "  <tbody>\n",
       "    <tr>\n",
       "      <th>2010-01-04</th>\n",
       "      <td>313.16</td>\n",
       "      <td>314.44</td>\n",
       "      <td>311.81</td>\n",
       "      <td>313.06</td>\n",
       "      <td>NaN</td>\n",
       "    </tr>\n",
       "    <tr>\n",
       "      <th>2010-01-05</th>\n",
       "      <td>313.28</td>\n",
       "      <td>313.61</td>\n",
       "      <td>310.46</td>\n",
       "      <td>311.68</td>\n",
       "      <td>NaN</td>\n",
       "    </tr>\n",
       "    <tr>\n",
       "      <th>2010-01-06</th>\n",
       "      <td>312.62</td>\n",
       "      <td>312.62</td>\n",
       "      <td>302.88</td>\n",
       "      <td>303.83</td>\n",
       "      <td>NaN</td>\n",
       "    </tr>\n",
       "    <tr>\n",
       "      <th>2010-01-07</th>\n",
       "      <td>304.40</td>\n",
       "      <td>304.70</td>\n",
       "      <td>296.03</td>\n",
       "      <td>296.75</td>\n",
       "      <td>NaN</td>\n",
       "    </tr>\n",
       "    <tr>\n",
       "      <th>2010-01-08</th>\n",
       "      <td>295.70</td>\n",
       "      <td>301.32</td>\n",
       "      <td>294.26</td>\n",
       "      <td>300.71</td>\n",
       "      <td>NaN</td>\n",
       "    </tr>\n",
       "  </tbody>\n",
       "</table>\n",
       "</div>"
      ],
      "text/plain": [
       "              Open    High     Low   Close  Volume\n",
       "Date                                              \n",
       "2010-01-04  313.16  314.44  311.81  313.06     NaN\n",
       "2010-01-05  313.28  313.61  310.46  311.68     NaN\n",
       "2010-01-06  312.62  312.62  302.88  303.83     NaN\n",
       "2010-01-07  304.40  304.70  296.03  296.75     NaN\n",
       "2010-01-08  295.70  301.32  294.26  300.71     NaN"
      ]
     },
     "execution_count": 7,
     "metadata": {},
     "output_type": "execute_result"
    }
   ],
   "source": [
    "# Inspect the first few recods of the DataFrame\n",
    "google.head()"
   ]
  },
  {
   "cell_type": "markdown",
   "metadata": {},
   "source": [
    "Now use the Pandas `DataFrame.info()` method to see a bit more detail, including:\n",
    "* the name of each column\n",
    "* the Numpy dtype of each column\n",
    "* how many real values are present\n",
    "* amount of memory used\n",
    "\n",
    "*side note: Pandas has excellent support for not-a-number (NaN) entries in DataFrames and Series.*"
   ]
  },
  {
   "cell_type": "code",
   "execution_count": 10,
   "metadata": {},
   "outputs": [
    {
     "name": "stdout",
     "output_type": "stream",
     "text": [
      "<class 'pandas.core.frame.DataFrame'>\n",
      "DatetimeIndex: 1257 entries, 2010-01-04 to 2014-12-31\n",
      "Data columns (total 5 columns):\n",
      "Open      1257 non-null float64\n",
      "High      1257 non-null float64\n",
      "Low       1257 non-null float64\n",
      "Close     1257 non-null float64\n",
      "Volume    194 non-null float64\n",
      "dtypes: float64(5)\n",
      "memory usage: 58.9 KB\n"
     ]
    }
   ],
   "source": [
    "# What data do we have\n",
    "# Weekends and holidays are not included\n",
    "google.info()"
   ]
  },
  {
   "cell_type": "markdown",
   "metadata": {},
   "source": [
    "## Data Indexing"
   ]
  },
  {
   "cell_type": "markdown",
   "metadata": {},
   "source": [
    "* Pandas DataFrames have a special Index, goes beyond integer indexing\n",
    "* Pandas DataFrames are indexed by column label, then (row) Index:"
   ]
  },
  {
   "cell_type": "code",
   "execution_count": 11,
   "metadata": {},
   "outputs": [
    {
     "data": {
      "text/plain": [
       "Date\n",
       "2010-01-04    313.16\n",
       "2010-01-05    313.28\n",
       "2010-01-06    312.62\n",
       "2010-01-07    304.40\n",
       "2010-01-08    295.70\n",
       "2010-01-11    301.93\n",
       "2010-01-12    298.74\n",
       "2010-01-13    287.96\n",
       "2010-01-14    291.66\n",
       "2010-01-15    295.50\n",
       "2010-01-19    290.45\n",
       "2010-01-20    292.70\n",
       "2010-01-21    291.43\n",
       "2010-01-22    281.97\n",
       "2010-01-25    273.02\n",
       "2010-01-26    268.72\n",
       "2010-01-27    270.36\n",
       "2010-01-28    271.97\n",
       "2010-01-29    268.98\n",
       "2010-02-01    267.03\n",
       "2010-02-02    267.21\n",
       "2010-02-03    264.07\n",
       "2010-02-04    268.23\n",
       "2010-02-05    263.94\n",
       "2010-02-08    265.98\n",
       "2010-02-09    269.50\n",
       "2010-02-10    266.77\n",
       "2010-02-11    265.86\n",
       "2010-02-12    266.22\n",
       "2010-02-16    268.30\n",
       "               ...  \n",
       "2014-11-18    537.50\n",
       "2014-11-19    535.00\n",
       "2014-11-20    531.25\n",
       "2014-11-21    541.61\n",
       "2014-11-24    537.65\n",
       "2014-11-25    539.00\n",
       "2014-11-26    540.88\n",
       "2014-11-28    540.62\n",
       "2014-12-01    538.90\n",
       "2014-12-02    533.51\n",
       "2014-12-03    531.44\n",
       "2014-12-04    531.16\n",
       "2014-12-05    531.00\n",
       "2014-12-08    527.13\n",
       "2014-12-09    522.14\n",
       "2014-12-10    533.08\n",
       "2014-12-11    527.80\n",
       "2014-12-12    523.51\n",
       "2014-12-15    522.74\n",
       "2014-12-16    511.56\n",
       "2014-12-17    497.00\n",
       "2014-12-18    512.95\n",
       "2014-12-19    511.51\n",
       "2014-12-22    516.08\n",
       "2014-12-23    527.00\n",
       "2014-12-24    530.51\n",
       "2014-12-26    528.77\n",
       "2014-12-29    532.19\n",
       "2014-12-30    528.09\n",
       "2014-12-31    531.25\n",
       "Name: Open, dtype: float64"
      ]
     },
     "execution_count": 11,
     "metadata": {},
     "output_type": "execute_result"
    }
   ],
   "source": [
    "# Access an entire column using []\n",
    "google['Open']"
   ]
  },
  {
   "cell_type": "code",
   "execution_count": 8,
   "metadata": {},
   "outputs": [
    {
     "data": {
      "text/plain": [
       "Date\n",
       "2010-01-04    313.16\n",
       "2010-01-05    313.28\n",
       "2010-01-06    312.62\n",
       "2010-01-07    304.40\n",
       "2010-01-08    295.70\n",
       "Name: Open, dtype: float64"
      ]
     },
     "execution_count": 8,
     "metadata": {},
     "output_type": "execute_result"
    }
   ],
   "source": [
    "# Inspect the first 5 rows or the 'Open' column, using integer indexing\n",
    "\n",
    "google['Open'].iloc[0:5]"
   ]
  },
  {
   "cell_type": "code",
   "execution_count": 13,
   "metadata": {},
   "outputs": [
    {
     "data": {
      "text/plain": [
       "Date\n",
       "2010-01-04    313.16\n",
       "2010-01-05    313.28\n",
       "2010-01-06    312.62\n",
       "2010-01-07    304.40\n",
       "2010-01-08    295.70\n",
       "Name: Open, dtype: float64"
      ]
     },
     "execution_count": 13,
     "metadata": {},
     "output_type": "execute_result"
    }
   ],
   "source": [
    "# Inspect the first 5 rows or the 'Open' column, using date indexing\n",
    "\n",
    "google.loc['2010-01-04':'2010-01-10','Open']"
   ]
  },
  {
   "cell_type": "markdown",
   "metadata": {},
   "source": [
    "## Data Filtering"
   ]
  },
  {
   "cell_type": "code",
   "execution_count": 9,
   "metadata": {},
   "outputs": [
    {
     "data": {
      "text/html": [
       "<div>\n",
       "<style scoped>\n",
       "    .dataframe tbody tr th:only-of-type {\n",
       "        vertical-align: middle;\n",
       "    }\n",
       "\n",
       "    .dataframe tbody tr th {\n",
       "        vertical-align: top;\n",
       "    }\n",
       "\n",
       "    .dataframe thead th {\n",
       "        text-align: right;\n",
       "    }\n",
       "</style>\n",
       "<table border=\"1\" class=\"dataframe\">\n",
       "  <thead>\n",
       "    <tr style=\"text-align: right;\">\n",
       "      <th></th>\n",
       "      <th>Open</th>\n",
       "      <th>High</th>\n",
       "      <th>Low</th>\n",
       "      <th>Close</th>\n",
       "      <th>Volume</th>\n",
       "    </tr>\n",
       "    <tr>\n",
       "      <th>Date</th>\n",
       "      <th></th>\n",
       "      <th></th>\n",
       "      <th></th>\n",
       "      <th></th>\n",
       "      <th></th>\n",
       "    </tr>\n",
       "  </thead>\n",
       "  <tbody>\n",
       "    <tr>\n",
       "      <th>2010-01-08</th>\n",
       "      <td>295.70</td>\n",
       "      <td>301.32</td>\n",
       "      <td>294.26</td>\n",
       "      <td>300.71</td>\n",
       "      <td>NaN</td>\n",
       "    </tr>\n",
       "    <tr>\n",
       "      <th>2010-01-13</th>\n",
       "      <td>287.96</td>\n",
       "      <td>293.90</td>\n",
       "      <td>286.66</td>\n",
       "      <td>293.25</td>\n",
       "      <td>NaN</td>\n",
       "    </tr>\n",
       "    <tr>\n",
       "      <th>2010-01-14</th>\n",
       "      <td>291.66</td>\n",
       "      <td>296.80</td>\n",
       "      <td>291.11</td>\n",
       "      <td>294.63</td>\n",
       "      <td>NaN</td>\n",
       "    </tr>\n",
       "    <tr>\n",
       "      <th>2010-01-19</th>\n",
       "      <td>290.45</td>\n",
       "      <td>294.91</td>\n",
       "      <td>287.86</td>\n",
       "      <td>293.52</td>\n",
       "      <td>NaN</td>\n",
       "    </tr>\n",
       "    <tr>\n",
       "      <th>2010-01-26</th>\n",
       "      <td>268.72</td>\n",
       "      <td>274.53</td>\n",
       "      <td>267.88</td>\n",
       "      <td>270.94</td>\n",
       "      <td>NaN</td>\n",
       "    </tr>\n",
       "  </tbody>\n",
       "</table>\n",
       "</div>"
      ],
      "text/plain": [
       "              Open    High     Low   Close  Volume\n",
       "Date                                              \n",
       "2010-01-08  295.70  301.32  294.26  300.71     NaN\n",
       "2010-01-13  287.96  293.90  286.66  293.25     NaN\n",
       "2010-01-14  291.66  296.80  291.11  294.63     NaN\n",
       "2010-01-19  290.45  294.91  287.86  293.52     NaN\n",
       "2010-01-26  268.72  274.53  267.88  270.94     NaN"
      ]
     },
     "execution_count": 9,
     "metadata": {},
     "output_type": "execute_result"
    }
   ],
   "source": [
    "# Filtering by conditional\n",
    "google_up = google[ google['Close'] > google['Open'] ]\n",
    "google_up.head()"
   ]
  },
  {
   "cell_type": "code",
   "execution_count": 10,
   "metadata": {},
   "outputs": [
    {
     "data": {
      "text/html": [
       "<div>\n",
       "<style scoped>\n",
       "    .dataframe tbody tr th:only-of-type {\n",
       "        vertical-align: middle;\n",
       "    }\n",
       "\n",
       "    .dataframe tbody tr th {\n",
       "        vertical-align: top;\n",
       "    }\n",
       "\n",
       "    .dataframe thead th {\n",
       "        text-align: right;\n",
       "    }\n",
       "</style>\n",
       "<table border=\"1\" class=\"dataframe\">\n",
       "  <thead>\n",
       "    <tr style=\"text-align: right;\">\n",
       "      <th></th>\n",
       "      <th>Open</th>\n",
       "      <th>High</th>\n",
       "      <th>Low</th>\n",
       "      <th>Close</th>\n",
       "      <th>Volume</th>\n",
       "    </tr>\n",
       "    <tr>\n",
       "      <th>Date</th>\n",
       "      <th></th>\n",
       "      <th></th>\n",
       "      <th></th>\n",
       "      <th></th>\n",
       "      <th></th>\n",
       "    </tr>\n",
       "  </thead>\n",
       "  <tbody>\n",
       "    <tr>\n",
       "      <th>2014-03-27</th>\n",
       "      <td>564.86</td>\n",
       "      <td>565.40</td>\n",
       "      <td>550.50</td>\n",
       "      <td>556.58</td>\n",
       "      <td>3826676.0</td>\n",
       "    </tr>\n",
       "    <tr>\n",
       "      <th>2014-03-28</th>\n",
       "      <td>558.94</td>\n",
       "      <td>566.03</td>\n",
       "      <td>558.33</td>\n",
       "      <td>559.51</td>\n",
       "      <td>2258918.0</td>\n",
       "    </tr>\n",
       "    <tr>\n",
       "      <th>2014-03-31</th>\n",
       "      <td>564.63</td>\n",
       "      <td>566.93</td>\n",
       "      <td>555.87</td>\n",
       "      <td>556.70</td>\n",
       "      <td>1942277.0</td>\n",
       "    </tr>\n",
       "    <tr>\n",
       "      <th>2014-04-01</th>\n",
       "      <td>559.57</td>\n",
       "      <td>568.18</td>\n",
       "      <td>558.44</td>\n",
       "      <td>566.88</td>\n",
       "      <td>2182626.0</td>\n",
       "    </tr>\n",
       "    <tr>\n",
       "      <th>2014-04-02</th>\n",
       "      <td>282.43</td>\n",
       "      <td>571.83</td>\n",
       "      <td>561.44</td>\n",
       "      <td>566.98</td>\n",
       "      <td>2088804.0</td>\n",
       "    </tr>\n",
       "  </tbody>\n",
       "</table>\n",
       "</div>"
      ],
      "text/plain": [
       "              Open    High     Low   Close     Volume\n",
       "Date                                                 \n",
       "2014-03-27  564.86  565.40  550.50  556.58  3826676.0\n",
       "2014-03-28  558.94  566.03  558.33  559.51  2258918.0\n",
       "2014-03-31  564.63  566.93  555.87  556.70  1942277.0\n",
       "2014-04-01  559.57  568.18  558.44  566.88  2182626.0\n",
       "2014-04-02  282.43  571.83  561.44  566.98  2088804.0"
      ]
     },
     "execution_count": 10,
     "metadata": {},
     "output_type": "execute_result"
    }
   ],
   "source": [
    "# Filtering out missing data\n",
    "\n",
    "google_filtered = google[pd.isnull(google['Volume']) == False ]\n",
    "google_filtered.head()"
   ]
  },
  {
   "cell_type": "markdown",
   "metadata": {},
   "source": [
    "## Data Statistics"
   ]
  },
  {
   "cell_type": "markdown",
   "metadata": {},
   "source": [
    "In Pandas we can very easily perform many types of statistical operations. "
   ]
  },
  {
   "cell_type": "code",
   "execution_count": 11,
   "metadata": {},
   "outputs": [
    {
     "data": {
      "text/html": [
       "<div>\n",
       "<style scoped>\n",
       "    .dataframe tbody tr th:only-of-type {\n",
       "        vertical-align: middle;\n",
       "    }\n",
       "\n",
       "    .dataframe tbody tr th {\n",
       "        vertical-align: top;\n",
       "    }\n",
       "\n",
       "    .dataframe thead th {\n",
       "        text-align: right;\n",
       "    }\n",
       "</style>\n",
       "<table border=\"1\" class=\"dataframe\">\n",
       "  <thead>\n",
       "    <tr style=\"text-align: right;\">\n",
       "      <th></th>\n",
       "      <th>Open</th>\n",
       "      <th>High</th>\n",
       "      <th>Low</th>\n",
       "      <th>Close</th>\n",
       "      <th>Volume</th>\n",
       "    </tr>\n",
       "  </thead>\n",
       "  <tbody>\n",
       "    <tr>\n",
       "      <th>count</th>\n",
       "      <td>1257.000000</td>\n",
       "      <td>1257.000000</td>\n",
       "      <td>1257.000000</td>\n",
       "      <td>1257.000000</td>\n",
       "      <td>1.940000e+02</td>\n",
       "    </tr>\n",
       "    <tr>\n",
       "      <th>mean</th>\n",
       "      <td>375.275593</td>\n",
       "      <td>378.450247</td>\n",
       "      <td>372.132474</td>\n",
       "      <td>375.327064</td>\n",
       "      <td>1.937264e+06</td>\n",
       "    </tr>\n",
       "    <tr>\n",
       "      <th>std</th>\n",
       "      <td>115.684354</td>\n",
       "      <td>116.288827</td>\n",
       "      <td>114.935742</td>\n",
       "      <td>115.664301</td>\n",
       "      <td>9.842775e+05</td>\n",
       "    </tr>\n",
       "    <tr>\n",
       "      <th>min</th>\n",
       "      <td>218.940000</td>\n",
       "      <td>220.920000</td>\n",
       "      <td>216.600000</td>\n",
       "      <td>217.820000</td>\n",
       "      <td>7.040350e+05</td>\n",
       "    </tr>\n",
       "    <tr>\n",
       "      <th>25%</th>\n",
       "      <td>285.790000</td>\n",
       "      <td>288.760000</td>\n",
       "      <td>283.060000</td>\n",
       "      <td>285.450000</td>\n",
       "      <td>1.338451e+06</td>\n",
       "    </tr>\n",
       "    <tr>\n",
       "      <th>50%</th>\n",
       "      <td>318.330000</td>\n",
       "      <td>320.800000</td>\n",
       "      <td>315.180000</td>\n",
       "      <td>317.260000</td>\n",
       "      <td>1.684634e+06</td>\n",
       "    </tr>\n",
       "    <tr>\n",
       "      <th>75%</th>\n",
       "      <td>452.540000</td>\n",
       "      <td>456.020000</td>\n",
       "      <td>449.740000</td>\n",
       "      <td>452.830000</td>\n",
       "      <td>2.164369e+06</td>\n",
       "    </tr>\n",
       "    <tr>\n",
       "      <th>max</th>\n",
       "      <td>612.790000</td>\n",
       "      <td>613.830000</td>\n",
       "      <td>608.690000</td>\n",
       "      <td>609.470000</td>\n",
       "      <td>6.795393e+06</td>\n",
       "    </tr>\n",
       "  </tbody>\n",
       "</table>\n",
       "</div>"
      ],
      "text/plain": [
       "              Open         High          Low        Close        Volume\n",
       "count  1257.000000  1257.000000  1257.000000  1257.000000  1.940000e+02\n",
       "mean    375.275593   378.450247   372.132474   375.327064  1.937264e+06\n",
       "std     115.684354   116.288827   114.935742   115.664301  9.842775e+05\n",
       "min     218.940000   220.920000   216.600000   217.820000  7.040350e+05\n",
       "25%     285.790000   288.760000   283.060000   285.450000  1.338451e+06\n",
       "50%     318.330000   320.800000   315.180000   317.260000  1.684634e+06\n",
       "75%     452.540000   456.020000   449.740000   452.830000  2.164369e+06\n",
       "max     612.790000   613.830000   608.690000   609.470000  6.795393e+06"
      ]
     },
     "execution_count": 11,
     "metadata": {},
     "output_type": "execute_result"
    }
   ],
   "source": [
    "google.describe()"
   ]
  },
  {
   "cell_type": "markdown",
   "metadata": {},
   "source": [
    "## Data Computations"
   ]
  },
  {
   "cell_type": "markdown",
   "metadata": {},
   "source": [
    "One simple example motivated by finance is to compute the \"volatility\" -- the rolling standard deviation of the log-return over the business days of the year.\n",
    "* First we use the `pandas` method `.pct_change()` to compute the *return* per day based on percent change.\n",
    "* Next we use `numpy` to compute the log of the return.\n",
    "* Finally we use `pandas` method `.rolling_std()` to compute the volatility"
   ]
  },
  {
   "cell_type": "code",
   "execution_count": 12,
   "metadata": {},
   "outputs": [
    {
     "data": {
      "text/plain": [
       "Date\n",
       "2010-01-04         NaN\n",
       "2010-01-05   -0.004408\n",
       "2010-01-06   -0.025186\n",
       "2010-01-07   -0.023303\n",
       "2010-01-08    0.013345\n",
       "Name: Return, dtype: float64"
      ]
     },
     "execution_count": 12,
     "metadata": {},
     "output_type": "execute_result"
    }
   ],
   "source": [
    "# Compute the returns from daily percent change\n",
    "# Append a new column\n",
    "google['Return'] = google['Close'].pct_change()\n",
    "google['Return'].iloc[0:5]"
   ]
  },
  {
   "cell_type": "code",
   "execution_count": 13,
   "metadata": {},
   "outputs": [
    {
     "data": {
      "text/plain": [
       "Date\n",
       "2010-01-04         NaN\n",
       "2010-01-05   -0.004418\n",
       "2010-01-06   -0.025509\n",
       "2010-01-07   -0.023578\n",
       "2010-01-08    0.013256\n",
       "Name: LogReturn, dtype: float64"
      ]
     },
     "execution_count": 13,
     "metadata": {},
     "output_type": "execute_result"
    }
   ],
   "source": [
    "# Compute the log() of the return using numpy\n",
    "# Append another new column\n",
    "import numpy as np\n",
    "google['LogReturn'] = np.log(1+google['Return'])\n",
    "google['LogReturn'].iloc[0:5]"
   ]
  },
  {
   "cell_type": "code",
   "execution_count": 16,
   "metadata": {},
   "outputs": [
    {
     "data": {
      "text/plain": [
       "Date\n",
       "2010-12-28         NaN\n",
       "2010-12-29         NaN\n",
       "2010-12-30         NaN\n",
       "2010-12-31         NaN\n",
       "2011-01-03         NaN\n",
       "2011-01-04    0.278561\n",
       "2011-01-05    0.278770\n",
       "2011-01-06    0.277694\n",
       "2011-01-07    0.276720\n",
       "2011-01-10    0.276432\n",
       "Name: Volatility, dtype: float64"
      ]
     },
     "execution_count": 16,
     "metadata": {},
     "output_type": "execute_result"
    }
   ],
   "source": [
    "# Compute volatility as rolling standard deviation of the log() of the returns\n",
    "# Append yet another new column\n",
    "window_size = 252\n",
    "google['Volatility'] = google['LogReturn'].rolling(window_size).std() * np.sqrt(window_size)\n",
    "google['Volatility'].iloc[window_size-5:window_size+5]"
   ]
  },
  {
   "cell_type": "markdown",
   "metadata": {},
   "source": [
    "## Data Visualization"
   ]
  },
  {
   "cell_type": "markdown",
   "metadata": {},
   "source": [
    "Finally, Pandas is coupled to Matplotlib:\n",
    "* Columns from a single DataFrame can be plotted using `DataFrame.plot()`.\n",
    "* Here we will plot the newly created columns of data, `LogReturn` and `Volatility`."
   ]
  },
  {
   "cell_type": "code",
   "execution_count": 17,
   "metadata": {},
   "outputs": [
    {
     "name": "stdout",
     "output_type": "stream",
     "text": [
      "<class 'pandas.core.frame.DataFrame'>\n",
      "DatetimeIndex: 1257 entries, 2010-01-04 to 2014-12-31\n",
      "Data columns (total 8 columns):\n",
      " #   Column      Non-Null Count  Dtype  \n",
      "---  ------      --------------  -----  \n",
      " 0   Open        1257 non-null   float64\n",
      " 1   High        1257 non-null   float64\n",
      " 2   Low         1257 non-null   float64\n",
      " 3   Close       1257 non-null   float64\n",
      " 4   Volume      194 non-null    float64\n",
      " 5   Return      1256 non-null   float64\n",
      " 6   LogReturn   1256 non-null   float64\n",
      " 7   Volatility  1005 non-null   float64\n",
      "dtypes: float64(8)\n",
      "memory usage: 88.4 KB\n"
     ]
    }
   ],
   "source": [
    "google.info()"
   ]
  },
  {
   "cell_type": "code",
   "execution_count": 18,
   "metadata": {},
   "outputs": [
    {
     "data": {
      "text/plain": [
       "array([<matplotlib.axes._subplots.AxesSubplot object at 0x7f88c403eee0>,\n",
       "       <matplotlib.axes._subplots.AxesSubplot object at 0x7f88c4043dc0>],\n",
       "      dtype=object)"
      ]
     },
     "execution_count": 18,
     "metadata": {},
     "output_type": "execute_result"
    },
    {
     "data": {
      "image/png": "[encoded data removed]",
      "text/plain": [
       "<Figure size 1080x432 with 2 Axes>"
      ]
     },
     "metadata": {
      "needs_background": "light"
     },
     "output_type": "display_data"
    }
   ],
   "source": [
    "google[['Close','Volatility']].plot(subplots=True, figsize=(15,6))"
   ]
  },
  {
   "cell_type": "markdown",
   "metadata": {},
   "source": [
    "## Set-up"
   ]
  },
  {
   "cell_type": "code",
   "execution_count": 40,
   "metadata": {
    "format": "row"
   },
   "outputs": [
    {
     "data": {
      "text/plain": [
       "'1.0.5'"
      ]
     },
     "execution_count": 40,
     "metadata": {},
     "output_type": "execute_result"
    }
   ],
   "source": [
    "# Numerical computing\n",
    "import numpy as np\n",
    "\n",
    "# Draw pictures!\n",
    "import matplotlib.pyplot as plt\n",
    "%matplotlib inline\n",
    "\n",
    "# Python people are weird!\n",
    "import pandas as pd\n",
    "\n",
    "# Set Jupyter notebook display options\n",
    "pd.options.display.max_rows = 8\n",
    "pd.options.display.max_columns = 8\n",
    "\n",
    "# Check version number\n",
    "pd.__version__"
   ]
  },
  {
   "cell_type": "markdown",
   "metadata": {},
   "source": [
    "## Creating a Series"
   ]
  },
  {
   "cell_type": "code",
   "execution_count": 19,
   "metadata": {},
   "outputs": [
    {
     "name": "stdout",
     "output_type": "stream",
     "text": [
      "\n",
      "\n",
      "0          gamma Cep b\n",
      "1          HD 114762 b\n",
      "2       PSR B1257+12 B\n",
      "3       PSR B1257+12 A\n",
      "4           beta Gem b\n",
      "             ...      \n",
      "1637         HD 5319 c\n",
      "1638         WASP-89 b\n",
      "1639         HD 1666 b\n",
      "1640        HD 95127 b\n",
      "1641      Kepler-432 c\n",
      "Name: NAME, Length: 1642, dtype: object\n",
      "\n",
      "\n",
      "<class 'pandas.core.series.Series'>\n"
     ]
    }
   ],
   "source": [
    "# Example: Creating a Series from a data column from file\n",
    "\n",
    "file   = \"data/exoplanets.csv\"\n",
    "data   = pd.read_csv(file)\n",
    "series = data['NAME']\n",
    "\n",
    "print( \"\\n\" )\n",
    "print( series )\n",
    "\n",
    "print( \"\\n\" )\n",
    "print( type( series ) )"
   ]
  },
  {
   "cell_type": "code",
   "execution_count": 20,
   "metadata": {},
   "outputs": [
    {
     "data": {
      "text/plain": [
       "0     5\n",
       "1    10\n",
       "2    15\n",
       "3    20\n",
       "4    25\n",
       "dtype: int64"
      ]
     },
     "execution_count": 20,
     "metadata": {},
     "output_type": "execute_result"
    }
   ],
   "source": [
    "# Example: Creating a Series a list\n",
    "\n",
    "new_list = [5,10,15,20,25]\n",
    "pd.Series(new_list)"
   ]
  },
  {
   "cell_type": "code",
   "execution_count": 21,
   "metadata": {},
   "outputs": [
    {
     "data": {
      "text/plain": [
       "b    100.0\n",
       "a    200.0\n",
       "d    450.0\n",
       "c    700.0\n",
       "dtype: float64"
      ]
     },
     "execution_count": 21,
     "metadata": {},
     "output_type": "execute_result"
    }
   ],
   "source": [
    "# Example: Creating a Series from a dictionary... index will be sorted\n",
    "\n",
    "new_dictionary = {'b': 100, 'a': 200.0, 'd':450, 'c':700}\n",
    "pd.Series(new_dictionary)"
   ]
  },
  {
   "cell_type": "code",
   "execution_count": 32,
   "metadata": {},
   "outputs": [
    {
     "data": {
      "text/plain": [
       "b    200\n",
       "a    100\n",
       "d    450\n",
       "c    700\n",
       "dtype: int64"
      ]
     },
     "execution_count": 32,
     "metadata": {},
     "output_type": "execute_result"
    }
   ],
   "source": [
    "# Example: Creating a Series from an ORDERED dictionary\n",
    "#          ... to preserver order of the indices.\n",
    "\n",
    "from collections import OrderedDict\n",
    "od = OrderedDict([('b',200),('a', 100), ('d',450), ('c',700)])\n",
    "pd.Series(od)"
   ]
  },
  {
   "cell_type": "code",
   "execution_count": 23,
   "metadata": {},
   "outputs": [
    {
     "name": "stdout",
     "output_type": "stream",
     "text": [
      "\n",
      "\n",
      "[10. 20. 30. 40. 50.]\n",
      "<class 'numpy.ndarray'>\n",
      "\n",
      "\n",
      "0    10.0\n",
      "1    20.0\n",
      "2    30.0\n",
      "3    40.0\n",
      "4    50.0\n",
      "dtype: float64\n",
      "<class 'pandas.core.series.Series'>\n"
     ]
    }
   ],
   "source": [
    "# Example: Creating a Series from a NumPy array\n",
    "\n",
    "array1  = np.arange(1,6)*10.0\n",
    "series1 = pd.Series(array1)\n",
    "\n",
    "print( \"\\n\" )\n",
    "print( array1 )\n",
    "print( type(array1) )\n",
    "\n",
    "print( \"\\n\" )\n",
    "print( series1 )\n",
    "print( type(series1) )"
   ]
  },
  {
   "cell_type": "markdown",
   "metadata": {},
   "source": [
    "## Pandas Index"
   ]
  },
  {
   "cell_type": "markdown",
   "metadata": {},
   "source": [
    "The pandas Series data structure always has an `Index`"
   ]
  },
  {
   "cell_type": "code",
   "execution_count": 24,
   "metadata": {},
   "outputs": [
    {
     "data": {
      "text/plain": [
       "RangeIndex(start=0, stop=5, step=1)"
      ]
     },
     "execution_count": 24,
     "metadata": {},
     "output_type": "execute_result"
    }
   ],
   "source": [
    "# The default Index is just a sequence of integers:\n",
    "array1  = np.arange(1,6)*10.0\n",
    "series1 = pd.Series(array1)\n",
    "\n",
    "series1.index"
   ]
  },
  {
   "cell_type": "code",
   "execution_count": 25,
   "metadata": {},
   "outputs": [
    {
     "name": "stdout",
     "output_type": "stream",
     "text": [
      "10.0\n"
     ]
    }
   ],
   "source": [
    "# The Index is used for indexing\n",
    "\n",
    "print( series1.iloc[0] )  # \"Positional\" indexing"
   ]
  },
  {
   "cell_type": "code",
   "execution_count": 26,
   "metadata": {},
   "outputs": [],
   "source": [
    "# The Index can be set to a sequence of labels:\n",
    "\n",
    "index2 = ['a','b','c','d','a']\n",
    "series2 = pd.Series(np.arange(1,6)*10.0, index=index2)"
   ]
  },
  {
   "cell_type": "code",
   "execution_count": 27,
   "metadata": {},
   "outputs": [
    {
     "data": {
      "text/plain": [
       "20.0"
      ]
     },
     "execution_count": 27,
     "metadata": {},
     "output_type": "execute_result"
    }
   ],
   "source": [
    "# The Index labels are used for indexing\n",
    "\n",
    "series2.loc['b']  # \"label\" indexing"
   ]
  },
  {
   "cell_type": "code",
   "execution_count": 28,
   "metadata": {},
   "outputs": [
    {
     "data": {
      "text/plain": [
       "a    10.0\n",
       "a    50.0\n",
       "dtype: float64"
      ]
     },
     "execution_count": 28,
     "metadata": {},
     "output_type": "execute_result"
    }
   ],
   "source": [
    "# Indexing when the label is not unique?\n",
    "\n",
    "series2.loc['a']"
   ]
  },
  {
   "cell_type": "markdown",
   "metadata": {},
   "source": [
    "## Iterating over a Series"
   ]
  },
  {
   "cell_type": "code",
   "execution_count": 29,
   "metadata": {},
   "outputs": [
    {
     "name": "stdout",
     "output_type": "stream",
     "text": [
      "a 10.0\n",
      "b 20.0\n",
      "c 30.0\n",
      "d 40.0\n",
      "a 50.0\n"
     ]
    }
   ],
   "source": [
    "for key, value in series2.iteritems():\n",
    "    print(key, value)"
   ]
  },
  {
   "cell_type": "markdown",
   "metadata": {},
   "source": [
    "## Pandas Slicing"
   ]
  },
  {
   "cell_type": "code",
   "execution_count": 30,
   "metadata": {},
   "outputs": [
    {
     "data": {
      "text/plain": [
       "1    20.0\n",
       "2    30.0\n",
       "dtype: float64"
      ]
     },
     "execution_count": 30,
     "metadata": {},
     "output_type": "execute_result"
    }
   ],
   "source": [
    "# Positional indexing and slicing\n",
    "\n",
    "series1.iloc[1:3]"
   ]
  },
  {
   "cell_type": "code",
   "execution_count": 31,
   "metadata": {},
   "outputs": [
    {
     "name": "stdout",
     "output_type": "stream",
     "text": [
      "b    20.0\n",
      "dtype: float64\n",
      "\n",
      "\n",
      "b    20.0\n",
      "c    30.0\n",
      "dtype: float64\n"
     ]
    }
   ],
   "source": [
    "# Be careful when slicing with integers versus labels\n",
    "\n",
    "print( series2.iloc[1:2]     )  # Positional indexing is permitted with slicing\n",
    "print(\"\\n\")\n",
    "print( series2.loc['b':'c'] )  # Ranges of labels can be sliced (slicing here is *inclusive*)"
   ]
  },
  {
   "cell_type": "code",
   "execution_count": 33,
   "metadata": {},
   "outputs": [
    {
     "data": {
      "text/plain": [
       "a    50.0\n",
       "dtype: float64"
      ]
     },
     "execution_count": 33,
     "metadata": {},
     "output_type": "execute_result"
    }
   ],
   "source": [
    "# Example: slice from the end\n",
    "series2.iloc[-1:]"
   ]
  },
  {
   "cell_type": "code",
   "execution_count": 34,
   "metadata": {},
   "outputs": [
    {
     "data": {
      "text/plain": [
       "a    10.0\n",
       "b    20.0\n",
       "dtype: float64"
      ]
     },
     "execution_count": 34,
     "metadata": {},
     "output_type": "execute_result"
    }
   ],
   "source": [
    "# Example: slice from the beginning\n",
    "series2.iloc[:-3]"
   ]
  },
  {
   "cell_type": "code",
   "execution_count": 35,
   "metadata": {},
   "outputs": [
    {
     "data": {
      "text/plain": [
       "d    40.0\n",
       "b    20.0\n",
       "dtype: float64"
      ]
     },
     "execution_count": 35,
     "metadata": {},
     "output_type": "execute_result"
    }
   ],
   "source": [
    "# Example: slice with labels, but with integer step size\n",
    "series2.loc['d':'b':-2]"
   ]
  },
  {
   "cell_type": "markdown",
   "metadata": {},
   "source": [
    "## Series Arithmetic"
   ]
  },
  {
   "cell_type": "code",
   "execution_count": 36,
   "metadata": {},
   "outputs": [
    {
     "name": "stdout",
     "output_type": "stream",
     "text": [
      "0    10.0\n",
      "1    20.0\n",
      "2    30.0\n",
      "3    40.0\n",
      "4    50.0\n",
      "dtype: float64\n",
      "0     20.0\n",
      "1     40.0\n",
      "2     60.0\n",
      "3     80.0\n",
      "4    100.0\n",
      "dtype: float64\n",
      "0     60.0\n",
      "1    120.0\n",
      "2    180.0\n",
      "3    240.0\n",
      "4    300.0\n",
      "dtype: float64\n"
     ]
    }
   ],
   "source": [
    "# Arithmetic with Series is as with numpy arrays\n",
    "print(series1)\n",
    "\n",
    "series2 = series1 * 2 \n",
    "print(series2)\n",
    "\n",
    "series3 = series2 * 3\n",
    "print(series3)"
   ]
  },
  {
   "cell_type": "markdown",
   "metadata": {},
   "source": [
    "## Series with NumPy"
   ]
  },
  {
   "cell_type": "code",
   "execution_count": 37,
   "metadata": {},
   "outputs": [
    {
     "data": {
      "text/plain": [
       "0    -3.141593\n",
       "1    -3.078126\n",
       "2    -3.014660\n",
       "3    -2.951193\n",
       "4    -2.887727\n",
       "        ...   \n",
       "95    2.887727\n",
       "96    2.951193\n",
       "97    3.014660\n",
       "98    3.078126\n",
       "99    3.141593\n",
       "Length: 100, dtype: float64"
      ]
     },
     "execution_count": 37,
     "metadata": {},
     "output_type": "execute_result"
    }
   ],
   "source": [
    "# numpy ufuncs can be applied elementwise to Series\n",
    "\n",
    "series_2pi = pd.Series( np.linspace(-1*np.pi, +1*np.pi, 100) )\n",
    "series_2pi"
   ]
  },
  {
   "cell_type": "code",
   "execution_count": 38,
   "metadata": {},
   "outputs": [
    {
     "name": "stdout",
     "output_type": "stream",
     "text": [
      "0    -1.224647e-16\n",
      "1    -6.342392e-02\n",
      "2    -1.265925e-01\n",
      "3    -1.892512e-01\n",
      "4    -2.511480e-01\n",
      "          ...     \n",
      "95    2.511480e-01\n",
      "96    1.892512e-01\n",
      "97    1.265925e-01\n",
      "98    6.342392e-02\n",
      "99    1.224647e-16\n",
      "Length: 100, dtype: float64\n",
      "<class 'pandas.core.series.Series'>\n"
     ]
    }
   ],
   "source": [
    "# Even though pandas was built on numpy, numpy methods on Series return a Series\n",
    "\n",
    "series_sin = np.sin( series_2pi )\n",
    "print( series_sin )\n",
    "print( type( series_sin ) )"
   ]
  },
  {
   "cell_type": "markdown",
   "metadata": {},
   "source": [
    "## Series with Matplotlib"
   ]
  },
  {
   "cell_type": "code",
   "execution_count": 41,
   "metadata": {},
   "outputs": [
    {
     "data": {
      "text/plain": [
       "[<matplotlib.lines.Line2D at 0x7f88c3e91430>]"
      ]
     },
     "execution_count": 41,
     "metadata": {},
     "output_type": "execute_result"
    },
    {
     "data": {
      "image/png": "[encoded data removed]",
      "text/plain": [
       "<Figure size 432x288 with 1 Axes>"
      ]
     },
     "metadata": {
      "needs_background": "light"
     },
     "output_type": "display_data"
    }
   ],
   "source": [
    "plt.plot(series_2pi, series_sin)"
   ]
  },
  {
   "cell_type": "markdown",
   "metadata": {},
   "source": [
    "## Series Operations"
   ]
  },
  {
   "cell_type": "code",
   "execution_count": 42,
   "metadata": {},
   "outputs": [
    {
     "name": "stdout",
     "output_type": "stream",
     "text": [
      "0    1\n",
      "1    2\n",
      "2    3\n",
      "3    4\n",
      "4    5\n",
      "dtype: int64\n",
      "0    10\n",
      "1    20\n",
      "2    30\n",
      "3    40\n",
      "4    50\n",
      "dtype: int64\n",
      "0    11\n",
      "1    22\n",
      "2    33\n",
      "3    44\n",
      "4    55\n",
      "dtype: int64\n"
     ]
    }
   ],
   "source": [
    "# You can add two series\n",
    "\n",
    "series1 = pd.Series([1,2,3,4,5])\n",
    "print(series1)\n",
    "\n",
    "series2 = pd.Series([10,20,30,40,50])\n",
    "print(series2)\n",
    "\n",
    "series3 = series1 + series2\n",
    "print(series3)"
   ]
  },
  {
   "cell_type": "code",
   "execution_count": 46,
   "metadata": {},
   "outputs": [
    {
     "name": "stdout",
     "output_type": "stream",
     "text": [
      "a     NaN\n",
      "b     NaN\n",
      "c    13.0\n",
      "d    24.0\n",
      "e    35.0\n",
      "f     NaN\n",
      "g     NaN\n",
      "dtype: float64\n"
     ]
    }
   ],
   "source": [
    "# Even better when you assign labels to your data!\n",
    "# default outer join\n",
    "\n",
    "series1 = pd.Series([1,2,3,4,5],      index=['a','b','c','d','e'])\n",
    "series2 = pd.Series([10,20,30,40,50], index=['c','d','e','f','g'])\n",
    "\n",
    "print( series1 + series2 )"
   ]
  },
  {
   "cell_type": "code",
   "execution_count": 47,
   "metadata": {},
   "outputs": [
    {
     "data": {
      "text/plain": [
       "24.0"
      ]
     },
     "execution_count": 47,
     "metadata": {},
     "output_type": "execute_result"
    }
   ],
   "source": [
    "# So when you apply a method like mean(), the NaNs are handled intelligently...\n",
    "\n",
    "(series1 + series2).mean()"
   ]
  },
  {
   "cell_type": "code",
   "execution_count": 48,
   "metadata": {},
   "outputs": [
    {
     "name": "stdout",
     "output_type": "stream",
     "text": [
      "Pandas mean:  1.5\n",
      "Numpy mean:   nan\n"
     ]
    }
   ],
   "source": [
    "# Contrast how NumPy and Pandas handle NaN:\n",
    "\n",
    "print( \"Pandas mean: \", pd.Series( [1.0, 2.0, np.nan] ).mean() )\n",
    "print( \"Numpy mean:  \", np.array(  [1.0, 2.0, np.nan] ).mean() )"
   ]
  },
  {
   "cell_type": "markdown",
   "metadata": {},
   "source": [
    "## Creating a DataFrame"
   ]
  },
  {
   "cell_type": "code",
   "execution_count": 49,
   "metadata": {},
   "outputs": [
    {
     "data": {
      "text/html": [
       "<div>\n",
       "<style scoped>\n",
       "    .dataframe tbody tr th:only-of-type {\n",
       "        vertical-align: middle;\n",
       "    }\n",
       "\n",
       "    .dataframe tbody tr th {\n",
       "        vertical-align: top;\n",
       "    }\n",
       "\n",
       "    .dataframe thead th {\n",
       "        text-align: right;\n",
       "    }\n",
       "</style>\n",
       "<table border=\"1\" class=\"dataframe\">\n",
       "  <thead>\n",
       "    <tr style=\"text-align: right;\">\n",
       "      <th></th>\n",
       "      <th>NAME</th>\n",
       "      <th>FIRSTREF</th>\n",
       "      <th>FIRSTURL</th>\n",
       "      <th>DATE</th>\n",
       "      <th>...</th>\n",
       "      <th>RA_STRING(h:m:s)</th>\n",
       "      <th>DEC_STRING(d:m:s)</th>\n",
       "      <th>STAR_MASS(msun)</th>\n",
       "      <th>STAR_RADIUS(rsun)</th>\n",
       "    </tr>\n",
       "  </thead>\n",
       "  <tbody>\n",
       "    <tr>\n",
       "      <th>0</th>\n",
       "      <td>gamma Cep b</td>\n",
       "      <td>Campbell 1988</td>\n",
       "      <td>http://adsabs.harvard.edu/abs/1988ApJ...331..902C</td>\n",
       "      <td>1988</td>\n",
       "      <td>...</td>\n",
       "      <td>+23:39:20.98</td>\n",
       "      <td>+77:37:55.08</td>\n",
       "      <td>1.260000</td>\n",
       "      <td>5.010000</td>\n",
       "    </tr>\n",
       "    <tr>\n",
       "      <th>1</th>\n",
       "      <td>HD 114762 b</td>\n",
       "      <td>Latham 1989</td>\n",
       "      <td>http://adsabs.harvard.edu/abs/1989Natur.339...38L</td>\n",
       "      <td>1989</td>\n",
       "      <td>...</td>\n",
       "      <td>+13:12:20.10</td>\n",
       "      <td>+17:31:01.66</td>\n",
       "      <td>0.894578</td>\n",
       "      <td>0.859205</td>\n",
       "    </tr>\n",
       "    <tr>\n",
       "      <th>2</th>\n",
       "      <td>PSR B1257+12 B</td>\n",
       "      <td>Wolszczan 1992</td>\n",
       "      <td>http://adsabs.harvard.edu//abs/1992Natur.355.....</td>\n",
       "      <td>1992</td>\n",
       "      <td>...</td>\n",
       "      <td>13:00:03.577</td>\n",
       "      <td>+12:40:56.4</td>\n",
       "      <td>NaN</td>\n",
       "      <td>NaN</td>\n",
       "    </tr>\n",
       "    <tr>\n",
       "      <th>3</th>\n",
       "      <td>PSR B1257+12 A</td>\n",
       "      <td>Wolszczan 1992</td>\n",
       "      <td>http://adsabs.harvard.edu//abs/1992Natur.355.....</td>\n",
       "      <td>1992</td>\n",
       "      <td>...</td>\n",
       "      <td>13:00:03.577</td>\n",
       "      <td>+12:40:56.4</td>\n",
       "      <td>NaN</td>\n",
       "      <td>NaN</td>\n",
       "    </tr>\n",
       "    <tr>\n",
       "      <th>...</th>\n",
       "      <td>...</td>\n",
       "      <td>...</td>\n",
       "      <td>...</td>\n",
       "      <td>...</td>\n",
       "      <td>...</td>\n",
       "      <td>...</td>\n",
       "      <td>...</td>\n",
       "      <td>...</td>\n",
       "      <td>...</td>\n",
       "    </tr>\n",
       "    <tr>\n",
       "      <th>1638</th>\n",
       "      <td>WASP-89 b</td>\n",
       "      <td>Hellier 2015</td>\n",
       "      <td>http://adsabs.harvard.edu/abs/2015AJ....150...18H</td>\n",
       "      <td>2015</td>\n",
       "      <td>...</td>\n",
       "      <td>20:55:35.98</td>\n",
       "      <td>-18:58:16.1</td>\n",
       "      <td>0.920000</td>\n",
       "      <td>0.880000</td>\n",
       "    </tr>\n",
       "    <tr>\n",
       "      <th>1639</th>\n",
       "      <td>HD 1666 b</td>\n",
       "      <td>Harakawa 2015</td>\n",
       "      <td>http://adsabs.harvard.edu/abs/2015ApJ...806....5H</td>\n",
       "      <td>2015</td>\n",
       "      <td>...</td>\n",
       "      <td>+00:20:52.34</td>\n",
       "      <td>-19:55:51.89</td>\n",
       "      <td>1.500000</td>\n",
       "      <td>1.930000</td>\n",
       "    </tr>\n",
       "    <tr>\n",
       "      <th>1640</th>\n",
       "      <td>HD 95127 b</td>\n",
       "      <td>Niedzielski 2015</td>\n",
       "      <td>http://adsabs.harvard.edu/abs/2015ApJ...803....1N</td>\n",
       "      <td>2015</td>\n",
       "      <td>...</td>\n",
       "      <td>+10:59:35.10</td>\n",
       "      <td>+43:48:52.17</td>\n",
       "      <td>1.200000</td>\n",
       "      <td>20.000000</td>\n",
       "    </tr>\n",
       "    <tr>\n",
       "      <th>1641</th>\n",
       "      <td>Kepler-432 c</td>\n",
       "      <td>Ciceri 2015</td>\n",
       "      <td>http://adsabs.harvard.edu/abs/2015A%26A...573L...</td>\n",
       "      <td>2015</td>\n",
       "      <td>...</td>\n",
       "      <td>19:33:07.729</td>\n",
       "      <td>+48:17:09.</td>\n",
       "      <td>1.320000</td>\n",
       "      <td>4.060000</td>\n",
       "    </tr>\n",
       "  </tbody>\n",
       "</table>\n",
       "<p>1642 rows × 17 columns</p>\n",
       "</div>"
      ],
      "text/plain": [
       "                NAME          FIRSTREF  \\\n",
       "0        gamma Cep b     Campbell 1988   \n",
       "1        HD 114762 b       Latham 1989   \n",
       "2     PSR B1257+12 B    Wolszczan 1992   \n",
       "3     PSR B1257+12 A    Wolszczan 1992   \n",
       "...              ...               ...   \n",
       "1638       WASP-89 b      Hellier 2015   \n",
       "1639       HD 1666 b     Harakawa 2015   \n",
       "1640      HD 95127 b  Niedzielski 2015   \n",
       "1641    Kepler-432 c       Ciceri 2015   \n",
       "\n",
       "                                               FIRSTURL  DATE  ...  \\\n",
       "0     http://adsabs.harvard.edu/abs/1988ApJ...331..902C  1988  ...   \n",
       "1     http://adsabs.harvard.edu/abs/1989Natur.339...38L  1989  ...   \n",
       "2     http://adsabs.harvard.edu//abs/1992Natur.355.....  1992  ...   \n",
       "3     http://adsabs.harvard.edu//abs/1992Natur.355.....  1992  ...   \n",
       "...                                                 ...   ...  ...   \n",
       "1638  http://adsabs.harvard.edu/abs/2015AJ....150...18H  2015  ...   \n",
       "1639  http://adsabs.harvard.edu/abs/2015ApJ...806....5H  2015  ...   \n",
       "1640  http://adsabs.harvard.edu/abs/2015ApJ...803....1N  2015  ...   \n",
       "1641  http://adsabs.harvard.edu/abs/2015A%26A...573L...  2015  ...   \n",
       "\n",
       "      RA_STRING(h:m:s)  DEC_STRING(d:m:s)  STAR_MASS(msun)  STAR_RADIUS(rsun)  \n",
       "0         +23:39:20.98       +77:37:55.08         1.260000           5.010000  \n",
       "1         +13:12:20.10       +17:31:01.66         0.894578           0.859205  \n",
       "2         13:00:03.577        +12:40:56.4              NaN                NaN  \n",
       "3         13:00:03.577        +12:40:56.4              NaN                NaN  \n",
       "...                ...                ...              ...                ...  \n",
       "1638       20:55:35.98        -18:58:16.1         0.920000           0.880000  \n",
       "1639      +00:20:52.34       -19:55:51.89         1.500000           1.930000  \n",
       "1640      +10:59:35.10       +43:48:52.17         1.200000          20.000000  \n",
       "1641      19:33:07.729         +48:17:09.         1.320000           4.060000  \n",
       "\n",
       "[1642 rows x 17 columns]"
      ]
     },
     "execution_count": 49,
     "metadata": {},
     "output_type": "execute_result"
    }
   ],
   "source": [
    "# Creating a DataFrame from a file read:\n",
    "\n",
    "file    = \"data/exoplanets.csv\"\n",
    "df_file = pd.read_csv(file)\n",
    "df_file"
   ]
  },
  {
   "cell_type": "code",
   "execution_count": 50,
   "metadata": {},
   "outputs": [
    {
     "data": {
      "text/html": [
       "<div>\n",
       "<style scoped>\n",
       "    .dataframe tbody tr th:only-of-type {\n",
       "        vertical-align: middle;\n",
       "    }\n",
       "\n",
       "    .dataframe tbody tr th {\n",
       "        vertical-align: top;\n",
       "    }\n",
       "\n",
       "    .dataframe thead th {\n",
       "        text-align: right;\n",
       "    }\n",
       "</style>\n",
       "<table border=\"1\" class=\"dataframe\">\n",
       "  <thead>\n",
       "    <tr style=\"text-align: right;\">\n",
       "      <th></th>\n",
       "      <th>a</th>\n",
       "      <th>b</th>\n",
       "      <th>c</th>\n",
       "      <th>d</th>\n",
       "    </tr>\n",
       "  </thead>\n",
       "  <tbody>\n",
       "    <tr>\n",
       "      <th>0</th>\n",
       "      <td>1</td>\n",
       "      <td>0.000000</td>\n",
       "      <td>0.0</td>\n",
       "      <td>a</td>\n",
       "    </tr>\n",
       "    <tr>\n",
       "      <th>1</th>\n",
       "      <td>2</td>\n",
       "      <td>0.349066</td>\n",
       "      <td>0.0</td>\n",
       "      <td>b</td>\n",
       "    </tr>\n",
       "    <tr>\n",
       "      <th>2</th>\n",
       "      <td>3</td>\n",
       "      <td>0.698132</td>\n",
       "      <td>0.0</td>\n",
       "      <td>c</td>\n",
       "    </tr>\n",
       "    <tr>\n",
       "      <th>3</th>\n",
       "      <td>4</td>\n",
       "      <td>1.047198</td>\n",
       "      <td>0.0</td>\n",
       "      <td>a</td>\n",
       "    </tr>\n",
       "    <tr>\n",
       "      <th>...</th>\n",
       "      <td>...</td>\n",
       "      <td>...</td>\n",
       "      <td>...</td>\n",
       "      <td>...</td>\n",
       "    </tr>\n",
       "    <tr>\n",
       "      <th>6</th>\n",
       "      <td>7</td>\n",
       "      <td>2.094395</td>\n",
       "      <td>0.0</td>\n",
       "      <td>a</td>\n",
       "    </tr>\n",
       "    <tr>\n",
       "      <th>7</th>\n",
       "      <td>8</td>\n",
       "      <td>2.443461</td>\n",
       "      <td>0.0</td>\n",
       "      <td>b</td>\n",
       "    </tr>\n",
       "    <tr>\n",
       "      <th>8</th>\n",
       "      <td>9</td>\n",
       "      <td>2.792527</td>\n",
       "      <td>0.0</td>\n",
       "      <td>c</td>\n",
       "    </tr>\n",
       "    <tr>\n",
       "      <th>9</th>\n",
       "      <td>10</td>\n",
       "      <td>3.141593</td>\n",
       "      <td>0.0</td>\n",
       "      <td>a</td>\n",
       "    </tr>\n",
       "  </tbody>\n",
       "</table>\n",
       "<p>10 rows × 4 columns</p>\n",
       "</div>"
      ],
      "text/plain": [
       "     a         b    c  d\n",
       "0    1  0.000000  0.0  a\n",
       "1    2  0.349066  0.0  b\n",
       "2    3  0.698132  0.0  c\n",
       "3    4  1.047198  0.0  a\n",
       "..  ..       ...  ... ..\n",
       "6    7  2.094395  0.0  a\n",
       "7    8  2.443461  0.0  b\n",
       "8    9  2.792527  0.0  c\n",
       "9   10  3.141593  0.0  a\n",
       "\n",
       "[10 rows x 4 columns]"
      ]
     },
     "execution_count": 50,
     "metadata": {},
     "output_type": "execute_result"
    }
   ],
   "source": [
    "# Creating a DataFrame from a dictionary\n",
    "\n",
    "dictionary = {'a':[1,2,3,4,5,6,7,8,9,10],\n",
    "              'b':np.linspace(0,np.pi,10),\n",
    "              'c':0.0,\n",
    "              'd':[\"a\",\"b\",\"c\",\"a\",\"b\",\"c\",\"a\",\"b\",\"c\",\"a\"]}\n",
    "\n",
    "df_dict = pd.DataFrame(dictionary)\n",
    "df_dict"
   ]
  },
  {
   "cell_type": "code",
   "execution_count": 51,
   "metadata": {},
   "outputs": [
    {
     "data": {
      "text/plain": [
       "Index(['a', 'b', 'c', 'd'], dtype='object')"
      ]
     },
     "execution_count": 51,
     "metadata": {},
     "output_type": "execute_result"
    }
   ],
   "source": [
    "# Inspect the DataFrame colums and index\n",
    "df_dict.columns"
   ]
  },
  {
   "cell_type": "code",
   "execution_count": 52,
   "metadata": {},
   "outputs": [
    {
     "data": {
      "text/plain": [
       "RangeIndex(start=0, stop=10, step=1)"
      ]
     },
     "execution_count": 52,
     "metadata": {},
     "output_type": "execute_result"
    }
   ],
   "source": [
    "df_dict.index"
   ]
  },
  {
   "cell_type": "markdown",
   "metadata": {},
   "source": [
    "Now use the Pandas `DataFrame.info()` method to see a bit more detail, including:\n",
    "* the name of each column\n",
    "* the Numpy dtype of each column\n",
    "* how many actual values are present\n",
    "* amount of memory used\n",
    "\n",
    "*side note: Pandas has excellent support for not-a-number (NaN) entries in DataFrames and Series.*"
   ]
  },
  {
   "cell_type": "code",
   "execution_count": 53,
   "metadata": {},
   "outputs": [
    {
     "name": "stdout",
     "output_type": "stream",
     "text": [
      "<class 'pandas.core.frame.DataFrame'>\n",
      "RangeIndex: 10 entries, 0 to 9\n",
      "Data columns (total 4 columns):\n",
      " #   Column  Non-Null Count  Dtype  \n",
      "---  ------  --------------  -----  \n",
      " 0   a       10 non-null     int64  \n",
      " 1   b       10 non-null     float64\n",
      " 2   c       10 non-null     float64\n",
      " 3   d       10 non-null     object \n",
      "dtypes: float64(2), int64(1), object(1)\n",
      "memory usage: 448.0+ bytes\n"
     ]
    }
   ],
   "source": [
    "df_dict.info()"
   ]
  },
  {
   "cell_type": "markdown",
   "metadata": {},
   "source": [
    "## DataFrame Indexing"
   ]
  },
  {
   "cell_type": "markdown",
   "metadata": {},
   "source": [
    "* Pandas DataFrames have a special Index, goes beyond integer indexing\n",
    "* Pandas DataFrames are indexed by column label, then (row) Index:"
   ]
  },
  {
   "cell_type": "code",
   "execution_count": 54,
   "metadata": {},
   "outputs": [
    {
     "data": {
      "text/html": [
       "<div>\n",
       "<style scoped>\n",
       "    .dataframe tbody tr th:only-of-type {\n",
       "        vertical-align: middle;\n",
       "    }\n",
       "\n",
       "    .dataframe tbody tr th {\n",
       "        vertical-align: top;\n",
       "    }\n",
       "\n",
       "    .dataframe thead th {\n",
       "        text-align: right;\n",
       "    }\n",
       "</style>\n",
       "<table border=\"1\" class=\"dataframe\">\n",
       "  <thead>\n",
       "    <tr style=\"text-align: right;\">\n",
       "      <th></th>\n",
       "      <th>Alice</th>\n",
       "      <th>Bob</th>\n",
       "      <th>Chuck</th>\n",
       "    </tr>\n",
       "  </thead>\n",
       "  <tbody>\n",
       "    <tr>\n",
       "      <th>Jan</th>\n",
       "      <td>1</td>\n",
       "      <td>0.131600</td>\n",
       "      <td>0.025996</td>\n",
       "    </tr>\n",
       "    <tr>\n",
       "      <th>Feb</th>\n",
       "      <td>2</td>\n",
       "      <td>0.328866</td>\n",
       "      <td>0.059625</td>\n",
       "    </tr>\n",
       "    <tr>\n",
       "      <th>Mar</th>\n",
       "      <td>3</td>\n",
       "      <td>0.013855</td>\n",
       "      <td>0.535268</td>\n",
       "    </tr>\n",
       "    <tr>\n",
       "      <th>Apr</th>\n",
       "      <td>4</td>\n",
       "      <td>0.224024</td>\n",
       "      <td>0.632925</td>\n",
       "    </tr>\n",
       "    <tr>\n",
       "      <th>May</th>\n",
       "      <td>5</td>\n",
       "      <td>0.386372</td>\n",
       "      <td>0.490280</td>\n",
       "    </tr>\n",
       "  </tbody>\n",
       "</table>\n",
       "</div>"
      ],
      "text/plain": [
       "     Alice       Bob     Chuck\n",
       "Jan      1  0.131600  0.025996\n",
       "Feb      2  0.328866  0.059625\n",
       "Mar      3  0.013855  0.535268\n",
       "Apr      4  0.224024  0.632925\n",
       "May      5  0.386372  0.490280"
      ]
     },
     "execution_count": 54,
     "metadata": {},
     "output_type": "execute_result"
    }
   ],
   "source": [
    "df_grades = pd.DataFrame({'Alice' : [1,2,3,4,5], \n",
    "                         'Bob':np.random.random(5), \n",
    "                         'Chuck' : np.random.random(5)},\n",
    "                         index=['Jan', 'Feb', 'Mar', 'Apr', 'May'])\n",
    "df_grades"
   ]
  },
  {
   "cell_type": "code",
   "execution_count": 60,
   "metadata": {},
   "outputs": [
    {
     "name": "stdout",
     "output_type": "stream",
     "text": [
      "Jan    1\n",
      "Feb    2\n",
      "Mar    3\n",
      "Apr    4\n",
      "May    5\n",
      "Name: Alice, dtype: int64\n",
      "<class 'pandas.core.series.Series'>\n",
      "<class 'pandas.core.frame.DataFrame'>\n"
     ]
    }
   ],
   "source": [
    "# Indexing is by column first (gives a Series)\n",
    "series_a = df_grades['Alice']\n",
    "\n",
    "print( series_a )\n",
    "print( type(series_a) )\n",
    "print( type(df_grades[['Alice']]) )"
   ]
  },
  {
   "cell_type": "code",
   "execution_count": 55,
   "metadata": {},
   "outputs": [
    {
     "data": {
      "text/plain": [
       "2"
      ]
     },
     "execution_count": 55,
     "metadata": {},
     "output_type": "execute_result"
    }
   ],
   "source": [
    "# Indexing the column name, gives a Series, then 'positional' indexing\n",
    "df_grades['Alice'].iloc[1]"
   ]
  },
  {
   "cell_type": "code",
   "execution_count": 56,
   "metadata": {},
   "outputs": [
    {
     "data": {
      "text/plain": [
       "1"
      ]
     },
     "execution_count": 56,
     "metadata": {},
     "output_type": "execute_result"
    }
   ],
   "source": [
    "# Indexing the column name, gives a Series, then 'label' indexing\n",
    "df_grades.loc['Jan','Alice']"
   ]
  },
  {
   "cell_type": "markdown",
   "metadata": {},
   "source": [
    "## Iterating over a DataFrame"
   ]
  },
  {
   "cell_type": "markdown",
   "metadata": {},
   "source": [
    "As seen with Series, we can iterate over DataFrames"
   ]
  },
  {
   "cell_type": "code",
   "execution_count": 57,
   "metadata": {},
   "outputs": [
    {
     "name": "stdout",
     "output_type": "stream",
     "text": [
      "Key: Jan , Value: 1\n",
      "Key: Feb , Value: 2\n",
      "Key: Mar , Value: 3\n",
      "Key: Apr , Value: 4\n",
      "Key: May , Value: 5\n"
     ]
    }
   ],
   "source": [
    "for key, value in df_grades['Alice'].iteritems():\n",
    "    print('Key:', '%s' % key, ', Value:', '%s' % value)"
   ]
  },
  {
   "cell_type": "markdown",
   "metadata": {},
   "source": [
    "DataFrames support iteration over the `Index`"
   ]
  },
  {
   "cell_type": "code",
   "execution_count": 58,
   "metadata": {},
   "outputs": [
    {
     "name": "stdout",
     "output_type": "stream",
     "text": [
      "Index: Jan , Row: 1.0\n",
      "Index: Feb , Row: 2.0\n",
      "Index: Mar , Row: 3.0\n",
      "Index: Apr , Row: 4.0\n",
      "Index: May , Row: 5.0\n"
     ]
    }
   ],
   "source": [
    "for index, row in df_grades.iterrows():\n",
    "    print('Index:', '%s' % index, ', Row:', '%s' % row['Alice'])"
   ]
  },
  {
   "cell_type": "markdown",
   "metadata": {},
   "source": [
    "## DataFrame Manipulation"
   ]
  },
  {
   "cell_type": "markdown",
   "metadata": {},
   "source": [
    "This is just a brief introduction working with DataFrames. There's a *lot* more to learn..."
   ]
  },
  {
   "cell_type": "code",
   "execution_count": 61,
   "metadata": {},
   "outputs": [
    {
     "name": "stdout",
     "output_type": "stream",
     "text": [
      "     Alice\n",
      "Jan      1\n",
      "Feb      2\n",
      "Mar      3\n",
      "Apr      4\n",
      "May      5 \n",
      " <class 'pandas.core.frame.DataFrame'>\n"
     ]
    }
   ],
   "source": [
    "# Extract a column as a new DataFrame\n",
    "df_col = df_grades[['Alice']]\n",
    "print( df_col, \"\\n\", type(df_col) )"
   ]
  },
  {
   "cell_type": "code",
   "execution_count": 66,
   "metadata": {},
   "outputs": [
    {
     "name": "stdout",
     "output_type": "stream",
     "text": [
      "     Alice     Bob     Chuck\n",
      "Jan      1  0.1316  0.025996 \n",
      " <class 'pandas.core.frame.DataFrame'>\n"
     ]
    }
   ],
   "source": [
    "# Extract a row as a new DataFrame\n",
    "df_row = df_grades.loc['Jan':'Jan']\n",
    "print( df_row, \"\\n\", type(df_row) )"
   ]
  },
  {
   "cell_type": "code",
   "execution_count": 67,
   "metadata": {},
   "outputs": [
    {
     "data": {
      "text/plain": [
       "Jan    1\n",
       "Feb    2\n",
       "Mar    3\n",
       "Name: Alice, dtype: int64"
      ]
     },
     "execution_count": 67,
     "metadata": {},
     "output_type": "execute_result"
    }
   ],
   "source": [
    "# Slicing along rows works just as with Series\n",
    "df_grades.loc['Jan':'Mar','Alice']"
   ]
  },
  {
   "cell_type": "code",
   "execution_count": 68,
   "metadata": {},
   "outputs": [
    {
     "data": {
      "text/html": [
       "<div>\n",
       "<style scoped>\n",
       "    .dataframe tbody tr th:only-of-type {\n",
       "        vertical-align: middle;\n",
       "    }\n",
       "\n",
       "    .dataframe tbody tr th {\n",
       "        vertical-align: top;\n",
       "    }\n",
       "\n",
       "    .dataframe thead th {\n",
       "        text-align: right;\n",
       "    }\n",
       "</style>\n",
       "<table border=\"1\" class=\"dataframe\">\n",
       "  <thead>\n",
       "    <tr style=\"text-align: right;\">\n",
       "      <th></th>\n",
       "      <th>Alice</th>\n",
       "      <th>Bob</th>\n",
       "    </tr>\n",
       "  </thead>\n",
       "  <tbody>\n",
       "    <tr>\n",
       "      <th>Jan</th>\n",
       "      <td>1</td>\n",
       "      <td>0.131600</td>\n",
       "    </tr>\n",
       "    <tr>\n",
       "      <th>Feb</th>\n",
       "      <td>2</td>\n",
       "      <td>0.328866</td>\n",
       "    </tr>\n",
       "    <tr>\n",
       "      <th>Mar</th>\n",
       "      <td>3</td>\n",
       "      <td>0.013855</td>\n",
       "    </tr>\n",
       "    <tr>\n",
       "      <th>Apr</th>\n",
       "      <td>4</td>\n",
       "      <td>0.224024</td>\n",
       "    </tr>\n",
       "    <tr>\n",
       "      <th>May</th>\n",
       "      <td>5</td>\n",
       "      <td>0.386372</td>\n",
       "    </tr>\n",
       "  </tbody>\n",
       "</table>\n",
       "</div>"
      ],
      "text/plain": [
       "     Alice       Bob\n",
       "Jan      1  0.131600\n",
       "Feb      2  0.328866\n",
       "Mar      3  0.013855\n",
       "Apr      4  0.224024\n",
       "May      5  0.386372"
      ]
     },
     "execution_count": 68,
     "metadata": {},
     "output_type": "execute_result"
    }
   ],
   "source": [
    "# For column range, need to use the .ix attribute of the DataFrame\n",
    "df_grades.loc[:,'Alice':'Bob']"
   ]
  },
  {
   "cell_type": "code",
   "execution_count": 63,
   "metadata": {},
   "outputs": [
    {
     "data": {
      "text/html": [
       "<div>\n",
       "<style scoped>\n",
       "    .dataframe tbody tr th:only-of-type {\n",
       "        vertical-align: middle;\n",
       "    }\n",
       "\n",
       "    .dataframe tbody tr th {\n",
       "        vertical-align: top;\n",
       "    }\n",
       "\n",
       "    .dataframe thead th {\n",
       "        text-align: right;\n",
       "    }\n",
       "</style>\n",
       "<table border=\"1\" class=\"dataframe\">\n",
       "  <thead>\n",
       "    <tr style=\"text-align: right;\">\n",
       "      <th></th>\n",
       "      <th>Bob</th>\n",
       "      <th>Chuck</th>\n",
       "    </tr>\n",
       "  </thead>\n",
       "  <tbody>\n",
       "    <tr>\n",
       "      <th>Mar</th>\n",
       "      <td>0.013855</td>\n",
       "      <td>0.535268</td>\n",
       "    </tr>\n",
       "    <tr>\n",
       "      <th>Apr</th>\n",
       "      <td>0.224024</td>\n",
       "      <td>0.632925</td>\n",
       "    </tr>\n",
       "  </tbody>\n",
       "</table>\n",
       "</div>"
      ],
      "text/plain": [
       "          Bob     Chuck\n",
       "Mar  0.013855  0.535268\n",
       "Apr  0.224024  0.632925"
      ]
     },
     "execution_count": 63,
     "metadata": {},
     "output_type": "execute_result"
    }
   ],
   "source": [
    "# For extracting row and column ranges\n",
    "df_grades.loc['Mar':'Apr', 'Bob':'Chuck']"
   ]
  },
  {
   "cell_type": "code",
   "execution_count": 64,
   "metadata": {},
   "outputs": [
    {
     "data": {
      "text/html": [
       "<div>\n",
       "<style scoped>\n",
       "    .dataframe tbody tr th:only-of-type {\n",
       "        vertical-align: middle;\n",
       "    }\n",
       "\n",
       "    .dataframe tbody tr th {\n",
       "        vertical-align: top;\n",
       "    }\n",
       "\n",
       "    .dataframe thead th {\n",
       "        text-align: right;\n",
       "    }\n",
       "</style>\n",
       "<table border=\"1\" class=\"dataframe\">\n",
       "  <thead>\n",
       "    <tr style=\"text-align: right;\">\n",
       "      <th></th>\n",
       "      <th>Alice</th>\n",
       "      <th>Bob</th>\n",
       "      <th>Chuck</th>\n",
       "    </tr>\n",
       "  </thead>\n",
       "  <tbody>\n",
       "    <tr>\n",
       "      <th>Jan</th>\n",
       "      <td>1</td>\n",
       "      <td>0.131600</td>\n",
       "      <td>0.025996</td>\n",
       "    </tr>\n",
       "    <tr>\n",
       "      <th>Feb</th>\n",
       "      <td>2</td>\n",
       "      <td>0.328866</td>\n",
       "      <td>0.059625</td>\n",
       "    </tr>\n",
       "    <tr>\n",
       "      <th>Mar</th>\n",
       "      <td>3</td>\n",
       "      <td>0.013855</td>\n",
       "      <td>0.535268</td>\n",
       "    </tr>\n",
       "    <tr>\n",
       "      <th>Apr</th>\n",
       "      <td>4</td>\n",
       "      <td>0.224024</td>\n",
       "      <td>0.632925</td>\n",
       "    </tr>\n",
       "    <tr>\n",
       "      <th>May</th>\n",
       "      <td>5</td>\n",
       "      <td>0.386372</td>\n",
       "      <td>0.490280</td>\n",
       "    </tr>\n",
       "  </tbody>\n",
       "</table>\n",
       "</div>"
      ],
      "text/plain": [
       "     Alice       Bob     Chuck\n",
       "Jan      1  0.131600  0.025996\n",
       "Feb      2  0.328866  0.059625\n",
       "Mar      3  0.013855  0.535268\n",
       "Apr      4  0.224024  0.632925\n",
       "May      5  0.386372  0.490280"
      ]
     },
     "execution_count": 64,
     "metadata": {},
     "output_type": "execute_result"
    }
   ],
   "source": [
    "# Boolean masks work too\n",
    "df_grades.loc[df_grades['Bob'] < .5]"
   ]
  },
  {
   "cell_type": "code",
   "execution_count": 65,
   "metadata": {},
   "outputs": [
    {
     "name": "stdout",
     "output_type": "stream",
     "text": [
      "[1, 2, 3, 4, 5] <class 'list'>\n",
      "[1 2 3 4 5] <class 'numpy.ndarray'>\n"
     ]
    }
   ],
   "source": [
    "# Pandas DataFrames can be cast to other types\n",
    "\n",
    "my_list  = list(df_grades['Alice'])\n",
    "print( my_list, type(my_list) )\n",
    "\n",
    "my_array = np.array(df_grades['Alice'])\n",
    "print( my_array, type(my_array) )"
   ]
  },
  {
   "cell_type": "markdown",
   "metadata": {},
   "source": [
    "Summary of what we've just seen:"
   ]
  },
  {
   "cell_type": "markdown",
   "metadata": {},
   "source": [
    "***"
   ]
  },
  {
   "cell_type": "markdown",
   "metadata": {},
   "source": [
    "# Pandas I/O: How We Get Data Into Pandas"
   ]
  },
  {
   "cell_type": "markdown",
   "metadata": {},
   "source": [
    "pandas has excellent support for file I/O (read/write) for a wide variety of common file formats."
   ]
  },
  {
   "cell_type": "markdown",
   "metadata": {},
   "source": [
    "## Set-Up"
   ]
  },
  {
   "cell_type": "code",
   "execution_count": 69,
   "metadata": {},
   "outputs": [
    {
     "data": {
      "text/plain": [
       "'1.0.5'"
      ]
     },
     "execution_count": 69,
     "metadata": {},
     "output_type": "execute_result"
    }
   ],
   "source": [
    "# Import modules needed for this lesson\n",
    "import numpy as np\n",
    "import pandas as pd\n",
    "%matplotlib inline\n",
    "\n",
    "# Set Jupyter notebook display options\n",
    "pd.options.display.max_rows = 6\n",
    "pd.options.display.max_columns = 8\n",
    "\n",
    "# Test the version of pandas: it should be 0.16 or greater\n",
    "pd.__version__"
   ]
  },
  {
   "cell_type": "markdown",
   "metadata": {},
   "source": [
    "## Example Data"
   ]
  },
  {
   "cell_type": "markdown",
   "metadata": {
    "slideshow": {
     "slide_type": "subslide"
    }
   },
   "source": [
    "The data used throughout this demonstration is from the catalog of exoplanets -- planets outside our solar system -- compiled by [exoplanets.org](http://exoplanets.org/table)"
   ]
  },
  {
   "cell_type": "markdown",
   "metadata": {},
   "source": [
    "## Creating a Temporary Directory"
   ]
  },
  {
   "cell_type": "markdown",
   "metadata": {},
   "source": [
    "Any time you are handling data, it is commonlly needed to handle \"tmp\" files."
   ]
  },
  {
   "cell_type": "code",
   "execution_count": 70,
   "metadata": {
    "slideshow": {
     "slide_type": "fragment"
    }
   },
   "outputs": [],
   "source": [
    "# Remove old tmp dir, Create a new tmp dir\n",
    "import os\n",
    "if not os.path.exists(\"tmp\"):\n",
    "    os.mkdir(\"tmp\")\n",
    "\n",
    "# Define a convenience function to help us clean up\n",
    "def clean_tmp(file_name=\"tmp/exoplanet.csv\"):\n",
    "    if os.path.isfile(file_name):\n",
    "        os.remove(file_name)"
   ]
  },
  {
   "cell_type": "markdown",
   "metadata": {},
   "source": [
    "## Reading and Inspecting"
   ]
  },
  {
   "cell_type": "markdown",
   "metadata": {},
   "source": [
    "Below is a simple demonstration of reading and inspecting data.\n",
    "\n",
    "We will see a much more detailed treatment of examining your data in the next lesson."
   ]
  },
  {
   "cell_type": "code",
   "execution_count": 71,
   "metadata": {},
   "outputs": [],
   "source": [
    "import pandas as pd"
   ]
  },
  {
   "cell_type": "code",
   "execution_count": 72,
   "metadata": {},
   "outputs": [
    {
     "name": "stdout",
     "output_type": "stream",
     "text": [
      "<class 'pandas.core.frame.DataFrame'>\n"
     ]
    }
   ],
   "source": [
    "file_name = \"data/exoplanets.csv\"\n",
    "data = pd.read_csv(file_name)\n",
    "print(type(data))"
   ]
  },
  {
   "cell_type": "code",
   "execution_count": 73,
   "metadata": {},
   "outputs": [
    {
     "data": {
      "text/html": [
       "<div>\n",
       "<style scoped>\n",
       "    .dataframe tbody tr th:only-of-type {\n",
       "        vertical-align: middle;\n",
       "    }\n",
       "\n",
       "    .dataframe tbody tr th {\n",
       "        vertical-align: top;\n",
       "    }\n",
       "\n",
       "    .dataframe thead th {\n",
       "        text-align: right;\n",
       "    }\n",
       "</style>\n",
       "<table border=\"1\" class=\"dataframe\">\n",
       "  <thead>\n",
       "    <tr style=\"text-align: right;\">\n",
       "      <th></th>\n",
       "      <th>NAME</th>\n",
       "      <th>FIRSTREF</th>\n",
       "      <th>FIRSTURL</th>\n",
       "      <th>DATE</th>\n",
       "      <th>...</th>\n",
       "      <th>RA_STRING(h:m:s)</th>\n",
       "      <th>DEC_STRING(d:m:s)</th>\n",
       "      <th>STAR_MASS(msun)</th>\n",
       "      <th>STAR_RADIUS(rsun)</th>\n",
       "    </tr>\n",
       "  </thead>\n",
       "  <tbody>\n",
       "    <tr>\n",
       "      <th>0</th>\n",
       "      <td>gamma Cep b</td>\n",
       "      <td>Campbell 1988</td>\n",
       "      <td>http://adsabs.harvard.edu/abs/1988ApJ...331..902C</td>\n",
       "      <td>1988</td>\n",
       "      <td>...</td>\n",
       "      <td>+23:39:20.98</td>\n",
       "      <td>+77:37:55.08</td>\n",
       "      <td>1.260000</td>\n",
       "      <td>5.010000</td>\n",
       "    </tr>\n",
       "    <tr>\n",
       "      <th>1</th>\n",
       "      <td>HD 114762 b</td>\n",
       "      <td>Latham 1989</td>\n",
       "      <td>http://adsabs.harvard.edu/abs/1989Natur.339...38L</td>\n",
       "      <td>1989</td>\n",
       "      <td>...</td>\n",
       "      <td>+13:12:20.10</td>\n",
       "      <td>+17:31:01.66</td>\n",
       "      <td>0.894578</td>\n",
       "      <td>0.859205</td>\n",
       "    </tr>\n",
       "  </tbody>\n",
       "</table>\n",
       "<p>2 rows × 17 columns</p>\n",
       "</div>"
      ],
      "text/plain": [
       "          NAME       FIRSTREF  \\\n",
       "0  gamma Cep b  Campbell 1988   \n",
       "1  HD 114762 b    Latham 1989   \n",
       "\n",
       "                                            FIRSTURL  DATE  ...  \\\n",
       "0  http://adsabs.harvard.edu/abs/1988ApJ...331..902C  1988  ...   \n",
       "1  http://adsabs.harvard.edu/abs/1989Natur.339...38L  1989  ...   \n",
       "\n",
       "   RA_STRING(h:m:s)  DEC_STRING(d:m:s)  STAR_MASS(msun)  STAR_RADIUS(rsun)  \n",
       "0      +23:39:20.98       +77:37:55.08         1.260000           5.010000  \n",
       "1      +13:12:20.10       +17:31:01.66         0.894578           0.859205  \n",
       "\n",
       "[2 rows x 17 columns]"
      ]
     },
     "execution_count": 73,
     "metadata": {},
     "output_type": "execute_result"
    }
   ],
   "source": [
    "# Preview data after a read.\n",
    "# Notice the first column\n",
    "data.iloc[0:2]"
   ]
  },
  {
   "cell_type": "code",
   "execution_count": 74,
   "metadata": {},
   "outputs": [
    {
     "data": {
      "text/plain": [
       "RangeIndex(start=0, stop=1642, step=1)"
      ]
     },
     "execution_count": 74,
     "metadata": {},
     "output_type": "execute_result"
    }
   ],
   "source": [
    "# There is an Index array imbedded in the DataFrame\n",
    "data.index"
   ]
  },
  {
   "cell_type": "code",
   "execution_count": 75,
   "metadata": {},
   "outputs": [
    {
     "data": {
      "text/html": [
       "<div>\n",
       "<style scoped>\n",
       "    .dataframe tbody tr th:only-of-type {\n",
       "        vertical-align: middle;\n",
       "    }\n",
       "\n",
       "    .dataframe tbody tr th {\n",
       "        vertical-align: top;\n",
       "    }\n",
       "\n",
       "    .dataframe thead th {\n",
       "        text-align: right;\n",
       "    }\n",
       "</style>\n",
       "<table border=\"1\" class=\"dataframe\">\n",
       "  <thead>\n",
       "    <tr style=\"text-align: right;\">\n",
       "      <th></th>\n",
       "      <th>NAME</th>\n",
       "      <th>FIRSTREF</th>\n",
       "      <th>FIRSTURL</th>\n",
       "      <th>NUM_OBS</th>\n",
       "      <th>...</th>\n",
       "      <th>RA_STRING(h:m:s)</th>\n",
       "      <th>DEC_STRING(d:m:s)</th>\n",
       "      <th>STAR_MASS(msun)</th>\n",
       "      <th>STAR_RADIUS(rsun)</th>\n",
       "    </tr>\n",
       "    <tr>\n",
       "      <th>DATE</th>\n",
       "      <th></th>\n",
       "      <th></th>\n",
       "      <th></th>\n",
       "      <th></th>\n",
       "      <th></th>\n",
       "      <th></th>\n",
       "      <th></th>\n",
       "      <th></th>\n",
       "      <th></th>\n",
       "    </tr>\n",
       "  </thead>\n",
       "  <tbody>\n",
       "    <tr>\n",
       "      <th>1988-01-01</th>\n",
       "      <td>gamma Cep b</td>\n",
       "      <td>Campbell 1988</td>\n",
       "      <td>http://adsabs.harvard.edu/abs/1988ApJ...331..902C</td>\n",
       "      <td>131.0</td>\n",
       "      <td>...</td>\n",
       "      <td>+23:39:20.98</td>\n",
       "      <td>+77:37:55.08</td>\n",
       "      <td>1.260000</td>\n",
       "      <td>5.010000</td>\n",
       "    </tr>\n",
       "    <tr>\n",
       "      <th>1989-01-01</th>\n",
       "      <td>HD 114762 b</td>\n",
       "      <td>Latham 1989</td>\n",
       "      <td>http://adsabs.harvard.edu/abs/1989Natur.339...38L</td>\n",
       "      <td>74.0</td>\n",
       "      <td>...</td>\n",
       "      <td>+13:12:20.10</td>\n",
       "      <td>+17:31:01.66</td>\n",
       "      <td>0.894578</td>\n",
       "      <td>0.859205</td>\n",
       "    </tr>\n",
       "    <tr>\n",
       "      <th>1992-01-01</th>\n",
       "      <td>PSR B1257+12 B</td>\n",
       "      <td>Wolszczan 1992</td>\n",
       "      <td>http://adsabs.harvard.edu//abs/1992Natur.355.....</td>\n",
       "      <td>NaN</td>\n",
       "      <td>...</td>\n",
       "      <td>13:00:03.577</td>\n",
       "      <td>+12:40:56.4</td>\n",
       "      <td>NaN</td>\n",
       "      <td>NaN</td>\n",
       "    </tr>\n",
       "    <tr>\n",
       "      <th>...</th>\n",
       "      <td>...</td>\n",
       "      <td>...</td>\n",
       "      <td>...</td>\n",
       "      <td>...</td>\n",
       "      <td>...</td>\n",
       "      <td>...</td>\n",
       "      <td>...</td>\n",
       "      <td>...</td>\n",
       "      <td>...</td>\n",
       "    </tr>\n",
       "    <tr>\n",
       "      <th>1996-01-01</th>\n",
       "      <td>47 UMa b</td>\n",
       "      <td>Butler 1996</td>\n",
       "      <td>http://adsabs.harvard.edu/abs/1996ApJ...464L.153B</td>\n",
       "      <td>NaN</td>\n",
       "      <td>...</td>\n",
       "      <td>+10:59:28.22</td>\n",
       "      <td>+40:25:48.44</td>\n",
       "      <td>1.063000</td>\n",
       "      <td>1.118690</td>\n",
       "    </tr>\n",
       "    <tr>\n",
       "      <th>1996-01-01</th>\n",
       "      <td>70 Vir b</td>\n",
       "      <td>Marcy 1996</td>\n",
       "      <td>http://adsabs.harvard.edu/abs/1996ApJ...464L.147M</td>\n",
       "      <td>74.0</td>\n",
       "      <td>...</td>\n",
       "      <td>+13:28:25.95</td>\n",
       "      <td>+13:46:48.68</td>\n",
       "      <td>1.101000</td>\n",
       "      <td>1.597750</td>\n",
       "    </tr>\n",
       "    <tr>\n",
       "      <th>1997-01-01</th>\n",
       "      <td>16 Cyg B b</td>\n",
       "      <td>Cochran 1997</td>\n",
       "      <td>http://adsabs.harvard.edu/abs/1997ApJ...483..457C</td>\n",
       "      <td>95.0</td>\n",
       "      <td>...</td>\n",
       "      <td>+19:41:52.10</td>\n",
       "      <td>+50:31:04.51</td>\n",
       "      <td>0.956000</td>\n",
       "      <td>1.117600</td>\n",
       "    </tr>\n",
       "  </tbody>\n",
       "</table>\n",
       "<p>10 rows × 16 columns</p>\n",
       "</div>"
      ],
      "text/plain": [
       "                      NAME        FIRSTREF  \\\n",
       "DATE                                         \n",
       "1988-01-01     gamma Cep b   Campbell 1988   \n",
       "1989-01-01     HD 114762 b     Latham 1989   \n",
       "1992-01-01  PSR B1257+12 B  Wolszczan 1992   \n",
       "...                    ...             ...   \n",
       "1996-01-01        47 UMa b     Butler 1996   \n",
       "1996-01-01        70 Vir b      Marcy 1996   \n",
       "1997-01-01      16 Cyg B b    Cochran 1997   \n",
       "\n",
       "                                                     FIRSTURL  NUM_OBS  ...  \\\n",
       "DATE                                                                    ...   \n",
       "1988-01-01  http://adsabs.harvard.edu/abs/1988ApJ...331..902C    131.0  ...   \n",
       "1989-01-01  http://adsabs.harvard.edu/abs/1989Natur.339...38L     74.0  ...   \n",
       "1992-01-01  http://adsabs.harvard.edu//abs/1992Natur.355.....      NaN  ...   \n",
       "...                                                       ...      ...  ...   \n",
       "1996-01-01  http://adsabs.harvard.edu/abs/1996ApJ...464L.153B      NaN  ...   \n",
       "1996-01-01  http://adsabs.harvard.edu/abs/1996ApJ...464L.147M     74.0  ...   \n",
       "1997-01-01  http://adsabs.harvard.edu/abs/1997ApJ...483..457C     95.0  ...   \n",
       "\n",
       "            RA_STRING(h:m:s)  DEC_STRING(d:m:s)  STAR_MASS(msun)  \\\n",
       "DATE                                                               \n",
       "1988-01-01      +23:39:20.98       +77:37:55.08         1.260000   \n",
       "1989-01-01      +13:12:20.10       +17:31:01.66         0.894578   \n",
       "1992-01-01      13:00:03.577        +12:40:56.4              NaN   \n",
       "...                      ...                ...              ...   \n",
       "1996-01-01      +10:59:28.22       +40:25:48.44         1.063000   \n",
       "1996-01-01      +13:28:25.95       +13:46:48.68         1.101000   \n",
       "1997-01-01      +19:41:52.10       +50:31:04.51         0.956000   \n",
       "\n",
       "            STAR_RADIUS(rsun)  \n",
       "DATE                           \n",
       "1988-01-01           5.010000  \n",
       "1989-01-01           0.859205  \n",
       "1992-01-01                NaN  \n",
       "...                       ...  \n",
       "1996-01-01           1.118690  \n",
       "1996-01-01           1.597750  \n",
       "1997-01-01           1.117600  \n",
       "\n",
       "[10 rows x 16 columns]"
      ]
     },
     "execution_count": 75,
     "metadata": {},
     "output_type": "execute_result"
    }
   ],
   "source": [
    "# We can use a column to create a better Index\n",
    "data = pd.read_csv(file_name, parse_dates=True, index_col='DATE')\n",
    "data.head(10)     # another way to preview data after a read"
   ]
  },
  {
   "cell_type": "code",
   "execution_count": 76,
   "metadata": {},
   "outputs": [
    {
     "data": {
      "text/plain": [
       "DatetimeIndex(['1988-01-01', '1989-01-01', '1992-01-01', '1992-01-01',\n",
       "               '1993-01-01', '1994-01-01', '1995-01-01', '1996-01-01',\n",
       "               '1996-01-01', '1997-01-01',\n",
       "               ...\n",
       "               '2015-01-01', '2015-01-01', '2015-01-01', '2015-01-01',\n",
       "               '2015-01-01', '2015-01-01', '2015-01-01', '2015-01-01',\n",
       "               '2015-01-01', '2015-01-01'],\n",
       "              dtype='datetime64[ns]', name='DATE', length=1642, freq=None)"
      ]
     },
     "execution_count": 76,
     "metadata": {},
     "output_type": "execute_result"
    }
   ],
   "source": [
    "# Notice it is not just an Index, but a DatetimeIndex; note the dtype\n",
    "data.index"
   ]
  },
  {
   "cell_type": "code",
   "execution_count": 77,
   "metadata": {},
   "outputs": [
    {
     "data": {
      "text/html": [
       "<div>\n",
       "<style scoped>\n",
       "    .dataframe tbody tr th:only-of-type {\n",
       "        vertical-align: middle;\n",
       "    }\n",
       "\n",
       "    .dataframe tbody tr th {\n",
       "        vertical-align: top;\n",
       "    }\n",
       "\n",
       "    .dataframe thead th {\n",
       "        text-align: right;\n",
       "    }\n",
       "</style>\n",
       "<table border=\"1\" class=\"dataframe\">\n",
       "  <thead>\n",
       "    <tr style=\"text-align: right;\">\n",
       "      <th></th>\n",
       "      <th>NAME</th>\n",
       "      <th>FIRSTREF</th>\n",
       "      <th>FIRSTURL</th>\n",
       "      <th>NUM_OBS</th>\n",
       "      <th>...</th>\n",
       "      <th>RA_STRING(h:m:s)</th>\n",
       "      <th>DEC_STRING(d:m:s)</th>\n",
       "      <th>STAR_MASS(msun)</th>\n",
       "      <th>STAR_RADIUS(rsun)</th>\n",
       "    </tr>\n",
       "    <tr>\n",
       "      <th>DATE</th>\n",
       "      <th></th>\n",
       "      <th></th>\n",
       "      <th></th>\n",
       "      <th></th>\n",
       "      <th></th>\n",
       "      <th></th>\n",
       "      <th></th>\n",
       "      <th></th>\n",
       "      <th></th>\n",
       "    </tr>\n",
       "  </thead>\n",
       "  <tbody>\n",
       "    <tr>\n",
       "      <th>2015-01-01</th>\n",
       "      <td>gamma Cep b</td>\n",
       "      <td>Campbell 1988</td>\n",
       "      <td>http://adsabs.harvard.edu/abs/1988ApJ...331..902C</td>\n",
       "      <td>131.0</td>\n",
       "      <td>...</td>\n",
       "      <td>+23:39:20.98</td>\n",
       "      <td>+77:37:55.08</td>\n",
       "      <td>1.260000</td>\n",
       "      <td>5.010000</td>\n",
       "    </tr>\n",
       "    <tr>\n",
       "      <th>2015-01-01</th>\n",
       "      <td>HD 114762 b</td>\n",
       "      <td>Latham 1989</td>\n",
       "      <td>http://adsabs.harvard.edu/abs/1989Natur.339...38L</td>\n",
       "      <td>74.0</td>\n",
       "      <td>...</td>\n",
       "      <td>+13:12:20.10</td>\n",
       "      <td>+17:31:01.66</td>\n",
       "      <td>0.894578</td>\n",
       "      <td>0.859205</td>\n",
       "    </tr>\n",
       "    <tr>\n",
       "      <th>2015-01-01</th>\n",
       "      <td>PSR B1257+12 B</td>\n",
       "      <td>Wolszczan 1992</td>\n",
       "      <td>http://adsabs.harvard.edu//abs/1992Natur.355.....</td>\n",
       "      <td>NaN</td>\n",
       "      <td>...</td>\n",
       "      <td>13:00:03.577</td>\n",
       "      <td>+12:40:56.4</td>\n",
       "      <td>NaN</td>\n",
       "      <td>NaN</td>\n",
       "    </tr>\n",
       "  </tbody>\n",
       "</table>\n",
       "<p>3 rows × 16 columns</p>\n",
       "</div>"
      ],
      "text/plain": [
       "                      NAME        FIRSTREF  \\\n",
       "DATE                                         \n",
       "2015-01-01     gamma Cep b   Campbell 1988   \n",
       "2015-01-01     HD 114762 b     Latham 1989   \n",
       "2015-01-01  PSR B1257+12 B  Wolszczan 1992   \n",
       "\n",
       "                                                     FIRSTURL  NUM_OBS  ...  \\\n",
       "DATE                                                                    ...   \n",
       "2015-01-01  http://adsabs.harvard.edu/abs/1988ApJ...331..902C    131.0  ...   \n",
       "2015-01-01  http://adsabs.harvard.edu/abs/1989Natur.339...38L     74.0  ...   \n",
       "2015-01-01  http://adsabs.harvard.edu//abs/1992Natur.355.....      NaN  ...   \n",
       "\n",
       "            RA_STRING(h:m:s)  DEC_STRING(d:m:s)  STAR_MASS(msun)  \\\n",
       "DATE                                                               \n",
       "2015-01-01      +23:39:20.98       +77:37:55.08         1.260000   \n",
       "2015-01-01      +13:12:20.10       +17:31:01.66         0.894578   \n",
       "2015-01-01      13:00:03.577        +12:40:56.4              NaN   \n",
       "\n",
       "            STAR_RADIUS(rsun)  \n",
       "DATE                           \n",
       "2015-01-01           5.010000  \n",
       "2015-01-01           0.859205  \n",
       "2015-01-01                NaN  \n",
       "\n",
       "[3 rows x 16 columns]"
      ]
     },
     "execution_count": 77,
     "metadata": {},
     "output_type": "execute_result"
    }
   ],
   "source": [
    "# You can sort by the Index\n",
    "data = data.set_index(data.index.sort_values(ascending=False))\n",
    "data.iloc[0:3]"
   ]
  },
  {
   "cell_type": "markdown",
   "metadata": {},
   "source": [
    "## Minimal Cleanup"
   ]
  },
  {
   "cell_type": "markdown",
   "metadata": {},
   "source": [
    "Later, we will cover data clean-up in much more detail. \n",
    "\n",
    "Here are just a few simple things to do to inspect and clean-up data."
   ]
  },
  {
   "cell_type": "markdown",
   "metadata": {},
   "source": [
    "### Listing Columns"
   ]
  },
  {
   "cell_type": "code",
   "execution_count": 78,
   "metadata": {},
   "outputs": [
    {
     "data": {
      "text/plain": [
       "Index(['NAME', 'FIRSTREF', 'FIRSTURL', 'NUM_OBS', 'MASS(mjupiter)',\n",
       "       'RADIUS(rjupiter)', 'PERIOD(day)', 'ECCENTRICITY',\n",
       "       'SEMI_MAJOR_AXIS(AU)', 'SEPARATION(AU)', 'STAR_NAME', 'DIST(PARSEC)',\n",
       "       'RA_STRING(h:m:s)', 'DEC_STRING(d:m:s)', 'STAR_MASS(msun)',\n",
       "       'STAR_RADIUS(rsun)'],\n",
       "      dtype='object')"
      ]
     },
     "execution_count": 78,
     "metadata": {},
     "output_type": "execute_result"
    }
   ],
   "source": [
    "# View the labels of some or all of the columns\n",
    "# data.columns[0:10]\n",
    "data.columns"
   ]
  },
  {
   "cell_type": "markdown",
   "metadata": {},
   "source": [
    "### Extracting Columns"
   ]
  },
  {
   "cell_type": "code",
   "execution_count": 79,
   "metadata": {},
   "outputs": [
    {
     "data": {
      "text/plain": [
       "DATE\n",
       "2015-01-01   NaN\n",
       "2015-01-01   NaN\n",
       "2015-01-01   NaN\n",
       "              ..\n",
       "1992-01-01   NaN\n",
       "1989-01-01   NaN\n",
       "1988-01-01   NaN\n",
       "Name: RADIUS(rjupiter), Length: 1642, dtype: float64"
      ]
     },
     "execution_count": 79,
     "metadata": {},
     "output_type": "execute_result"
    }
   ],
   "source": [
    "data['RADIUS(rjupiter)']"
   ]
  },
  {
   "cell_type": "code",
   "execution_count": 80,
   "metadata": {},
   "outputs": [
    {
     "name": "stdout",
     "output_type": "stream",
     "text": [
      "<class 'pandas.core.series.Series'>\n"
     ]
    },
    {
     "data": {
      "text/plain": [
       "DATE\n",
       "2015-01-01   NaN\n",
       "2015-01-01   NaN\n",
       "2015-01-01   NaN\n",
       "              ..\n",
       "2015-01-01   NaN\n",
       "2015-01-01   NaN\n",
       "2015-01-01   NaN\n",
       "Name: RADIUS(rjupiter), Length: 10, dtype: float64"
      ]
     },
     "execution_count": 80,
     "metadata": {},
     "output_type": "execute_result"
    }
   ],
   "source": [
    "extract_data = data['RADIUS(rjupiter)']\n",
    "print(type(extract_data))\n",
    "extract_data.iloc[0:10]"
   ]
  },
  {
   "cell_type": "markdown",
   "metadata": {},
   "source": [
    "### Adding Columns"
   ]
  },
  {
   "cell_type": "markdown",
   "metadata": {},
   "source": [
    "- zero fill: \n",
    "    ```df['var'] = 0```\n",
    "   - values from NumPy array: ```df['my_data'] = data```\n",
    "   - note: df.var construct can not create a column by that\n",
    "     name; only used to access existing columns by name"
   ]
  },
  {
   "cell_type": "code",
   "execution_count": 81,
   "metadata": {},
   "outputs": [],
   "source": [
    "# Add a column labeled 'price'\n",
    "data['price'] = 1e6 # One *MILLION* dollars!"
   ]
  },
  {
   "cell_type": "code",
   "execution_count": 82,
   "metadata": {},
   "outputs": [
    {
     "data": {
      "text/plain": [
       "DATE\n",
       "2015-01-01    1000000.0\n",
       "2015-01-01    1000000.0\n",
       "2015-01-01    1000000.0\n",
       "2015-01-01    1000000.0\n",
       "2015-01-01    1000000.0\n",
       "Name: price, dtype: float64"
      ]
     },
     "execution_count": 82,
     "metadata": {},
     "output_type": "execute_result"
    }
   ],
   "source": [
    "# Inspect the updated DataFrame\n",
    "data.price.iloc[0:5]"
   ]
  },
  {
   "cell_type": "markdown",
   "metadata": {},
   "source": [
    "### Deleting Columns"
   ]
  },
  {
   "cell_type": "code",
   "execution_count": 83,
   "metadata": {},
   "outputs": [],
   "source": [
    "# Demonstration that you can delete columns after a file read\n",
    "del data['FIRSTURL']"
   ]
  },
  {
   "cell_type": "code",
   "execution_count": 84,
   "metadata": {},
   "outputs": [
    {
     "data": {
      "text/html": [
       "<div>\n",
       "<style scoped>\n",
       "    .dataframe tbody tr th:only-of-type {\n",
       "        vertical-align: middle;\n",
       "    }\n",
       "\n",
       "    .dataframe tbody tr th {\n",
       "        vertical-align: top;\n",
       "    }\n",
       "\n",
       "    .dataframe thead th {\n",
       "        text-align: right;\n",
       "    }\n",
       "</style>\n",
       "<table border=\"1\" class=\"dataframe\">\n",
       "  <thead>\n",
       "    <tr style=\"text-align: right;\">\n",
       "      <th></th>\n",
       "      <th>NAME</th>\n",
       "      <th>FIRSTREF</th>\n",
       "      <th>NUM_OBS</th>\n",
       "      <th>MASS(mjupiter)</th>\n",
       "      <th>...</th>\n",
       "      <th>DEC_STRING(d:m:s)</th>\n",
       "      <th>STAR_MASS(msun)</th>\n",
       "      <th>STAR_RADIUS(rsun)</th>\n",
       "      <th>price</th>\n",
       "    </tr>\n",
       "    <tr>\n",
       "      <th>DATE</th>\n",
       "      <th></th>\n",
       "      <th></th>\n",
       "      <th></th>\n",
       "      <th></th>\n",
       "      <th></th>\n",
       "      <th></th>\n",
       "      <th></th>\n",
       "      <th></th>\n",
       "      <th></th>\n",
       "    </tr>\n",
       "  </thead>\n",
       "  <tbody>\n",
       "    <tr>\n",
       "      <th>2015-01-01</th>\n",
       "      <td>gamma Cep b</td>\n",
       "      <td>Campbell 1988</td>\n",
       "      <td>131.0</td>\n",
       "      <td>1.517280</td>\n",
       "      <td>...</td>\n",
       "      <td>+77:37:55.08</td>\n",
       "      <td>1.260000</td>\n",
       "      <td>5.010000</td>\n",
       "      <td>1000000.0</td>\n",
       "    </tr>\n",
       "    <tr>\n",
       "      <th>2015-01-01</th>\n",
       "      <td>HD 114762 b</td>\n",
       "      <td>Latham 1989</td>\n",
       "      <td>74.0</td>\n",
       "      <td>11.635100</td>\n",
       "      <td>...</td>\n",
       "      <td>+17:31:01.66</td>\n",
       "      <td>0.894578</td>\n",
       "      <td>0.859205</td>\n",
       "      <td>1000000.0</td>\n",
       "    </tr>\n",
       "    <tr>\n",
       "      <th>2015-01-01</th>\n",
       "      <td>PSR B1257+12 B</td>\n",
       "      <td>Wolszczan 1992</td>\n",
       "      <td>NaN</td>\n",
       "      <td>0.013531</td>\n",
       "      <td>...</td>\n",
       "      <td>+12:40:56.4</td>\n",
       "      <td>NaN</td>\n",
       "      <td>NaN</td>\n",
       "      <td>1000000.0</td>\n",
       "    </tr>\n",
       "    <tr>\n",
       "      <th>2015-01-01</th>\n",
       "      <td>PSR B1257+12 A</td>\n",
       "      <td>Wolszczan 1992</td>\n",
       "      <td>NaN</td>\n",
       "      <td>0.000063</td>\n",
       "      <td>...</td>\n",
       "      <td>+12:40:56.4</td>\n",
       "      <td>NaN</td>\n",
       "      <td>NaN</td>\n",
       "      <td>1000000.0</td>\n",
       "    </tr>\n",
       "    <tr>\n",
       "      <th>2015-01-01</th>\n",
       "      <td>beta Gem b</td>\n",
       "      <td>Hatzes 1993</td>\n",
       "      <td>55.0</td>\n",
       "      <td>2.758220</td>\n",
       "      <td>...</td>\n",
       "      <td>+28:01:34.72</td>\n",
       "      <td>2.080000</td>\n",
       "      <td>8.156090</td>\n",
       "      <td>1000000.0</td>\n",
       "    </tr>\n",
       "  </tbody>\n",
       "</table>\n",
       "<p>5 rows × 16 columns</p>\n",
       "</div>"
      ],
      "text/plain": [
       "                      NAME        FIRSTREF  NUM_OBS  MASS(mjupiter)  ...  \\\n",
       "DATE                                                                 ...   \n",
       "2015-01-01     gamma Cep b   Campbell 1988    131.0        1.517280  ...   \n",
       "2015-01-01     HD 114762 b     Latham 1989     74.0       11.635100  ...   \n",
       "2015-01-01  PSR B1257+12 B  Wolszczan 1992      NaN        0.013531  ...   \n",
       "2015-01-01  PSR B1257+12 A  Wolszczan 1992      NaN        0.000063  ...   \n",
       "2015-01-01      beta Gem b     Hatzes 1993     55.0        2.758220  ...   \n",
       "\n",
       "            DEC_STRING(d:m:s)  STAR_MASS(msun)  STAR_RADIUS(rsun)      price  \n",
       "DATE                                                                          \n",
       "2015-01-01       +77:37:55.08         1.260000           5.010000  1000000.0  \n",
       "2015-01-01       +17:31:01.66         0.894578           0.859205  1000000.0  \n",
       "2015-01-01        +12:40:56.4              NaN                NaN  1000000.0  \n",
       "2015-01-01        +12:40:56.4              NaN                NaN  1000000.0  \n",
       "2015-01-01       +28:01:34.72         2.080000           8.156090  1000000.0  \n",
       "\n",
       "[5 rows x 16 columns]"
      ]
     },
     "execution_count": 84,
     "metadata": {},
     "output_type": "execute_result"
    }
   ],
   "source": [
    "# Inspect the results\n",
    "data.iloc[0:5]"
   ]
  },
  {
   "cell_type": "markdown",
   "metadata": {},
   "source": [
    "### Renaming Columns"
   ]
  },
  {
   "cell_type": "code",
   "execution_count": 85,
   "metadata": {},
   "outputs": [
    {
     "data": {
      "text/html": [
       "<div>\n",
       "<style scoped>\n",
       "    .dataframe tbody tr th:only-of-type {\n",
       "        vertical-align: middle;\n",
       "    }\n",
       "\n",
       "    .dataframe tbody tr th {\n",
       "        vertical-align: top;\n",
       "    }\n",
       "\n",
       "    .dataframe thead th {\n",
       "        text-align: right;\n",
       "    }\n",
       "</style>\n",
       "<table border=\"1\" class=\"dataframe\">\n",
       "  <thead>\n",
       "    <tr style=\"text-align: right;\">\n",
       "      <th></th>\n",
       "      <th>PLANET</th>\n",
       "      <th>FIRSTREF</th>\n",
       "      <th>NUM_OBS</th>\n",
       "      <th>MASS(mjupiter)</th>\n",
       "      <th>...</th>\n",
       "      <th>DEC_STRING(d:m:s)</th>\n",
       "      <th>STAR_MASS(msun)</th>\n",
       "      <th>STAR_RADIUS(rsun)</th>\n",
       "      <th>price</th>\n",
       "    </tr>\n",
       "    <tr>\n",
       "      <th>DATE</th>\n",
       "      <th></th>\n",
       "      <th></th>\n",
       "      <th></th>\n",
       "      <th></th>\n",
       "      <th></th>\n",
       "      <th></th>\n",
       "      <th></th>\n",
       "      <th></th>\n",
       "      <th></th>\n",
       "    </tr>\n",
       "  </thead>\n",
       "  <tbody>\n",
       "    <tr>\n",
       "      <th>2015-01-01</th>\n",
       "      <td>gamma Cep b</td>\n",
       "      <td>Campbell 1988</td>\n",
       "      <td>131.0</td>\n",
       "      <td>1.517280</td>\n",
       "      <td>...</td>\n",
       "      <td>+77:37:55.08</td>\n",
       "      <td>1.260000</td>\n",
       "      <td>5.010000</td>\n",
       "      <td>1000000.0</td>\n",
       "    </tr>\n",
       "    <tr>\n",
       "      <th>2015-01-01</th>\n",
       "      <td>HD 114762 b</td>\n",
       "      <td>Latham 1989</td>\n",
       "      <td>74.0</td>\n",
       "      <td>11.635100</td>\n",
       "      <td>...</td>\n",
       "      <td>+17:31:01.66</td>\n",
       "      <td>0.894578</td>\n",
       "      <td>0.859205</td>\n",
       "      <td>1000000.0</td>\n",
       "    </tr>\n",
       "    <tr>\n",
       "      <th>2015-01-01</th>\n",
       "      <td>PSR B1257+12 B</td>\n",
       "      <td>Wolszczan 1992</td>\n",
       "      <td>NaN</td>\n",
       "      <td>0.013531</td>\n",
       "      <td>...</td>\n",
       "      <td>+12:40:56.4</td>\n",
       "      <td>NaN</td>\n",
       "      <td>NaN</td>\n",
       "      <td>1000000.0</td>\n",
       "    </tr>\n",
       "  </tbody>\n",
       "</table>\n",
       "<p>3 rows × 16 columns</p>\n",
       "</div>"
      ],
      "text/plain": [
       "                    PLANET        FIRSTREF  NUM_OBS  MASS(mjupiter)  ...  \\\n",
       "DATE                                                                 ...   \n",
       "2015-01-01     gamma Cep b   Campbell 1988    131.0        1.517280  ...   \n",
       "2015-01-01     HD 114762 b     Latham 1989     74.0       11.635100  ...   \n",
       "2015-01-01  PSR B1257+12 B  Wolszczan 1992      NaN        0.013531  ...   \n",
       "\n",
       "            DEC_STRING(d:m:s)  STAR_MASS(msun)  STAR_RADIUS(rsun)      price  \n",
       "DATE                                                                          \n",
       "2015-01-01       +77:37:55.08         1.260000           5.010000  1000000.0  \n",
       "2015-01-01       +17:31:01.66         0.894578           0.859205  1000000.0  \n",
       "2015-01-01        +12:40:56.4              NaN                NaN  1000000.0  \n",
       "\n",
       "[3 rows x 16 columns]"
      ]
     },
     "execution_count": 85,
     "metadata": {},
     "output_type": "execute_result"
    }
   ],
   "source": [
    "# Change the label of a single column\n",
    "data = data.rename(columns={'NAME':'PLANET'})\n",
    "data.iloc[0:3]"
   ]
  },
  {
   "cell_type": "markdown",
   "metadata": {},
   "source": [
    "### Question/Exercise\n",
    "1. What is average length of a year for the known expoplanets?\n",
    "\n",
    "2. Plot the period (year length) for the exoplanets in order of their discovery date. Why does the plot look odd?\n",
    "\n",
    "3. Interstellar real estate: Instead of planets being ONE MILLION DOLLARS each, they are 1 million dollars per Jupiter mass - but anything over 10 parsecs is out \"in the boonies\" so we subtract 25,000 dollars for each parsec beyond 10. Create a column with the price of each planet."
   ]
  },
  {
   "cell_type": "code",
   "execution_count": 86,
   "metadata": {},
   "outputs": [],
   "source": [
    "%matplotlib inline\n",
    "import matplotlib.pyplot as plt"
   ]
  },
  {
   "cell_type": "markdown",
   "metadata": {},
   "source": [
    "# File Formats"
   ]
  },
  {
   "cell_type": "markdown",
   "metadata": {},
   "source": [
    "Pandas has an extensive set of I/O methods:\n",
    "* Can read from a wide range of flat files, including Excel and HDF5\n",
    "* Can also read SQL queries into memory\n",
    "* Sensible defaults, automatically labeled and typed `DataFrames`"
   ]
  },
  {
   "cell_type": "code",
   "execution_count": 87,
   "metadata": {},
   "outputs": [
    {
     "name": "stdout",
     "output_type": "stream",
     "text": [
      "pd.read_clipboard\n",
      "pd.read_csv\n",
      "pd.read_excel\n",
      "pd.read_feather\n",
      "pd.read_fwf\n",
      "pd.read_gbq\n",
      "pd.read_hdf\n",
      "pd.read_html\n",
      "pd.read_json\n",
      "pd.read_orc\n",
      "pd.read_parquet\n",
      "pd.read_pickle\n",
      "pd.read_sas\n",
      "pd.read_spss\n",
      "pd.read_sql\n",
      "pd.read_sql_query\n",
      "pd.read_sql_table\n",
      "pd.read_stata\n",
      "pd.read_table\n",
      "\n"
     ]
    }
   ],
   "source": [
    "# Print a list of all read_* methods in pandas\n",
    "\n",
    "print(\"\".join([\"pd.%s\\n\" % reader \n",
    "               for reader in dir(pd) \n",
    "               if reader.startswith('read_')]))"
   ]
  },
  {
   "cell_type": "code",
   "execution_count": 88,
   "metadata": {},
   "outputs": [
    {
     "name": "stdout",
     "output_type": "stream",
     "text": [
      "pd.DataFrame.to_clipboard\n",
      "pd.DataFrame.to_csv\n",
      "pd.DataFrame.to_dict\n",
      "pd.DataFrame.to_excel\n",
      "pd.DataFrame.to_feather\n",
      "pd.DataFrame.to_gbq\n",
      "pd.DataFrame.to_hdf\n",
      "pd.DataFrame.to_html\n",
      "pd.DataFrame.to_json\n",
      "pd.DataFrame.to_latex\n",
      "pd.DataFrame.to_markdown\n",
      "pd.DataFrame.to_numpy\n",
      "pd.DataFrame.to_parquet\n",
      "pd.DataFrame.to_period\n",
      "pd.DataFrame.to_pickle\n",
      "pd.DataFrame.to_records\n",
      "pd.DataFrame.to_sql\n",
      "pd.DataFrame.to_stata\n",
      "pd.DataFrame.to_string\n",
      "pd.DataFrame.to_timestamp\n",
      "pd.DataFrame.to_xarray\n",
      "\n"
     ]
    }
   ],
   "source": [
    "# DataFrame can be cast to files or other objects\n",
    "\n",
    "print(\"\".join([\"pd.DataFrame.%s\\n\" % reader \n",
    "               for reader in dir(pd.DataFrame) \n",
    "               if reader.startswith('to_')]))"
   ]
  },
  {
   "cell_type": "markdown",
   "metadata": {
    "slideshow": {
     "slide_type": "slide"
    }
   },
   "source": [
    "Below are external links to details on the file formats that pandas can read.\n",
    "\n",
    "- [CSV](https://en.wikipedia.org/wiki/Comma-separated_values)\n",
    "- Excel\n",
    "- SQL\n",
    "- [JSON](http://www.json.org/)\n",
    "- [HDF5](https://www.hdfgroup.org/HDF5/)\n",
    "- [pickle](https://docs.python.org/3/library/pickle.html)\n",
    "- [msgpack](http://msgpack.org/)\n",
    "- [Stata](https://en.wikipedia.org/wiki/Stata)\n",
    "- [Google BigQuery](https://en.wikipedia.org/wiki/BigQuery)"
   ]
  },
  {
   "cell_type": "markdown",
   "metadata": {
    "slideshow": {
     "slide_type": "slide"
    }
   },
   "source": [
    "## CSV"
   ]
  },
  {
   "cell_type": "markdown",
   "metadata": {},
   "source": [
    "http://pandas.pydata.org/pandas-docs/stable/io.html#csv-text-files"
   ]
  },
  {
   "cell_type": "code",
   "execution_count": 89,
   "metadata": {
    "slideshow": {
     "slide_type": "subslide"
    }
   },
   "outputs": [],
   "source": [
    "df = pd.read_csv('data/exoplanets.csv', \n",
    "                 parse_dates=['DATE'],\n",
    "                 encoding='utf-8')"
   ]
  },
  {
   "cell_type": "code",
   "execution_count": 90,
   "metadata": {
    "slideshow": {
     "slide_type": "subslide"
    }
   },
   "outputs": [
    {
     "name": "stdout",
     "output_type": "stream",
     "text": [
      "<class 'pandas.core.frame.DataFrame'>\n",
      "RangeIndex: 1642 entries, 0 to 1641\n",
      "Data columns (total 17 columns):\n",
      " #   Column               Non-Null Count  Dtype         \n",
      "---  ------               --------------  -----         \n",
      " 0   NAME                 1642 non-null   object        \n",
      " 1   FIRSTREF             1642 non-null   object        \n",
      " 2   FIRSTURL             1642 non-null   object        \n",
      " 3   DATE                 1642 non-null   datetime64[ns]\n",
      " 4   NUM_OBS              653 non-null    float64       \n",
      " 5   MASS(mjupiter)       1641 non-null   float64       \n",
      " 6   RADIUS(rjupiter)     1147 non-null   float64       \n",
      " 7   PERIOD(day)          1629 non-null   float64       \n",
      " 8   ECCENTRICITY         857 non-null    float64       \n",
      " 9   SEMI_MAJOR_AXIS(AU)  1629 non-null   float64       \n",
      " 10  SEPARATION(AU)       1638 non-null   float64       \n",
      " 11  STAR_NAME            1642 non-null   object        \n",
      " 12  DIST(PARSEC)         737 non-null    float64       \n",
      " 13  RA_STRING(h:m:s)     1642 non-null   object        \n",
      " 14  DEC_STRING(d:m:s)    1642 non-null   object        \n",
      " 15  STAR_MASS(msun)      927 non-null    float64       \n",
      " 16  STAR_RADIUS(rsun)    1585 non-null   float64       \n",
      "dtypes: datetime64[ns](1), float64(10), object(6)\n",
      "memory usage: 218.2+ KB\n"
     ]
    }
   ],
   "source": [
    "df.info()"
   ]
  },
  {
   "cell_type": "code",
   "execution_count": 91,
   "metadata": {
    "scrolled": true,
    "slideshow": {
     "slide_type": "subslide"
    }
   },
   "outputs": [
    {
     "data": {
      "text/html": [
       "<div>\n",
       "<style scoped>\n",
       "    .dataframe tbody tr th:only-of-type {\n",
       "        vertical-align: middle;\n",
       "    }\n",
       "\n",
       "    .dataframe tbody tr th {\n",
       "        vertical-align: top;\n",
       "    }\n",
       "\n",
       "    .dataframe thead th {\n",
       "        text-align: right;\n",
       "    }\n",
       "</style>\n",
       "<table border=\"1\" class=\"dataframe\">\n",
       "  <thead>\n",
       "    <tr style=\"text-align: right;\">\n",
       "      <th></th>\n",
       "      <th>NAME</th>\n",
       "      <th>FIRSTREF</th>\n",
       "      <th>FIRSTURL</th>\n",
       "      <th>DATE</th>\n",
       "      <th>...</th>\n",
       "      <th>RA_STRING(h:m:s)</th>\n",
       "      <th>DEC_STRING(d:m:s)</th>\n",
       "      <th>STAR_MASS(msun)</th>\n",
       "      <th>STAR_RADIUS(rsun)</th>\n",
       "    </tr>\n",
       "  </thead>\n",
       "  <tbody>\n",
       "    <tr>\n",
       "      <th>7</th>\n",
       "      <td>47 UMa b</td>\n",
       "      <td>Butler 1996</td>\n",
       "      <td>http://adsabs.harvard.edu/abs/1996ApJ...464L.153B</td>\n",
       "      <td>1996-01-01</td>\n",
       "      <td>...</td>\n",
       "      <td>+10:59:28.22</td>\n",
       "      <td>+40:25:48.44</td>\n",
       "      <td>1.063</td>\n",
       "      <td>1.11869</td>\n",
       "    </tr>\n",
       "  </tbody>\n",
       "</table>\n",
       "<p>1 rows × 17 columns</p>\n",
       "</div>"
      ],
      "text/plain": [
       "       NAME     FIRSTREF                                           FIRSTURL  \\\n",
       "7  47 UMa b  Butler 1996  http://adsabs.harvard.edu/abs/1996ApJ...464L.153B   \n",
       "\n",
       "        DATE  ...  RA_STRING(h:m:s)  DEC_STRING(d:m:s)  STAR_MASS(msun)  \\\n",
       "7 1996-01-01  ...      +10:59:28.22       +40:25:48.44            1.063   \n",
       "\n",
       "   STAR_RADIUS(rsun)  \n",
       "7            1.11869  \n",
       "\n",
       "[1 rows x 17 columns]"
      ]
     },
     "execution_count": 91,
     "metadata": {},
     "output_type": "execute_result"
    }
   ],
   "source": [
    "# The first exoplanet to get news headlines was in 1996.\n",
    "# Use some indexing to inspect the rows.\n",
    "# Combining head() and .iloc[] bracket indexing.\n",
    "df.head(8).iloc[-1:]"
   ]
  },
  {
   "cell_type": "markdown",
   "metadata": {},
   "source": [
    "Let's do some simple data extractions to prove we can."
   ]
  },
  {
   "cell_type": "code",
   "execution_count": 92,
   "metadata": {
    "slideshow": {
     "slide_type": "fragment"
    }
   },
   "outputs": [
    {
     "data": {
      "text/plain": [
       "'47 UMa b'"
      ]
     },
     "execution_count": 92,
     "metadata": {},
     "output_type": "execute_result"
    }
   ],
   "source": [
    "# Extract the name using [row index] and [column label]\n",
    "df.loc[7,'NAME']"
   ]
  },
  {
   "cell_type": "code",
   "execution_count": 93,
   "metadata": {},
   "outputs": [
    {
     "data": {
      "text/plain": [
       "2.54589"
      ]
     },
     "execution_count": 93,
     "metadata": {},
     "output_type": "execute_result"
    }
   ],
   "source": [
    "# Extract the mass using the [column label] and [row index]\n",
    "df.loc[7,'MASS(mjupiter)']"
   ]
  },
  {
   "cell_type": "code",
   "execution_count": 94,
   "metadata": {},
   "outputs": [
    {
     "data": {
      "text/plain": [
       "2.54589"
      ]
     },
     "execution_count": 94,
     "metadata": {},
     "output_type": "execute_result"
    }
   ],
   "source": [
    "# Extract the mass using and [row index] and [column index]\n",
    "# The MASS(mjupiter) column is the 5th labeled column (not counting the Index)\n",
    "# All pandas DataFrames have the method .iloc() \n",
    "df.iloc[7,5]"
   ]
  },
  {
   "cell_type": "code",
   "execution_count": 96,
   "metadata": {
    "slideshow": {
     "slide_type": "fragment"
    }
   },
   "outputs": [],
   "source": [
    "df.to_csv('tmp/exoplanets.csv', index=False, encoding='utf-8')"
   ]
  },
  {
   "cell_type": "markdown",
   "metadata": {},
   "source": [
    "## CSV Online"
   ]
  },
  {
   "cell_type": "markdown",
   "metadata": {},
   "source": [
    "Pandas can read a data table directly from the web"
   ]
  },
  {
   "cell_type": "code",
   "execution_count": 97,
   "metadata": {},
   "outputs": [
    {
     "data": {
      "text/html": [
       "<div>\n",
       "<style scoped>\n",
       "    .dataframe tbody tr th:only-of-type {\n",
       "        vertical-align: middle;\n",
       "    }\n",
       "\n",
       "    .dataframe tbody tr th {\n",
       "        vertical-align: top;\n",
       "    }\n",
       "\n",
       "    .dataframe thead th {\n",
       "        text-align: right;\n",
       "    }\n",
       "</style>\n",
       "<table border=\"1\" class=\"dataframe\">\n",
       "  <thead>\n",
       "    <tr style=\"text-align: right;\">\n",
       "      <th></th>\n",
       "      <th>water_level</th>\n",
       "      <th>surface_area</th>\n",
       "      <th>reservoir_storage</th>\n",
       "      <th>conservation_storage</th>\n",
       "      <th>percent_full</th>\n",
       "      <th>conservation_capacity</th>\n",
       "      <th>dead_pool_capacity</th>\n",
       "    </tr>\n",
       "    <tr>\n",
       "      <th>date</th>\n",
       "      <th></th>\n",
       "      <th></th>\n",
       "      <th></th>\n",
       "      <th></th>\n",
       "      <th></th>\n",
       "      <th></th>\n",
       "      <th></th>\n",
       "    </tr>\n",
       "  </thead>\n",
       "  <tbody>\n",
       "    <tr>\n",
       "      <th>1966-01-01</th>\n",
       "      <td>480.88</td>\n",
       "      <td>968.23</td>\n",
       "      <td>9426</td>\n",
       "      <td>8817</td>\n",
       "      <td>36.8</td>\n",
       "      <td>23972</td>\n",
       "      <td>609</td>\n",
       "    </tr>\n",
       "    <tr>\n",
       "      <th>1966-02-01</th>\n",
       "      <td>492.67</td>\n",
       "      <td>1573.66</td>\n",
       "      <td>24376</td>\n",
       "      <td>23767</td>\n",
       "      <td>99.1</td>\n",
       "      <td>23972</td>\n",
       "      <td>609</td>\n",
       "    </tr>\n",
       "    <tr>\n",
       "      <th>1966-03-01</th>\n",
       "      <td>492.68</td>\n",
       "      <td>1574.32</td>\n",
       "      <td>24392</td>\n",
       "      <td>23783</td>\n",
       "      <td>99.2</td>\n",
       "      <td>23972</td>\n",
       "      <td>609</td>\n",
       "    </tr>\n",
       "    <tr>\n",
       "      <th>...</th>\n",
       "      <td>...</td>\n",
       "      <td>...</td>\n",
       "      <td>...</td>\n",
       "      <td>...</td>\n",
       "      <td>...</td>\n",
       "      <td>...</td>\n",
       "      <td>...</td>\n",
       "    </tr>\n",
       "    <tr>\n",
       "      <th>2020-08-15</th>\n",
       "      <td>492.06</td>\n",
       "      <td>1537.51</td>\n",
       "      <td>23427</td>\n",
       "      <td>22818</td>\n",
       "      <td>95.2</td>\n",
       "      <td>23972</td>\n",
       "      <td>609</td>\n",
       "    </tr>\n",
       "    <tr>\n",
       "      <th>2020-08-16</th>\n",
       "      <td>492.10</td>\n",
       "      <td>1539.69</td>\n",
       "      <td>23489</td>\n",
       "      <td>22880</td>\n",
       "      <td>95.4</td>\n",
       "      <td>23972</td>\n",
       "      <td>609</td>\n",
       "    </tr>\n",
       "    <tr>\n",
       "      <th>2020-08-17</th>\n",
       "      <td>492.10</td>\n",
       "      <td>1539.69</td>\n",
       "      <td>23489</td>\n",
       "      <td>22880</td>\n",
       "      <td>95.4</td>\n",
       "      <td>23972</td>\n",
       "      <td>609</td>\n",
       "    </tr>\n",
       "  </tbody>\n",
       "</table>\n",
       "<p>16381 rows × 7 columns</p>\n",
       "</div>"
      ],
      "text/plain": [
       "            water_level  surface_area  reservoir_storage  \\\n",
       "date                                                       \n",
       "1966-01-01       480.88        968.23               9426   \n",
       "1966-02-01       492.67       1573.66              24376   \n",
       "1966-03-01       492.68       1574.32              24392   \n",
       "...                 ...           ...                ...   \n",
       "2020-08-15       492.06       1537.51              23427   \n",
       "2020-08-16       492.10       1539.69              23489   \n",
       "2020-08-17       492.10       1539.69              23489   \n",
       "\n",
       "            conservation_storage  percent_full  conservation_capacity  \\\n",
       "date                                                                    \n",
       "1966-01-01                  8817          36.8                  23972   \n",
       "1966-02-01                 23767          99.1                  23972   \n",
       "1966-03-01                 23783          99.2                  23972   \n",
       "...                          ...           ...                    ...   \n",
       "2020-08-15                 22818          95.2                  23972   \n",
       "2020-08-16                 22880          95.4                  23972   \n",
       "2020-08-17                 22880          95.4                  23972   \n",
       "\n",
       "            dead_pool_capacity  \n",
       "date                            \n",
       "1966-01-01                 609  \n",
       "1966-02-01                 609  \n",
       "1966-03-01                 609  \n",
       "...                        ...  \n",
       "2020-08-15                 609  \n",
       "2020-08-16                 609  \n",
       "2020-08-17                 609  \n",
       "\n",
       "[16381 rows x 7 columns]"
      ]
     },
     "execution_count": 97,
     "metadata": {},
     "output_type": "execute_result"
    }
   ],
   "source": [
    "url = 'http://waterdatafortexas.org/reservoirs/individual/austin.csv'\n",
    "df  = pd.read_csv(url, comment='#', index_col='date', parse_dates=True)\n",
    "df\n",
    "\n",
    "# note: you can parse dates, and ignore comment lines"
   ]
  },
  {
   "cell_type": "markdown",
   "metadata": {
    "slideshow": {
     "slide_type": "slide"
    }
   },
   "source": [
    "## Excel"
   ]
  },
  {
   "cell_type": "markdown",
   "metadata": {
    "slideshow": {
     "slide_type": "-"
    }
   },
   "source": [
    "http://pandas.pydata.org/pandas-docs/stable/io.html#excel-files"
   ]
  },
  {
   "cell_type": "code",
   "execution_count": 98,
   "metadata": {
    "slideshow": {
     "slide_type": "-"
    }
   },
   "outputs": [],
   "source": [
    "# Save the DataFrame as an Excel file\n",
    "file_name = 'tmp/exoplanets.xls'\n",
    "clean_tmp(file_name)\n",
    "\n",
    "df.to_excel(file_name, index=False, encoding='utf-8')"
   ]
  },
  {
   "cell_type": "code",
   "execution_count": 99,
   "metadata": {
    "slideshow": {
     "slide_type": "-"
    }
   },
   "outputs": [
    {
     "data": {
      "text/html": [
       "<div>\n",
       "<style scoped>\n",
       "    .dataframe tbody tr th:only-of-type {\n",
       "        vertical-align: middle;\n",
       "    }\n",
       "\n",
       "    .dataframe tbody tr th {\n",
       "        vertical-align: top;\n",
       "    }\n",
       "\n",
       "    .dataframe thead th {\n",
       "        text-align: right;\n",
       "    }\n",
       "</style>\n",
       "<table border=\"1\" class=\"dataframe\">\n",
       "  <thead>\n",
       "    <tr style=\"text-align: right;\">\n",
       "      <th></th>\n",
       "      <th>water_level</th>\n",
       "      <th>surface_area</th>\n",
       "      <th>reservoir_storage</th>\n",
       "      <th>conservation_storage</th>\n",
       "      <th>percent_full</th>\n",
       "      <th>conservation_capacity</th>\n",
       "      <th>dead_pool_capacity</th>\n",
       "    </tr>\n",
       "  </thead>\n",
       "  <tbody>\n",
       "    <tr>\n",
       "      <th>0</th>\n",
       "      <td>480.88</td>\n",
       "      <td>968.23</td>\n",
       "      <td>9426</td>\n",
       "      <td>8817</td>\n",
       "      <td>36.8</td>\n",
       "      <td>23972</td>\n",
       "      <td>609</td>\n",
       "    </tr>\n",
       "    <tr>\n",
       "      <th>1</th>\n",
       "      <td>492.67</td>\n",
       "      <td>1573.66</td>\n",
       "      <td>24376</td>\n",
       "      <td>23767</td>\n",
       "      <td>99.1</td>\n",
       "      <td>23972</td>\n",
       "      <td>609</td>\n",
       "    </tr>\n",
       "    <tr>\n",
       "      <th>2</th>\n",
       "      <td>492.68</td>\n",
       "      <td>1574.32</td>\n",
       "      <td>24392</td>\n",
       "      <td>23783</td>\n",
       "      <td>99.2</td>\n",
       "      <td>23972</td>\n",
       "      <td>609</td>\n",
       "    </tr>\n",
       "  </tbody>\n",
       "</table>\n",
       "</div>"
      ],
      "text/plain": [
       "   water_level  surface_area  reservoir_storage  conservation_storage  \\\n",
       "0       480.88        968.23               9426                  8817   \n",
       "1       492.67       1573.66              24376                 23767   \n",
       "2       492.68       1574.32              24392                 23783   \n",
       "\n",
       "   percent_full  conservation_capacity  dead_pool_capacity  \n",
       "0          36.8                  23972                 609  \n",
       "1          99.1                  23972                 609  \n",
       "2          99.2                  23972                 609  "
      ]
     },
     "execution_count": 99,
     "metadata": {},
     "output_type": "execute_result"
    }
   ],
   "source": [
    "# Read the Excel file\n",
    "file_name = 'tmp/exoplanets.xls'\n",
    "df = pd.read_excel(file_name, sheetnames=[0], encoding='utf-8')\n",
    "df.head(3)"
   ]
  },
  {
   "cell_type": "markdown",
   "metadata": {
    "slideshow": {
     "slide_type": "slide"
    }
   },
   "source": [
    "## SQLite"
   ]
  },
  {
   "cell_type": "markdown",
   "metadata": {},
   "source": [
    "http://pandas.pydata.org/pandas-docs/stable/io.html#sql-queries"
   ]
  },
  {
   "cell_type": "code",
   "execution_count": 100,
   "metadata": {
    "slideshow": {
     "slide_type": "fragment"
    }
   },
   "outputs": [],
   "source": [
    "file_name = \"tmp/exoplanets.sqlite\"\n",
    "clean_tmp(file_name)\n",
    "\n",
    "from sqlalchemy import create_engine\n",
    "engine = create_engine('sqlite:///' + file_name)"
   ]
  },
  {
   "cell_type": "code",
   "execution_count": 101,
   "metadata": {
    "slideshow": {
     "slide_type": "fragment"
    }
   },
   "outputs": [],
   "source": [
    "df.to_sql('table', engine, index=False)"
   ]
  },
  {
   "cell_type": "code",
   "execution_count": 102,
   "metadata": {},
   "outputs": [
    {
     "data": {
      "text/html": [
       "<div>\n",
       "<style scoped>\n",
       "    .dataframe tbody tr th:only-of-type {\n",
       "        vertical-align: middle;\n",
       "    }\n",
       "\n",
       "    .dataframe tbody tr th {\n",
       "        vertical-align: top;\n",
       "    }\n",
       "\n",
       "    .dataframe thead th {\n",
       "        text-align: right;\n",
       "    }\n",
       "</style>\n",
       "<table border=\"1\" class=\"dataframe\">\n",
       "  <thead>\n",
       "    <tr style=\"text-align: right;\">\n",
       "      <th></th>\n",
       "      <th>water_level</th>\n",
       "      <th>surface_area</th>\n",
       "      <th>reservoir_storage</th>\n",
       "      <th>conservation_storage</th>\n",
       "      <th>percent_full</th>\n",
       "      <th>conservation_capacity</th>\n",
       "      <th>dead_pool_capacity</th>\n",
       "    </tr>\n",
       "  </thead>\n",
       "  <tbody>\n",
       "    <tr>\n",
       "      <th>0</th>\n",
       "      <td>480.88</td>\n",
       "      <td>968.23</td>\n",
       "      <td>9426</td>\n",
       "      <td>8817</td>\n",
       "      <td>36.8</td>\n",
       "      <td>23972</td>\n",
       "      <td>609</td>\n",
       "    </tr>\n",
       "    <tr>\n",
       "      <th>1</th>\n",
       "      <td>492.67</td>\n",
       "      <td>1573.66</td>\n",
       "      <td>24376</td>\n",
       "      <td>23767</td>\n",
       "      <td>99.1</td>\n",
       "      <td>23972</td>\n",
       "      <td>609</td>\n",
       "    </tr>\n",
       "    <tr>\n",
       "      <th>2</th>\n",
       "      <td>492.68</td>\n",
       "      <td>1574.32</td>\n",
       "      <td>24392</td>\n",
       "      <td>23783</td>\n",
       "      <td>99.2</td>\n",
       "      <td>23972</td>\n",
       "      <td>609</td>\n",
       "    </tr>\n",
       "    <tr>\n",
       "      <th>3</th>\n",
       "      <td>492.40</td>\n",
       "      <td>1556.78</td>\n",
       "      <td>23953</td>\n",
       "      <td>23344</td>\n",
       "      <td>97.4</td>\n",
       "      <td>23972</td>\n",
       "      <td>609</td>\n",
       "    </tr>\n",
       "    <tr>\n",
       "      <th>4</th>\n",
       "      <td>492.54</td>\n",
       "      <td>1565.29</td>\n",
       "      <td>24172</td>\n",
       "      <td>23563</td>\n",
       "      <td>98.3</td>\n",
       "      <td>23972</td>\n",
       "      <td>609</td>\n",
       "    </tr>\n",
       "  </tbody>\n",
       "</table>\n",
       "</div>"
      ],
      "text/plain": [
       "   water_level  surface_area  reservoir_storage  conservation_storage  \\\n",
       "0       480.88        968.23               9426                  8817   \n",
       "1       492.67       1573.66              24376                 23767   \n",
       "2       492.68       1574.32              24392                 23783   \n",
       "3       492.40       1556.78              23953                 23344   \n",
       "4       492.54       1565.29              24172                 23563   \n",
       "\n",
       "   percent_full  conservation_capacity  dead_pool_capacity  \n",
       "0          36.8                  23972                 609  \n",
       "1          99.1                  23972                 609  \n",
       "2          99.2                  23972                 609  \n",
       "3          97.4                  23972                 609  \n",
       "4          98.3                  23972                 609  "
      ]
     },
     "execution_count": 102,
     "metadata": {},
     "output_type": "execute_result"
    }
   ],
   "source": [
    "df = pd.read_sql('table', engine)\n",
    "df.head()"
   ]
  },
  {
   "cell_type": "markdown",
   "metadata": {
    "slideshow": {
     "slide_type": "slide"
    }
   },
   "source": [
    "## JSON"
   ]
  },
  {
   "cell_type": "markdown",
   "metadata": {},
   "source": [
    "http://pandas.pydata.org/pandas-docs/stable/io.html#json"
   ]
  },
  {
   "cell_type": "code",
   "execution_count": 103,
   "metadata": {},
   "outputs": [],
   "source": [
    "# Writing to JSON file\n",
    "file_name = \"tmp/exoplanets.json\"\n",
    "clean_tmp(file_name)\n",
    "\n",
    "df.to_json(file_name)"
   ]
  },
  {
   "cell_type": "code",
   "execution_count": 104,
   "metadata": {},
   "outputs": [
    {
     "data": {
      "text/html": [
       "<div>\n",
       "<style scoped>\n",
       "    .dataframe tbody tr th:only-of-type {\n",
       "        vertical-align: middle;\n",
       "    }\n",
       "\n",
       "    .dataframe tbody tr th {\n",
       "        vertical-align: top;\n",
       "    }\n",
       "\n",
       "    .dataframe thead th {\n",
       "        text-align: right;\n",
       "    }\n",
       "</style>\n",
       "<table border=\"1\" class=\"dataframe\">\n",
       "  <thead>\n",
       "    <tr style=\"text-align: right;\">\n",
       "      <th></th>\n",
       "      <th>water_level</th>\n",
       "      <th>surface_area</th>\n",
       "      <th>reservoir_storage</th>\n",
       "      <th>conservation_storage</th>\n",
       "      <th>percent_full</th>\n",
       "      <th>conservation_capacity</th>\n",
       "      <th>dead_pool_capacity</th>\n",
       "    </tr>\n",
       "  </thead>\n",
       "  <tbody>\n",
       "    <tr>\n",
       "      <th>0</th>\n",
       "      <td>480.88</td>\n",
       "      <td>968.23</td>\n",
       "      <td>9426</td>\n",
       "      <td>8817</td>\n",
       "      <td>36.8</td>\n",
       "      <td>23972</td>\n",
       "      <td>609</td>\n",
       "    </tr>\n",
       "    <tr>\n",
       "      <th>1</th>\n",
       "      <td>492.67</td>\n",
       "      <td>1573.66</td>\n",
       "      <td>24376</td>\n",
       "      <td>23767</td>\n",
       "      <td>99.1</td>\n",
       "      <td>23972</td>\n",
       "      <td>609</td>\n",
       "    </tr>\n",
       "    <tr>\n",
       "      <th>2</th>\n",
       "      <td>492.68</td>\n",
       "      <td>1574.32</td>\n",
       "      <td>24392</td>\n",
       "      <td>23783</td>\n",
       "      <td>99.2</td>\n",
       "      <td>23972</td>\n",
       "      <td>609</td>\n",
       "    </tr>\n",
       "    <tr>\n",
       "      <th>3</th>\n",
       "      <td>492.40</td>\n",
       "      <td>1556.78</td>\n",
       "      <td>23953</td>\n",
       "      <td>23344</td>\n",
       "      <td>97.4</td>\n",
       "      <td>23972</td>\n",
       "      <td>609</td>\n",
       "    </tr>\n",
       "    <tr>\n",
       "      <th>4</th>\n",
       "      <td>492.54</td>\n",
       "      <td>1565.29</td>\n",
       "      <td>24172</td>\n",
       "      <td>23563</td>\n",
       "      <td>98.3</td>\n",
       "      <td>23972</td>\n",
       "      <td>609</td>\n",
       "    </tr>\n",
       "  </tbody>\n",
       "</table>\n",
       "</div>"
      ],
      "text/plain": [
       "   water_level  surface_area  reservoir_storage  conservation_storage  \\\n",
       "0       480.88        968.23               9426                  8817   \n",
       "1       492.67       1573.66              24376                 23767   \n",
       "2       492.68       1574.32              24392                 23783   \n",
       "3       492.40       1556.78              23953                 23344   \n",
       "4       492.54       1565.29              24172                 23563   \n",
       "\n",
       "   percent_full  conservation_capacity  dead_pool_capacity  \n",
       "0          36.8                  23972                 609  \n",
       "1          99.1                  23972                 609  \n",
       "2          99.2                  23972                 609  \n",
       "3          97.4                  23972                 609  \n",
       "4          98.3                  23972                 609  "
      ]
     },
     "execution_count": 104,
     "metadata": {},
     "output_type": "execute_result"
    }
   ],
   "source": [
    "# Reading the JSON file results in columns sorted by label\n",
    "\n",
    "file_name = \"tmp/exoplanets.json\"\n",
    "df = pd.read_json(file_name)\n",
    "df.head()"
   ]
  },
  {
   "cell_type": "code",
   "execution_count": 111,
   "metadata": {},
   "outputs": [],
   "source": [
    "pd.read_json?"
   ]
  },
  {
   "cell_type": "markdown",
   "metadata": {
    "slideshow": {
     "slide_type": "slide"
    }
   },
   "source": [
    "## HDF5"
   ]
  },
  {
   "cell_type": "markdown",
   "metadata": {},
   "source": [
    "http://pandas.pydata.org/pandas-docs/stable/io.html#hdf5-pytables"
   ]
  },
  {
   "cell_type": "markdown",
   "metadata": {},
   "source": [
    "`format='table'` is used because its appendable, queryable, and supports all pandas dtypes."
   ]
  },
  {
   "cell_type": "code",
   "execution_count": 105,
   "metadata": {
    "slideshow": {
     "slide_type": "fragment"
    }
   },
   "outputs": [],
   "source": [
    "file_name = \"tmp/exoplanets.hdf\"\n",
    "clean_tmp(file_name)\n",
    "\n",
    "df.to_hdf(file_name,\n",
    "          'df',\n",
    "           mode='w',\n",
    "           format='table',\n",
    "           encoding='utf-8')"
   ]
  },
  {
   "cell_type": "code",
   "execution_count": 106,
   "metadata": {
    "slideshow": {
     "slide_type": "subslide"
    }
   },
   "outputs": [
    {
     "data": {
      "text/html": [
       "<div>\n",
       "<style scoped>\n",
       "    .dataframe tbody tr th:only-of-type {\n",
       "        vertical-align: middle;\n",
       "    }\n",
       "\n",
       "    .dataframe tbody tr th {\n",
       "        vertical-align: top;\n",
       "    }\n",
       "\n",
       "    .dataframe thead th {\n",
       "        text-align: right;\n",
       "    }\n",
       "</style>\n",
       "<table border=\"1\" class=\"dataframe\">\n",
       "  <thead>\n",
       "    <tr style=\"text-align: right;\">\n",
       "      <th></th>\n",
       "      <th>water_level</th>\n",
       "      <th>surface_area</th>\n",
       "      <th>reservoir_storage</th>\n",
       "      <th>conservation_storage</th>\n",
       "      <th>percent_full</th>\n",
       "      <th>conservation_capacity</th>\n",
       "      <th>dead_pool_capacity</th>\n",
       "    </tr>\n",
       "  </thead>\n",
       "  <tbody>\n",
       "    <tr>\n",
       "      <th>0</th>\n",
       "      <td>480.88</td>\n",
       "      <td>968.23</td>\n",
       "      <td>9426</td>\n",
       "      <td>8817</td>\n",
       "      <td>36.8</td>\n",
       "      <td>23972</td>\n",
       "      <td>609</td>\n",
       "    </tr>\n",
       "    <tr>\n",
       "      <th>1</th>\n",
       "      <td>492.67</td>\n",
       "      <td>1573.66</td>\n",
       "      <td>24376</td>\n",
       "      <td>23767</td>\n",
       "      <td>99.1</td>\n",
       "      <td>23972</td>\n",
       "      <td>609</td>\n",
       "    </tr>\n",
       "    <tr>\n",
       "      <th>2</th>\n",
       "      <td>492.68</td>\n",
       "      <td>1574.32</td>\n",
       "      <td>24392</td>\n",
       "      <td>23783</td>\n",
       "      <td>99.2</td>\n",
       "      <td>23972</td>\n",
       "      <td>609</td>\n",
       "    </tr>\n",
       "    <tr>\n",
       "      <th>3</th>\n",
       "      <td>492.40</td>\n",
       "      <td>1556.78</td>\n",
       "      <td>23953</td>\n",
       "      <td>23344</td>\n",
       "      <td>97.4</td>\n",
       "      <td>23972</td>\n",
       "      <td>609</td>\n",
       "    </tr>\n",
       "    <tr>\n",
       "      <th>4</th>\n",
       "      <td>492.54</td>\n",
       "      <td>1565.29</td>\n",
       "      <td>24172</td>\n",
       "      <td>23563</td>\n",
       "      <td>98.3</td>\n",
       "      <td>23972</td>\n",
       "      <td>609</td>\n",
       "    </tr>\n",
       "  </tbody>\n",
       "</table>\n",
       "</div>"
      ],
      "text/plain": [
       "   water_level  surface_area  reservoir_storage  conservation_storage  \\\n",
       "0       480.88        968.23               9426                  8817   \n",
       "1       492.67       1573.66              24376                 23767   \n",
       "2       492.68       1574.32              24392                 23783   \n",
       "3       492.40       1556.78              23953                 23344   \n",
       "4       492.54       1565.29              24172                 23563   \n",
       "\n",
       "   percent_full  conservation_capacity  dead_pool_capacity  \n",
       "0          36.8                  23972                 609  \n",
       "1          99.1                  23972                 609  \n",
       "2          99.2                  23972                 609  \n",
       "3          97.4                  23972                 609  \n",
       "4          98.3                  23972                 609  "
      ]
     },
     "execution_count": 106,
     "metadata": {},
     "output_type": "execute_result"
    }
   ],
   "source": [
    "file_name = \"tmp/exoplanets.hdf\"\n",
    "df = pd.read_hdf(file_name,'df',encoding='utf-8')\n",
    "df.head()"
   ]
  },
  {
   "cell_type": "markdown",
   "metadata": {
    "slideshow": {
     "slide_type": "subslide"
    }
   },
   "source": [
    "## FAQ: File Formats"
   ]
  },
  {
   "cell_type": "markdown",
   "metadata": {},
   "source": [
    "Frequently asked file-format questions, and answers:\n",
    "\n",
    "- which formats provide good fidelity\n",
    "  - hdf5, pickle, msgpack\n",
    "  \n",
    "- which formats can you query\n",
    "  - hdf5, sql\n",
    "  \n",
    "- which formats can you iterate\n",
    "  - csv, hdf5, sql\n",
    "  \n",
    "- which formats provide better interoprability\n",
    "  - csv, json, excel\n",
    "  \n",
    "- which formats can you transmit over the wire\n",
    "  - json, msgpack\n",
    "  \n",
    "- which formats have better compression\n",
    "  - hdf5, pickle, msgpack\n",
    "  \n",
    "- which formats allow multiple datasets in the same file\n",
    "  - hdf5, msgpack"
   ]
  },
  {
   "cell_type": "markdown",
   "metadata": {
    "slideshow": {
     "slide_type": "slide"
    }
   },
   "source": [
    "# Reading Large Data"
   ]
  },
  {
   "cell_type": "markdown",
   "metadata": {},
   "source": [
    "Let's set some expectations for read times for various file formats"
   ]
  },
  {
   "cell_type": "markdown",
   "metadata": {},
   "source": [
    "## Read Performance"
   ]
  },
  {
   "cell_type": "markdown",
   "metadata": {
    "slideshow": {
     "slide_type": "slide"
    }
   },
   "source": [
    "### Timing Reads: Common Formats"
   ]
  },
  {
   "cell_type": "code",
   "execution_count": 107,
   "metadata": {
    "slideshow": {
     "slide_type": "fragment"
    }
   },
   "outputs": [
    {
     "name": "stdout",
     "output_type": "stream",
     "text": [
      "344 ms ± 22.1 ms per loop (mean ± std. dev. of 7 runs, 1 loop each)\n"
     ]
    }
   ],
   "source": [
    "%timeit pd.read_excel('tmp/exoplanets.xls', sheetnames=[0])"
   ]
  },
  {
   "cell_type": "code",
   "execution_count": 108,
   "metadata": {
    "slideshow": {
     "slide_type": "fragment"
    }
   },
   "outputs": [
    {
     "name": "stdout",
     "output_type": "stream",
     "text": [
      "59.9 ms ± 2.71 ms per loop (mean ± std. dev. of 7 runs, 10 loops each)\n"
     ]
    }
   ],
   "source": [
    "%timeit pd.read_sql('table', engine)"
   ]
  },
  {
   "cell_type": "code",
   "execution_count": 109,
   "metadata": {
    "slideshow": {
     "slide_type": "fragment"
    }
   },
   "outputs": [
    {
     "name": "stdout",
     "output_type": "stream",
     "text": [
      "64.6 ms ± 1.83 ms per loop (mean ± std. dev. of 7 runs, 10 loops each)\n"
     ]
    }
   ],
   "source": [
    "%timeit pd.read_json('tmp/exoplanets.json')"
   ]
  },
  {
   "cell_type": "code",
   "execution_count": 110,
   "metadata": {
    "slideshow": {
     "slide_type": "fragment"
    }
   },
   "outputs": [
    {
     "name": "stdout",
     "output_type": "stream",
     "text": [
      "9.84 ms ± 498 µs per loop (mean ± std. dev. of 7 runs, 100 loops each)\n"
     ]
    }
   ],
   "source": [
    "%timeit pd.read_csv('tmp/exoplanets.csv', parse_dates=['DATE'])"
   ]
  },
  {
   "cell_type": "code",
   "execution_count": 111,
   "metadata": {
    "slideshow": {
     "slide_type": "fragment"
    }
   },
   "outputs": [
    {
     "name": "stdout",
     "output_type": "stream",
     "text": [
      "11.9 ms ± 94.7 µs per loop (mean ± std. dev. of 7 runs, 100 loops each)\n"
     ]
    }
   ],
   "source": [
    "%timeit pd.read_hdf('tmp/exoplanets.hdf','df')"
   ]
  },
  {
   "cell_type": "markdown",
   "metadata": {},
   "source": [
    "### Timing Reads: Pickle and MSGPack"
   ]
  },
  {
   "cell_type": "code",
   "execution_count": 113,
   "metadata": {
    "slideshow": {
     "slide_type": "subslide"
    }
   },
   "outputs": [],
   "source": [
    "df.to_pickle('tmp/exoplanets.pkl')\n",
    "#df.to_msgpack('tmp/exoplanets.msgpack',encoding='utf-8')"
   ]
  },
  {
   "cell_type": "code",
   "execution_count": 114,
   "metadata": {
    "slideshow": {
     "slide_type": "fragment"
    }
   },
   "outputs": [
    {
     "name": "stdout",
     "output_type": "stream",
     "text": [
      "1.03 ms ± 65.9 µs per loop (mean ± std. dev. of 7 runs, 1000 loops each)\n"
     ]
    }
   ],
   "source": [
    "%timeit pd.read_pickle('tmp/exoplanets.pkl')"
   ]
  },
  {
   "cell_type": "code",
   "execution_count": 116,
   "metadata": {
    "slideshow": {
     "slide_type": "fragment"
    }
   },
   "outputs": [],
   "source": [
    "#%timeit pd.read_msgpack('tmp/exoplanets.msgpack', encoding='utf-8')"
   ]
  },
  {
   "cell_type": "markdown",
   "metadata": {},
   "source": [
    "## Reading Compressed Data"
   ]
  },
  {
   "cell_type": "markdown",
   "metadata": {},
   "source": [
    "You may encounter compressed data files, e.g. ZIP or TAR.\n",
    "\n",
    "Here we deomstrate some simple strategies for handling compressed data."
   ]
  },
  {
   "cell_type": "markdown",
   "metadata": {},
   "source": [
    "# Cleaning Temporary Files"
   ]
  },
  {
   "cell_type": "markdown",
   "metadata": {},
   "source": [
    "Example: clean up tmp files created in this notebook"
   ]
  },
  {
   "cell_type": "code",
   "execution_count": 117,
   "metadata": {},
   "outputs": [],
   "source": [
    "# Always check for existence before removing\n",
    "if os.path.exists(\"tmp\"):\n",
    "    os.listdir(\"tmp\")"
   ]
  },
  {
   "cell_type": "code",
   "execution_count": 118,
   "metadata": {},
   "outputs": [],
   "source": [
    "# Build a list of files inside, remove each one by one, then remove the dir\n",
    "if os.path.exists(\"tmp\"):\n",
    "    file_list = os.listdir(\"tmp\")\n",
    "    for file in file_list:\n",
    "        clean_tmp(os.path.join(\"tmp\", file))\n",
    "    os.rmdir(\"tmp\")"
   ]
  },
  {
   "cell_type": "markdown",
   "metadata": {},
   "source": [
    "***"
   ]
  },
  {
   "cell_type": "markdown",
   "metadata": {},
   "source": [
    "# Pandas: Examing Data"
   ]
  },
  {
   "cell_type": "markdown",
   "metadata": {},
   "source": [
    "## Set-Up"
   ]
  },
  {
   "cell_type": "code",
   "execution_count": 119,
   "metadata": {},
   "outputs": [
    {
     "data": {
      "text/plain": [
       "'1.0.5'"
      ]
     },
     "execution_count": 119,
     "metadata": {},
     "output_type": "execute_result"
    }
   ],
   "source": [
    "# Import modules needed for this lesson\n",
    "import pandas as pd\n",
    "\n",
    "# Set Jupyter notebook display options\n",
    "pd.options.display.max_rows = 6\n",
    "pd.options.display.max_columns = 8\n",
    "pd.options.display.width = 100\n",
    "\n",
    "# Test the version of pandas: it should be 0.16 or greater\n",
    "pd.__version__"
   ]
  },
  {
   "cell_type": "code",
   "execution_count": 120,
   "metadata": {},
   "outputs": [
    {
     "name": "stdout",
     "output_type": "stream",
     "text": [
      "Hello world\n"
     ]
    }
   ],
   "source": [
    "print(\"Hello world\")"
   ]
  },
  {
   "cell_type": "markdown",
   "metadata": {},
   "source": [
    "***"
   ]
  },
  {
   "cell_type": "markdown",
   "metadata": {},
   "source": [
    "# Examining Columns"
   ]
  },
  {
   "cell_type": "markdown",
   "metadata": {},
   "source": [
    "## Read Data into a DataFrame"
   ]
  },
  {
   "cell_type": "markdown",
   "metadata": {},
   "source": [
    "CSV files, being tabular data, have a natural mapping into Pandas DataFrames. \n",
    "* Here we read in beer reviews from beeradvocate.com, via [Stanford SNAP](https://snap.stanford.edu/data/web-BeerAdvocate.html). \n",
    "* Pandas can tell if a file is zipped, and will unzip in memory."
   ]
  },
  {
   "cell_type": "code",
   "execution_count": 121,
   "metadata": {},
   "outputs": [],
   "source": [
    "df = pd.read_csv('data/beer2.csv.gz',\n",
    "                  index_col=0,\n",
    "                  parse_dates=['time'])"
   ]
  },
  {
   "cell_type": "code",
   "execution_count": 122,
   "metadata": {
    "scrolled": false
   },
   "outputs": [
    {
     "data": {
      "text/html": [
       "<div>\n",
       "<style scoped>\n",
       "    .dataframe tbody tr th:only-of-type {\n",
       "        vertical-align: middle;\n",
       "    }\n",
       "\n",
       "    .dataframe tbody tr th {\n",
       "        vertical-align: top;\n",
       "    }\n",
       "\n",
       "    .dataframe thead th {\n",
       "        text-align: right;\n",
       "    }\n",
       "</style>\n",
       "<table border=\"1\" class=\"dataframe\">\n",
       "  <thead>\n",
       "    <tr style=\"text-align: right;\">\n",
       "      <th></th>\n",
       "      <th>abv</th>\n",
       "      <th>beer_id</th>\n",
       "      <th>brewer_id</th>\n",
       "      <th>beer_name</th>\n",
       "      <th>...</th>\n",
       "      <th>profile_name</th>\n",
       "      <th>review_taste</th>\n",
       "      <th>text</th>\n",
       "      <th>time</th>\n",
       "    </tr>\n",
       "  </thead>\n",
       "  <tbody>\n",
       "    <tr>\n",
       "      <th>0</th>\n",
       "      <td>7.0</td>\n",
       "      <td>2511</td>\n",
       "      <td>287</td>\n",
       "      <td>Bell's Cherry Stout</td>\n",
       "      <td>...</td>\n",
       "      <td>blaheath</td>\n",
       "      <td>4.5</td>\n",
       "      <td>Batch 8144\\tPitch black in color with a 1/2 f...</td>\n",
       "      <td>2009-10-05 21:31:48</td>\n",
       "    </tr>\n",
       "    <tr>\n",
       "      <th>1</th>\n",
       "      <td>5.7</td>\n",
       "      <td>19736</td>\n",
       "      <td>9790</td>\n",
       "      <td>Duck-Rabbit Porter</td>\n",
       "      <td>...</td>\n",
       "      <td>GJ40</td>\n",
       "      <td>4.0</td>\n",
       "      <td>Sampled from a 12oz bottle in a standard pint...</td>\n",
       "      <td>2009-10-05 21:32:09</td>\n",
       "    </tr>\n",
       "    <tr>\n",
       "      <th>2</th>\n",
       "      <td>4.8</td>\n",
       "      <td>11098</td>\n",
       "      <td>3182</td>\n",
       "      <td>Fürstenberg Premium Pilsener</td>\n",
       "      <td>...</td>\n",
       "      <td>biegaman</td>\n",
       "      <td>3.5</td>\n",
       "      <td>Haystack yellow with an energetic group of bu...</td>\n",
       "      <td>2009-10-05 21:32:13</td>\n",
       "    </tr>\n",
       "    <tr>\n",
       "      <th>3</th>\n",
       "      <td>9.5</td>\n",
       "      <td>28577</td>\n",
       "      <td>3818</td>\n",
       "      <td>Unearthly (Imperial India Pale Ale)</td>\n",
       "      <td>...</td>\n",
       "      <td>nick76</td>\n",
       "      <td>4.0</td>\n",
       "      <td>The aroma has pine, wood, citrus, caramel, an...</td>\n",
       "      <td>2009-10-05 21:32:37</td>\n",
       "    </tr>\n",
       "    <tr>\n",
       "      <th>4</th>\n",
       "      <td>5.8</td>\n",
       "      <td>398</td>\n",
       "      <td>119</td>\n",
       "      <td>Wolaver's Pale Ale</td>\n",
       "      <td>...</td>\n",
       "      <td>champ103</td>\n",
       "      <td>3.0</td>\n",
       "      <td>A: Pours a slightly hazy golden/orange color....</td>\n",
       "      <td>2009-10-05 21:33:14</td>\n",
       "    </tr>\n",
       "  </tbody>\n",
       "</table>\n",
       "<p>5 rows × 13 columns</p>\n",
       "</div>"
      ],
      "text/plain": [
       "   abv  beer_id  brewer_id                            beer_name  ... profile_name  review_taste  \\\n",
       "0  7.0     2511        287                  Bell's Cherry Stout  ...     blaheath           4.5   \n",
       "1  5.7    19736       9790                   Duck-Rabbit Porter  ...         GJ40           4.0   \n",
       "2  4.8    11098       3182         Fürstenberg Premium Pilsener  ...     biegaman           3.5   \n",
       "3  9.5    28577       3818  Unearthly (Imperial India Pale Ale)  ...       nick76           4.0   \n",
       "4  5.8      398        119                   Wolaver's Pale Ale  ...     champ103           3.0   \n",
       "\n",
       "                                                text                time  \n",
       "0   Batch 8144\\tPitch black in color with a 1/2 f... 2009-10-05 21:31:48  \n",
       "1   Sampled from a 12oz bottle in a standard pint... 2009-10-05 21:32:09  \n",
       "2   Haystack yellow with an energetic group of bu... 2009-10-05 21:32:13  \n",
       "3   The aroma has pine, wood, citrus, caramel, an... 2009-10-05 21:32:37  \n",
       "4   A: Pours a slightly hazy golden/orange color.... 2009-10-05 21:33:14  \n",
       "\n",
       "[5 rows x 13 columns]"
      ]
     },
     "execution_count": 122,
     "metadata": {},
     "output_type": "execute_result"
    }
   ],
   "source": [
    "df.head()"
   ]
  },
  {
   "cell_type": "markdown",
   "metadata": {},
   "source": [
    "Pandas provides useful inpsection tools to help understand the dtypes that were generated for each column. \n",
    "\n",
    "Notice that some columns do not have 50,000 *non-null* values."
   ]
  },
  {
   "cell_type": "code",
   "execution_count": 123,
   "metadata": {},
   "outputs": [
    {
     "name": "stdout",
     "output_type": "stream",
     "text": [
      "<class 'pandas.core.frame.DataFrame'>\n",
      "Int64Index: 50000 entries, 0 to 49999\n",
      "Data columns (total 13 columns):\n",
      " #   Column             Non-Null Count  Dtype         \n",
      "---  ------             --------------  -----         \n",
      " 0   abv                48389 non-null  float64       \n",
      " 1   beer_id            50000 non-null  int64         \n",
      " 2   brewer_id          50000 non-null  int64         \n",
      " 3   beer_name          50000 non-null  object        \n",
      " 4   beer_style         50000 non-null  object        \n",
      " 5   review_appearance  50000 non-null  float64       \n",
      " 6   review_aroma       50000 non-null  float64       \n",
      " 7   review_overall     50000 non-null  float64       \n",
      " 8   review_palate      50000 non-null  float64       \n",
      " 9   profile_name       50000 non-null  object        \n",
      " 10  review_taste       50000 non-null  float64       \n",
      " 11  text               49991 non-null  object        \n",
      " 12  time               50000 non-null  datetime64[ns]\n",
      "dtypes: datetime64[ns](1), float64(6), int64(2), object(4)\n",
      "memory usage: 5.3+ MB\n"
     ]
    }
   ],
   "source": [
    "# Notice the column (1) names, (2) number of non-null, (3) dtype, (4) memory usage\n",
    "df.info()"
   ]
  },
  {
   "cell_type": "code",
   "execution_count": 124,
   "metadata": {},
   "outputs": [
    {
     "data": {
      "text/html": [
       "<div>\n",
       "<style scoped>\n",
       "    .dataframe tbody tr th:only-of-type {\n",
       "        vertical-align: middle;\n",
       "    }\n",
       "\n",
       "    .dataframe tbody tr th {\n",
       "        vertical-align: top;\n",
       "    }\n",
       "\n",
       "    .dataframe thead th {\n",
       "        text-align: right;\n",
       "    }\n",
       "</style>\n",
       "<table border=\"1\" class=\"dataframe\">\n",
       "  <thead>\n",
       "    <tr style=\"text-align: right;\">\n",
       "      <th></th>\n",
       "      <th>abv</th>\n",
       "      <th>beer_id</th>\n",
       "      <th>brewer_id</th>\n",
       "      <th>review_appearance</th>\n",
       "      <th>review_aroma</th>\n",
       "      <th>review_overall</th>\n",
       "      <th>review_palate</th>\n",
       "      <th>review_taste</th>\n",
       "    </tr>\n",
       "  </thead>\n",
       "  <tbody>\n",
       "    <tr>\n",
       "      <th>count</th>\n",
       "      <td>48389.000000</td>\n",
       "      <td>50000.000000</td>\n",
       "      <td>50000.000000</td>\n",
       "      <td>50000.000000</td>\n",
       "      <td>50000.000000</td>\n",
       "      <td>50000.00000</td>\n",
       "      <td>50000.000000</td>\n",
       "      <td>50000.000000</td>\n",
       "    </tr>\n",
       "    <tr>\n",
       "      <th>mean</th>\n",
       "      <td>7.232406</td>\n",
       "      <td>25379.008540</td>\n",
       "      <td>3505.655420</td>\n",
       "      <td>3.874010</td>\n",
       "      <td>3.778880</td>\n",
       "      <td>3.84982</td>\n",
       "      <td>3.778840</td>\n",
       "      <td>3.832480</td>\n",
       "    </tr>\n",
       "    <tr>\n",
       "      <th>std</th>\n",
       "      <td>2.387132</td>\n",
       "      <td>20600.374872</td>\n",
       "      <td>5696.746136</td>\n",
       "      <td>0.596153</td>\n",
       "      <td>0.677396</td>\n",
       "      <td>0.70716</td>\n",
       "      <td>0.660929</td>\n",
       "      <td>0.711728</td>\n",
       "    </tr>\n",
       "    <tr>\n",
       "      <th>...</th>\n",
       "      <td>...</td>\n",
       "      <td>...</td>\n",
       "      <td>...</td>\n",
       "      <td>...</td>\n",
       "      <td>...</td>\n",
       "      <td>...</td>\n",
       "      <td>...</td>\n",
       "      <td>...</td>\n",
       "    </tr>\n",
       "    <tr>\n",
       "      <th>50%</th>\n",
       "      <td>6.700000</td>\n",
       "      <td>25880.000000</td>\n",
       "      <td>583.000000</td>\n",
       "      <td>4.000000</td>\n",
       "      <td>4.000000</td>\n",
       "      <td>4.00000</td>\n",
       "      <td>4.000000</td>\n",
       "      <td>4.000000</td>\n",
       "    </tr>\n",
       "    <tr>\n",
       "      <th>75%</th>\n",
       "      <td>8.600000</td>\n",
       "      <td>46302.000000</td>\n",
       "      <td>3694.000000</td>\n",
       "      <td>4.000000</td>\n",
       "      <td>4.000000</td>\n",
       "      <td>4.50000</td>\n",
       "      <td>4.000000</td>\n",
       "      <td>4.500000</td>\n",
       "    </tr>\n",
       "    <tr>\n",
       "      <th>max</th>\n",
       "      <td>27.000000</td>\n",
       "      <td>68386.000000</td>\n",
       "      <td>27039.000000</td>\n",
       "      <td>5.000000</td>\n",
       "      <td>5.000000</td>\n",
       "      <td>5.00000</td>\n",
       "      <td>5.000000</td>\n",
       "      <td>5.000000</td>\n",
       "    </tr>\n",
       "  </tbody>\n",
       "</table>\n",
       "<p>8 rows × 8 columns</p>\n",
       "</div>"
      ],
      "text/plain": [
       "                abv       beer_id     brewer_id  review_appearance  review_aroma  review_overall  \\\n",
       "count  48389.000000  50000.000000  50000.000000       50000.000000  50000.000000     50000.00000   \n",
       "mean       7.232406  25379.008540   3505.655420           3.874010      3.778880         3.84982   \n",
       "std        2.387132  20600.374872   5696.746136           0.596153      0.677396         0.70716   \n",
       "...             ...           ...           ...                ...           ...             ...   \n",
       "50%        6.700000  25880.000000    583.000000           4.000000      4.000000         4.00000   \n",
       "75%        8.600000  46302.000000   3694.000000           4.000000      4.000000         4.50000   \n",
       "max       27.000000  68386.000000  27039.000000           5.000000      5.000000         5.00000   \n",
       "\n",
       "       review_palate  review_taste  \n",
       "count   50000.000000  50000.000000  \n",
       "mean        3.778840      3.832480  \n",
       "std         0.660929      0.711728  \n",
       "...              ...           ...  \n",
       "50%         4.000000      4.000000  \n",
       "75%         4.000000      4.500000  \n",
       "max         5.000000      5.000000  \n",
       "\n",
       "[8 rows x 8 columns]"
      ]
     },
     "execution_count": 124,
     "metadata": {},
     "output_type": "execute_result"
    }
   ],
   "source": [
    "# Summary statistics, using the built-in .describe() method\n",
    "\n",
    "df.describe()"
   ]
  },
  {
   "cell_type": "markdown",
   "metadata": {},
   "source": [
    "## Column selection"
   ]
  },
  {
   "cell_type": "markdown",
   "metadata": {},
   "source": [
    "A variety of column operations are available"
   ]
  },
  {
   "cell_type": "code",
   "execution_count": 125,
   "metadata": {},
   "outputs": [
    {
     "name": "stdout",
     "output_type": "stream",
     "text": [
      "Index(['abv', 'beer_id', 'brewer_id', 'beer_name', 'beer_style', 'review_appearance',\n",
      "       'review_aroma', 'review_overall', 'review_palate', 'profile_name', 'review_taste', 'text',\n",
      "       'time'],\n",
      "      dtype='object')\n"
     ]
    }
   ],
   "source": [
    "# The column names, as an Index object\n",
    "print( df.columns )"
   ]
  },
  {
   "cell_type": "code",
   "execution_count": 126,
   "metadata": {},
   "outputs": [
    {
     "data": {
      "text/plain": [
       "['abv',\n",
       " 'beer_id',\n",
       " 'brewer_id',\n",
       " 'beer_name',\n",
       " 'beer_style',\n",
       " 'review_appearance',\n",
       " 'review_aroma',\n",
       " 'review_overall',\n",
       " 'review_palate',\n",
       " 'profile_name',\n",
       " 'review_taste',\n",
       " 'text',\n",
       " 'time']"
      ]
     },
     "execution_count": 126,
     "metadata": {},
     "output_type": "execute_result"
    }
   ],
   "source": [
    "# The column labels can be converted to list of strings\n",
    "\n",
    "list(df.columns)"
   ]
  },
  {
   "cell_type": "markdown",
   "metadata": {},
   "source": [
    "Columns in a pandas DataFrame can be accessed using the .attribute method"
   ]
  },
  {
   "cell_type": "code",
   "execution_count": 127,
   "metadata": {},
   "outputs": [
    {
     "data": {
      "text/plain": [
       "0                          American Stout\n",
       "1                         American Porter\n",
       "2                         German Pilsener\n",
       "                       ...               \n",
       "49997    American Double / Imperial Stout\n",
       "49998                    English Pale Ale\n",
       "49999              Russian Imperial Stout\n",
       "Name: beer_style, Length: 50000, dtype: object"
      ]
     },
     "execution_count": 127,
     "metadata": {},
     "output_type": "execute_result"
    }
   ],
   "source": [
    "# View column data using .attribute, column label\n",
    "\n",
    "df.beer_style"
   ]
  },
  {
   "cell_type": "markdown",
   "metadata": {},
   "source": [
    "Or with dictionary-like key selection"
   ]
  },
  {
   "cell_type": "code",
   "execution_count": 128,
   "metadata": {},
   "outputs": [
    {
     "data": {
      "text/plain": [
       "0                          American Stout\n",
       "1                         American Porter\n",
       "2                         German Pilsener\n",
       "                       ...               \n",
       "49997    American Double / Imperial Stout\n",
       "49998                    English Pale Ale\n",
       "49999              Russian Imperial Stout\n",
       "Name: beer_style, Length: 50000, dtype: object"
      ]
     },
     "execution_count": 128,
     "metadata": {},
     "output_type": "execute_result"
    }
   ],
   "source": [
    "# View column data using [bracket], column label string\n",
    "\n",
    "df['beer_style']"
   ]
  },
  {
   "cell_type": "markdown",
   "metadata": {},
   "source": [
    "A single column (**Series**) can be selected using the column name as an attribute (or accessor) of the **DataFrame** object."
   ]
  },
  {
   "cell_type": "code",
   "execution_count": 129,
   "metadata": {},
   "outputs": [
    {
     "name": "stdout",
     "output_type": "stream",
     "text": [
      "<class 'pandas.core.series.Series'>\n"
     ]
    }
   ],
   "source": [
    "beer_series = df.beer_name\n",
    "print( type(beer_series) )"
   ]
  },
  {
   "cell_type": "code",
   "execution_count": 130,
   "metadata": {},
   "outputs": [
    {
     "data": {
      "text/plain": [
       "0                    Bell's Cherry Stout\n",
       "1                     Duck-Rabbit Porter\n",
       "2           Fürstenberg Premium Pilsener\n",
       "3    Unearthly (Imperial India Pale Ale)\n",
       "4                     Wolaver's Pale Ale\n",
       "Name: beer_name, dtype: object"
      ]
     },
     "execution_count": 130,
     "metadata": {},
     "output_type": "execute_result"
    }
   ],
   "source": [
    "beer_series.head()"
   ]
  },
  {
   "cell_type": "markdown",
   "metadata": {},
   "source": [
    "## Dropping and Adding Columns"
   ]
  },
  {
   "cell_type": "code",
   "execution_count": 131,
   "metadata": {},
   "outputs": [
    {
     "data": {
      "text/html": [
       "<div>\n",
       "<style scoped>\n",
       "    .dataframe tbody tr th:only-of-type {\n",
       "        vertical-align: middle;\n",
       "    }\n",
       "\n",
       "    .dataframe tbody tr th {\n",
       "        vertical-align: top;\n",
       "    }\n",
       "\n",
       "    .dataframe thead th {\n",
       "        text-align: right;\n",
       "    }\n",
       "</style>\n",
       "<table border=\"1\" class=\"dataframe\">\n",
       "  <thead>\n",
       "    <tr style=\"text-align: right;\">\n",
       "      <th></th>\n",
       "      <th>abv</th>\n",
       "      <th>beer_id</th>\n",
       "      <th>brewer_id</th>\n",
       "      <th>beer_name</th>\n",
       "      <th>...</th>\n",
       "      <th>profile_name</th>\n",
       "      <th>review_taste</th>\n",
       "      <th>text</th>\n",
       "      <th>time</th>\n",
       "    </tr>\n",
       "  </thead>\n",
       "  <tbody>\n",
       "    <tr>\n",
       "      <th>0</th>\n",
       "      <td>7.0</td>\n",
       "      <td>2511</td>\n",
       "      <td>287</td>\n",
       "      <td>Bell's Cherry Stout</td>\n",
       "      <td>...</td>\n",
       "      <td>blaheath</td>\n",
       "      <td>4.5</td>\n",
       "      <td>Batch 8144\\tPitch black in color with a 1/2 f...</td>\n",
       "      <td>2009-10-05 21:31:48</td>\n",
       "    </tr>\n",
       "    <tr>\n",
       "      <th>1</th>\n",
       "      <td>5.7</td>\n",
       "      <td>19736</td>\n",
       "      <td>9790</td>\n",
       "      <td>Duck-Rabbit Porter</td>\n",
       "      <td>...</td>\n",
       "      <td>GJ40</td>\n",
       "      <td>4.0</td>\n",
       "      <td>Sampled from a 12oz bottle in a standard pint...</td>\n",
       "      <td>2009-10-05 21:32:09</td>\n",
       "    </tr>\n",
       "    <tr>\n",
       "      <th>2</th>\n",
       "      <td>4.8</td>\n",
       "      <td>11098</td>\n",
       "      <td>3182</td>\n",
       "      <td>Fürstenberg Premium Pilsener</td>\n",
       "      <td>...</td>\n",
       "      <td>biegaman</td>\n",
       "      <td>3.5</td>\n",
       "      <td>Haystack yellow with an energetic group of bu...</td>\n",
       "      <td>2009-10-05 21:32:13</td>\n",
       "    </tr>\n",
       "  </tbody>\n",
       "</table>\n",
       "<p>3 rows × 13 columns</p>\n",
       "</div>"
      ],
      "text/plain": [
       "   abv  beer_id  brewer_id                     beer_name  ... profile_name  review_taste  \\\n",
       "0  7.0     2511        287           Bell's Cherry Stout  ...     blaheath           4.5   \n",
       "1  5.7    19736       9790            Duck-Rabbit Porter  ...         GJ40           4.0   \n",
       "2  4.8    11098       3182  Fürstenberg Premium Pilsener  ...     biegaman           3.5   \n",
       "\n",
       "                                                text                time  \n",
       "0   Batch 8144\\tPitch black in color with a 1/2 f... 2009-10-05 21:31:48  \n",
       "1   Sampled from a 12oz bottle in a standard pint... 2009-10-05 21:32:09  \n",
       "2   Haystack yellow with an energetic group of bu... 2009-10-05 21:32:13  \n",
       "\n",
       "[3 rows x 13 columns]"
      ]
     },
     "execution_count": 131,
     "metadata": {},
     "output_type": "execute_result"
    }
   ],
   "source": [
    "df.head(3)"
   ]
  },
  {
   "cell_type": "code",
   "execution_count": 132,
   "metadata": {},
   "outputs": [
    {
     "data": {
      "text/html": [
       "<div>\n",
       "<style scoped>\n",
       "    .dataframe tbody tr th:only-of-type {\n",
       "        vertical-align: middle;\n",
       "    }\n",
       "\n",
       "    .dataframe tbody tr th {\n",
       "        vertical-align: top;\n",
       "    }\n",
       "\n",
       "    .dataframe thead th {\n",
       "        text-align: right;\n",
       "    }\n",
       "</style>\n",
       "<table border=\"1\" class=\"dataframe\">\n",
       "  <thead>\n",
       "    <tr style=\"text-align: right;\">\n",
       "      <th></th>\n",
       "      <th>abv</th>\n",
       "      <th>beer_id</th>\n",
       "      <th>brewer_id</th>\n",
       "      <th>beer_name</th>\n",
       "      <th>...</th>\n",
       "      <th>review_taste</th>\n",
       "      <th>text</th>\n",
       "      <th>time</th>\n",
       "      <th>alcohol</th>\n",
       "    </tr>\n",
       "  </thead>\n",
       "  <tbody>\n",
       "    <tr>\n",
       "      <th>0</th>\n",
       "      <td>7.0</td>\n",
       "      <td>2511</td>\n",
       "      <td>287</td>\n",
       "      <td>Bell's Cherry Stout</td>\n",
       "      <td>...</td>\n",
       "      <td>4.5</td>\n",
       "      <td>Batch 8144\\tPitch black in color with a 1/2 f...</td>\n",
       "      <td>2009-10-05 21:31:48</td>\n",
       "      <td>0.0</td>\n",
       "    </tr>\n",
       "    <tr>\n",
       "      <th>1</th>\n",
       "      <td>5.7</td>\n",
       "      <td>19736</td>\n",
       "      <td>9790</td>\n",
       "      <td>Duck-Rabbit Porter</td>\n",
       "      <td>...</td>\n",
       "      <td>4.0</td>\n",
       "      <td>Sampled from a 12oz bottle in a standard pint...</td>\n",
       "      <td>2009-10-05 21:32:09</td>\n",
       "      <td>0.0</td>\n",
       "    </tr>\n",
       "    <tr>\n",
       "      <th>2</th>\n",
       "      <td>4.8</td>\n",
       "      <td>11098</td>\n",
       "      <td>3182</td>\n",
       "      <td>Fürstenberg Premium Pilsener</td>\n",
       "      <td>...</td>\n",
       "      <td>3.5</td>\n",
       "      <td>Haystack yellow with an energetic group of bu...</td>\n",
       "      <td>2009-10-05 21:32:13</td>\n",
       "      <td>0.0</td>\n",
       "    </tr>\n",
       "  </tbody>\n",
       "</table>\n",
       "<p>3 rows × 14 columns</p>\n",
       "</div>"
      ],
      "text/plain": [
       "   abv  beer_id  brewer_id                     beer_name  ... review_taste  \\\n",
       "0  7.0     2511        287           Bell's Cherry Stout  ...          4.5   \n",
       "1  5.7    19736       9790            Duck-Rabbit Porter  ...          4.0   \n",
       "2  4.8    11098       3182  Fürstenberg Premium Pilsener  ...          3.5   \n",
       "\n",
       "                                                text                time  alcohol  \n",
       "0   Batch 8144\\tPitch black in color with a 1/2 f... 2009-10-05 21:31:48      0.0  \n",
       "1   Sampled from a 12oz bottle in a standard pint... 2009-10-05 21:32:09      0.0  \n",
       "2   Haystack yellow with an energetic group of bu... 2009-10-05 21:32:13      0.0  \n",
       "\n",
       "[3 rows x 14 columns]"
      ]
     },
     "execution_count": 132,
     "metadata": {},
     "output_type": "execute_result"
    }
   ],
   "source": [
    "# Adding a new column\n",
    "\n",
    "df['alcohol'] = 0.0\n",
    "df.head(3)"
   ]
  },
  {
   "cell_type": "code",
   "execution_count": 133,
   "metadata": {},
   "outputs": [
    {
     "name": "stdout",
     "output_type": "stream",
     "text": [
      "<class 'pandas.core.frame.DataFrame'>\n",
      "Int64Index: 50000 entries, 0 to 49999\n",
      "Data columns (total 14 columns):\n",
      " #   Column             Non-Null Count  Dtype         \n",
      "---  ------             --------------  -----         \n",
      " 0   abv                48389 non-null  float64       \n",
      " 1   beer_id            50000 non-null  int64         \n",
      " 2   brewer_id          50000 non-null  int64         \n",
      " 3   beer_name          50000 non-null  object        \n",
      " 4   beer_style         50000 non-null  object        \n",
      " 5   review_appearance  50000 non-null  float64       \n",
      " 6   review_aroma       50000 non-null  float64       \n",
      " 7   review_overall     50000 non-null  float64       \n",
      " 8   review_palate      50000 non-null  float64       \n",
      " 9   profile_name       50000 non-null  object        \n",
      " 10  review_taste       50000 non-null  float64       \n",
      " 11  text               49991 non-null  object        \n",
      " 12  time               50000 non-null  datetime64[ns]\n",
      " 13  alcohol            50000 non-null  float64       \n",
      "dtypes: datetime64[ns](1), float64(7), int64(2), object(4)\n",
      "memory usage: 5.7+ MB\n"
     ]
    }
   ],
   "source": [
    "df.info()"
   ]
  },
  {
   "cell_type": "markdown",
   "metadata": {},
   "source": [
    "Over-writing one column with another"
   ]
  },
  {
   "cell_type": "code",
   "execution_count": 134,
   "metadata": {},
   "outputs": [
    {
     "data": {
      "text/html": [
       "<div>\n",
       "<style scoped>\n",
       "    .dataframe tbody tr th:only-of-type {\n",
       "        vertical-align: middle;\n",
       "    }\n",
       "\n",
       "    .dataframe tbody tr th {\n",
       "        vertical-align: top;\n",
       "    }\n",
       "\n",
       "    .dataframe thead th {\n",
       "        text-align: right;\n",
       "    }\n",
       "</style>\n",
       "<table border=\"1\" class=\"dataframe\">\n",
       "  <thead>\n",
       "    <tr style=\"text-align: right;\">\n",
       "      <th></th>\n",
       "      <th>abv</th>\n",
       "      <th>beer_id</th>\n",
       "      <th>brewer_id</th>\n",
       "      <th>beer_name</th>\n",
       "      <th>...</th>\n",
       "      <th>review_taste</th>\n",
       "      <th>text</th>\n",
       "      <th>time</th>\n",
       "      <th>alcohol</th>\n",
       "    </tr>\n",
       "  </thead>\n",
       "  <tbody>\n",
       "    <tr>\n",
       "      <th>0</th>\n",
       "      <td>7.0</td>\n",
       "      <td>2511</td>\n",
       "      <td>287</td>\n",
       "      <td>Bell's Cherry Stout</td>\n",
       "      <td>...</td>\n",
       "      <td>4.5</td>\n",
       "      <td>Batch 8144\\tPitch black in color with a 1/2 f...</td>\n",
       "      <td>2009-10-05 21:31:48</td>\n",
       "      <td>7.0</td>\n",
       "    </tr>\n",
       "    <tr>\n",
       "      <th>1</th>\n",
       "      <td>5.7</td>\n",
       "      <td>19736</td>\n",
       "      <td>9790</td>\n",
       "      <td>Duck-Rabbit Porter</td>\n",
       "      <td>...</td>\n",
       "      <td>4.0</td>\n",
       "      <td>Sampled from a 12oz bottle in a standard pint...</td>\n",
       "      <td>2009-10-05 21:32:09</td>\n",
       "      <td>5.7</td>\n",
       "    </tr>\n",
       "    <tr>\n",
       "      <th>2</th>\n",
       "      <td>4.8</td>\n",
       "      <td>11098</td>\n",
       "      <td>3182</td>\n",
       "      <td>Fürstenberg Premium Pilsener</td>\n",
       "      <td>...</td>\n",
       "      <td>3.5</td>\n",
       "      <td>Haystack yellow with an energetic group of bu...</td>\n",
       "      <td>2009-10-05 21:32:13</td>\n",
       "      <td>4.8</td>\n",
       "    </tr>\n",
       "    <tr>\n",
       "      <th>...</th>\n",
       "      <td>...</td>\n",
       "      <td>...</td>\n",
       "      <td>...</td>\n",
       "      <td>...</td>\n",
       "      <td>...</td>\n",
       "      <td>...</td>\n",
       "      <td>...</td>\n",
       "      <td>...</td>\n",
       "      <td>...</td>\n",
       "    </tr>\n",
       "    <tr>\n",
       "      <th>49997</th>\n",
       "      <td>8.1</td>\n",
       "      <td>21950</td>\n",
       "      <td>2372</td>\n",
       "      <td>Terrapin Coffee Oatmeal Imperial Stout</td>\n",
       "      <td>...</td>\n",
       "      <td>4.5</td>\n",
       "      <td>Poured a light sucking crude oil beckoning bl...</td>\n",
       "      <td>2009-12-25 17:23:52</td>\n",
       "      <td>8.1</td>\n",
       "    </tr>\n",
       "    <tr>\n",
       "      <th>49998</th>\n",
       "      <td>4.6</td>\n",
       "      <td>5453</td>\n",
       "      <td>1306</td>\n",
       "      <td>Badger Original Ale</td>\n",
       "      <td>...</td>\n",
       "      <td>3.5</td>\n",
       "      <td>500ml brown bottle, 4.0% ABV. Pours a crystal...</td>\n",
       "      <td>2009-12-25 17:25:06</td>\n",
       "      <td>4.6</td>\n",
       "    </tr>\n",
       "    <tr>\n",
       "      <th>49999</th>\n",
       "      <td>9.4</td>\n",
       "      <td>47695</td>\n",
       "      <td>14879</td>\n",
       "      <td>Barrel Aged B.O.R.I.S. Oatmeal Imperial Stout</td>\n",
       "      <td>...</td>\n",
       "      <td>4.5</td>\n",
       "      <td>22 oz bottle poured into a flute glass, share...</td>\n",
       "      <td>2009-12-25 17:26:06</td>\n",
       "      <td>9.4</td>\n",
       "    </tr>\n",
       "  </tbody>\n",
       "</table>\n",
       "<p>50000 rows × 14 columns</p>\n",
       "</div>"
      ],
      "text/plain": [
       "       abv  beer_id  brewer_id                                      beer_name  ... review_taste  \\\n",
       "0      7.0     2511        287                            Bell's Cherry Stout  ...          4.5   \n",
       "1      5.7    19736       9790                             Duck-Rabbit Porter  ...          4.0   \n",
       "2      4.8    11098       3182                   Fürstenberg Premium Pilsener  ...          3.5   \n",
       "...    ...      ...        ...                                            ...  ...          ...   \n",
       "49997  8.1    21950       2372         Terrapin Coffee Oatmeal Imperial Stout  ...          4.5   \n",
       "49998  4.6     5453       1306                            Badger Original Ale  ...          3.5   \n",
       "49999  9.4    47695      14879  Barrel Aged B.O.R.I.S. Oatmeal Imperial Stout  ...          4.5   \n",
       "\n",
       "                                                    text                time  alcohol  \n",
       "0       Batch 8144\\tPitch black in color with a 1/2 f... 2009-10-05 21:31:48      7.0  \n",
       "1       Sampled from a 12oz bottle in a standard pint... 2009-10-05 21:32:09      5.7  \n",
       "2       Haystack yellow with an energetic group of bu... 2009-10-05 21:32:13      4.8  \n",
       "...                                                  ...                 ...      ...  \n",
       "49997   Poured a light sucking crude oil beckoning bl... 2009-12-25 17:23:52      8.1  \n",
       "49998   500ml brown bottle, 4.0% ABV. Pours a crystal... 2009-12-25 17:25:06      4.6  \n",
       "49999   22 oz bottle poured into a flute glass, share... 2009-12-25 17:26:06      9.4  \n",
       "\n",
       "[50000 rows x 14 columns]"
      ]
     },
     "execution_count": 134,
     "metadata": {},
     "output_type": "execute_result"
    }
   ],
   "source": [
    "df['alcohol'] = df['abv']\n",
    "df"
   ]
  },
  {
   "cell_type": "code",
   "execution_count": 37,
   "metadata": {},
   "outputs": [
    {
     "data": {
      "text/html": [
       "<div>\n",
       "<table border=\"1\" class=\"dataframe\">\n",
       "  <thead>\n",
       "    <tr style=\"text-align: right;\">\n",
       "      <th></th>\n",
       "      <th>beer_id</th>\n",
       "      <th>brewer_id</th>\n",
       "      <th>beer_name</th>\n",
       "      <th>beer_style</th>\n",
       "      <th>...</th>\n",
       "      <th>review_taste</th>\n",
       "      <th>text</th>\n",
       "      <th>time</th>\n",
       "      <th>alcohol</th>\n",
       "    </tr>\n",
       "  </thead>\n",
       "  <tbody>\n",
       "    <tr>\n",
       "      <th>0</th>\n",
       "      <td>2511</td>\n",
       "      <td>287</td>\n",
       "      <td>Bell's Cherry Stout</td>\n",
       "      <td>American Stout</td>\n",
       "      <td>...</td>\n",
       "      <td>4.5</td>\n",
       "      <td>Batch 8144\\tPitch black in color with a 1/2 f...</td>\n",
       "      <td>2009-10-05 21:31:48</td>\n",
       "      <td>7.0</td>\n",
       "    </tr>\n",
       "    <tr>\n",
       "      <th>1</th>\n",
       "      <td>19736</td>\n",
       "      <td>9790</td>\n",
       "      <td>Duck-Rabbit Porter</td>\n",
       "      <td>American Porter</td>\n",
       "      <td>...</td>\n",
       "      <td>4.0</td>\n",
       "      <td>Sampled from a 12oz bottle in a standard pint...</td>\n",
       "      <td>2009-10-05 21:32:09</td>\n",
       "      <td>5.7</td>\n",
       "    </tr>\n",
       "    <tr>\n",
       "      <th>2</th>\n",
       "      <td>11098</td>\n",
       "      <td>3182</td>\n",
       "      <td>Fürstenberg Premium Pilsener</td>\n",
       "      <td>German Pilsener</td>\n",
       "      <td>...</td>\n",
       "      <td>3.5</td>\n",
       "      <td>Haystack yellow with an energetic group of bu...</td>\n",
       "      <td>2009-10-05 21:32:13</td>\n",
       "      <td>4.8</td>\n",
       "    </tr>\n",
       "  </tbody>\n",
       "</table>\n",
       "<p>3 rows × 13 columns</p>\n",
       "</div>"
      ],
      "text/plain": [
       "   beer_id  brewer_id                     beer_name       beer_style   ...     review_taste  \\\n",
       "0     2511        287           Bell's Cherry Stout   American Stout   ...              4.5   \n",
       "1    19736       9790            Duck-Rabbit Porter  American Porter   ...              4.0   \n",
       "2    11098       3182  Fürstenberg Premium Pilsener  German Pilsener   ...              3.5   \n",
       "\n",
       "                                                text                time  alcohol  \n",
       "0   Batch 8144\\tPitch black in color with a 1/2 f... 2009-10-05 21:31:48      7.0  \n",
       "1   Sampled from a 12oz bottle in a standard pint... 2009-10-05 21:32:09      5.7  \n",
       "2   Haystack yellow with an energetic group of bu... 2009-10-05 21:32:13      4.8  \n",
       "\n",
       "[3 rows x 13 columns]"
      ]
     },
     "execution_count": 37,
     "metadata": {},
     "output_type": "execute_result"
    }
   ],
   "source": [
    "# Dropping a column\n",
    "\n",
    "df.drop(['abv'], axis=1).head(3)"
   ]
  },
  {
   "cell_type": "code",
   "execution_count": 135,
   "metadata": {},
   "outputs": [
    {
     "name": "stdout",
     "output_type": "stream",
     "text": [
      "<class 'pandas.core.frame.DataFrame'>\n",
      "Int64Index: 50000 entries, 0 to 49999\n",
      "Data columns (total 14 columns):\n",
      " #   Column             Non-Null Count  Dtype         \n",
      "---  ------             --------------  -----         \n",
      " 0   abv                48389 non-null  float64       \n",
      " 1   beer_id            50000 non-null  int64         \n",
      " 2   brewer_id          50000 non-null  int64         \n",
      " 3   beer_name          50000 non-null  object        \n",
      " 4   beer_style         50000 non-null  object        \n",
      " 5   review_appearance  50000 non-null  float64       \n",
      " 6   review_aroma       50000 non-null  float64       \n",
      " 7   review_overall     50000 non-null  float64       \n",
      " 8   review_palate      50000 non-null  float64       \n",
      " 9   profile_name       50000 non-null  object        \n",
      " 10  review_taste       50000 non-null  float64       \n",
      " 11  text               49991 non-null  object        \n",
      " 12  time               50000 non-null  datetime64[ns]\n",
      " 13  alcohol            48389 non-null  float64       \n",
      "dtypes: datetime64[ns](1), float64(7), int64(2), object(4)\n",
      "memory usage: 5.7+ MB\n"
     ]
    }
   ],
   "source": [
    "df.info()"
   ]
  },
  {
   "cell_type": "markdown",
   "metadata": {},
   "source": [
    "## String Operations"
   ]
  },
  {
   "cell_type": "markdown",
   "metadata": {},
   "source": [
    "Varios srtring operations can be applied to the columna data values"
   ]
  },
  {
   "cell_type": "code",
   "execution_count": 136,
   "metadata": {},
   "outputs": [
    {
     "data": {
      "text/plain": [
       "0        Amer\n",
       "1        Amer\n",
       "2        Germ\n",
       "         ... \n",
       "49997    Amer\n",
       "49998    Engl\n",
       "49999    Russ\n",
       "Name: beer_style, Length: 50000, dtype: object"
      ]
     },
     "execution_count": 136,
     "metadata": {},
     "output_type": "execute_result"
    }
   ],
   "source": [
    "# Print first 4 letter of each string in the column\n",
    "\n",
    "df.beer_style.str[0:4]"
   ]
  },
  {
   "cell_type": "code",
   "execution_count": 137,
   "metadata": {},
   "outputs": [
    {
     "data": {
      "text/plain": [
       "0        14\n",
       "1        15\n",
       "2        15\n",
       "         ..\n",
       "49997    32\n",
       "49998    16\n",
       "49999    22\n",
       "Name: beer_style, Length: 50000, dtype: int64"
      ]
     },
     "execution_count": 137,
     "metadata": {},
     "output_type": "execute_result"
    }
   ],
   "source": [
    "# Print the length of each string in the column\n",
    "\n",
    "df.beer_style.str.len()"
   ]
  },
  {
   "cell_type": "code",
   "execution_count": 138,
   "metadata": {},
   "outputs": [
    {
     "data": {
      "text/plain": [
       "0         True\n",
       "1         True\n",
       "2        False\n",
       "         ...  \n",
       "49997     True\n",
       "49998    False\n",
       "49999    False\n",
       "Name: beer_style, Length: 50000, dtype: bool"
      ]
     },
     "execution_count": 138,
     "metadata": {},
     "output_type": "execute_result"
    }
   ],
   "source": [
    "# Get boolean (True/False) mask for strings matching a pattern\n",
    "\n",
    "df.beer_style.str.contains('[A|a]merican')"
   ]
  },
  {
   "cell_type": "code",
   "execution_count": 139,
   "metadata": {},
   "outputs": [
    {
     "data": {
      "text/plain": [
       "0                          American Stout\n",
       "1                         American Porter\n",
       "3          American Double / Imperial IPA\n",
       "                       ...               \n",
       "49991                  American Brown Ale\n",
       "49996      American Double / Imperial IPA\n",
       "49997    American Double / Imperial Stout\n",
       "Name: beer_style, Length: 21380, dtype: object"
      ]
     },
     "execution_count": 139,
     "metadata": {},
     "output_type": "execute_result"
    }
   ],
   "source": [
    "# Extract the rows that match the True\n",
    "\n",
    "boolean_mask = df.beer_style.str.contains('[A|a]merican')\n",
    "df.beer_style[boolean_mask]"
   ]
  },
  {
   "cell_type": "code",
   "execution_count": 43,
   "metadata": {
    "scrolled": true
   },
   "outputs": [],
   "source": [
    "# To see full documentation for str() method, uncomment the following:\n",
    "\n",
    "# help(df.beer_style.str)"
   ]
  },
  {
   "cell_type": "markdown",
   "metadata": {},
   "source": [
    "## Datetime Operations"
   ]
  },
  {
   "cell_type": "markdown",
   "metadata": {},
   "source": [
    "Using the `.dt` accessor, datetime manipulations can be applied to a datetime series or column elementwise."
   ]
  },
  {
   "cell_type": "code",
   "execution_count": 140,
   "metadata": {},
   "outputs": [
    {
     "data": {
      "text/plain": [
       "0       2009-10-05 21:31:48\n",
       "1       2009-10-05 21:32:09\n",
       "2       2009-10-05 21:32:13\n",
       "                ...        \n",
       "49997   2009-12-25 17:23:52\n",
       "49998   2009-12-25 17:25:06\n",
       "49999   2009-12-25 17:26:06\n",
       "Name: time, Length: 50000, dtype: datetime64[ns]"
      ]
     },
     "execution_count": 140,
     "metadata": {},
     "output_type": "execute_result"
    }
   ],
   "source": [
    "# select the `time` column, noteice the dtype=datetime\n",
    "\n",
    "df.time"
   ]
  },
  {
   "cell_type": "markdown",
   "metadata": {},
   "source": [
    "Because the `dtype=datatime`, we can perform DataTime operations on the column"
   ]
  },
  {
   "cell_type": "code",
   "execution_count": 141,
   "metadata": {},
   "outputs": [
    {
     "data": {
      "text/plain": [
       "0        2009-10-05\n",
       "1        2009-10-05\n",
       "2        2009-10-05\n",
       "            ...    \n",
       "49997    2009-12-25\n",
       "49998    2009-12-25\n",
       "49999    2009-12-25\n",
       "Name: time, Length: 50000, dtype: object"
      ]
     },
     "execution_count": 141,
     "metadata": {},
     "output_type": "execute_result"
    }
   ],
   "source": [
    "# Example: Just show the data, not the full date-time\n",
    "\n",
    "df.time.dt.date"
   ]
  },
  {
   "cell_type": "code",
   "execution_count": 46,
   "metadata": {},
   "outputs": [
    {
     "data": {
      "text/plain": [
       "0        21:31:48\n",
       "1        21:32:09\n",
       "2        21:32:13\n",
       "           ...   \n",
       "49997    17:23:52\n",
       "49998    17:25:06\n",
       "49999    17:26:06\n",
       "Name: time, dtype: object"
      ]
     },
     "execution_count": 46,
     "metadata": {},
     "output_type": "execute_result"
    }
   ],
   "source": [
    "# Just show the time, not the full date-time\n",
    "\n",
    "df.time.dt.time"
   ]
  },
  {
   "cell_type": "code",
   "execution_count": 142,
   "metadata": {},
   "outputs": [
    {
     "data": {
      "text/plain": [
       "0        21\n",
       "1        21\n",
       "2        21\n",
       "         ..\n",
       "49997    17\n",
       "49998    17\n",
       "49999    17\n",
       "Name: time, Length: 50000, dtype: int64"
      ]
     },
     "execution_count": 142,
     "metadata": {},
     "output_type": "execute_result"
    }
   ],
   "source": [
    "# Just show the hour\n",
    "\n",
    "df.time.dt.hour"
   ]
  },
  {
   "cell_type": "code",
   "execution_count": 143,
   "metadata": {
    "scrolled": true
   },
   "outputs": [
    {
     "name": "stdout",
     "output_type": "stream",
     "text": [
      "Help on DatetimeProperties in module pandas.core.indexes.accessors object:\n",
      "\n",
      "class DatetimeProperties(Properties)\n",
      " |  DatetimeProperties(data, orig)\n",
      " |  \n",
      " |  Accessor object for datetimelike properties of the Series values.\n",
      " |  \n",
      " |  Examples\n",
      " |  --------\n",
      " |  >>> s.dt.hour\n",
      " |  >>> s.dt.second\n",
      " |  >>> s.dt.quarter\n",
      " |  \n",
      " |  Returns a Series indexed like the original Series.\n",
      " |  Raises TypeError if the Series does not contain datetimelike values.\n",
      " |  \n",
      " |  Method resolution order:\n",
      " |      DatetimeProperties\n",
      " |      Properties\n",
      " |      pandas.core.accessor.PandasDelegate\n",
      " |      pandas.core.base.PandasObject\n",
      " |      pandas.core.accessor.DirNamesMixin\n",
      " |      pandas.core.base.NoNewAttributesMixin\n",
      " |      builtins.object\n",
      " |  \n",
      " |  Methods defined here:\n",
      " |  \n",
      " |  ceil(self, *args, **kwargs)\n",
      " |      Perform ceil operation on the data to the specified `freq`.\n",
      " |      \n",
      " |      Parameters\n",
      " |      ----------\n",
      " |      freq : str or Offset\n",
      " |          The frequency level to ceil the index to. Must be a fixed\n",
      " |          frequency like 'S' (second) not 'ME' (month end). See\n",
      " |          :ref:`frequency aliases <timeseries.offset_aliases>` for\n",
      " |          a list of possible `freq` values.\n",
      " |      ambiguous : 'infer', bool-ndarray, 'NaT', default 'raise'\n",
      " |          Only relevant for DatetimeIndex:\n",
      " |      \n",
      " |          - 'infer' will attempt to infer fall dst-transition hours based on\n",
      " |            order\n",
      " |          - bool-ndarray where True signifies a DST time, False designates\n",
      " |            a non-DST time (note that this flag is only applicable for\n",
      " |            ambiguous times)\n",
      " |          - 'NaT' will return NaT where there are ambiguous times\n",
      " |          - 'raise' will raise an AmbiguousTimeError if there are ambiguous\n",
      " |            times.\n",
      " |      \n",
      " |          .. versionadded:: 0.24.0\n",
      " |      \n",
      " |      nonexistent : 'shift_forward', 'shift_backward', 'NaT', timedelta, default 'raise'\n",
      " |          A nonexistent time does not exist in a particular timezone\n",
      " |          where clocks moved forward due to DST.\n",
      " |      \n",
      " |          - 'shift_forward' will shift the nonexistent time forward to the\n",
      " |            closest existing time\n",
      " |          - 'shift_backward' will shift the nonexistent time backward to the\n",
      " |            closest existing time\n",
      " |          - 'NaT' will return NaT where there are nonexistent times\n",
      " |          - timedelta objects will shift nonexistent times by the timedelta\n",
      " |          - 'raise' will raise an NonExistentTimeError if there are\n",
      " |            nonexistent times.\n",
      " |      \n",
      " |          .. versionadded:: 0.24.0\n",
      " |      \n",
      " |      Returns\n",
      " |      -------\n",
      " |      DatetimeIndex, TimedeltaIndex, or Series\n",
      " |          Index of the same type for a DatetimeIndex or TimedeltaIndex,\n",
      " |          or a Series with the same index for a Series.\n",
      " |      \n",
      " |      Raises\n",
      " |      ------\n",
      " |      ValueError if the `freq` cannot be converted.\n",
      " |      \n",
      " |      Examples\n",
      " |      --------\n",
      " |      **DatetimeIndex**\n",
      " |      \n",
      " |      >>> rng = pd.date_range('1/1/2018 11:59:00', periods=3, freq='min')\n",
      " |      >>> rng\n",
      " |      DatetimeIndex(['2018-01-01 11:59:00', '2018-01-01 12:00:00',\n",
      " |                     '2018-01-01 12:01:00'],\n",
      " |                    dtype='datetime64[ns]', freq='T')\n",
      " |      >>> rng.ceil('H')\n",
      " |      DatetimeIndex(['2018-01-01 12:00:00', '2018-01-01 12:00:00',\n",
      " |                     '2018-01-01 13:00:00'],\n",
      " |                    dtype='datetime64[ns]', freq=None)\n",
      " |      \n",
      " |      **Series**\n",
      " |      \n",
      " |      >>> pd.Series(rng).dt.ceil(\"H\")\n",
      " |      0   2018-01-01 12:00:00\n",
      " |      1   2018-01-01 12:00:00\n",
      " |      2   2018-01-01 13:00:00\n",
      " |      dtype: datetime64[ns]\n",
      " |  \n",
      " |  day_name(self, *args, **kwargs)\n",
      " |      Return the day names of the DateTimeIndex with specified locale.\n",
      " |      \n",
      " |      .. versionadded:: 0.23.0\n",
      " |      \n",
      " |      Parameters\n",
      " |      ----------\n",
      " |      locale : str, optional\n",
      " |          Locale determining the language in which to return the day name.\n",
      " |          Default is English locale.\n",
      " |      \n",
      " |      Returns\n",
      " |      -------\n",
      " |      Index\n",
      " |          Index of day names.\n",
      " |      \n",
      " |      Examples\n",
      " |      --------\n",
      " |      >>> idx = pd.date_range(start='2018-01-01', freq='D', periods=3)\n",
      " |      >>> idx\n",
      " |      DatetimeIndex(['2018-01-01', '2018-01-02', '2018-01-03'],\n",
      " |                    dtype='datetime64[ns]', freq='D')\n",
      " |      >>> idx.day_name()\n",
      " |      Index(['Monday', 'Tuesday', 'Wednesday'], dtype='object')\n",
      " |  \n",
      " |  floor(self, *args, **kwargs)\n",
      " |      Perform floor operation on the data to the specified `freq`.\n",
      " |      \n",
      " |      Parameters\n",
      " |      ----------\n",
      " |      freq : str or Offset\n",
      " |          The frequency level to floor the index to. Must be a fixed\n",
      " |          frequency like 'S' (second) not 'ME' (month end). See\n",
      " |          :ref:`frequency aliases <timeseries.offset_aliases>` for\n",
      " |          a list of possible `freq` values.\n",
      " |      ambiguous : 'infer', bool-ndarray, 'NaT', default 'raise'\n",
      " |          Only relevant for DatetimeIndex:\n",
      " |      \n",
      " |          - 'infer' will attempt to infer fall dst-transition hours based on\n",
      " |            order\n",
      " |          - bool-ndarray where True signifies a DST time, False designates\n",
      " |            a non-DST time (note that this flag is only applicable for\n",
      " |            ambiguous times)\n",
      " |          - 'NaT' will return NaT where there are ambiguous times\n",
      " |          - 'raise' will raise an AmbiguousTimeError if there are ambiguous\n",
      " |            times.\n",
      " |      \n",
      " |          .. versionadded:: 0.24.0\n",
      " |      \n",
      " |      nonexistent : 'shift_forward', 'shift_backward', 'NaT', timedelta, default 'raise'\n",
      " |          A nonexistent time does not exist in a particular timezone\n",
      " |          where clocks moved forward due to DST.\n",
      " |      \n",
      " |          - 'shift_forward' will shift the nonexistent time forward to the\n",
      " |            closest existing time\n",
      " |          - 'shift_backward' will shift the nonexistent time backward to the\n",
      " |            closest existing time\n",
      " |          - 'NaT' will return NaT where there are nonexistent times\n",
      " |          - timedelta objects will shift nonexistent times by the timedelta\n",
      " |          - 'raise' will raise an NonExistentTimeError if there are\n",
      " |            nonexistent times.\n",
      " |      \n",
      " |          .. versionadded:: 0.24.0\n",
      " |      \n",
      " |      Returns\n",
      " |      -------\n",
      " |      DatetimeIndex, TimedeltaIndex, or Series\n",
      " |          Index of the same type for a DatetimeIndex or TimedeltaIndex,\n",
      " |          or a Series with the same index for a Series.\n",
      " |      \n",
      " |      Raises\n",
      " |      ------\n",
      " |      ValueError if the `freq` cannot be converted.\n",
      " |      \n",
      " |      Examples\n",
      " |      --------\n",
      " |      **DatetimeIndex**\n",
      " |      \n",
      " |      >>> rng = pd.date_range('1/1/2018 11:59:00', periods=3, freq='min')\n",
      " |      >>> rng\n",
      " |      DatetimeIndex(['2018-01-01 11:59:00', '2018-01-01 12:00:00',\n",
      " |                     '2018-01-01 12:01:00'],\n",
      " |                    dtype='datetime64[ns]', freq='T')\n",
      " |      >>> rng.floor('H')\n",
      " |      DatetimeIndex(['2018-01-01 11:00:00', '2018-01-01 12:00:00',\n",
      " |                     '2018-01-01 12:00:00'],\n",
      " |                    dtype='datetime64[ns]', freq=None)\n",
      " |      \n",
      " |      **Series**\n",
      " |      \n",
      " |      >>> pd.Series(rng).dt.floor(\"H\")\n",
      " |      0   2018-01-01 11:00:00\n",
      " |      1   2018-01-01 12:00:00\n",
      " |      2   2018-01-01 12:00:00\n",
      " |      dtype: datetime64[ns]\n",
      " |  \n",
      " |  month_name(self, *args, **kwargs)\n",
      " |      Return the month names of the DateTimeIndex with specified locale.\n",
      " |      \n",
      " |      .. versionadded:: 0.23.0\n",
      " |      \n",
      " |      Parameters\n",
      " |      ----------\n",
      " |      locale : str, optional\n",
      " |          Locale determining the language in which to return the month name.\n",
      " |          Default is English locale.\n",
      " |      \n",
      " |      Returns\n",
      " |      -------\n",
      " |      Index\n",
      " |          Index of month names.\n",
      " |      \n",
      " |      Examples\n",
      " |      --------\n",
      " |      >>> idx = pd.date_range(start='2018-01', freq='M', periods=3)\n",
      " |      >>> idx\n",
      " |      DatetimeIndex(['2018-01-31', '2018-02-28', '2018-03-31'],\n",
      " |                    dtype='datetime64[ns]', freq='M')\n",
      " |      >>> idx.month_name()\n",
      " |      Index(['January', 'February', 'March'], dtype='object')\n",
      " |  \n",
      " |  normalize(self, *args, **kwargs)\n",
      " |      Convert times to midnight.\n",
      " |      \n",
      " |      The time component of the date-time is converted to midnight i.e.\n",
      " |      00:00:00. This is useful in cases, when the time does not matter.\n",
      " |      Length is unaltered. The timezones are unaffected.\n",
      " |      \n",
      " |      This method is available on Series with datetime values under\n",
      " |      the ``.dt`` accessor, and directly on Datetime Array/Index.\n",
      " |      \n",
      " |      Returns\n",
      " |      -------\n",
      " |      DatetimeArray, DatetimeIndex or Series\n",
      " |          The same type as the original data. Series will have the same\n",
      " |          name and index. DatetimeIndex will have the same name.\n",
      " |      \n",
      " |      See Also\n",
      " |      --------\n",
      " |      floor : Floor the datetimes to the specified freq.\n",
      " |      ceil : Ceil the datetimes to the specified freq.\n",
      " |      round : Round the datetimes to the specified freq.\n",
      " |      \n",
      " |      Examples\n",
      " |      --------\n",
      " |      >>> idx = pd.date_range(start='2014-08-01 10:00', freq='H',\n",
      " |      ...                     periods=3, tz='Asia/Calcutta')\n",
      " |      >>> idx\n",
      " |      DatetimeIndex(['2014-08-01 10:00:00+05:30',\n",
      " |                     '2014-08-01 11:00:00+05:30',\n",
      " |                     '2014-08-01 12:00:00+05:30'],\n",
      " |                      dtype='datetime64[ns, Asia/Calcutta]', freq='H')\n",
      " |      >>> idx.normalize()\n",
      " |      DatetimeIndex(['2014-08-01 00:00:00+05:30',\n",
      " |                     '2014-08-01 00:00:00+05:30',\n",
      " |                     '2014-08-01 00:00:00+05:30'],\n",
      " |                     dtype='datetime64[ns, Asia/Calcutta]', freq=None)\n",
      " |  \n",
      " |  round(self, *args, **kwargs)\n",
      " |      Perform round operation on the data to the specified `freq`.\n",
      " |      \n",
      " |      Parameters\n",
      " |      ----------\n",
      " |      freq : str or Offset\n",
      " |          The frequency level to round the index to. Must be a fixed\n",
      " |          frequency like 'S' (second) not 'ME' (month end). See\n",
      " |          :ref:`frequency aliases <timeseries.offset_aliases>` for\n",
      " |          a list of possible `freq` values.\n",
      " |      ambiguous : 'infer', bool-ndarray, 'NaT', default 'raise'\n",
      " |          Only relevant for DatetimeIndex:\n",
      " |      \n",
      " |          - 'infer' will attempt to infer fall dst-transition hours based on\n",
      " |            order\n",
      " |          - bool-ndarray where True signifies a DST time, False designates\n",
      " |            a non-DST time (note that this flag is only applicable for\n",
      " |            ambiguous times)\n",
      " |          - 'NaT' will return NaT where there are ambiguous times\n",
      " |          - 'raise' will raise an AmbiguousTimeError if there are ambiguous\n",
      " |            times.\n",
      " |      \n",
      " |          .. versionadded:: 0.24.0\n",
      " |      \n",
      " |      nonexistent : 'shift_forward', 'shift_backward', 'NaT', timedelta, default 'raise'\n",
      " |          A nonexistent time does not exist in a particular timezone\n",
      " |          where clocks moved forward due to DST.\n",
      " |      \n",
      " |          - 'shift_forward' will shift the nonexistent time forward to the\n",
      " |            closest existing time\n",
      " |          - 'shift_backward' will shift the nonexistent time backward to the\n",
      " |            closest existing time\n",
      " |          - 'NaT' will return NaT where there are nonexistent times\n",
      " |          - timedelta objects will shift nonexistent times by the timedelta\n",
      " |          - 'raise' will raise an NonExistentTimeError if there are\n",
      " |            nonexistent times.\n",
      " |      \n",
      " |          .. versionadded:: 0.24.0\n",
      " |      \n",
      " |      Returns\n",
      " |      -------\n",
      " |      DatetimeIndex, TimedeltaIndex, or Series\n",
      " |          Index of the same type for a DatetimeIndex or TimedeltaIndex,\n",
      " |          or a Series with the same index for a Series.\n",
      " |      \n",
      " |      Raises\n",
      " |      ------\n",
      " |      ValueError if the `freq` cannot be converted.\n",
      " |      \n",
      " |      Examples\n",
      " |      --------\n",
      " |      **DatetimeIndex**\n",
      " |      \n",
      " |      >>> rng = pd.date_range('1/1/2018 11:59:00', periods=3, freq='min')\n",
      " |      >>> rng\n",
      " |      DatetimeIndex(['2018-01-01 11:59:00', '2018-01-01 12:00:00',\n",
      " |                     '2018-01-01 12:01:00'],\n",
      " |                    dtype='datetime64[ns]', freq='T')\n",
      " |      >>> rng.round('H')\n",
      " |      DatetimeIndex(['2018-01-01 12:00:00', '2018-01-01 12:00:00',\n",
      " |                     '2018-01-01 12:00:00'],\n",
      " |                    dtype='datetime64[ns]', freq=None)\n",
      " |      \n",
      " |      **Series**\n",
      " |      \n",
      " |      >>> pd.Series(rng).dt.round(\"H\")\n",
      " |      0   2018-01-01 12:00:00\n",
      " |      1   2018-01-01 12:00:00\n",
      " |      2   2018-01-01 12:00:00\n",
      " |      dtype: datetime64[ns]\n",
      " |  \n",
      " |  strftime(self, *args, **kwargs)\n",
      " |      Convert to Index using specified date_format.\n",
      " |      \n",
      " |      Return an Index of formatted strings specified by date_format, which\n",
      " |      supports the same string format as the python standard library. Details\n",
      " |      of the string format can be found in `python string format\n",
      " |      doc <https://docs.python.org/3/library/datetime.html#strftime-and-strptime-behavior>`__.\n",
      " |      \n",
      " |      Parameters\n",
      " |      ----------\n",
      " |      date_format : str\n",
      " |          Date format string (e.g. \"%Y-%m-%d\").\n",
      " |      \n",
      " |      Returns\n",
      " |      -------\n",
      " |      ndarray\n",
      " |          NumPy ndarray of formatted strings.\n",
      " |      \n",
      " |      See Also\n",
      " |      --------\n",
      " |      to_datetime : Convert the given argument to datetime.\n",
      " |      DatetimeIndex.normalize : Return DatetimeIndex with times to midnight.\n",
      " |      DatetimeIndex.round : Round the DatetimeIndex to the specified freq.\n",
      " |      DatetimeIndex.floor : Floor the DatetimeIndex to the specified freq.\n",
      " |      \n",
      " |      Examples\n",
      " |      --------\n",
      " |      >>> rng = pd.date_range(pd.Timestamp(\"2018-03-10 09:00\"),\n",
      " |      ...                     periods=3, freq='s')\n",
      " |      >>> rng.strftime('%B %d, %Y, %r')\n",
      " |      Index(['March 10, 2018, 09:00:00 AM', 'March 10, 2018, 09:00:01 AM',\n",
      " |             'March 10, 2018, 09:00:02 AM'],\n",
      " |            dtype='object')\n",
      " |  \n",
      " |  to_period(self, *args, **kwargs)\n",
      " |      Cast to PeriodArray/Index at a particular frequency.\n",
      " |      \n",
      " |      Converts DatetimeArray/Index to PeriodArray/Index.\n",
      " |      \n",
      " |      Parameters\n",
      " |      ----------\n",
      " |      freq : str or Offset, optional\n",
      " |          One of pandas' :ref:`offset strings <timeseries.offset_aliases>`\n",
      " |          or an Offset object. Will be inferred by default.\n",
      " |      \n",
      " |      Returns\n",
      " |      -------\n",
      " |      PeriodArray/Index\n",
      " |      \n",
      " |      Raises\n",
      " |      ------\n",
      " |      ValueError\n",
      " |          When converting a DatetimeArray/Index with non-regular values,\n",
      " |          so that a frequency cannot be inferred.\n",
      " |      \n",
      " |      See Also\n",
      " |      --------\n",
      " |      PeriodIndex: Immutable ndarray holding ordinal values.\n",
      " |      DatetimeIndex.to_pydatetime: Return DatetimeIndex as object.\n",
      " |      \n",
      " |      Examples\n",
      " |      --------\n",
      " |      >>> df = pd.DataFrame({\"y\": [1, 2, 3]},\n",
      " |      ...                   index=pd.to_datetime([\"2000-03-31 00:00:00\",\n",
      " |      ...                                         \"2000-05-31 00:00:00\",\n",
      " |      ...                                         \"2000-08-31 00:00:00\"]))\n",
      " |      >>> df.index.to_period(\"M\")\n",
      " |      PeriodIndex(['2000-03', '2000-05', '2000-08'],\n",
      " |                  dtype='period[M]', freq='M')\n",
      " |      \n",
      " |      Infer the daily frequency\n",
      " |      \n",
      " |      >>> idx = pd.date_range(\"2017-01-01\", periods=2)\n",
      " |      >>> idx.to_period()\n",
      " |      PeriodIndex(['2017-01-01', '2017-01-02'],\n",
      " |                  dtype='period[D]', freq='D')\n",
      " |  \n",
      " |  to_pydatetime(self)\n",
      " |      Return the data as an array of native Python datetime objects.\n",
      " |      \n",
      " |      Timezone information is retained if present.\n",
      " |      \n",
      " |      .. warning::\n",
      " |      \n",
      " |         Python's datetime uses microsecond resolution, which is lower than\n",
      " |         pandas (nanosecond). The values are truncated.\n",
      " |      \n",
      " |      Returns\n",
      " |      -------\n",
      " |      numpy.ndarray\n",
      " |          Object dtype array containing native Python datetime objects.\n",
      " |      \n",
      " |      See Also\n",
      " |      --------\n",
      " |      datetime.datetime : Standard library value for a datetime.\n",
      " |      \n",
      " |      Examples\n",
      " |      --------\n",
      " |      >>> s = pd.Series(pd.date_range('20180310', periods=2))\n",
      " |      >>> s\n",
      " |      0   2018-03-10\n",
      " |      1   2018-03-11\n",
      " |      dtype: datetime64[ns]\n",
      " |      \n",
      " |      >>> s.dt.to_pydatetime()\n",
      " |      array([datetime.datetime(2018, 3, 10, 0, 0),\n",
      " |             datetime.datetime(2018, 3, 11, 0, 0)], dtype=object)\n",
      " |      \n",
      " |      pandas' nanosecond precision is truncated to microseconds.\n",
      " |      \n",
      " |      >>> s = pd.Series(pd.date_range('20180310', periods=2, freq='ns'))\n",
      " |      >>> s\n",
      " |      0   2018-03-10 00:00:00.000000000\n",
      " |      1   2018-03-10 00:00:00.000000001\n",
      " |      dtype: datetime64[ns]\n",
      " |      \n",
      " |      >>> s.dt.to_pydatetime()\n",
      " |      array([datetime.datetime(2018, 3, 10, 0, 0),\n",
      " |             datetime.datetime(2018, 3, 10, 0, 0)], dtype=object)\n",
      " |  \n",
      " |  tz_convert(self, *args, **kwargs)\n",
      " |      Convert tz-aware Datetime Array/Index from one time zone to another.\n",
      " |      \n",
      " |      Parameters\n",
      " |      ----------\n",
      " |      tz : str, pytz.timezone, dateutil.tz.tzfile or None\n",
      " |          Time zone for time. Corresponding timestamps would be converted\n",
      " |          to this time zone of the Datetime Array/Index. A `tz` of None will\n",
      " |          convert to UTC and remove the timezone information.\n",
      " |      \n",
      " |      Returns\n",
      " |      -------\n",
      " |      Array or Index\n",
      " |      \n",
      " |      Raises\n",
      " |      ------\n",
      " |      TypeError\n",
      " |          If Datetime Array/Index is tz-naive.\n",
      " |      \n",
      " |      See Also\n",
      " |      --------\n",
      " |      DatetimeIndex.tz : A timezone that has a variable offset from UTC.\n",
      " |      DatetimeIndex.tz_localize : Localize tz-naive DatetimeIndex to a\n",
      " |          given time zone, or remove timezone from a tz-aware DatetimeIndex.\n",
      " |      \n",
      " |      Examples\n",
      " |      --------\n",
      " |      With the `tz` parameter, we can change the DatetimeIndex\n",
      " |      to other time zones:\n",
      " |      \n",
      " |      >>> dti = pd.date_range(start='2014-08-01 09:00',\n",
      " |      ...                     freq='H', periods=3, tz='Europe/Berlin')\n",
      " |      \n",
      " |      >>> dti\n",
      " |      DatetimeIndex(['2014-08-01 09:00:00+02:00',\n",
      " |                     '2014-08-01 10:00:00+02:00',\n",
      " |                     '2014-08-01 11:00:00+02:00'],\n",
      " |                    dtype='datetime64[ns, Europe/Berlin]', freq='H')\n",
      " |      \n",
      " |      >>> dti.tz_convert('US/Central')\n",
      " |      DatetimeIndex(['2014-08-01 02:00:00-05:00',\n",
      " |                     '2014-08-01 03:00:00-05:00',\n",
      " |                     '2014-08-01 04:00:00-05:00'],\n",
      " |                    dtype='datetime64[ns, US/Central]', freq='H')\n",
      " |      \n",
      " |      With the ``tz=None``, we can remove the timezone (after converting\n",
      " |      to UTC if necessary):\n",
      " |      \n",
      " |      >>> dti = pd.date_range(start='2014-08-01 09:00', freq='H',\n",
      " |      ...                     periods=3, tz='Europe/Berlin')\n",
      " |      \n",
      " |      >>> dti\n",
      " |      DatetimeIndex(['2014-08-01 09:00:00+02:00',\n",
      " |                     '2014-08-01 10:00:00+02:00',\n",
      " |                     '2014-08-01 11:00:00+02:00'],\n",
      " |                      dtype='datetime64[ns, Europe/Berlin]', freq='H')\n",
      " |      \n",
      " |      >>> dti.tz_convert(None)\n",
      " |      DatetimeIndex(['2014-08-01 07:00:00',\n",
      " |                     '2014-08-01 08:00:00',\n",
      " |                     '2014-08-01 09:00:00'],\n",
      " |                      dtype='datetime64[ns]', freq='H')\n",
      " |  \n",
      " |  tz_localize(self, *args, **kwargs)\n",
      " |      Localize tz-naive Datetime Array/Index to tz-aware\n",
      " |      Datetime Array/Index.\n",
      " |      \n",
      " |      This method takes a time zone (tz) naive Datetime Array/Index object\n",
      " |      and makes this time zone aware. It does not move the time to another\n",
      " |      time zone.\n",
      " |      Time zone localization helps to switch from time zone aware to time\n",
      " |      zone unaware objects.\n",
      " |      \n",
      " |      Parameters\n",
      " |      ----------\n",
      " |      tz : str, pytz.timezone, dateutil.tz.tzfile or None\n",
      " |          Time zone to convert timestamps to. Passing ``None`` will\n",
      " |          remove the time zone information preserving local time.\n",
      " |      ambiguous : 'infer', 'NaT', bool array, default 'raise'\n",
      " |          When clocks moved backward due to DST, ambiguous times may arise.\n",
      " |          For example in Central European Time (UTC+01), when going from\n",
      " |          03:00 DST to 02:00 non-DST, 02:30:00 local time occurs both at\n",
      " |          00:30:00 UTC and at 01:30:00 UTC. In such a situation, the\n",
      " |          `ambiguous` parameter dictates how ambiguous times should be\n",
      " |          handled.\n",
      " |      \n",
      " |          - 'infer' will attempt to infer fall dst-transition hours based on\n",
      " |            order\n",
      " |          - bool-ndarray where True signifies a DST time, False signifies a\n",
      " |            non-DST time (note that this flag is only applicable for\n",
      " |            ambiguous times)\n",
      " |          - 'NaT' will return NaT where there are ambiguous times\n",
      " |          - 'raise' will raise an AmbiguousTimeError if there are ambiguous\n",
      " |            times.\n",
      " |      \n",
      " |      nonexistent : 'shift_forward', 'shift_backward, 'NaT', timedelta, default 'raise'\n",
      " |          A nonexistent time does not exist in a particular timezone\n",
      " |          where clocks moved forward due to DST.\n",
      " |      \n",
      " |          - 'shift_forward' will shift the nonexistent time forward to the\n",
      " |            closest existing time\n",
      " |          - 'shift_backward' will shift the nonexistent time backward to the\n",
      " |            closest existing time\n",
      " |          - 'NaT' will return NaT where there are nonexistent times\n",
      " |          - timedelta objects will shift nonexistent times by the timedelta\n",
      " |          - 'raise' will raise an NonExistentTimeError if there are\n",
      " |            nonexistent times.\n",
      " |      \n",
      " |          .. versionadded:: 0.24.0\n",
      " |      \n",
      " |      Returns\n",
      " |      -------\n",
      " |      Same type as self\n",
      " |          Array/Index converted to the specified time zone.\n",
      " |      \n",
      " |      Raises\n",
      " |      ------\n",
      " |      TypeError\n",
      " |          If the Datetime Array/Index is tz-aware and tz is not None.\n",
      " |      \n",
      " |      See Also\n",
      " |      --------\n",
      " |      DatetimeIndex.tz_convert : Convert tz-aware DatetimeIndex from\n",
      " |          one time zone to another.\n",
      " |      \n",
      " |      Examples\n",
      " |      --------\n",
      " |      >>> tz_naive = pd.date_range('2018-03-01 09:00', periods=3)\n",
      " |      >>> tz_naive\n",
      " |      DatetimeIndex(['2018-03-01 09:00:00', '2018-03-02 09:00:00',\n",
      " |                     '2018-03-03 09:00:00'],\n",
      " |                    dtype='datetime64[ns]', freq='D')\n",
      " |      \n",
      " |      Localize DatetimeIndex in US/Eastern time zone:\n",
      " |      \n",
      " |      >>> tz_aware = tz_naive.tz_localize(tz='US/Eastern')\n",
      " |      >>> tz_aware\n",
      " |      DatetimeIndex(['2018-03-01 09:00:00-05:00',\n",
      " |                     '2018-03-02 09:00:00-05:00',\n",
      " |                     '2018-03-03 09:00:00-05:00'],\n",
      " |                    dtype='datetime64[ns, US/Eastern]', freq='D')\n",
      " |      \n",
      " |      With the ``tz=None``, we can remove the time zone information\n",
      " |      while keeping the local time (not converted to UTC):\n",
      " |      \n",
      " |      >>> tz_aware.tz_localize(None)\n",
      " |      DatetimeIndex(['2018-03-01 09:00:00', '2018-03-02 09:00:00',\n",
      " |                     '2018-03-03 09:00:00'],\n",
      " |                    dtype='datetime64[ns]', freq='D')\n",
      " |      \n",
      " |      Be careful with DST changes. When there is sequential data, pandas can\n",
      " |      infer the DST time:\n",
      " |      \n",
      " |      >>> s = pd.to_datetime(pd.Series(['2018-10-28 01:30:00',\n",
      " |      ...                               '2018-10-28 02:00:00',\n",
      " |      ...                               '2018-10-28 02:30:00',\n",
      " |      ...                               '2018-10-28 02:00:00',\n",
      " |      ...                               '2018-10-28 02:30:00',\n",
      " |      ...                               '2018-10-28 03:00:00',\n",
      " |      ...                               '2018-10-28 03:30:00']))\n",
      " |      >>> s.dt.tz_localize('CET', ambiguous='infer')\n",
      " |      0   2018-10-28 01:30:00+02:00\n",
      " |      1   2018-10-28 02:00:00+02:00\n",
      " |      2   2018-10-28 02:30:00+02:00\n",
      " |      3   2018-10-28 02:00:00+01:00\n",
      " |      4   2018-10-28 02:30:00+01:00\n",
      " |      5   2018-10-28 03:00:00+01:00\n",
      " |      6   2018-10-28 03:30:00+01:00\n",
      " |      dtype: datetime64[ns, CET]\n",
      " |      \n",
      " |      In some cases, inferring the DST is impossible. In such cases, you can\n",
      " |      pass an ndarray to the ambiguous parameter to set the DST explicitly\n",
      " |      \n",
      " |      >>> s = pd.to_datetime(pd.Series(['2018-10-28 01:20:00',\n",
      " |      ...                               '2018-10-28 02:36:00',\n",
      " |      ...                               '2018-10-28 03:46:00']))\n",
      " |      >>> s.dt.tz_localize('CET', ambiguous=np.array([True, True, False]))\n",
      " |      0   2015-03-29 03:00:00+02:00\n",
      " |      1   2015-03-29 03:30:00+02:00\n",
      " |      dtype: datetime64[ns, Europe/Warsaw]\n",
      " |      \n",
      " |      If the DST transition causes nonexistent times, you can shift these\n",
      " |      dates forward or backwards with a timedelta object or `'shift_forward'`\n",
      " |      or `'shift_backwards'`.\n",
      " |      \n",
      " |      >>> s = pd.to_datetime(pd.Series(['2015-03-29 02:30:00',\n",
      " |      ...                               '2015-03-29 03:30:00']))\n",
      " |      >>> s.dt.tz_localize('Europe/Warsaw', nonexistent='shift_forward')\n",
      " |      0   2015-03-29 03:00:00+02:00\n",
      " |      1   2015-03-29 03:30:00+02:00\n",
      " |      dtype: datetime64[ns, 'Europe/Warsaw']\n",
      " |      >>> s.dt.tz_localize('Europe/Warsaw', nonexistent='shift_backward')\n",
      " |      0   2015-03-29 01:59:59.999999999+01:00\n",
      " |      1   2015-03-29 03:30:00+02:00\n",
      " |      dtype: datetime64[ns, 'Europe/Warsaw']\n",
      " |      >>> s.dt.tz_localize('Europe/Warsaw', nonexistent=pd.Timedelta('1H'))\n",
      " |      0   2015-03-29 03:30:00+02:00\n",
      " |      1   2015-03-29 03:30:00+02:00\n",
      " |      dtype: datetime64[ns, 'Europe/Warsaw']\n",
      " |  \n",
      " |  ----------------------------------------------------------------------\n",
      " |  Readonly properties defined here:\n",
      " |  \n",
      " |  freq\n",
      " |  \n",
      " |  ----------------------------------------------------------------------\n",
      " |  Data descriptors defined here:\n",
      " |  \n",
      " |  date\n",
      " |      Returns numpy array of python datetime.date objects (namely, the date\n",
      " |      part of Timestamps without timezone information).\n",
      " |  \n",
      " |  day\n",
      " |      The month as January=1, December=12.\n",
      " |  \n",
      " |  dayofweek\n",
      " |      The day of the week with Monday=0, Sunday=6.\n",
      " |      \n",
      " |      Return the day of the week. It is assumed the week starts on\n",
      " |      Monday, which is denoted by 0 and ends on Sunday which is denoted\n",
      " |      by 6. This method is available on both Series with datetime\n",
      " |      values (using the `dt` accessor) or DatetimeIndex.\n",
      " |      \n",
      " |      Returns\n",
      " |      -------\n",
      " |      Series or Index\n",
      " |          Containing integers indicating the day number.\n",
      " |      \n",
      " |      See Also\n",
      " |      --------\n",
      " |      Series.dt.dayofweek : Alias.\n",
      " |      Series.dt.weekday : Alias.\n",
      " |      Series.dt.day_name : Returns the name of the day of the week.\n",
      " |      \n",
      " |      Examples\n",
      " |      --------\n",
      " |      >>> s = pd.date_range('2016-12-31', '2017-01-08', freq='D').to_series()\n",
      " |      >>> s.dt.dayofweek\n",
      " |      2016-12-31    5\n",
      " |      2017-01-01    6\n",
      " |      2017-01-02    0\n",
      " |      2017-01-03    1\n",
      " |      2017-01-04    2\n",
      " |      2017-01-05    3\n",
      " |      2017-01-06    4\n",
      " |      2017-01-07    5\n",
      " |      2017-01-08    6\n",
      " |      Freq: D, dtype: int64\n",
      " |  \n",
      " |  dayofyear\n",
      " |      The ordinal day of the year.\n",
      " |  \n",
      " |  days_in_month\n",
      " |      The number of days in the month.\n",
      " |  \n",
      " |  daysinmonth\n",
      " |      The number of days in the month.\n",
      " |  \n",
      " |  hour\n",
      " |      The hours of the datetime.\n",
      " |  \n",
      " |  is_leap_year\n",
      " |      Boolean indicator if the date belongs to a leap year.\n",
      " |      \n",
      " |      A leap year is a year, which has 366 days (instead of 365) including\n",
      " |      29th of February as an intercalary day.\n",
      " |      Leap years are years which are multiples of four with the exception\n",
      " |      of years divisible by 100 but not by 400.\n",
      " |      \n",
      " |      Returns\n",
      " |      -------\n",
      " |      Series or ndarray\n",
      " |           Booleans indicating if dates belong to a leap year.\n",
      " |      \n",
      " |      Examples\n",
      " |      --------\n",
      " |      This method is available on Series with datetime values under\n",
      " |      the ``.dt`` accessor, and directly on DatetimeIndex.\n",
      " |      \n",
      " |      >>> idx = pd.date_range(\"2012-01-01\", \"2015-01-01\", freq=\"Y\")\n",
      " |      >>> idx\n",
      " |      DatetimeIndex(['2012-12-31', '2013-12-31', '2014-12-31'],\n",
      " |                    dtype='datetime64[ns]', freq='A-DEC')\n",
      " |      >>> idx.is_leap_year\n",
      " |      array([ True, False, False], dtype=bool)\n",
      " |      \n",
      " |      >>> dates = pd.Series(idx)\n",
      " |      >>> dates_series\n",
      " |      0   2012-12-31\n",
      " |      1   2013-12-31\n",
      " |      2   2014-12-31\n",
      " |      dtype: datetime64[ns]\n",
      " |      >>> dates_series.dt.is_leap_year\n",
      " |      0     True\n",
      " |      1    False\n",
      " |      2    False\n",
      " |      dtype: bool\n",
      " |  \n",
      " |  is_month_end\n",
      " |      Indicates whether the date is the last day of the month.\n",
      " |      \n",
      " |      Returns\n",
      " |      -------\n",
      " |      Series or array\n",
      " |          For Series, returns a Series with boolean values.\n",
      " |          For DatetimeIndex, returns a boolean array.\n",
      " |      \n",
      " |      See Also\n",
      " |      --------\n",
      " |      is_month_start : Return a boolean indicating whether the date\n",
      " |          is the first day of the month.\n",
      " |      is_month_end : Return a boolean indicating whether the date\n",
      " |          is the last day of the month.\n",
      " |      \n",
      " |      Examples\n",
      " |      --------\n",
      " |      This method is available on Series with datetime values under\n",
      " |      the ``.dt`` accessor, and directly on DatetimeIndex.\n",
      " |      \n",
      " |      >>> s = pd.Series(pd.date_range(\"2018-02-27\", periods=3))\n",
      " |      >>> s\n",
      " |      0   2018-02-27\n",
      " |      1   2018-02-28\n",
      " |      2   2018-03-01\n",
      " |      dtype: datetime64[ns]\n",
      " |      >>> s.dt.is_month_start\n",
      " |      0    False\n",
      " |      1    False\n",
      " |      2    True\n",
      " |      dtype: bool\n",
      " |      >>> s.dt.is_month_end\n",
      " |      0    False\n",
      " |      1    True\n",
      " |      2    False\n",
      " |      dtype: bool\n",
      " |      \n",
      " |      >>> idx = pd.date_range(\"2018-02-27\", periods=3)\n",
      " |      >>> idx.is_month_start\n",
      " |      array([False, False, True])\n",
      " |      >>> idx.is_month_end\n",
      " |      array([False, True, False])\n",
      " |  \n",
      " |  is_month_start\n",
      " |      Indicates whether the date is the first day of the month.\n",
      " |      \n",
      " |      Returns\n",
      " |      -------\n",
      " |      Series or array\n",
      " |          For Series, returns a Series with boolean values.\n",
      " |          For DatetimeIndex, returns a boolean array.\n",
      " |      \n",
      " |      See Also\n",
      " |      --------\n",
      " |      is_month_start : Return a boolean indicating whether the date\n",
      " |          is the first day of the month.\n",
      " |      is_month_end : Return a boolean indicating whether the date\n",
      " |          is the last day of the month.\n",
      " |      \n",
      " |      Examples\n",
      " |      --------\n",
      " |      This method is available on Series with datetime values under\n",
      " |      the ``.dt`` accessor, and directly on DatetimeIndex.\n",
      " |      \n",
      " |      >>> s = pd.Series(pd.date_range(\"2018-02-27\", periods=3))\n",
      " |      >>> s\n",
      " |      0   2018-02-27\n",
      " |      1   2018-02-28\n",
      " |      2   2018-03-01\n",
      " |      dtype: datetime64[ns]\n",
      " |      >>> s.dt.is_month_start\n",
      " |      0    False\n",
      " |      1    False\n",
      " |      2    True\n",
      " |      dtype: bool\n",
      " |      >>> s.dt.is_month_end\n",
      " |      0    False\n",
      " |      1    True\n",
      " |      2    False\n",
      " |      dtype: bool\n",
      " |      \n",
      " |      >>> idx = pd.date_range(\"2018-02-27\", periods=3)\n",
      " |      >>> idx.is_month_start\n",
      " |      array([False, False, True])\n",
      " |      >>> idx.is_month_end\n",
      " |      array([False, True, False])\n",
      " |  \n",
      " |  is_quarter_end\n",
      " |      Indicator for whether the date is the last day of a quarter.\n",
      " |      \n",
      " |      Returns\n",
      " |      -------\n",
      " |      is_quarter_end : Series or DatetimeIndex\n",
      " |          The same type as the original data with boolean values. Series will\n",
      " |          have the same name and index. DatetimeIndex will have the same\n",
      " |          name.\n",
      " |      \n",
      " |      See Also\n",
      " |      --------\n",
      " |      quarter : Return the quarter of the date.\n",
      " |      is_quarter_start : Similar property indicating the quarter start.\n",
      " |      \n",
      " |      Examples\n",
      " |      --------\n",
      " |      This method is available on Series with datetime values under\n",
      " |      the ``.dt`` accessor, and directly on DatetimeIndex.\n",
      " |      \n",
      " |      >>> df = pd.DataFrame({'dates': pd.date_range(\"2017-03-30\",\n",
      " |      ...                    periods=4)})\n",
      " |      >>> df.assign(quarter=df.dates.dt.quarter,\n",
      " |      ...           is_quarter_end=df.dates.dt.is_quarter_end)\n",
      " |             dates  quarter    is_quarter_end\n",
      " |      0 2017-03-30        1             False\n",
      " |      1 2017-03-31        1              True\n",
      " |      2 2017-04-01        2             False\n",
      " |      3 2017-04-02        2             False\n",
      " |      \n",
      " |      >>> idx = pd.date_range('2017-03-30', periods=4)\n",
      " |      >>> idx\n",
      " |      DatetimeIndex(['2017-03-30', '2017-03-31', '2017-04-01', '2017-04-02'],\n",
      " |                    dtype='datetime64[ns]', freq='D')\n",
      " |      \n",
      " |      >>> idx.is_quarter_end\n",
      " |      array([False,  True, False, False])\n",
      " |  \n",
      " |  is_quarter_start\n",
      " |      Indicator for whether the date is the first day of a quarter.\n",
      " |      \n",
      " |      Returns\n",
      " |      -------\n",
      " |      is_quarter_start : Series or DatetimeIndex\n",
      " |          The same type as the original data with boolean values. Series will\n",
      " |          have the same name and index. DatetimeIndex will have the same\n",
      " |          name.\n",
      " |      \n",
      " |      See Also\n",
      " |      --------\n",
      " |      quarter : Return the quarter of the date.\n",
      " |      is_quarter_end : Similar property for indicating the quarter start.\n",
      " |      \n",
      " |      Examples\n",
      " |      --------\n",
      " |      This method is available on Series with datetime values under\n",
      " |      the ``.dt`` accessor, and directly on DatetimeIndex.\n",
      " |      \n",
      " |      >>> df = pd.DataFrame({'dates': pd.date_range(\"2017-03-30\",\n",
      " |      ...                   periods=4)})\n",
      " |      >>> df.assign(quarter=df.dates.dt.quarter,\n",
      " |      ...           is_quarter_start=df.dates.dt.is_quarter_start)\n",
      " |             dates  quarter  is_quarter_start\n",
      " |      0 2017-03-30        1             False\n",
      " |      1 2017-03-31        1             False\n",
      " |      2 2017-04-01        2              True\n",
      " |      3 2017-04-02        2             False\n",
      " |      \n",
      " |      >>> idx = pd.date_range('2017-03-30', periods=4)\n",
      " |      >>> idx\n",
      " |      DatetimeIndex(['2017-03-30', '2017-03-31', '2017-04-01', '2017-04-02'],\n",
      " |                    dtype='datetime64[ns]', freq='D')\n",
      " |      \n",
      " |      >>> idx.is_quarter_start\n",
      " |      array([False, False,  True, False])\n",
      " |  \n",
      " |  is_year_end\n",
      " |      Indicate whether the date is the last day of the year.\n",
      " |      \n",
      " |      Returns\n",
      " |      -------\n",
      " |      Series or DatetimeIndex\n",
      " |          The same type as the original data with boolean values. Series will\n",
      " |          have the same name and index. DatetimeIndex will have the same\n",
      " |          name.\n",
      " |      \n",
      " |      See Also\n",
      " |      --------\n",
      " |      is_year_start : Similar property indicating the start of the year.\n",
      " |      \n",
      " |      Examples\n",
      " |      --------\n",
      " |      This method is available on Series with datetime values under\n",
      " |      the ``.dt`` accessor, and directly on DatetimeIndex.\n",
      " |      \n",
      " |      >>> dates = pd.Series(pd.date_range(\"2017-12-30\", periods=3))\n",
      " |      >>> dates\n",
      " |      0   2017-12-30\n",
      " |      1   2017-12-31\n",
      " |      2   2018-01-01\n",
      " |      dtype: datetime64[ns]\n",
      " |      \n",
      " |      >>> dates.dt.is_year_end\n",
      " |      0    False\n",
      " |      1     True\n",
      " |      2    False\n",
      " |      dtype: bool\n",
      " |      \n",
      " |      >>> idx = pd.date_range(\"2017-12-30\", periods=3)\n",
      " |      >>> idx\n",
      " |      DatetimeIndex(['2017-12-30', '2017-12-31', '2018-01-01'],\n",
      " |                    dtype='datetime64[ns]', freq='D')\n",
      " |      \n",
      " |      >>> idx.is_year_end\n",
      " |      array([False,  True, False])\n",
      " |  \n",
      " |  is_year_start\n",
      " |      Indicate whether the date is the first day of a year.\n",
      " |      \n",
      " |      Returns\n",
      " |      -------\n",
      " |      Series or DatetimeIndex\n",
      " |          The same type as the original data with boolean values. Series will\n",
      " |          have the same name and index. DatetimeIndex will have the same\n",
      " |          name.\n",
      " |      \n",
      " |      See Also\n",
      " |      --------\n",
      " |      is_year_end : Similar property indicating the last day of the year.\n",
      " |      \n",
      " |      Examples\n",
      " |      --------\n",
      " |      This method is available on Series with datetime values under\n",
      " |      the ``.dt`` accessor, and directly on DatetimeIndex.\n",
      " |      \n",
      " |      >>> dates = pd.Series(pd.date_range(\"2017-12-30\", periods=3))\n",
      " |      >>> dates\n",
      " |      0   2017-12-30\n",
      " |      1   2017-12-31\n",
      " |      2   2018-01-01\n",
      " |      dtype: datetime64[ns]\n",
      " |      \n",
      " |      >>> dates.dt.is_year_start\n",
      " |      0    False\n",
      " |      1    False\n",
      " |      2    True\n",
      " |      dtype: bool\n",
      " |      \n",
      " |      >>> idx = pd.date_range(\"2017-12-30\", periods=3)\n",
      " |      >>> idx\n",
      " |      DatetimeIndex(['2017-12-30', '2017-12-31', '2018-01-01'],\n",
      " |                    dtype='datetime64[ns]', freq='D')\n",
      " |      \n",
      " |      >>> idx.is_year_start\n",
      " |      array([False, False,  True])\n",
      " |  \n",
      " |  microsecond\n",
      " |      The microseconds of the datetime.\n",
      " |  \n",
      " |  minute\n",
      " |      The minutes of the datetime.\n",
      " |  \n",
      " |  month\n",
      " |      The month as January=1, December=12.\n",
      " |  \n",
      " |  nanosecond\n",
      " |      The nanoseconds of the datetime.\n",
      " |  \n",
      " |  quarter\n",
      " |      The quarter of the date.\n",
      " |  \n",
      " |  second\n",
      " |      The seconds of the datetime.\n",
      " |  \n",
      " |  time\n",
      " |      Returns numpy array of datetime.time. The time part of the Timestamps.\n",
      " |  \n",
      " |  timetz\n",
      " |      Returns numpy array of datetime.time also containing timezone\n",
      " |      information. The time part of the Timestamps.\n",
      " |  \n",
      " |  tz\n",
      " |      Return timezone, if any.\n",
      " |      \n",
      " |      Returns\n",
      " |      -------\n",
      " |      datetime.tzinfo, pytz.tzinfo.BaseTZInfo, dateutil.tz.tz.tzfile, or None\n",
      " |          Returns None when the array is tz-naive.\n",
      " |  \n",
      " |  week\n",
      " |      The week ordinal of the year.\n",
      " |  \n",
      " |  weekday\n",
      " |      The day of the week with Monday=0, Sunday=6.\n",
      " |      \n",
      " |      Return the day of the week. It is assumed the week starts on\n",
      " |      Monday, which is denoted by 0 and ends on Sunday which is denoted\n",
      " |      by 6. This method is available on both Series with datetime\n",
      " |      values (using the `dt` accessor) or DatetimeIndex.\n",
      " |      \n",
      " |      Returns\n",
      " |      -------\n",
      " |      Series or Index\n",
      " |          Containing integers indicating the day number.\n",
      " |      \n",
      " |      See Also\n",
      " |      --------\n",
      " |      Series.dt.dayofweek : Alias.\n",
      " |      Series.dt.weekday : Alias.\n",
      " |      Series.dt.day_name : Returns the name of the day of the week.\n",
      " |      \n",
      " |      Examples\n",
      " |      --------\n",
      " |      >>> s = pd.date_range('2016-12-31', '2017-01-08', freq='D').to_series()\n",
      " |      >>> s.dt.dayofweek\n",
      " |      2016-12-31    5\n",
      " |      2017-01-01    6\n",
      " |      2017-01-02    0\n",
      " |      2017-01-03    1\n",
      " |      2017-01-04    2\n",
      " |      2017-01-05    3\n",
      " |      2017-01-06    4\n",
      " |      2017-01-07    5\n",
      " |      2017-01-08    6\n",
      " |      Freq: D, dtype: int64\n",
      " |  \n",
      " |  weekofyear\n",
      " |      The week ordinal of the year.\n",
      " |  \n",
      " |  year\n",
      " |      The year of the datetime.\n",
      " |  \n",
      " |  ----------------------------------------------------------------------\n",
      " |  Methods inherited from Properties:\n",
      " |  \n",
      " |  __init__(self, data, orig)\n",
      " |      Initialize self.  See help(type(self)) for accurate signature.\n",
      " |  \n",
      " |  ----------------------------------------------------------------------\n",
      " |  Data descriptors inherited from pandas.core.accessor.PandasDelegate:\n",
      " |  \n",
      " |  __dict__\n",
      " |      dictionary for instance variables (if defined)\n",
      " |  \n",
      " |  __weakref__\n",
      " |      list of weak references to the object (if defined)\n",
      " |  \n",
      " |  ----------------------------------------------------------------------\n",
      " |  Methods inherited from pandas.core.base.PandasObject:\n",
      " |  \n",
      " |  __repr__(self) -> str\n",
      " |      Return a string representation for a particular object.\n",
      " |  \n",
      " |  __sizeof__(self)\n",
      " |      Generates the total memory usage for an object that returns\n",
      " |      either a value or Series of values\n",
      " |  \n",
      " |  ----------------------------------------------------------------------\n",
      " |  Methods inherited from pandas.core.accessor.DirNamesMixin:\n",
      " |  \n",
      " |  __dir__(self)\n",
      " |      Provide method name lookup and completion.\n",
      " |      \n",
      " |      Notes\n",
      " |      -----\n",
      " |      Only provide 'public' methods.\n",
      " |  \n",
      " |  ----------------------------------------------------------------------\n",
      " |  Data and other attributes inherited from pandas.core.accessor.DirNamesMixin:\n",
      " |  \n",
      " |  __annotations__ = {'_accessors': typing.Set[str], '_deprecations': typ...\n",
      " |  \n",
      " |  ----------------------------------------------------------------------\n",
      " |  Methods inherited from pandas.core.base.NoNewAttributesMixin:\n",
      " |  \n",
      " |  __setattr__(self, key, value)\n",
      " |      Implement setattr(self, name, value).\n",
      "\n"
     ]
    }
   ],
   "source": [
    "# To see full help documentation for the DataTime properties, uncomment the following:\n",
    "\n",
    "help(df.time.dt)"
   ]
  },
  {
   "cell_type": "markdown",
   "metadata": {},
   "source": [
    "# Indexing"
   ]
  },
  {
   "cell_type": "markdown",
   "metadata": {},
   "source": [
    "Much of the same indexing methods avialable in Numpy can be applied to Pandas DataFrames and Series."
   ]
  },
  {
   "cell_type": "markdown",
   "metadata": {},
   "source": [
    "## Column Indexing"
   ]
  },
  {
   "cell_type": "markdown",
   "metadata": {},
   "source": [
    "...can be indexed by brackets or by .attribute accessor"
   ]
  },
  {
   "cell_type": "code",
   "execution_count": 144,
   "metadata": {},
   "outputs": [
    {
     "data": {
      "text/plain": [
       "Index(['abv', 'beer_id', 'brewer_id', 'beer_name', 'beer_style', 'review_appearance',\n",
       "       'review_aroma', 'review_overall', 'review_palate', 'profile_name', 'review_taste', 'text',\n",
       "       'time', 'alcohol'],\n",
       "      dtype='object')"
      ]
     },
     "execution_count": 144,
     "metadata": {},
     "output_type": "execute_result"
    }
   ],
   "source": [
    "# Recall the column names: they are your \"indices\"\n",
    "df.columns"
   ]
  },
  {
   "cell_type": "code",
   "execution_count": 145,
   "metadata": {},
   "outputs": [
    {
     "data": {
      "text/plain": [
       "0                                  Bell's Cherry Stout\n",
       "1                                   Duck-Rabbit Porter\n",
       "2                         Fürstenberg Premium Pilsener\n",
       "                             ...                      \n",
       "49997           Terrapin Coffee Oatmeal Imperial Stout\n",
       "49998                              Badger Original Ale\n",
       "49999    Barrel Aged B.O.R.I.S. Oatmeal Imperial Stout\n",
       "Name: beer_name, Length: 50000, dtype: object"
      ]
     },
     "execution_count": 145,
     "metadata": {},
     "output_type": "execute_result"
    }
   ],
   "source": [
    "# \"Indexing\" by brackets and any one of the column names/labels\n",
    "\n",
    "df['beer_name']"
   ]
  },
  {
   "cell_type": "code",
   "execution_count": 146,
   "metadata": {},
   "outputs": [
    {
     "data": {
      "text/plain": [
       "0             Bell's Cherry Stout\n",
       "1              Duck-Rabbit Porter\n",
       "2    Fürstenberg Premium Pilsener\n",
       "Name: beer_name, dtype: object"
      ]
     },
     "execution_count": 146,
     "metadata": {},
     "output_type": "execute_result"
    }
   ],
   "source": [
    "# Indexing into rows of the column\n",
    "\n",
    "df['beer_name'][0:3]"
   ]
  },
  {
   "cell_type": "code",
   "execution_count": 147,
   "metadata": {},
   "outputs": [
    {
     "data": {
      "text/plain": [
       "0                                  Bell's Cherry Stout\n",
       "1                                   Duck-Rabbit Porter\n",
       "2                         Fürstenberg Premium Pilsener\n",
       "                             ...                      \n",
       "49997           Terrapin Coffee Oatmeal Imperial Stout\n",
       "49998                              Badger Original Ale\n",
       "49999    Barrel Aged B.O.R.I.S. Oatmeal Imperial Stout\n",
       "Name: beer_name, Length: 50000, dtype: object"
      ]
     },
     "execution_count": 147,
     "metadata": {},
     "output_type": "execute_result"
    }
   ],
   "source": [
    " # Index by .attribute accessor\n",
    "    \n",
    "df.beer_name"
   ]
  },
  {
   "cell_type": "code",
   "execution_count": 148,
   "metadata": {},
   "outputs": [
    {
     "data": {
      "text/plain": [
       "0             Bell's Cherry Stout\n",
       "1              Duck-Rabbit Porter\n",
       "2    Fürstenberg Premium Pilsener\n",
       "Name: beer_name, dtype: object"
      ]
     },
     "execution_count": 148,
     "metadata": {},
     "output_type": "execute_result"
    }
   ],
   "source": [
    "# Indexing into rows of the column\n",
    "\n",
    "df.beer_name[0:3]"
   ]
  },
  {
   "cell_type": "markdown",
   "metadata": {},
   "source": [
    "Columns are indexed first, then rows"
   ]
  },
  {
   "cell_type": "code",
   "execution_count": 149,
   "metadata": {},
   "outputs": [
    {
     "data": {
      "text/plain": [
       "\"Bell's Cherry Stout\""
      ]
     },
     "execution_count": 149,
     "metadata": {},
     "output_type": "execute_result"
    }
   ],
   "source": [
    "df['beer_name'][0]"
   ]
  },
  {
   "cell_type": "code",
   "execution_count": 150,
   "metadata": {},
   "outputs": [
    {
     "data": {
      "text/plain": [
       "0             Bell's Cherry Stout\n",
       "1              Duck-Rabbit Porter\n",
       "2    Fürstenberg Premium Pilsener\n",
       "Name: beer_name, dtype: object"
      ]
     },
     "execution_count": 150,
     "metadata": {},
     "output_type": "execute_result"
    }
   ],
   "source": [
    "df['beer_name'][0:3]"
   ]
  },
  {
   "cell_type": "markdown",
   "metadata": {},
   "source": [
    "Summary: DataFrames and indexed by (1) by Column and then (2) by Row"
   ]
  },
  {
   "cell_type": "markdown",
   "metadata": {},
   "source": [
    "## Boolean arrays"
   ]
  },
  {
   "cell_type": "code",
   "execution_count": 152,
   "metadata": {},
   "outputs": [
    {
     "data": {
      "text/plain": [
       "0        False\n",
       "1        False\n",
       "2         True\n",
       "         ...  \n",
       "49997    False\n",
       "49998     True\n",
       "49999    False\n",
       "Name: abv, Length: 50000, dtype: bool"
      ]
     },
     "execution_count": 152,
     "metadata": {},
     "output_type": "execute_result"
    }
   ],
   "source": [
    "# boolean series\n",
    "df.abv < 5"
   ]
  },
  {
   "cell_type": "code",
   "execution_count": 153,
   "metadata": {},
   "outputs": [
    {
     "data": {
      "text/html": [
       "<div>\n",
       "<style scoped>\n",
       "    .dataframe tbody tr th:only-of-type {\n",
       "        vertical-align: middle;\n",
       "    }\n",
       "\n",
       "    .dataframe tbody tr th {\n",
       "        vertical-align: top;\n",
       "    }\n",
       "\n",
       "    .dataframe thead th {\n",
       "        text-align: right;\n",
       "    }\n",
       "</style>\n",
       "<table border=\"1\" class=\"dataframe\">\n",
       "  <thead>\n",
       "    <tr style=\"text-align: right;\">\n",
       "      <th></th>\n",
       "      <th>abv</th>\n",
       "      <th>beer_id</th>\n",
       "      <th>brewer_id</th>\n",
       "      <th>beer_name</th>\n",
       "      <th>...</th>\n",
       "      <th>review_taste</th>\n",
       "      <th>text</th>\n",
       "      <th>time</th>\n",
       "      <th>alcohol</th>\n",
       "    </tr>\n",
       "  </thead>\n",
       "  <tbody>\n",
       "    <tr>\n",
       "      <th>2</th>\n",
       "      <td>4.8</td>\n",
       "      <td>11098</td>\n",
       "      <td>3182</td>\n",
       "      <td>Fürstenberg Premium Pilsener</td>\n",
       "      <td>...</td>\n",
       "      <td>3.5</td>\n",
       "      <td>Haystack yellow with an energetic group of bu...</td>\n",
       "      <td>2009-10-05 21:32:13</td>\n",
       "      <td>4.8</td>\n",
       "    </tr>\n",
       "    <tr>\n",
       "      <th>7</th>\n",
       "      <td>4.8</td>\n",
       "      <td>1669</td>\n",
       "      <td>256</td>\n",
       "      <td>Great White</td>\n",
       "      <td>...</td>\n",
       "      <td>4.5</td>\n",
       "      <td>Ok, for starters great white I believe will b...</td>\n",
       "      <td>2009-10-05 21:34:29</td>\n",
       "      <td>4.8</td>\n",
       "    </tr>\n",
       "    <tr>\n",
       "      <th>21</th>\n",
       "      <td>4.6</td>\n",
       "      <td>401</td>\n",
       "      <td>118</td>\n",
       "      <td>Dark Island</td>\n",
       "      <td>...</td>\n",
       "      <td>4.0</td>\n",
       "      <td>Poured into a snifter, revealing black opaque...</td>\n",
       "      <td>2009-10-05 21:47:36</td>\n",
       "      <td>4.6</td>\n",
       "    </tr>\n",
       "    <tr>\n",
       "      <th>...</th>\n",
       "      <td>...</td>\n",
       "      <td>...</td>\n",
       "      <td>...</td>\n",
       "      <td>...</td>\n",
       "      <td>...</td>\n",
       "      <td>...</td>\n",
       "      <td>...</td>\n",
       "      <td>...</td>\n",
       "      <td>...</td>\n",
       "    </tr>\n",
       "    <tr>\n",
       "      <th>49976</th>\n",
       "      <td>4.7</td>\n",
       "      <td>18552</td>\n",
       "      <td>9663</td>\n",
       "      <td>Ichnusa</td>\n",
       "      <td>...</td>\n",
       "      <td>2.0</td>\n",
       "      <td>When in Sardinia I drink this beer, and altho...</td>\n",
       "      <td>2009-12-25 15:43:48</td>\n",
       "      <td>4.7</td>\n",
       "    </tr>\n",
       "    <tr>\n",
       "      <th>49980</th>\n",
       "      <td>4.1</td>\n",
       "      <td>51464</td>\n",
       "      <td>29</td>\n",
       "      <td>Bud Light Golden Wheat</td>\n",
       "      <td>...</td>\n",
       "      <td>3.5</td>\n",
       "      <td>Not quite as good as other wheat beers, but i...</td>\n",
       "      <td>2009-12-25 15:57:12</td>\n",
       "      <td>4.1</td>\n",
       "    </tr>\n",
       "    <tr>\n",
       "      <th>49998</th>\n",
       "      <td>4.6</td>\n",
       "      <td>5453</td>\n",
       "      <td>1306</td>\n",
       "      <td>Badger Original Ale</td>\n",
       "      <td>...</td>\n",
       "      <td>3.5</td>\n",
       "      <td>500ml brown bottle, 4.0% ABV. Pours a crystal...</td>\n",
       "      <td>2009-12-25 17:25:06</td>\n",
       "      <td>4.6</td>\n",
       "    </tr>\n",
       "  </tbody>\n",
       "</table>\n",
       "<p>5399 rows × 14 columns</p>\n",
       "</div>"
      ],
      "text/plain": [
       "       abv  beer_id  brewer_id                     beer_name  ... review_taste  \\\n",
       "2      4.8    11098       3182  Fürstenberg Premium Pilsener  ...          3.5   \n",
       "7      4.8     1669        256                   Great White  ...          4.5   \n",
       "21     4.6      401        118                   Dark Island  ...          4.0   \n",
       "...    ...      ...        ...                           ...  ...          ...   \n",
       "49976  4.7    18552       9663                       Ichnusa  ...          2.0   \n",
       "49980  4.1    51464         29        Bud Light Golden Wheat  ...          3.5   \n",
       "49998  4.6     5453       1306           Badger Original Ale  ...          3.5   \n",
       "\n",
       "                                                    text                time  alcohol  \n",
       "2       Haystack yellow with an energetic group of bu... 2009-10-05 21:32:13      4.8  \n",
       "7       Ok, for starters great white I believe will b... 2009-10-05 21:34:29      4.8  \n",
       "21      Poured into a snifter, revealing black opaque... 2009-10-05 21:47:36      4.6  \n",
       "...                                                  ...                 ...      ...  \n",
       "49976   When in Sardinia I drink this beer, and altho... 2009-12-25 15:43:48      4.7  \n",
       "49980   Not quite as good as other wheat beers, but i... 2009-12-25 15:57:12      4.1  \n",
       "49998   500ml brown bottle, 4.0% ABV. Pours a crystal... 2009-12-25 17:25:06      4.6  \n",
       "\n",
       "[5399 rows x 14 columns]"
      ]
     },
     "execution_count": 153,
     "metadata": {},
     "output_type": "execute_result"
    }
   ],
   "source": [
    "# boolean indexing along rows\n",
    "# The index value from the full dataframe is preserved\n",
    "df[df.abv < 5]\n",
    "\n",
    "# Note the number of rows left after the operation"
   ]
  },
  {
   "cell_type": "markdown",
   "metadata": {},
   "source": [
    "## The `.loc` accessor"
   ]
  },
  {
   "cell_type": "markdown",
   "metadata": {},
   "source": [
    "The `.loc` accessor method allows for chained selection of rows and columns. \n",
    "\n",
    "The selection pattern is row first\n",
    "\n",
    "```\n",
    "df.loc[ row , column ]\n",
    "```"
   ]
  },
  {
   "cell_type": "markdown",
   "metadata": {},
   "source": [
    "**Remember**: using `.loc` means that the right endpoint in a slice is returned."
   ]
  },
  {
   "cell_type": "code",
   "execution_count": 154,
   "metadata": {},
   "outputs": [
    {
     "data": {
      "text/html": [
       "<div>\n",
       "<style scoped>\n",
       "    .dataframe tbody tr th:only-of-type {\n",
       "        vertical-align: middle;\n",
       "    }\n",
       "\n",
       "    .dataframe tbody tr th {\n",
       "        vertical-align: top;\n",
       "    }\n",
       "\n",
       "    .dataframe thead th {\n",
       "        text-align: right;\n",
       "    }\n",
       "</style>\n",
       "<table border=\"1\" class=\"dataframe\">\n",
       "  <thead>\n",
       "    <tr style=\"text-align: right;\">\n",
       "      <th></th>\n",
       "      <th>abv</th>\n",
       "      <th>beer_id</th>\n",
       "      <th>brewer_id</th>\n",
       "      <th>beer_name</th>\n",
       "      <th>...</th>\n",
       "      <th>review_taste</th>\n",
       "      <th>text</th>\n",
       "      <th>time</th>\n",
       "      <th>alcohol</th>\n",
       "    </tr>\n",
       "  </thead>\n",
       "  <tbody>\n",
       "    <tr>\n",
       "      <th>0</th>\n",
       "      <td>7.0</td>\n",
       "      <td>2511</td>\n",
       "      <td>287</td>\n",
       "      <td>Bell's Cherry Stout</td>\n",
       "      <td>...</td>\n",
       "      <td>4.5</td>\n",
       "      <td>Batch 8144\\tPitch black in color with a 1/2 f...</td>\n",
       "      <td>2009-10-05 21:31:48</td>\n",
       "      <td>7.0</td>\n",
       "    </tr>\n",
       "    <tr>\n",
       "      <th>1</th>\n",
       "      <td>5.7</td>\n",
       "      <td>19736</td>\n",
       "      <td>9790</td>\n",
       "      <td>Duck-Rabbit Porter</td>\n",
       "      <td>...</td>\n",
       "      <td>4.0</td>\n",
       "      <td>Sampled from a 12oz bottle in a standard pint...</td>\n",
       "      <td>2009-10-05 21:32:09</td>\n",
       "      <td>5.7</td>\n",
       "    </tr>\n",
       "    <tr>\n",
       "      <th>2</th>\n",
       "      <td>4.8</td>\n",
       "      <td>11098</td>\n",
       "      <td>3182</td>\n",
       "      <td>Fürstenberg Premium Pilsener</td>\n",
       "      <td>...</td>\n",
       "      <td>3.5</td>\n",
       "      <td>Haystack yellow with an energetic group of bu...</td>\n",
       "      <td>2009-10-05 21:32:13</td>\n",
       "      <td>4.8</td>\n",
       "    </tr>\n",
       "  </tbody>\n",
       "</table>\n",
       "<p>3 rows × 14 columns</p>\n",
       "</div>"
      ],
      "text/plain": [
       "   abv  beer_id  brewer_id                     beer_name  ... review_taste  \\\n",
       "0  7.0     2511        287           Bell's Cherry Stout  ...          4.5   \n",
       "1  5.7    19736       9790            Duck-Rabbit Porter  ...          4.0   \n",
       "2  4.8    11098       3182  Fürstenberg Premium Pilsener  ...          3.5   \n",
       "\n",
       "                                                text                time  alcohol  \n",
       "0   Batch 8144\\tPitch black in color with a 1/2 f... 2009-10-05 21:31:48      7.0  \n",
       "1   Sampled from a 12oz bottle in a standard pint... 2009-10-05 21:32:09      5.7  \n",
       "2   Haystack yellow with an energetic group of bu... 2009-10-05 21:32:13      4.8  \n",
       "\n",
       "[3 rows x 14 columns]"
      ]
     },
     "execution_count": 154,
     "metadata": {},
     "output_type": "execute_result"
    }
   ],
   "source": [
    "df.head(3)"
   ]
  },
  {
   "cell_type": "code",
   "execution_count": 155,
   "metadata": {},
   "outputs": [
    {
     "data": {
      "text/plain": [
       "7.0"
      ]
     },
     "execution_count": 155,
     "metadata": {},
     "output_type": "execute_result"
    }
   ],
   "source": [
    "df.loc[0,'abv']"
   ]
  },
  {
   "cell_type": "code",
   "execution_count": 156,
   "metadata": {},
   "outputs": [
    {
     "data": {
      "text/plain": [
       "Timestamp('2009-10-05 21:32:13')"
      ]
     },
     "execution_count": 156,
     "metadata": {},
     "output_type": "execute_result"
    }
   ],
   "source": [
    "df.loc[2,'time']"
   ]
  },
  {
   "cell_type": "markdown",
   "metadata": {},
   "source": [
    "The values passed to `.loc` for either rows or columns can be values in the indices or **boolean indexing arrays**."
   ]
  },
  {
   "cell_type": "code",
   "execution_count": 157,
   "metadata": {},
   "outputs": [
    {
     "data": {
      "text/html": [
       "<div>\n",
       "<style scoped>\n",
       "    .dataframe tbody tr th:only-of-type {\n",
       "        vertical-align: middle;\n",
       "    }\n",
       "\n",
       "    .dataframe tbody tr th {\n",
       "        vertical-align: top;\n",
       "    }\n",
       "\n",
       "    .dataframe thead th {\n",
       "        text-align: right;\n",
       "    }\n",
       "</style>\n",
       "<table border=\"1\" class=\"dataframe\">\n",
       "  <thead>\n",
       "    <tr style=\"text-align: right;\">\n",
       "      <th></th>\n",
       "      <th>beer_style</th>\n",
       "      <th>review_overall</th>\n",
       "    </tr>\n",
       "  </thead>\n",
       "  <tbody>\n",
       "    <tr>\n",
       "      <th>2</th>\n",
       "      <td>German Pilsener</td>\n",
       "      <td>3.0</td>\n",
       "    </tr>\n",
       "    <tr>\n",
       "      <th>7</th>\n",
       "      <td>Witbier</td>\n",
       "      <td>4.5</td>\n",
       "    </tr>\n",
       "    <tr>\n",
       "      <th>21</th>\n",
       "      <td>Scottish Ale</td>\n",
       "      <td>3.5</td>\n",
       "    </tr>\n",
       "    <tr>\n",
       "      <th>...</th>\n",
       "      <td>...</td>\n",
       "      <td>...</td>\n",
       "    </tr>\n",
       "    <tr>\n",
       "      <th>49976</th>\n",
       "      <td>Euro Pale Lager</td>\n",
       "      <td>3.0</td>\n",
       "    </tr>\n",
       "    <tr>\n",
       "      <th>49980</th>\n",
       "      <td>Herbed / Spiced Beer</td>\n",
       "      <td>4.0</td>\n",
       "    </tr>\n",
       "    <tr>\n",
       "      <th>49998</th>\n",
       "      <td>English Pale Ale</td>\n",
       "      <td>4.0</td>\n",
       "    </tr>\n",
       "  </tbody>\n",
       "</table>\n",
       "<p>5399 rows × 2 columns</p>\n",
       "</div>"
      ],
      "text/plain": [
       "                 beer_style  review_overall\n",
       "2           German Pilsener             3.0\n",
       "7                   Witbier             4.5\n",
       "21             Scottish Ale             3.5\n",
       "...                     ...             ...\n",
       "49976       Euro Pale Lager             3.0\n",
       "49980  Herbed / Spiced Beer             4.0\n",
       "49998      English Pale Ale             4.0\n",
       "\n",
       "[5399 rows x 2 columns]"
      ]
     },
     "execution_count": 157,
     "metadata": {},
     "output_type": "execute_result"
    }
   ],
   "source": [
    "df.loc[df.abv < 5, ['beer_style', 'review_overall']]"
   ]
  },
  {
   "cell_type": "markdown",
   "metadata": {},
   "source": [
    "Using bitwise comparison operations between boolean arrays can provide complex selection logic."
   ]
  },
  {
   "cell_type": "code",
   "execution_count": 158,
   "metadata": {},
   "outputs": [
    {
     "data": {
      "text/plain": [
       "0        False\n",
       "1        False\n",
       "2         True\n",
       "         ...  \n",
       "49997    False\n",
       "49998     True\n",
       "49999    False\n",
       "Length: 50000, dtype: bool"
      ]
     },
     "execution_count": 158,
     "metadata": {},
     "output_type": "execute_result"
    }
   ],
   "source": [
    "# reviews written after June 2009 for beer with abv<5\n",
    "(df.abv < 5) & (df.time > pd.Timestamp('2009-06'))"
   ]
  },
  {
   "cell_type": "code",
   "execution_count": 159,
   "metadata": {},
   "outputs": [
    {
     "data": {
      "text/html": [
       "<div>\n",
       "<style scoped>\n",
       "    .dataframe tbody tr th:only-of-type {\n",
       "        vertical-align: middle;\n",
       "    }\n",
       "\n",
       "    .dataframe tbody tr th {\n",
       "        vertical-align: top;\n",
       "    }\n",
       "\n",
       "    .dataframe thead th {\n",
       "        text-align: right;\n",
       "    }\n",
       "</style>\n",
       "<table border=\"1\" class=\"dataframe\">\n",
       "  <thead>\n",
       "    <tr style=\"text-align: right;\">\n",
       "      <th></th>\n",
       "      <th>abv</th>\n",
       "      <th>beer_id</th>\n",
       "      <th>brewer_id</th>\n",
       "      <th>beer_name</th>\n",
       "      <th>...</th>\n",
       "      <th>review_taste</th>\n",
       "      <th>text</th>\n",
       "      <th>time</th>\n",
       "      <th>alcohol</th>\n",
       "    </tr>\n",
       "  </thead>\n",
       "  <tbody>\n",
       "    <tr>\n",
       "      <th>0</th>\n",
       "      <td>7.0</td>\n",
       "      <td>2511</td>\n",
       "      <td>287</td>\n",
       "      <td>Bell's Cherry Stout</td>\n",
       "      <td>...</td>\n",
       "      <td>4.5</td>\n",
       "      <td>Batch 8144\\tPitch black in color with a 1/2 f...</td>\n",
       "      <td>2009-10-05 21:31:48</td>\n",
       "      <td>7.0</td>\n",
       "    </tr>\n",
       "    <tr>\n",
       "      <th>1</th>\n",
       "      <td>5.7</td>\n",
       "      <td>19736</td>\n",
       "      <td>9790</td>\n",
       "      <td>Duck-Rabbit Porter</td>\n",
       "      <td>...</td>\n",
       "      <td>4.0</td>\n",
       "      <td>Sampled from a 12oz bottle in a standard pint...</td>\n",
       "      <td>2009-10-05 21:32:09</td>\n",
       "      <td>5.7</td>\n",
       "    </tr>\n",
       "    <tr>\n",
       "      <th>2</th>\n",
       "      <td>4.8</td>\n",
       "      <td>11098</td>\n",
       "      <td>3182</td>\n",
       "      <td>Fürstenberg Premium Pilsener</td>\n",
       "      <td>...</td>\n",
       "      <td>3.5</td>\n",
       "      <td>Haystack yellow with an energetic group of bu...</td>\n",
       "      <td>2009-10-05 21:32:13</td>\n",
       "      <td>4.8</td>\n",
       "    </tr>\n",
       "    <tr>\n",
       "      <th>...</th>\n",
       "      <td>...</td>\n",
       "      <td>...</td>\n",
       "      <td>...</td>\n",
       "      <td>...</td>\n",
       "      <td>...</td>\n",
       "      <td>...</td>\n",
       "      <td>...</td>\n",
       "      <td>...</td>\n",
       "      <td>...</td>\n",
       "    </tr>\n",
       "    <tr>\n",
       "      <th>49997</th>\n",
       "      <td>8.1</td>\n",
       "      <td>21950</td>\n",
       "      <td>2372</td>\n",
       "      <td>Terrapin Coffee Oatmeal Imperial Stout</td>\n",
       "      <td>...</td>\n",
       "      <td>4.5</td>\n",
       "      <td>Poured a light sucking crude oil beckoning bl...</td>\n",
       "      <td>2009-12-25 17:23:52</td>\n",
       "      <td>8.1</td>\n",
       "    </tr>\n",
       "    <tr>\n",
       "      <th>49998</th>\n",
       "      <td>4.6</td>\n",
       "      <td>5453</td>\n",
       "      <td>1306</td>\n",
       "      <td>Badger Original Ale</td>\n",
       "      <td>...</td>\n",
       "      <td>3.5</td>\n",
       "      <td>500ml brown bottle, 4.0% ABV. Pours a crystal...</td>\n",
       "      <td>2009-12-25 17:25:06</td>\n",
       "      <td>4.6</td>\n",
       "    </tr>\n",
       "    <tr>\n",
       "      <th>49999</th>\n",
       "      <td>9.4</td>\n",
       "      <td>47695</td>\n",
       "      <td>14879</td>\n",
       "      <td>Barrel Aged B.O.R.I.S. Oatmeal Imperial Stout</td>\n",
       "      <td>...</td>\n",
       "      <td>4.5</td>\n",
       "      <td>22 oz bottle poured into a flute glass, share...</td>\n",
       "      <td>2009-12-25 17:26:06</td>\n",
       "      <td>9.4</td>\n",
       "    </tr>\n",
       "  </tbody>\n",
       "</table>\n",
       "<p>18007 rows × 14 columns</p>\n",
       "</div>"
      ],
      "text/plain": [
       "       abv  beer_id  brewer_id                                      beer_name  ... review_taste  \\\n",
       "0      7.0     2511        287                            Bell's Cherry Stout  ...          4.5   \n",
       "1      5.7    19736       9790                             Duck-Rabbit Porter  ...          4.0   \n",
       "2      4.8    11098       3182                   Fürstenberg Premium Pilsener  ...          3.5   \n",
       "...    ...      ...        ...                                            ...  ...          ...   \n",
       "49997  8.1    21950       2372         Terrapin Coffee Oatmeal Imperial Stout  ...          4.5   \n",
       "49998  4.6     5453       1306                            Badger Original Ale  ...          3.5   \n",
       "49999  9.4    47695      14879  Barrel Aged B.O.R.I.S. Oatmeal Imperial Stout  ...          4.5   \n",
       "\n",
       "                                                    text                time  alcohol  \n",
       "0       Batch 8144\\tPitch black in color with a 1/2 f... 2009-10-05 21:31:48      7.0  \n",
       "1       Sampled from a 12oz bottle in a standard pint... 2009-10-05 21:32:09      5.7  \n",
       "2       Haystack yellow with an energetic group of bu... 2009-10-05 21:32:13      4.8  \n",
       "...                                                  ...                 ...      ...  \n",
       "49997   Poured a light sucking crude oil beckoning bl... 2009-12-25 17:23:52      8.1  \n",
       "49998   500ml brown bottle, 4.0% ABV. Pours a crystal... 2009-12-25 17:25:06      4.6  \n",
       "49999   22 oz bottle poured into a flute glass, share... 2009-12-25 17:26:06      9.4  \n",
       "\n",
       "[18007 rows x 14 columns]"
      ]
     },
     "execution_count": 159,
     "metadata": {},
     "output_type": "execute_result"
    }
   ],
   "source": [
    "# reviews written after June 2009 for beer with abv<5 OR reviews with a rating >= 4.5\n",
    "boolean_chain = ( \n",
    "                   ( (df.abv < 5)  & (df.time > pd.Timestamp('2009-06'))  )\n",
    "                 | (df.review_overall >= 4.5)\n",
    "                 )\n",
    "df[boolean_chain]"
   ]
  },
  {
   "cell_type": "markdown",
   "metadata": {},
   "source": [
    "## isin with strings"
   ]
  },
  {
   "cell_type": "code",
   "execution_count": 160,
   "metadata": {},
   "outputs": [
    {
     "data": {
      "text/plain": [
       "0        False\n",
       "1        False\n",
       "2        False\n",
       "         ...  \n",
       "49997    False\n",
       "49998    False\n",
       "49999    False\n",
       "Name: beer_style, Length: 50000, dtype: bool"
      ]
     },
     "execution_count": 160,
     "metadata": {},
     "output_type": "execute_result"
    }
   ],
   "source": [
    "# .contains() method returns booleans...\n",
    "\n",
    "df.beer_style.str.contains('IPA')"
   ]
  },
  {
   "cell_type": "code",
   "execution_count": 161,
   "metadata": {},
   "outputs": [
    {
     "data": {
      "text/html": [
       "<div>\n",
       "<style scoped>\n",
       "    .dataframe tbody tr th:only-of-type {\n",
       "        vertical-align: middle;\n",
       "    }\n",
       "\n",
       "    .dataframe tbody tr th {\n",
       "        vertical-align: top;\n",
       "    }\n",
       "\n",
       "    .dataframe thead th {\n",
       "        text-align: right;\n",
       "    }\n",
       "</style>\n",
       "<table border=\"1\" class=\"dataframe\">\n",
       "  <thead>\n",
       "    <tr style=\"text-align: right;\">\n",
       "      <th></th>\n",
       "      <th>abv</th>\n",
       "      <th>beer_id</th>\n",
       "      <th>brewer_id</th>\n",
       "      <th>beer_name</th>\n",
       "      <th>...</th>\n",
       "      <th>review_taste</th>\n",
       "      <th>text</th>\n",
       "      <th>time</th>\n",
       "      <th>alcohol</th>\n",
       "    </tr>\n",
       "  </thead>\n",
       "  <tbody>\n",
       "    <tr>\n",
       "      <th>3</th>\n",
       "      <td>9.5</td>\n",
       "      <td>28577</td>\n",
       "      <td>3818</td>\n",
       "      <td>Unearthly (Imperial India Pale Ale)</td>\n",
       "      <td>...</td>\n",
       "      <td>4.0</td>\n",
       "      <td>The aroma has pine, wood, citrus, caramel, an...</td>\n",
       "      <td>2009-10-05 21:32:37</td>\n",
       "      <td>9.5</td>\n",
       "    </tr>\n",
       "    <tr>\n",
       "      <th>8</th>\n",
       "      <td>6.7</td>\n",
       "      <td>6549</td>\n",
       "      <td>140</td>\n",
       "      <td>Northern Hemisphere Harvest Wet Hop Ale</td>\n",
       "      <td>...</td>\n",
       "      <td>4.0</td>\n",
       "      <td>I like all of Sierra Nevada's beers but felt ...</td>\n",
       "      <td>2009-10-05 21:34:31</td>\n",
       "      <td>6.7</td>\n",
       "    </tr>\n",
       "    <tr>\n",
       "      <th>16</th>\n",
       "      <td>8.0</td>\n",
       "      <td>36179</td>\n",
       "      <td>3818</td>\n",
       "      <td>Hoppe (Imperial Extra Pale Ale)</td>\n",
       "      <td>...</td>\n",
       "      <td>3.0</td>\n",
       "      <td>The aroma is papery with citrus, yeast, and s...</td>\n",
       "      <td>2009-10-05 21:43:23</td>\n",
       "      <td>8.0</td>\n",
       "    </tr>\n",
       "    <tr>\n",
       "      <th>...</th>\n",
       "      <td>...</td>\n",
       "      <td>...</td>\n",
       "      <td>...</td>\n",
       "      <td>...</td>\n",
       "      <td>...</td>\n",
       "      <td>...</td>\n",
       "      <td>...</td>\n",
       "      <td>...</td>\n",
       "      <td>...</td>\n",
       "    </tr>\n",
       "    <tr>\n",
       "      <th>49947</th>\n",
       "      <td>7.0</td>\n",
       "      <td>709</td>\n",
       "      <td>199</td>\n",
       "      <td>Big Eye IPA</td>\n",
       "      <td>...</td>\n",
       "      <td>4.0</td>\n",
       "      <td>12oz into my pint glass.\\t\\tA: Golden honey a...</td>\n",
       "      <td>2009-12-25 08:48:11</td>\n",
       "      <td>7.0</td>\n",
       "    </tr>\n",
       "    <tr>\n",
       "      <th>49984</th>\n",
       "      <td>6.0</td>\n",
       "      <td>38388</td>\n",
       "      <td>3718</td>\n",
       "      <td>L'IPA Du Lièvre</td>\n",
       "      <td>...</td>\n",
       "      <td>4.5</td>\n",
       "      <td>I love this beer, seek it out when I am in Mo...</td>\n",
       "      <td>2009-12-25 16:25:45</td>\n",
       "      <td>6.0</td>\n",
       "    </tr>\n",
       "    <tr>\n",
       "      <th>49996</th>\n",
       "      <td>8.0</td>\n",
       "      <td>7971</td>\n",
       "      <td>863</td>\n",
       "      <td>Pliny The Elder</td>\n",
       "      <td>...</td>\n",
       "      <td>4.0</td>\n",
       "      <td>This is a big hoppy monster of an IPA..If you...</td>\n",
       "      <td>2009-12-25 17:23:24</td>\n",
       "      <td>8.0</td>\n",
       "    </tr>\n",
       "  </tbody>\n",
       "</table>\n",
       "<p>7774 rows × 14 columns</p>\n",
       "</div>"
      ],
      "text/plain": [
       "       abv  beer_id  brewer_id                                beer_name  ... review_taste  \\\n",
       "3      9.5    28577       3818      Unearthly (Imperial India Pale Ale)  ...          4.0   \n",
       "8      6.7     6549        140  Northern Hemisphere Harvest Wet Hop Ale  ...          4.0   \n",
       "16     8.0    36179       3818          Hoppe (Imperial Extra Pale Ale)  ...          3.0   \n",
       "...    ...      ...        ...                                      ...  ...          ...   \n",
       "49947  7.0      709        199                              Big Eye IPA  ...          4.0   \n",
       "49984  6.0    38388       3718                          L'IPA Du Lièvre  ...          4.5   \n",
       "49996  8.0     7971        863                          Pliny The Elder  ...          4.0   \n",
       "\n",
       "                                                    text                time  alcohol  \n",
       "3       The aroma has pine, wood, citrus, caramel, an... 2009-10-05 21:32:37      9.5  \n",
       "8       I like all of Sierra Nevada's beers but felt ... 2009-10-05 21:34:31      6.7  \n",
       "16      The aroma is papery with citrus, yeast, and s... 2009-10-05 21:43:23      8.0  \n",
       "...                                                  ...                 ...      ...  \n",
       "49947   12oz into my pint glass.\\t\\tA: Golden honey a... 2009-12-25 08:48:11      7.0  \n",
       "49984   I love this beer, seek it out when I am in Mo... 2009-12-25 16:25:45      6.0  \n",
       "49996   This is a big hoppy monster of an IPA..If you... 2009-12-25 17:23:24      8.0  \n",
       "\n",
       "[7774 rows x 14 columns]"
      ]
     },
     "execution_count": 161,
     "metadata": {},
     "output_type": "execute_result"
    }
   ],
   "source": [
    "#... so .contain() can be used with .loc() as well:\n",
    "\n",
    "df[df.beer_style.str.contains('IPA')]"
   ]
  },
  {
   "cell_type": "code",
   "execution_count": 162,
   "metadata": {},
   "outputs": [
    {
     "data": {
      "text/html": [
       "<div>\n",
       "<style scoped>\n",
       "    .dataframe tbody tr th:only-of-type {\n",
       "        vertical-align: middle;\n",
       "    }\n",
       "\n",
       "    .dataframe tbody tr th {\n",
       "        vertical-align: top;\n",
       "    }\n",
       "\n",
       "    .dataframe thead th {\n",
       "        text-align: right;\n",
       "    }\n",
       "</style>\n",
       "<table border=\"1\" class=\"dataframe\">\n",
       "  <thead>\n",
       "    <tr style=\"text-align: right;\">\n",
       "      <th></th>\n",
       "      <th>abv</th>\n",
       "      <th>beer_id</th>\n",
       "      <th>brewer_id</th>\n",
       "      <th>review_appearance</th>\n",
       "      <th>...</th>\n",
       "      <th>review_overall</th>\n",
       "      <th>review_palate</th>\n",
       "      <th>review_taste</th>\n",
       "      <th>alcohol</th>\n",
       "    </tr>\n",
       "  </thead>\n",
       "  <tbody>\n",
       "    <tr>\n",
       "      <th>count</th>\n",
       "      <td>7573.000000</td>\n",
       "      <td>7774.000000</td>\n",
       "      <td>7774.000000</td>\n",
       "      <td>7774.000000</td>\n",
       "      <td>...</td>\n",
       "      <td>7774.000000</td>\n",
       "      <td>7774.000000</td>\n",
       "      <td>7774.000000</td>\n",
       "      <td>7573.000000</td>\n",
       "    </tr>\n",
       "    <tr>\n",
       "      <th>mean</th>\n",
       "      <td>7.647368</td>\n",
       "      <td>28153.392977</td>\n",
       "      <td>3517.474016</td>\n",
       "      <td>4.042256</td>\n",
       "      <td>...</td>\n",
       "      <td>4.002508</td>\n",
       "      <td>3.945266</td>\n",
       "      <td>3.996977</td>\n",
       "      <td>7.647368</td>\n",
       "    </tr>\n",
       "    <tr>\n",
       "      <th>std</th>\n",
       "      <td>1.761671</td>\n",
       "      <td>18962.917960</td>\n",
       "      <td>5405.981214</td>\n",
       "      <td>0.474063</td>\n",
       "      <td>...</td>\n",
       "      <td>0.614975</td>\n",
       "      <td>0.528179</td>\n",
       "      <td>0.596710</td>\n",
       "      <td>1.761671</td>\n",
       "    </tr>\n",
       "    <tr>\n",
       "      <th>...</th>\n",
       "      <td>...</td>\n",
       "      <td>...</td>\n",
       "      <td>...</td>\n",
       "      <td>...</td>\n",
       "      <td>...</td>\n",
       "      <td>...</td>\n",
       "      <td>...</td>\n",
       "      <td>...</td>\n",
       "      <td>...</td>\n",
       "    </tr>\n",
       "    <tr>\n",
       "      <th>50%</th>\n",
       "      <td>7.000000</td>\n",
       "      <td>30288.000000</td>\n",
       "      <td>689.000000</td>\n",
       "      <td>4.000000</td>\n",
       "      <td>...</td>\n",
       "      <td>4.000000</td>\n",
       "      <td>4.000000</td>\n",
       "      <td>4.000000</td>\n",
       "      <td>7.000000</td>\n",
       "    </tr>\n",
       "    <tr>\n",
       "      <th>75%</th>\n",
       "      <td>8.700000</td>\n",
       "      <td>46363.000000</td>\n",
       "      <td>3818.000000</td>\n",
       "      <td>4.500000</td>\n",
       "      <td>...</td>\n",
       "      <td>4.500000</td>\n",
       "      <td>4.500000</td>\n",
       "      <td>4.500000</td>\n",
       "      <td>8.700000</td>\n",
       "    </tr>\n",
       "    <tr>\n",
       "      <th>max</th>\n",
       "      <td>18.000000</td>\n",
       "      <td>59772.000000</td>\n",
       "      <td>27039.000000</td>\n",
       "      <td>5.000000</td>\n",
       "      <td>...</td>\n",
       "      <td>5.000000</td>\n",
       "      <td>5.000000</td>\n",
       "      <td>5.000000</td>\n",
       "      <td>18.000000</td>\n",
       "    </tr>\n",
       "  </tbody>\n",
       "</table>\n",
       "<p>8 rows × 9 columns</p>\n",
       "</div>"
      ],
      "text/plain": [
       "               abv       beer_id     brewer_id  review_appearance  ...  review_overall  \\\n",
       "count  7573.000000   7774.000000   7774.000000        7774.000000  ...     7774.000000   \n",
       "mean      7.647368  28153.392977   3517.474016           4.042256  ...        4.002508   \n",
       "std       1.761671  18962.917960   5405.981214           0.474063  ...        0.614975   \n",
       "...            ...           ...           ...                ...  ...             ...   \n",
       "50%       7.000000  30288.000000    689.000000           4.000000  ...        4.000000   \n",
       "75%       8.700000  46363.000000   3818.000000           4.500000  ...        4.500000   \n",
       "max      18.000000  59772.000000  27039.000000           5.000000  ...        5.000000   \n",
       "\n",
       "       review_palate  review_taste      alcohol  \n",
       "count    7774.000000   7774.000000  7573.000000  \n",
       "mean        3.945266      3.996977     7.647368  \n",
       "std         0.528179      0.596710     1.761671  \n",
       "...              ...           ...          ...  \n",
       "50%         4.000000      4.000000     7.000000  \n",
       "75%         4.500000      4.500000     8.700000  \n",
       "max         5.000000      5.000000    18.000000  \n",
       "\n",
       "[8 rows x 9 columns]"
      ]
     },
     "execution_count": 162,
     "metadata": {},
     "output_type": "execute_result"
    }
   ],
   "source": [
    "# Summary statistics for hoppy (IPA) beers\n",
    "\n",
    "df[ df.beer_style.str.contains('IPA') ].describe()"
   ]
  },
  {
   "cell_type": "code",
   "execution_count": 163,
   "metadata": {},
   "outputs": [
    {
     "data": {
      "text/html": [
       "<div>\n",
       "<style scoped>\n",
       "    .dataframe tbody tr th:only-of-type {\n",
       "        vertical-align: middle;\n",
       "    }\n",
       "\n",
       "    .dataframe tbody tr th {\n",
       "        vertical-align: top;\n",
       "    }\n",
       "\n",
       "    .dataframe thead th {\n",
       "        text-align: right;\n",
       "    }\n",
       "</style>\n",
       "<table border=\"1\" class=\"dataframe\">\n",
       "  <thead>\n",
       "    <tr style=\"text-align: right;\">\n",
       "      <th></th>\n",
       "      <th>abv</th>\n",
       "      <th>beer_id</th>\n",
       "      <th>brewer_id</th>\n",
       "      <th>review_appearance</th>\n",
       "      <th>...</th>\n",
       "      <th>review_overall</th>\n",
       "      <th>review_palate</th>\n",
       "      <th>review_taste</th>\n",
       "      <th>alcohol</th>\n",
       "    </tr>\n",
       "  </thead>\n",
       "  <tbody>\n",
       "    <tr>\n",
       "      <th>count</th>\n",
       "      <td>40816.000000</td>\n",
       "      <td>42226.000000</td>\n",
       "      <td>42226.000000</td>\n",
       "      <td>42226.000000</td>\n",
       "      <td>...</td>\n",
       "      <td>42226.000000</td>\n",
       "      <td>42226.000000</td>\n",
       "      <td>42226.000000</td>\n",
       "      <td>40816.000000</td>\n",
       "    </tr>\n",
       "    <tr>\n",
       "      <th>mean</th>\n",
       "      <td>7.155413</td>\n",
       "      <td>24868.231658</td>\n",
       "      <td>3503.479562</td>\n",
       "      <td>3.843035</td>\n",
       "      <td>...</td>\n",
       "      <td>3.821709</td>\n",
       "      <td>3.748200</td>\n",
       "      <td>3.802195</td>\n",
       "      <td>7.155413</td>\n",
       "    </tr>\n",
       "    <tr>\n",
       "      <th>std</th>\n",
       "      <td>2.478320</td>\n",
       "      <td>20847.856022</td>\n",
       "      <td>5748.733260</td>\n",
       "      <td>0.610974</td>\n",
       "      <td>...</td>\n",
       "      <td>0.719334</td>\n",
       "      <td>0.678128</td>\n",
       "      <td>0.726893</td>\n",
       "      <td>2.478320</td>\n",
       "    </tr>\n",
       "    <tr>\n",
       "      <th>...</th>\n",
       "      <td>...</td>\n",
       "      <td>...</td>\n",
       "      <td>...</td>\n",
       "      <td>...</td>\n",
       "      <td>...</td>\n",
       "      <td>...</td>\n",
       "      <td>...</td>\n",
       "      <td>...</td>\n",
       "      <td>...</td>\n",
       "    </tr>\n",
       "    <tr>\n",
       "      <th>50%</th>\n",
       "      <td>6.500000</td>\n",
       "      <td>24044.000000</td>\n",
       "      <td>506.000000</td>\n",
       "      <td>4.000000</td>\n",
       "      <td>...</td>\n",
       "      <td>4.000000</td>\n",
       "      <td>4.000000</td>\n",
       "      <td>4.000000</td>\n",
       "      <td>6.500000</td>\n",
       "    </tr>\n",
       "    <tr>\n",
       "      <th>75%</th>\n",
       "      <td>8.600000</td>\n",
       "      <td>46290.000000</td>\n",
       "      <td>3521.000000</td>\n",
       "      <td>4.000000</td>\n",
       "      <td>...</td>\n",
       "      <td>4.500000</td>\n",
       "      <td>4.000000</td>\n",
       "      <td>4.500000</td>\n",
       "      <td>8.600000</td>\n",
       "    </tr>\n",
       "    <tr>\n",
       "      <th>max</th>\n",
       "      <td>27.000000</td>\n",
       "      <td>68386.000000</td>\n",
       "      <td>25680.000000</td>\n",
       "      <td>5.000000</td>\n",
       "      <td>...</td>\n",
       "      <td>5.000000</td>\n",
       "      <td>5.000000</td>\n",
       "      <td>5.000000</td>\n",
       "      <td>27.000000</td>\n",
       "    </tr>\n",
       "  </tbody>\n",
       "</table>\n",
       "<p>8 rows × 9 columns</p>\n",
       "</div>"
      ],
      "text/plain": [
       "                abv       beer_id     brewer_id  review_appearance  ...  review_overall  \\\n",
       "count  40816.000000  42226.000000  42226.000000       42226.000000  ...    42226.000000   \n",
       "mean       7.155413  24868.231658   3503.479562           3.843035  ...        3.821709   \n",
       "std        2.478320  20847.856022   5748.733260           0.610974  ...        0.719334   \n",
       "...             ...           ...           ...                ...  ...             ...   \n",
       "50%        6.500000  24044.000000    506.000000           4.000000  ...        4.000000   \n",
       "75%        8.600000  46290.000000   3521.000000           4.000000  ...        4.500000   \n",
       "max       27.000000  68386.000000  25680.000000           5.000000  ...        5.000000   \n",
       "\n",
       "       review_palate  review_taste       alcohol  \n",
       "count   42226.000000  42226.000000  40816.000000  \n",
       "mean        3.748200      3.802195      7.155413  \n",
       "std         0.678128      0.726893      2.478320  \n",
       "...              ...           ...           ...  \n",
       "50%         4.000000      4.000000      6.500000  \n",
       "75%         4.000000      4.500000      8.600000  \n",
       "max         5.000000      5.000000     27.000000  \n",
       "\n",
       "[8 rows x 9 columns]"
      ]
     },
     "execution_count": 163,
     "metadata": {},
     "output_type": "execute_result"
    }
   ],
   "source": [
    "# Summary statistics for NOT hoppy (IPA) beers\n",
    "\n",
    "df[ df.beer_style.str.contains('IPA')==False ].describe()"
   ]
  },
  {
   "cell_type": "markdown",
   "metadata": {},
   "source": [
    "## Statistical Operations through Indexing"
   ]
  },
  {
   "cell_type": "code",
   "execution_count": 164,
   "metadata": {},
   "outputs": [
    {
     "data": {
      "text/plain": [
       "1904     240\n",
       "53863    208\n",
       "52441    158\n",
       "        ... \n",
       "41285      1\n",
       "47430      1\n",
       "53274      1\n",
       "Name: beer_id, Length: 9251, dtype: int64"
      ]
     },
     "execution_count": 164,
     "metadata": {},
     "output_type": "execute_result"
    }
   ],
   "source": [
    "# count unique entries of beer_id\n",
    "\n",
    "beer_ids = df.beer_id.value_counts(sort=True)  # default is sorted, but wanted to be explicit\n",
    "beer_ids\n",
    "# left is ID, right is number of times it appears"
   ]
  },
  {
   "cell_type": "code",
   "execution_count": 165,
   "metadata": {},
   "outputs": [
    {
     "name": "stdout",
     "output_type": "stream",
     "text": [
      "Top 3 \n",
      "Beer ID, Reviews \n",
      " 1904     240\n",
      "53863    208\n",
      "52441    158\n",
      "Name: beer_id, dtype: int64 \n",
      "\n"
     ]
    },
    {
     "data": {
      "text/html": [
       "<div>\n",
       "<style scoped>\n",
       "    .dataframe tbody tr th:only-of-type {\n",
       "        vertical-align: middle;\n",
       "    }\n",
       "\n",
       "    .dataframe tbody tr th {\n",
       "        vertical-align: top;\n",
       "    }\n",
       "\n",
       "    .dataframe thead th {\n",
       "        text-align: right;\n",
       "    }\n",
       "</style>\n",
       "<table border=\"1\" class=\"dataframe\">\n",
       "  <thead>\n",
       "    <tr style=\"text-align: right;\">\n",
       "      <th></th>\n",
       "      <th>abv</th>\n",
       "      <th>beer_id</th>\n",
       "      <th>brewer_id</th>\n",
       "      <th>beer_name</th>\n",
       "      <th>...</th>\n",
       "      <th>review_taste</th>\n",
       "      <th>text</th>\n",
       "      <th>time</th>\n",
       "      <th>alcohol</th>\n",
       "    </tr>\n",
       "  </thead>\n",
       "  <tbody>\n",
       "    <tr>\n",
       "      <th>142</th>\n",
       "      <td>8.6</td>\n",
       "      <td>52441</td>\n",
       "      <td>147</td>\n",
       "      <td>Stone 09.09.09 Vertical Epic Ale</td>\n",
       "      <td>...</td>\n",
       "      <td>4.5</td>\n",
       "      <td>Poured in to a chimay goblet.\\t\\tPours black ...</td>\n",
       "      <td>2009-10-06 00:10:46</td>\n",
       "      <td>8.6</td>\n",
       "    </tr>\n",
       "    <tr>\n",
       "      <th>446</th>\n",
       "      <td>8.6</td>\n",
       "      <td>52441</td>\n",
       "      <td>147</td>\n",
       "      <td>Stone 09.09.09 Vertical Epic Ale</td>\n",
       "      <td>...</td>\n",
       "      <td>3.5</td>\n",
       "      <td>Pours pitch black and completely opaque witho...</td>\n",
       "      <td>2009-10-06 07:59:01</td>\n",
       "      <td>8.6</td>\n",
       "    </tr>\n",
       "    <tr>\n",
       "      <th>714</th>\n",
       "      <td>8.6</td>\n",
       "      <td>52441</td>\n",
       "      <td>147</td>\n",
       "      <td>Stone 09.09.09 Vertical Epic Ale</td>\n",
       "      <td>...</td>\n",
       "      <td>3.5</td>\n",
       "      <td>Near black pour with a mountainous 3 finger h...</td>\n",
       "      <td>2009-10-06 21:31:06</td>\n",
       "      <td>8.6</td>\n",
       "    </tr>\n",
       "    <tr>\n",
       "      <th>...</th>\n",
       "      <td>...</td>\n",
       "      <td>...</td>\n",
       "      <td>...</td>\n",
       "      <td>...</td>\n",
       "      <td>...</td>\n",
       "      <td>...</td>\n",
       "      <td>...</td>\n",
       "      <td>...</td>\n",
       "      <td>...</td>\n",
       "    </tr>\n",
       "    <tr>\n",
       "      <th>49715</th>\n",
       "      <td>6.8</td>\n",
       "      <td>1904</td>\n",
       "      <td>140</td>\n",
       "      <td>Sierra Nevada Celebration Ale</td>\n",
       "      <td>...</td>\n",
       "      <td>2.5</td>\n",
       "      <td>I've tried this beer on tap about a year ago,...</td>\n",
       "      <td>2009-12-25 01:13:38</td>\n",
       "      <td>6.8</td>\n",
       "    </tr>\n",
       "    <tr>\n",
       "      <th>49844</th>\n",
       "      <td>8.6</td>\n",
       "      <td>52441</td>\n",
       "      <td>147</td>\n",
       "      <td>Stone 09.09.09 Vertical Epic Ale</td>\n",
       "      <td>...</td>\n",
       "      <td>4.0</td>\n",
       "      <td>thanks to colonelforbin for this one!\\t\\tPour...</td>\n",
       "      <td>2009-12-25 04:10:49</td>\n",
       "      <td>8.6</td>\n",
       "    </tr>\n",
       "    <tr>\n",
       "      <th>49863</th>\n",
       "      <td>5.5</td>\n",
       "      <td>53863</td>\n",
       "      <td>28</td>\n",
       "      <td>Our Special Ale 2009 (Anchor Christmas Ale)</td>\n",
       "      <td>...</td>\n",
       "      <td>4.0</td>\n",
       "      <td>12 oz bottle poured into a pint glass \\t\\tPou...</td>\n",
       "      <td>2009-12-25 04:38:07</td>\n",
       "      <td>5.5</td>\n",
       "    </tr>\n",
       "  </tbody>\n",
       "</table>\n",
       "<p>606 rows × 14 columns</p>\n",
       "</div>"
      ],
      "text/plain": [
       "       abv  beer_id  brewer_id                                    beer_name  ... review_taste  \\\n",
       "142    8.6    52441        147             Stone 09.09.09 Vertical Epic Ale  ...          4.5   \n",
       "446    8.6    52441        147             Stone 09.09.09 Vertical Epic Ale  ...          3.5   \n",
       "714    8.6    52441        147             Stone 09.09.09 Vertical Epic Ale  ...          3.5   \n",
       "...    ...      ...        ...                                          ...  ...          ...   \n",
       "49715  6.8     1904        140                Sierra Nevada Celebration Ale  ...          2.5   \n",
       "49844  8.6    52441        147             Stone 09.09.09 Vertical Epic Ale  ...          4.0   \n",
       "49863  5.5    53863         28  Our Special Ale 2009 (Anchor Christmas Ale)  ...          4.0   \n",
       "\n",
       "                                                    text                time  alcohol  \n",
       "142     Poured in to a chimay goblet.\\t\\tPours black ... 2009-10-06 00:10:46      8.6  \n",
       "446     Pours pitch black and completely opaque witho... 2009-10-06 07:59:01      8.6  \n",
       "714     Near black pour with a mountainous 3 finger h... 2009-10-06 21:31:06      8.6  \n",
       "...                                                  ...                 ...      ...  \n",
       "49715   I've tried this beer on tap about a year ago,... 2009-12-25 01:13:38      6.8  \n",
       "49844   thanks to colonelforbin for this one!\\t\\tPour... 2009-12-25 04:10:49      8.6  \n",
       "49863   12 oz bottle poured into a pint glass \\t\\tPou... 2009-12-25 04:38:07      5.5  \n",
       "\n",
       "[606 rows x 14 columns]"
      ]
     },
     "execution_count": 165,
     "metadata": {},
     "output_type": "execute_result"
    }
   ],
   "source": [
    "# All reviews for the top three most reviewed beers\n",
    "print( \"Top 3 \\nBeer ID, Reviews \\n\", beer_ids[0:3], \"\\n\" )\n",
    "\n",
    "df[df.beer_id.isin(beer_ids[0:3].index)]"
   ]
  },
  {
   "cell_type": "code",
   "execution_count": 166,
   "metadata": {},
   "outputs": [
    {
     "data": {
      "text/plain": [
       "array(['Stone 09.09.09 Vertical Epic Ale',\n",
       "       'Sierra Nevada Celebration Ale',\n",
       "       'Our Special Ale 2009 (Anchor Christmas Ale)'], dtype=object)"
      ]
     },
     "execution_count": 166,
     "metadata": {},
     "output_type": "execute_result"
    }
   ],
   "source": [
    "df[df.beer_id.isin(beer_ids[0:3].index)].beer_name.unique()"
   ]
  },
  {
   "cell_type": "markdown",
   "metadata": {},
   "source": [
    "***"
   ]
  },
  {
   "cell_type": "markdown",
   "metadata": {},
   "source": [
    "## Positional Indexing"
   ]
  },
  {
   "cell_type": "code",
   "execution_count": 167,
   "metadata": {},
   "outputs": [
    {
     "data": {
      "text/html": [
       "<div>\n",
       "<style scoped>\n",
       "    .dataframe tbody tr th:only-of-type {\n",
       "        vertical-align: middle;\n",
       "    }\n",
       "\n",
       "    .dataframe tbody tr th {\n",
       "        vertical-align: top;\n",
       "    }\n",
       "\n",
       "    .dataframe thead th {\n",
       "        text-align: right;\n",
       "    }\n",
       "</style>\n",
       "<table border=\"1\" class=\"dataframe\">\n",
       "  <thead>\n",
       "    <tr style=\"text-align: right;\">\n",
       "      <th></th>\n",
       "      <th>abv</th>\n",
       "      <th>beer_id</th>\n",
       "      <th>brewer_id</th>\n",
       "      <th>beer_name</th>\n",
       "      <th>...</th>\n",
       "      <th>review_taste</th>\n",
       "      <th>text</th>\n",
       "      <th>time</th>\n",
       "      <th>alcohol</th>\n",
       "    </tr>\n",
       "  </thead>\n",
       "  <tbody>\n",
       "    <tr>\n",
       "      <th>0</th>\n",
       "      <td>7.0</td>\n",
       "      <td>2511</td>\n",
       "      <td>287</td>\n",
       "      <td>Bell's Cherry Stout</td>\n",
       "      <td>...</td>\n",
       "      <td>4.5</td>\n",
       "      <td>Batch 8144\\tPitch black in color with a 1/2 f...</td>\n",
       "      <td>2009-10-05 21:31:48</td>\n",
       "      <td>7.0</td>\n",
       "    </tr>\n",
       "    <tr>\n",
       "      <th>1</th>\n",
       "      <td>5.7</td>\n",
       "      <td>19736</td>\n",
       "      <td>9790</td>\n",
       "      <td>Duck-Rabbit Porter</td>\n",
       "      <td>...</td>\n",
       "      <td>4.0</td>\n",
       "      <td>Sampled from a 12oz bottle in a standard pint...</td>\n",
       "      <td>2009-10-05 21:32:09</td>\n",
       "      <td>5.7</td>\n",
       "    </tr>\n",
       "    <tr>\n",
       "      <th>2</th>\n",
       "      <td>4.8</td>\n",
       "      <td>11098</td>\n",
       "      <td>3182</td>\n",
       "      <td>Fürstenberg Premium Pilsener</td>\n",
       "      <td>...</td>\n",
       "      <td>3.5</td>\n",
       "      <td>Haystack yellow with an energetic group of bu...</td>\n",
       "      <td>2009-10-05 21:32:13</td>\n",
       "      <td>4.8</td>\n",
       "    </tr>\n",
       "    <tr>\n",
       "      <th>3</th>\n",
       "      <td>9.5</td>\n",
       "      <td>28577</td>\n",
       "      <td>3818</td>\n",
       "      <td>Unearthly (Imperial India Pale Ale)</td>\n",
       "      <td>...</td>\n",
       "      <td>4.0</td>\n",
       "      <td>The aroma has pine, wood, citrus, caramel, an...</td>\n",
       "      <td>2009-10-05 21:32:37</td>\n",
       "      <td>9.5</td>\n",
       "    </tr>\n",
       "    <tr>\n",
       "      <th>4</th>\n",
       "      <td>5.8</td>\n",
       "      <td>398</td>\n",
       "      <td>119</td>\n",
       "      <td>Wolaver's Pale Ale</td>\n",
       "      <td>...</td>\n",
       "      <td>3.0</td>\n",
       "      <td>A: Pours a slightly hazy golden/orange color....</td>\n",
       "      <td>2009-10-05 21:33:14</td>\n",
       "      <td>5.8</td>\n",
       "    </tr>\n",
       "  </tbody>\n",
       "</table>\n",
       "<p>5 rows × 14 columns</p>\n",
       "</div>"
      ],
      "text/plain": [
       "   abv  beer_id  brewer_id                            beer_name  ... review_taste  \\\n",
       "0  7.0     2511        287                  Bell's Cherry Stout  ...          4.5   \n",
       "1  5.7    19736       9790                   Duck-Rabbit Porter  ...          4.0   \n",
       "2  4.8    11098       3182         Fürstenberg Premium Pilsener  ...          3.5   \n",
       "3  9.5    28577       3818  Unearthly (Imperial India Pale Ale)  ...          4.0   \n",
       "4  5.8      398        119                   Wolaver's Pale Ale  ...          3.0   \n",
       "\n",
       "                                                text                time  alcohol  \n",
       "0   Batch 8144\\tPitch black in color with a 1/2 f... 2009-10-05 21:31:48      7.0  \n",
       "1   Sampled from a 12oz bottle in a standard pint... 2009-10-05 21:32:09      5.7  \n",
       "2   Haystack yellow with an energetic group of bu... 2009-10-05 21:32:13      4.8  \n",
       "3   The aroma has pine, wood, citrus, caramel, an... 2009-10-05 21:32:37      9.5  \n",
       "4   A: Pours a slightly hazy golden/orange color.... 2009-10-05 21:33:14      5.8  \n",
       "\n",
       "[5 rows x 14 columns]"
      ]
     },
     "execution_count": 167,
     "metadata": {},
     "output_type": "execute_result"
    }
   ],
   "source": [
    "df.head(5)"
   ]
  },
  {
   "cell_type": "markdown",
   "metadata": {},
   "source": [
    "## The `.iloc` accessor"
   ]
  },
  {
   "cell_type": "markdown",
   "metadata": {},
   "source": [
    "If you prefer NumPy-like indexing, use the `.iloc` accessor:\n",
    "\n",
    "Similar to `.loc`, the `.iloc` accessor allows row and column by integer position or slice only."
   ]
  },
  {
   "cell_type": "code",
   "execution_count": 168,
   "metadata": {},
   "outputs": [
    {
     "data": {
      "text/html": [
       "<div>\n",
       "<style scoped>\n",
       "    .dataframe tbody tr th:only-of-type {\n",
       "        vertical-align: middle;\n",
       "    }\n",
       "\n",
       "    .dataframe tbody tr th {\n",
       "        vertical-align: top;\n",
       "    }\n",
       "\n",
       "    .dataframe thead th {\n",
       "        text-align: right;\n",
       "    }\n",
       "</style>\n",
       "<table border=\"1\" class=\"dataframe\">\n",
       "  <thead>\n",
       "    <tr style=\"text-align: right;\">\n",
       "      <th></th>\n",
       "      <th>abv</th>\n",
       "      <th>beer_id</th>\n",
       "      <th>brewer_id</th>\n",
       "      <th>beer_name</th>\n",
       "      <th>...</th>\n",
       "      <th>review_taste</th>\n",
       "      <th>text</th>\n",
       "      <th>time</th>\n",
       "      <th>alcohol</th>\n",
       "    </tr>\n",
       "  </thead>\n",
       "  <tbody>\n",
       "    <tr>\n",
       "      <th>2</th>\n",
       "      <td>4.8</td>\n",
       "      <td>11098</td>\n",
       "      <td>3182</td>\n",
       "      <td>Fürstenberg Premium Pilsener</td>\n",
       "      <td>...</td>\n",
       "      <td>3.5</td>\n",
       "      <td>Haystack yellow with an energetic group of bu...</td>\n",
       "      <td>2009-10-05 21:32:13</td>\n",
       "      <td>4.8</td>\n",
       "    </tr>\n",
       "    <tr>\n",
       "      <th>5</th>\n",
       "      <td>7.0</td>\n",
       "      <td>966</td>\n",
       "      <td>365</td>\n",
       "      <td>Pike Street XXXXX Stout</td>\n",
       "      <td>...</td>\n",
       "      <td>4.5</td>\n",
       "      <td>From notes. Pours black, thin mocha head fade...</td>\n",
       "      <td>2009-10-05 21:33:48</td>\n",
       "      <td>7.0</td>\n",
       "    </tr>\n",
       "    <tr>\n",
       "      <th>10</th>\n",
       "      <td>11.8</td>\n",
       "      <td>43670</td>\n",
       "      <td>423</td>\n",
       "      <td>Bourbon Barrel Quad (BBQ)</td>\n",
       "      <td>...</td>\n",
       "      <td>4.5</td>\n",
       "      <td>Burnt amber in color with a 1/4\" head. Aroma ...</td>\n",
       "      <td>2009-10-05 21:36:03</td>\n",
       "      <td>11.8</td>\n",
       "    </tr>\n",
       "  </tbody>\n",
       "</table>\n",
       "<p>3 rows × 14 columns</p>\n",
       "</div>"
      ],
      "text/plain": [
       "     abv  beer_id  brewer_id                     beer_name  ... review_taste  \\\n",
       "2    4.8    11098       3182  Fürstenberg Premium Pilsener  ...          3.5   \n",
       "5    7.0      966        365       Pike Street XXXXX Stout  ...          4.5   \n",
       "10  11.8    43670        423     Bourbon Barrel Quad (BBQ)  ...          4.5   \n",
       "\n",
       "                                                 text                time  alcohol  \n",
       "2    Haystack yellow with an energetic group of bu... 2009-10-05 21:32:13      4.8  \n",
       "5    From notes. Pours black, thin mocha head fade... 2009-10-05 21:33:48      7.0  \n",
       "10   Burnt amber in color with a 1/4\" head. Aroma ... 2009-10-05 21:36:03     11.8  \n",
       "\n",
       "[3 rows x 14 columns]"
      ]
     },
     "execution_count": 168,
     "metadata": {},
     "output_type": "execute_result"
    }
   ],
   "source": [
    "## implied row\n",
    "df.iloc[[2,5,10]]"
   ]
  },
  {
   "cell_type": "code",
   "execution_count": 169,
   "metadata": {},
   "outputs": [
    {
     "data": {
      "text/html": [
       "<div>\n",
       "<style scoped>\n",
       "    .dataframe tbody tr th:only-of-type {\n",
       "        vertical-align: middle;\n",
       "    }\n",
       "\n",
       "    .dataframe tbody tr th {\n",
       "        vertical-align: top;\n",
       "    }\n",
       "\n",
       "    .dataframe thead th {\n",
       "        text-align: right;\n",
       "    }\n",
       "</style>\n",
       "<table border=\"1\" class=\"dataframe\">\n",
       "  <thead>\n",
       "    <tr style=\"text-align: right;\">\n",
       "      <th></th>\n",
       "      <th>abv</th>\n",
       "      <th>beer_id</th>\n",
       "      <th>brewer_id</th>\n",
       "    </tr>\n",
       "  </thead>\n",
       "  <tbody>\n",
       "    <tr>\n",
       "      <th>2</th>\n",
       "      <td>4.8</td>\n",
       "      <td>11098</td>\n",
       "      <td>3182</td>\n",
       "    </tr>\n",
       "    <tr>\n",
       "      <th>5</th>\n",
       "      <td>7.0</td>\n",
       "      <td>966</td>\n",
       "      <td>365</td>\n",
       "    </tr>\n",
       "    <tr>\n",
       "      <th>10</th>\n",
       "      <td>11.8</td>\n",
       "      <td>43670</td>\n",
       "      <td>423</td>\n",
       "    </tr>\n",
       "  </tbody>\n",
       "</table>\n",
       "</div>"
      ],
      "text/plain": [
       "     abv  beer_id  brewer_id\n",
       "2    4.8    11098       3182\n",
       "5    7.0      966        365\n",
       "10  11.8    43670        423"
      ]
     },
     "execution_count": 169,
     "metadata": {},
     "output_type": "execute_result"
    }
   ],
   "source": [
    "# row, column\n",
    "df.iloc[[2,5,10],0:3]"
   ]
  },
  {
   "cell_type": "markdown",
   "metadata": {},
   "source": [
    "***"
   ]
  },
  {
   "cell_type": "markdown",
   "metadata": {},
   "source": [
    "# The Index Object"
   ]
  },
  {
   "cell_type": "markdown",
   "metadata": {},
   "source": [
    "The pandas containers Series and DataFrame both have an associated Index\n",
    "* the Index can be a simple column of integers, such as 0, 1, 2, ..., but that is the least useful\n",
    "* the Index can be a column of lables, like string labels, such as \"A\", \"B\", \"C\".\n",
    "* the Index can be **hierarchical** (aka \"MultiIndex\")"
   ]
  },
  {
   "cell_type": "markdown",
   "metadata": {},
   "source": [
    "The `Index` is the farthest left column shown in the DataFrame output. The values are printed in bold. In this DataFrame each row is indexed by a unique integer from 0 to 49999."
   ]
  },
  {
   "cell_type": "code",
   "execution_count": 170,
   "metadata": {},
   "outputs": [
    {
     "data": {
      "text/html": [
       "<div>\n",
       "<style scoped>\n",
       "    .dataframe tbody tr th:only-of-type {\n",
       "        vertical-align: middle;\n",
       "    }\n",
       "\n",
       "    .dataframe tbody tr th {\n",
       "        vertical-align: top;\n",
       "    }\n",
       "\n",
       "    .dataframe thead th {\n",
       "        text-align: right;\n",
       "    }\n",
       "</style>\n",
       "<table border=\"1\" class=\"dataframe\">\n",
       "  <thead>\n",
       "    <tr style=\"text-align: right;\">\n",
       "      <th></th>\n",
       "      <th>abv</th>\n",
       "      <th>beer_id</th>\n",
       "      <th>brewer_id</th>\n",
       "      <th>beer_name</th>\n",
       "      <th>...</th>\n",
       "      <th>profile_name</th>\n",
       "      <th>review_taste</th>\n",
       "      <th>text</th>\n",
       "      <th>time</th>\n",
       "    </tr>\n",
       "  </thead>\n",
       "  <tbody>\n",
       "    <tr>\n",
       "      <th>0</th>\n",
       "      <td>7.0</td>\n",
       "      <td>2511</td>\n",
       "      <td>287</td>\n",
       "      <td>Bell's Cherry Stout</td>\n",
       "      <td>...</td>\n",
       "      <td>blaheath</td>\n",
       "      <td>4.5</td>\n",
       "      <td>Batch 8144\\tPitch black in color with a 1/2 f...</td>\n",
       "      <td>2009-10-05 21:31:48</td>\n",
       "    </tr>\n",
       "    <tr>\n",
       "      <th>1</th>\n",
       "      <td>5.7</td>\n",
       "      <td>19736</td>\n",
       "      <td>9790</td>\n",
       "      <td>Duck-Rabbit Porter</td>\n",
       "      <td>...</td>\n",
       "      <td>GJ40</td>\n",
       "      <td>4.0</td>\n",
       "      <td>Sampled from a 12oz bottle in a standard pint...</td>\n",
       "      <td>2009-10-05 21:32:09</td>\n",
       "    </tr>\n",
       "    <tr>\n",
       "      <th>2</th>\n",
       "      <td>4.8</td>\n",
       "      <td>11098</td>\n",
       "      <td>3182</td>\n",
       "      <td>Fürstenberg Premium Pilsener</td>\n",
       "      <td>...</td>\n",
       "      <td>biegaman</td>\n",
       "      <td>3.5</td>\n",
       "      <td>Haystack yellow with an energetic group of bu...</td>\n",
       "      <td>2009-10-05 21:32:13</td>\n",
       "    </tr>\n",
       "    <tr>\n",
       "      <th>3</th>\n",
       "      <td>9.5</td>\n",
       "      <td>28577</td>\n",
       "      <td>3818</td>\n",
       "      <td>Unearthly (Imperial India Pale Ale)</td>\n",
       "      <td>...</td>\n",
       "      <td>nick76</td>\n",
       "      <td>4.0</td>\n",
       "      <td>The aroma has pine, wood, citrus, caramel, an...</td>\n",
       "      <td>2009-10-05 21:32:37</td>\n",
       "    </tr>\n",
       "    <tr>\n",
       "      <th>4</th>\n",
       "      <td>5.8</td>\n",
       "      <td>398</td>\n",
       "      <td>119</td>\n",
       "      <td>Wolaver's Pale Ale</td>\n",
       "      <td>...</td>\n",
       "      <td>champ103</td>\n",
       "      <td>3.0</td>\n",
       "      <td>A: Pours a slightly hazy golden/orange color....</td>\n",
       "      <td>2009-10-05 21:33:14</td>\n",
       "    </tr>\n",
       "  </tbody>\n",
       "</table>\n",
       "<p>5 rows × 13 columns</p>\n",
       "</div>"
      ],
      "text/plain": [
       "   abv  beer_id  brewer_id                            beer_name  ... profile_name  review_taste  \\\n",
       "0  7.0     2511        287                  Bell's Cherry Stout  ...     blaheath           4.5   \n",
       "1  5.7    19736       9790                   Duck-Rabbit Porter  ...         GJ40           4.0   \n",
       "2  4.8    11098       3182         Fürstenberg Premium Pilsener  ...     biegaman           3.5   \n",
       "3  9.5    28577       3818  Unearthly (Imperial India Pale Ale)  ...       nick76           4.0   \n",
       "4  5.8      398        119                   Wolaver's Pale Ale  ...     champ103           3.0   \n",
       "\n",
       "                                                text                time  \n",
       "0   Batch 8144\\tPitch black in color with a 1/2 f... 2009-10-05 21:31:48  \n",
       "1   Sampled from a 12oz bottle in a standard pint... 2009-10-05 21:32:09  \n",
       "2   Haystack yellow with an energetic group of bu... 2009-10-05 21:32:13  \n",
       "3   The aroma has pine, wood, citrus, caramel, an... 2009-10-05 21:32:37  \n",
       "4   A: Pours a slightly hazy golden/orange color.... 2009-10-05 21:33:14  \n",
       "\n",
       "[5 rows x 13 columns]"
      ]
     },
     "execution_count": 170,
     "metadata": {},
     "output_type": "execute_result"
    }
   ],
   "source": [
    "# Reread the data file, to start fresh\n",
    "df = pd.read_csv('data/beer2.csv.gz',\n",
    "                  index_col=0,\n",
    "                  parse_dates=['time'])\n",
    "df.head()"
   ]
  },
  {
   "cell_type": "code",
   "execution_count": 171,
   "metadata": {},
   "outputs": [
    {
     "data": {
      "text/plain": [
       "Int64Index([    0,     1,     2,     3,     4,     5,     6,     7,     8,     9,\n",
       "            ...\n",
       "            49990, 49991, 49992, 49993, 49994, 49995, 49996, 49997, 49998, 49999],\n",
       "           dtype='int64', length=50000)"
      ]
     },
     "execution_count": 171,
     "metadata": {},
     "output_type": "execute_result"
    }
   ],
   "source": [
    "df.index"
   ]
  },
  {
   "cell_type": "markdown",
   "metadata": {},
   "source": [
    "The values in the `Index` in this case are unique.\n",
    "* In general, an Index need not be unique (examples to come...)\n",
    "* There are many advantages to having a unique `Index`."
   ]
  },
  {
   "cell_type": "code",
   "execution_count": 172,
   "metadata": {},
   "outputs": [
    {
     "data": {
      "text/plain": [
       "True"
      ]
     },
     "execution_count": 172,
     "metadata": {},
     "output_type": "execute_result"
    }
   ],
   "source": [
    "# The current index is unique\n",
    "df.index.is_unique"
   ]
  },
  {
   "cell_type": "markdown",
   "metadata": {
    "collapsed": true
   },
   "source": [
    "## Changing the Index"
   ]
  },
  {
   "cell_type": "markdown",
   "metadata": {},
   "source": [
    "The `Index` of a DataFrame can be reset to any currently existing column or a custom Pandas `Index` object."
   ]
  },
  {
   "cell_type": "code",
   "execution_count": 173,
   "metadata": {},
   "outputs": [
    {
     "data": {
      "text/plain": [
       "['abv',\n",
       " 'beer_id',\n",
       " 'brewer_id',\n",
       " 'beer_name',\n",
       " 'beer_style',\n",
       " 'review_appearance',\n",
       " 'review_aroma',\n",
       " 'review_overall',\n",
       " 'review_palate',\n",
       " 'profile_name',\n",
       " 'review_taste',\n",
       " 'text',\n",
       " 'time']"
      ]
     },
     "execution_count": 173,
     "metadata": {},
     "output_type": "execute_result"
    }
   ],
   "source": [
    "# What column names do we have to use as an Index?\n",
    "\n",
    "list(df.columns)"
   ]
  },
  {
   "cell_type": "markdown",
   "metadata": {},
   "source": [
    "While each review is unique, we may want to reference this data set by other clasifications like `beer_id`."
   ]
  },
  {
   "cell_type": "code",
   "execution_count": 174,
   "metadata": {},
   "outputs": [
    {
     "data": {
      "text/html": [
       "<div>\n",
       "<style scoped>\n",
       "    .dataframe tbody tr th:only-of-type {\n",
       "        vertical-align: middle;\n",
       "    }\n",
       "\n",
       "    .dataframe tbody tr th {\n",
       "        vertical-align: top;\n",
       "    }\n",
       "\n",
       "    .dataframe thead th {\n",
       "        text-align: right;\n",
       "    }\n",
       "</style>\n",
       "<table border=\"1\" class=\"dataframe\">\n",
       "  <thead>\n",
       "    <tr style=\"text-align: right;\">\n",
       "      <th></th>\n",
       "      <th>abv</th>\n",
       "      <th>brewer_id</th>\n",
       "      <th>beer_name</th>\n",
       "      <th>beer_style</th>\n",
       "      <th>...</th>\n",
       "      <th>profile_name</th>\n",
       "      <th>review_taste</th>\n",
       "      <th>text</th>\n",
       "      <th>time</th>\n",
       "    </tr>\n",
       "    <tr>\n",
       "      <th>beer_id</th>\n",
       "      <th></th>\n",
       "      <th></th>\n",
       "      <th></th>\n",
       "      <th></th>\n",
       "      <th></th>\n",
       "      <th></th>\n",
       "      <th></th>\n",
       "      <th></th>\n",
       "      <th></th>\n",
       "    </tr>\n",
       "  </thead>\n",
       "  <tbody>\n",
       "    <tr>\n",
       "      <th>2511</th>\n",
       "      <td>7.0</td>\n",
       "      <td>287</td>\n",
       "      <td>Bell's Cherry Stout</td>\n",
       "      <td>American Stout</td>\n",
       "      <td>...</td>\n",
       "      <td>blaheath</td>\n",
       "      <td>4.5</td>\n",
       "      <td>Batch 8144\\tPitch black in color with a 1/2 f...</td>\n",
       "      <td>2009-10-05 21:31:48</td>\n",
       "    </tr>\n",
       "    <tr>\n",
       "      <th>19736</th>\n",
       "      <td>5.7</td>\n",
       "      <td>9790</td>\n",
       "      <td>Duck-Rabbit Porter</td>\n",
       "      <td>American Porter</td>\n",
       "      <td>...</td>\n",
       "      <td>GJ40</td>\n",
       "      <td>4.0</td>\n",
       "      <td>Sampled from a 12oz bottle in a standard pint...</td>\n",
       "      <td>2009-10-05 21:32:09</td>\n",
       "    </tr>\n",
       "    <tr>\n",
       "      <th>11098</th>\n",
       "      <td>4.8</td>\n",
       "      <td>3182</td>\n",
       "      <td>Fürstenberg Premium Pilsener</td>\n",
       "      <td>German Pilsener</td>\n",
       "      <td>...</td>\n",
       "      <td>biegaman</td>\n",
       "      <td>3.5</td>\n",
       "      <td>Haystack yellow with an energetic group of bu...</td>\n",
       "      <td>2009-10-05 21:32:13</td>\n",
       "    </tr>\n",
       "    <tr>\n",
       "      <th>...</th>\n",
       "      <td>...</td>\n",
       "      <td>...</td>\n",
       "      <td>...</td>\n",
       "      <td>...</td>\n",
       "      <td>...</td>\n",
       "      <td>...</td>\n",
       "      <td>...</td>\n",
       "      <td>...</td>\n",
       "      <td>...</td>\n",
       "    </tr>\n",
       "    <tr>\n",
       "      <th>99</th>\n",
       "      <td>7.6</td>\n",
       "      <td>142</td>\n",
       "      <td>Spaten Optimator</td>\n",
       "      <td>Doppelbock</td>\n",
       "      <td>...</td>\n",
       "      <td>drcarver</td>\n",
       "      <td>3.5</td>\n",
       "      <td>I have had this beer numerous times in the pa...</td>\n",
       "      <td>2009-10-05 21:43:36</td>\n",
       "    </tr>\n",
       "    <tr>\n",
       "      <th>51573</th>\n",
       "      <td>6.2</td>\n",
       "      <td>96</td>\n",
       "      <td>Odd Notion (Fall 2009)</td>\n",
       "      <td>Belgian Dark Ale</td>\n",
       "      <td>...</td>\n",
       "      <td>DannyS</td>\n",
       "      <td>4.0</td>\n",
       "      <td>Poured from a 12 oz bottle into a pint glass....</td>\n",
       "      <td>2009-10-05 21:44:19</td>\n",
       "    </tr>\n",
       "    <tr>\n",
       "      <th>717</th>\n",
       "      <td>5.0</td>\n",
       "      <td>256</td>\n",
       "      <td>Downtown Brown</td>\n",
       "      <td>English Brown Ale</td>\n",
       "      <td>...</td>\n",
       "      <td>n0rc41</td>\n",
       "      <td>4.0</td>\n",
       "      <td>Good all around beer. This is my girlfriends ...</td>\n",
       "      <td>2009-10-05 21:44:25</td>\n",
       "    </tr>\n",
       "  </tbody>\n",
       "</table>\n",
       "<p>20 rows × 12 columns</p>\n",
       "</div>"
      ],
      "text/plain": [
       "         abv  brewer_id                     beer_name         beer_style  ...  profile_name  \\\n",
       "beer_id                                                                   ...                 \n",
       "2511     7.0        287           Bell's Cherry Stout     American Stout  ...      blaheath   \n",
       "19736    5.7       9790            Duck-Rabbit Porter    American Porter  ...          GJ40   \n",
       "11098    4.8       3182  Fürstenberg Premium Pilsener    German Pilsener  ...      biegaman   \n",
       "...      ...        ...                           ...                ...  ...           ...   \n",
       "99       7.6        142              Spaten Optimator         Doppelbock  ...      drcarver   \n",
       "51573    6.2         96        Odd Notion (Fall 2009)   Belgian Dark Ale  ...        DannyS   \n",
       "717      5.0        256                Downtown Brown  English Brown Ale  ...        n0rc41   \n",
       "\n",
       "         review_taste                                               text                time  \n",
       "beer_id                                                                                       \n",
       "2511              4.5   Batch 8144\\tPitch black in color with a 1/2 f... 2009-10-05 21:31:48  \n",
       "19736             4.0   Sampled from a 12oz bottle in a standard pint... 2009-10-05 21:32:09  \n",
       "11098             3.5   Haystack yellow with an energetic group of bu... 2009-10-05 21:32:13  \n",
       "...               ...                                                ...                 ...  \n",
       "99                3.5   I have had this beer numerous times in the pa... 2009-10-05 21:43:36  \n",
       "51573             4.0   Poured from a 12 oz bottle into a pint glass.... 2009-10-05 21:44:19  \n",
       "717               4.0   Good all around beer. This is my girlfriends ... 2009-10-05 21:44:25  \n",
       "\n",
       "[20 rows x 12 columns]"
      ]
     },
     "execution_count": 174,
     "metadata": {},
     "output_type": "execute_result"
    }
   ],
   "source": [
    "# Use the 'beer_id' column as the Index\n",
    "\n",
    "dfb = df.set_index('beer_id', inplace=False)  # default inplace=False, more on this later\n",
    "dfb.head(20)"
   ]
  },
  {
   "cell_type": "code",
   "execution_count": 178,
   "metadata": {},
   "outputs": [
    {
     "data": {
      "text/plain": [
       "False"
      ]
     },
     "execution_count": 178,
     "metadata": {},
     "output_type": "execute_result"
    }
   ],
   "source": [
    "# Notice that even these beer IDs are not unique. That's okay.\n",
    "\n",
    "dfb.index.is_unique"
   ]
  },
  {
   "cell_type": "code",
   "execution_count": 179,
   "metadata": {},
   "outputs": [
    {
     "data": {
      "text/html": [
       "<div>\n",
       "<style scoped>\n",
       "    .dataframe tbody tr th:only-of-type {\n",
       "        vertical-align: middle;\n",
       "    }\n",
       "\n",
       "    .dataframe tbody tr th {\n",
       "        vertical-align: top;\n",
       "    }\n",
       "\n",
       "    .dataframe thead th {\n",
       "        text-align: right;\n",
       "    }\n",
       "</style>\n",
       "<table border=\"1\" class=\"dataframe\">\n",
       "  <thead>\n",
       "    <tr style=\"text-align: right;\">\n",
       "      <th></th>\n",
       "      <th>beer_name</th>\n",
       "      <th>beer_style</th>\n",
       "      <th>profile_name</th>\n",
       "      <th>text</th>\n",
       "    </tr>\n",
       "  </thead>\n",
       "  <tbody>\n",
       "    <tr>\n",
       "      <th>count</th>\n",
       "      <td>50000</td>\n",
       "      <td>50000</td>\n",
       "      <td>50000</td>\n",
       "      <td>49991</td>\n",
       "    </tr>\n",
       "    <tr>\n",
       "      <th>unique</th>\n",
       "      <td>8762</td>\n",
       "      <td>104</td>\n",
       "      <td>4124</td>\n",
       "      <td>49977</td>\n",
       "    </tr>\n",
       "    <tr>\n",
       "      <th>top</th>\n",
       "      <td>Sierra Nevada Celebration Ale</td>\n",
       "      <td>American IPA</td>\n",
       "      <td>drabmuh</td>\n",
       "      <td>I had their taster tray of seven beers. All o...</td>\n",
       "    </tr>\n",
       "    <tr>\n",
       "      <th>freq</th>\n",
       "      <td>240</td>\n",
       "      <td>4324</td>\n",
       "      <td>242</td>\n",
       "      <td>3</td>\n",
       "    </tr>\n",
       "  </tbody>\n",
       "</table>\n",
       "</div>"
      ],
      "text/plain": [
       "                            beer_name    beer_style profile_name  \\\n",
       "count                           50000         50000        50000   \n",
       "unique                           8762           104         4124   \n",
       "top     Sierra Nevada Celebration Ale  American IPA      drabmuh   \n",
       "freq                              240          4324          242   \n",
       "\n",
       "                                                     text  \n",
       "count                                               49991  \n",
       "unique                                              49977  \n",
       "top      I had their taster tray of seven beers. All o...  \n",
       "freq                                                    3  "
      ]
     },
     "execution_count": 179,
     "metadata": {},
     "output_type": "execute_result"
    }
   ],
   "source": [
    "# Use .describe() to show beer_id is NOT unique\n",
    "# Compare \"count\" vs \"unique\"\n",
    "\n",
    "dfb.select_dtypes(include=['object']).describe()"
   ]
  },
  {
   "cell_type": "code",
   "execution_count": 180,
   "metadata": {},
   "outputs": [
    {
     "data": {
      "text/plain": [
       "240"
      ]
     },
     "execution_count": 180,
     "metadata": {},
     "output_type": "execute_result"
    }
   ],
   "source": [
    "# Example: This index is NOT unique: \n",
    "# There are 240 entries for beer_id 1904\n",
    "\n",
    "len(dfb.loc[1904])"
   ]
  },
  {
   "cell_type": "markdown",
   "metadata": {},
   "source": [
    "### Questions/Exercises:\n",
    "\n",
    "1. How many people reviewed Pliny The Elder?\n",
    "2. What was the average review overall?"
   ]
  },
  {
   "cell_type": "markdown",
   "metadata": {},
   "source": [
    "## Hierarchical Indexing"
   ]
  },
  {
   "cell_type": "markdown",
   "metadata": {},
   "source": [
    "The default Index has only 1 \"level\" and it is not named"
   ]
  },
  {
   "cell_type": "code",
   "execution_count": 181,
   "metadata": {},
   "outputs": [
    {
     "name": "stdout",
     "output_type": "stream",
     "text": [
      "<class 'pandas.core.indexes.numeric.Int64Index'>\n",
      "1\n",
      "[None]\n"
     ]
    }
   ],
   "source": [
    "# Inspect the Index attributes\n",
    "print( type(df.index) )\n",
    "print( df.index.nlevels )  # number/count of levels in the Index\n",
    "print( df.index.names )    # names of levels in the Index"
   ]
  },
  {
   "cell_type": "markdown",
   "metadata": {},
   "source": [
    "The Index set to `beer_id` is named, but still has only 1 \"level\""
   ]
  },
  {
   "cell_type": "code",
   "execution_count": 182,
   "metadata": {},
   "outputs": [
    {
     "name": "stdout",
     "output_type": "stream",
     "text": [
      "<class 'pandas.core.indexes.numeric.Int64Index'>\n",
      "1\n",
      "['beer_id']\n"
     ]
    }
   ],
   "source": [
    "# Inspect the Index attributes\n",
    "print( type(dfb.index) )\n",
    "print( dfb.index.nlevels )  # number/count of levels in the Index\n",
    "print( dfb.index.names )    # names of levels in the Index"
   ]
  },
  {
   "cell_type": "markdown",
   "metadata": {},
   "source": [
    "For high dimensional data, heirarchical indexing is ideal\n",
    "* Pandas supports multi-level indexing with `MultiIndex`\n",
    "* a `MultiIndex` can be built from multiple columns, e.g. `profile_name`, `beer_id`, and `time`. \n",
    "* This will aggregate the data by those columns\n",
    "* Each of these three categories is called a `level`."
   ]
  },
  {
   "cell_type": "code",
   "execution_count": 183,
   "metadata": {},
   "outputs": [
    {
     "data": {
      "text/html": [
       "<div>\n",
       "<style scoped>\n",
       "    .dataframe tbody tr th:only-of-type {\n",
       "        vertical-align: middle;\n",
       "    }\n",
       "\n",
       "    .dataframe tbody tr th {\n",
       "        vertical-align: top;\n",
       "    }\n",
       "\n",
       "    .dataframe thead th {\n",
       "        text-align: right;\n",
       "    }\n",
       "</style>\n",
       "<table border=\"1\" class=\"dataframe\">\n",
       "  <thead>\n",
       "    <tr style=\"text-align: right;\">\n",
       "      <th></th>\n",
       "      <th></th>\n",
       "      <th></th>\n",
       "      <th>abv</th>\n",
       "      <th>brewer_id</th>\n",
       "      <th>beer_name</th>\n",
       "      <th>beer_style</th>\n",
       "      <th>...</th>\n",
       "      <th>review_overall</th>\n",
       "      <th>review_palate</th>\n",
       "      <th>review_taste</th>\n",
       "      <th>text</th>\n",
       "    </tr>\n",
       "    <tr>\n",
       "      <th>profile_name</th>\n",
       "      <th>beer_id</th>\n",
       "      <th>time</th>\n",
       "      <th></th>\n",
       "      <th></th>\n",
       "      <th></th>\n",
       "      <th></th>\n",
       "      <th></th>\n",
       "      <th></th>\n",
       "      <th></th>\n",
       "      <th></th>\n",
       "      <th></th>\n",
       "    </tr>\n",
       "  </thead>\n",
       "  <tbody>\n",
       "    <tr>\n",
       "      <th>01121987</th>\n",
       "      <th>29077</th>\n",
       "      <th>2009-11-30 03:44:42</th>\n",
       "      <td>9.0</td>\n",
       "      <td>11256</td>\n",
       "      <td>Corne De Brume</td>\n",
       "      <td>Scotch Ale / Wee Heavy</td>\n",
       "      <td>...</td>\n",
       "      <td>5.0</td>\n",
       "      <td>4.0</td>\n",
       "      <td>3.5</td>\n",
       "      <td>Poured into a belgian beer glass, not great h...</td>\n",
       "    </tr>\n",
       "    <tr>\n",
       "      <th rowspan=\"4\" valign=\"top\">05Harley</th>\n",
       "      <th>1307</th>\n",
       "      <th>2009-10-06 00:10:06</th>\n",
       "      <td>8.5</td>\n",
       "      <td>428</td>\n",
       "      <td>Der Weisse Bock</td>\n",
       "      <td>Weizenbock</td>\n",
       "      <td>...</td>\n",
       "      <td>4.0</td>\n",
       "      <td>4.0</td>\n",
       "      <td>4.0</td>\n",
       "      <td>Can't find the date on this one.\\t\\tPurchased...</td>\n",
       "    </tr>\n",
       "    <tr>\n",
       "      <th>2732</th>\n",
       "      <th>2009-12-12 01:21:36</th>\n",
       "      <td>8.0</td>\n",
       "      <td>287</td>\n",
       "      <td>Bell's Consecrator Doppelbock</td>\n",
       "      <td>Doppelbock</td>\n",
       "      <td>...</td>\n",
       "      <td>4.0</td>\n",
       "      <td>4.0</td>\n",
       "      <td>4.5</td>\n",
       "      <td>Bottle # 8881 (02/09)\\t\\tPurchased through We...</td>\n",
       "    </tr>\n",
       "    <tr>\n",
       "      <th>2899</th>\n",
       "      <th>2009-10-20 22:27:01</th>\n",
       "      <td>7.1</td>\n",
       "      <td>911</td>\n",
       "      <td>Andechser Doppelbock Dunkel</td>\n",
       "      <td>Doppelbock</td>\n",
       "      <td>...</td>\n",
       "      <td>5.0</td>\n",
       "      <td>4.0</td>\n",
       "      <td>5.0</td>\n",
       "      <td>Bottle # 300310\\t\\tPurchased through Kracked ...</td>\n",
       "    </tr>\n",
       "    <tr>\n",
       "      <th>3054</th>\n",
       "      <th>2009-11-21 02:17:41</th>\n",
       "      <td>5.0</td>\n",
       "      <td>946</td>\n",
       "      <td>Piton Lager Beer</td>\n",
       "      <td>American Adjunct Lager</td>\n",
       "      <td>...</td>\n",
       "      <td>3.0</td>\n",
       "      <td>2.0</td>\n",
       "      <td>3.0</td>\n",
       "      <td>Bottled in 2007.\\t\\tPurchased in St. Lucia @ ...</td>\n",
       "    </tr>\n",
       "  </tbody>\n",
       "</table>\n",
       "<p>5 rows × 10 columns</p>\n",
       "</div>"
      ],
      "text/plain": [
       "                                          abv  brewer_id                      beer_name  \\\n",
       "profile_name beer_id time                                                                 \n",
       "01121987     29077   2009-11-30 03:44:42  9.0      11256                 Corne De Brume   \n",
       "05Harley     1307    2009-10-06 00:10:06  8.5        428                Der Weisse Bock   \n",
       "             2732    2009-12-12 01:21:36  8.0        287  Bell's Consecrator Doppelbock   \n",
       "             2899    2009-10-20 22:27:01  7.1        911    Andechser Doppelbock Dunkel   \n",
       "             3054    2009-11-21 02:17:41  5.0        946               Piton Lager Beer   \n",
       "\n",
       "                                                      beer_style  ...  review_overall  \\\n",
       "profile_name beer_id time                                         ...                   \n",
       "01121987     29077   2009-11-30 03:44:42  Scotch Ale / Wee Heavy  ...             5.0   \n",
       "05Harley     1307    2009-10-06 00:10:06              Weizenbock  ...             4.0   \n",
       "             2732    2009-12-12 01:21:36              Doppelbock  ...             4.0   \n",
       "             2899    2009-10-20 22:27:01              Doppelbock  ...             5.0   \n",
       "             3054    2009-11-21 02:17:41  American Adjunct Lager  ...             3.0   \n",
       "\n",
       "                                          review_palate  review_taste  \\\n",
       "profile_name beer_id time                                               \n",
       "01121987     29077   2009-11-30 03:44:42            4.0           3.5   \n",
       "05Harley     1307    2009-10-06 00:10:06            4.0           4.0   \n",
       "             2732    2009-12-12 01:21:36            4.0           4.5   \n",
       "             2899    2009-10-20 22:27:01            4.0           5.0   \n",
       "             3054    2009-11-21 02:17:41            2.0           3.0   \n",
       "\n",
       "                                                                                       text  \n",
       "profile_name beer_id time                                                                    \n",
       "01121987     29077   2009-11-30 03:44:42   Poured into a belgian beer glass, not great h...  \n",
       "05Harley     1307    2009-10-06 00:10:06   Can't find the date on this one.\\t\\tPurchased...  \n",
       "             2732    2009-12-12 01:21:36   Bottle # 8881 (02/09)\\t\\tPurchased through We...  \n",
       "             2899    2009-10-20 22:27:01   Bottle # 300310\\t\\tPurchased through Kracked ...  \n",
       "             3054    2009-11-21 02:17:41   Bottled in 2007.\\t\\tPurchased in St. Lucia @ ...  \n",
       "\n",
       "[5 rows x 10 columns]"
      ]
     },
     "execution_count": 183,
     "metadata": {},
     "output_type": "execute_result"
    }
   ],
   "source": [
    "# sort_index is required to fully associate profile_name with beer_id\n",
    "reviews = df.set_index(['profile_name', 'beer_id', 'time']).sort_index()\n",
    "reviews.head(5)\n",
    "\n",
    "# Notice first 3 \"column\" labels: these are the Index levels"
   ]
  },
  {
   "cell_type": "markdown",
   "metadata": {},
   "source": [
    "Now the Index has 3 levels and each is named"
   ]
  },
  {
   "cell_type": "code",
   "execution_count": 184,
   "metadata": {},
   "outputs": [
    {
     "name": "stdout",
     "output_type": "stream",
     "text": [
      "<class 'pandas.core.indexes.multi.MultiIndex'>\n",
      "3\n",
      "['profile_name', 'beer_id', 'time']\n"
     ]
    }
   ],
   "source": [
    "# Inspect the Index attributes\n",
    "print( type(reviews.index) )\n",
    "print( reviews.index.nlevels )  # number/count of levels in the Index\n",
    "print( reviews.index.names )    # names of levels in the Index"
   ]
  },
  {
   "cell_type": "markdown",
   "metadata": {},
   "source": [
    "Now we can easily subset the data using the levels of the hierarchical index"
   ]
  },
  {
   "cell_type": "code",
   "execution_count": 185,
   "metadata": {},
   "outputs": [
    {
     "data": {
      "text/plain": [
       "profile_name  beer_id  time               \n",
       "01121987      29077    2009-11-30 03:44:42                          Corne De Brume\n",
       "05Harley      1307     2009-10-06 00:10:06                         Der Weisse Bock\n",
       "              2732     2009-12-12 01:21:36           Bell's Consecrator Doppelbock\n",
       "                                                              ...                 \n",
       "zplug123      53470    2009-10-28 03:46:45    He'Brew Jewbelation Bar Mitzvah (13)\n",
       "              54089    2009-11-21 03:44:34                             Life & Limb\n",
       "zzajjber      2270     2009-11-13 15:25:02                          Carlsberg Beer\n",
       "Name: beer_name, Length: 50000, dtype: object"
      ]
     },
     "execution_count": 185,
     "metadata": {},
     "output_type": "execute_result"
    }
   ],
   "source": [
    "ind_column = 'beer_name'\n",
    "reviews[ind_column]"
   ]
  },
  {
   "cell_type": "code",
   "execution_count": 186,
   "metadata": {},
   "outputs": [
    {
     "data": {
      "text/plain": [
       "beer_id  time               \n",
       "1307     2009-10-06 00:10:06                       Der Weisse Bock\n",
       "2732     2009-12-12 01:21:36         Bell's Consecrator Doppelbock\n",
       "2899     2009-10-20 22:27:01           Andechser Doppelbock Dunkel\n",
       "3054     2009-11-21 02:17:41                      Piton Lager Beer\n",
       "11757    2009-11-21 01:31:58              Founders Breakfast Stout\n",
       "22381    2009-11-14 23:12:35    Dark Horse Double Crooked Tree IPA\n",
       "Name: beer_name, dtype: object"
      ]
     },
     "execution_count": 186,
     "metadata": {},
     "output_type": "execute_result"
    }
   ],
   "source": [
    "ind_column  = 'beer_name'\n",
    "ind_profile = '05Harley'\n",
    "reviews[ind_column][ind_profile]"
   ]
  },
  {
   "cell_type": "code",
   "execution_count": 188,
   "metadata": {},
   "outputs": [
    {
     "data": {
      "text/plain": [
       "time\n",
       "2009-10-06 00:10:06    Der Weisse Bock\n",
       "Name: beer_name, dtype: object"
      ]
     },
     "execution_count": 188,
     "metadata": {},
     "output_type": "execute_result"
    }
   ],
   "source": [
    "ind_column  = 'beer_name'\n",
    "ind_profile = '05Harley'\n",
    "ind_beer_id = 1307\n",
    "reviews[ind_column][ind_profile][ind_beer_id]"
   ]
  },
  {
   "cell_type": "code",
   "execution_count": 187,
   "metadata": {},
   "outputs": [
    {
     "data": {
      "text/plain": [
       "True"
      ]
     },
     "execution_count": 187,
     "metadata": {},
     "output_type": "execute_result"
    }
   ],
   "source": [
    "# The whole multiindex is unique\n",
    "reviews.index.is_unique"
   ]
  },
  {
   "cell_type": "markdown",
   "metadata": {},
   "source": [
    "Using hierarchical index in not only more convenient, but faster than using fancy and boolean selection."
   ]
  },
  {
   "cell_type": "code",
   "execution_count": 189,
   "metadata": {},
   "outputs": [
    {
     "data": {
      "text/plain": [
       "drabmuh           242\n",
       "corby112          230\n",
       "BeerFMAndy        202\n",
       "northyorksammy    201\n",
       "mrmanning         187\n",
       "Name: profile_name, dtype: int64"
      ]
     },
     "execution_count": 189,
     "metadata": {},
     "output_type": "execute_result"
    }
   ],
   "source": [
    "# Create a Series, indexed by profile_name (people who reviewed beers)\n",
    "# Take the top 5 most prolific reviewers.\n",
    "top_reviewers = (reviews\n",
    "                        .index\n",
    "                        .get_level_values('profile_name')\n",
    "                        .value_counts()\n",
    "                        .head(5)\n",
    "                )\n",
    "top_reviewers"
   ]
  },
  {
   "cell_type": "code",
   "execution_count": 190,
   "metadata": {},
   "outputs": [
    {
     "data": {
      "text/plain": [
       "Index(['drabmuh', 'corby112', 'BeerFMAndy', 'northyorksammy', 'mrmanning'], dtype='object')"
      ]
     },
     "execution_count": 190,
     "metadata": {},
     "output_type": "execute_result"
    }
   ],
   "source": [
    "# The .index attribute is itself a Numpy-like array\n",
    "top_reviewers.index"
   ]
  },
  {
   "cell_type": "markdown",
   "metadata": {},
   "source": [
    "## Iterating over the MultiIndex"
   ]
  },
  {
   "cell_type": "code",
   "execution_count": 191,
   "metadata": {},
   "outputs": [
    {
     "data": {
      "text/plain": [
       "pandas.core.frame.DataFrame"
      ]
     },
     "execution_count": 191,
     "metadata": {},
     "output_type": "execute_result"
    }
   ],
   "source": [
    "type(reviews)"
   ]
  },
  {
   "cell_type": "code",
   "execution_count": 192,
   "metadata": {},
   "outputs": [
    {
     "data": {
      "text/html": [
       "<div>\n",
       "<style scoped>\n",
       "    .dataframe tbody tr th:only-of-type {\n",
       "        vertical-align: middle;\n",
       "    }\n",
       "\n",
       "    .dataframe tbody tr th {\n",
       "        vertical-align: top;\n",
       "    }\n",
       "\n",
       "    .dataframe thead th {\n",
       "        text-align: right;\n",
       "    }\n",
       "</style>\n",
       "<table border=\"1\" class=\"dataframe\">\n",
       "  <thead>\n",
       "    <tr style=\"text-align: right;\">\n",
       "      <th></th>\n",
       "      <th></th>\n",
       "      <th></th>\n",
       "      <th>abv</th>\n",
       "      <th>brewer_id</th>\n",
       "      <th>beer_name</th>\n",
       "      <th>beer_style</th>\n",
       "      <th>...</th>\n",
       "      <th>review_overall</th>\n",
       "      <th>review_palate</th>\n",
       "      <th>review_taste</th>\n",
       "      <th>text</th>\n",
       "    </tr>\n",
       "    <tr>\n",
       "      <th>profile_name</th>\n",
       "      <th>beer_id</th>\n",
       "      <th>time</th>\n",
       "      <th></th>\n",
       "      <th></th>\n",
       "      <th></th>\n",
       "      <th></th>\n",
       "      <th></th>\n",
       "      <th></th>\n",
       "      <th></th>\n",
       "      <th></th>\n",
       "      <th></th>\n",
       "    </tr>\n",
       "  </thead>\n",
       "  <tbody>\n",
       "    <tr>\n",
       "      <th>01121987</th>\n",
       "      <th>29077</th>\n",
       "      <th>2009-11-30 03:44:42</th>\n",
       "      <td>9.0</td>\n",
       "      <td>11256</td>\n",
       "      <td>Corne De Brume</td>\n",
       "      <td>Scotch Ale / Wee Heavy</td>\n",
       "      <td>...</td>\n",
       "      <td>5.0</td>\n",
       "      <td>4.0</td>\n",
       "      <td>3.5</td>\n",
       "      <td>Poured into a belgian beer glass, not great h...</td>\n",
       "    </tr>\n",
       "    <tr>\n",
       "      <th rowspan=\"2\" valign=\"top\">05Harley</th>\n",
       "      <th>1307</th>\n",
       "      <th>2009-10-06 00:10:06</th>\n",
       "      <td>8.5</td>\n",
       "      <td>428</td>\n",
       "      <td>Der Weisse Bock</td>\n",
       "      <td>Weizenbock</td>\n",
       "      <td>...</td>\n",
       "      <td>4.0</td>\n",
       "      <td>4.0</td>\n",
       "      <td>4.0</td>\n",
       "      <td>Can't find the date on this one.\\t\\tPurchased...</td>\n",
       "    </tr>\n",
       "    <tr>\n",
       "      <th>2732</th>\n",
       "      <th>2009-12-12 01:21:36</th>\n",
       "      <td>8.0</td>\n",
       "      <td>287</td>\n",
       "      <td>Bell's Consecrator Doppelbock</td>\n",
       "      <td>Doppelbock</td>\n",
       "      <td>...</td>\n",
       "      <td>4.0</td>\n",
       "      <td>4.0</td>\n",
       "      <td>4.5</td>\n",
       "      <td>Bottle # 8881 (02/09)\\t\\tPurchased through We...</td>\n",
       "    </tr>\n",
       "  </tbody>\n",
       "</table>\n",
       "<p>3 rows × 10 columns</p>\n",
       "</div>"
      ],
      "text/plain": [
       "                                          abv  brewer_id                      beer_name  \\\n",
       "profile_name beer_id time                                                                 \n",
       "01121987     29077   2009-11-30 03:44:42  9.0      11256                 Corne De Brume   \n",
       "05Harley     1307    2009-10-06 00:10:06  8.5        428                Der Weisse Bock   \n",
       "             2732    2009-12-12 01:21:36  8.0        287  Bell's Consecrator Doppelbock   \n",
       "\n",
       "                                                      beer_style  ...  review_overall  \\\n",
       "profile_name beer_id time                                         ...                   \n",
       "01121987     29077   2009-11-30 03:44:42  Scotch Ale / Wee Heavy  ...             5.0   \n",
       "05Harley     1307    2009-10-06 00:10:06              Weizenbock  ...             4.0   \n",
       "             2732    2009-12-12 01:21:36              Doppelbock  ...             4.0   \n",
       "\n",
       "                                          review_palate  review_taste  \\\n",
       "profile_name beer_id time                                               \n",
       "01121987     29077   2009-11-30 03:44:42            4.0           3.5   \n",
       "05Harley     1307    2009-10-06 00:10:06            4.0           4.0   \n",
       "             2732    2009-12-12 01:21:36            4.0           4.5   \n",
       "\n",
       "                                                                                       text  \n",
       "profile_name beer_id time                                                                    \n",
       "01121987     29077   2009-11-30 03:44:42   Poured into a belgian beer glass, not great h...  \n",
       "05Harley     1307    2009-10-06 00:10:06   Can't find the date on this one.\\t\\tPurchased...  \n",
       "             2732    2009-12-12 01:21:36   Bottle # 8881 (02/09)\\t\\tPurchased through We...  \n",
       "\n",
       "[3 rows x 10 columns]"
      ]
     },
     "execution_count": 192,
     "metadata": {},
     "output_type": "execute_result"
    }
   ],
   "source": [
    "reviews.head(3)"
   ]
  },
  {
   "cell_type": "code",
   "execution_count": 193,
   "metadata": {},
   "outputs": [
    {
     "name": "stdout",
     "output_type": "stream",
     "text": [
      "Index: ('01121987', 29077, Timestamp('2009-11-30 03:44:42')) , Row: 9.0\n",
      "Index: ('05Harley', 1307, Timestamp('2009-10-06 00:10:06')) , Row: 8.5\n",
      "Index: ('05Harley', 2732, Timestamp('2009-12-12 01:21:36')) , Row: 8.0\n",
      "Index: ('05Harley', 2899, Timestamp('2009-10-20 22:27:01')) , Row: 7.1\n",
      "Index: ('05Harley', 3054, Timestamp('2009-11-21 02:17:41')) , Row: 5.0\n"
     ]
    }
   ],
   "source": [
    "# Example: iterating with a hierarchical index\n",
    "\n",
    "for index, row in reviews.head().iterrows():\n",
    "    print('Index:', index, ', Row:', '%s' % row['abv'])"
   ]
  },
  {
   "cell_type": "code",
   "execution_count": 194,
   "metadata": {},
   "outputs": [
    {
     "name": "stdout",
     "output_type": "stream",
     "text": [
      "Index:beer_id 29077 , Row: 9.0\n",
      "Index:beer_id 1307 , Row: 8.5\n",
      "Index:beer_id 2732 , Row: 8.0\n",
      "Index:beer_id 2899 , Row: 7.1\n",
      "Index:beer_id 3054 , Row: 5.0\n"
     ]
    }
   ],
   "source": [
    "# Example: iterating with a hierarchical index, printing only one level\n",
    "\n",
    "for index, row in reviews.head().iterrows():\n",
    "    print('Index:beer_id', index[1], ', Row:', '%s' % row['abv'])"
   ]
  },
  {
   "cell_type": "markdown",
   "metadata": {},
   "source": [
    "## MultiIndex .loc accessor"
   ]
  },
  {
   "cell_type": "markdown",
   "metadata": {},
   "source": [
    "When using MultiIndex and Hierarchical indexers\n",
    "* the `.loc` accessor now requires entries for each `level`. \n",
    "* a slice or index value can be provided for each level.\n",
    "\n",
    "Usage:\n",
    "```\n",
    "df.loc[level0, level1, level2, etc.]\n",
    "```"
   ]
  },
  {
   "cell_type": "markdown",
   "metadata": {},
   "source": [
    "**Remember**: using `.loc` means that the right endpoint in a slice is returned. **INCLUSIVE**"
   ]
  },
  {
   "cell_type": "code",
   "execution_count": 195,
   "metadata": {},
   "outputs": [
    {
     "data": {
      "text/html": [
       "<div>\n",
       "<style scoped>\n",
       "    .dataframe tbody tr th:only-of-type {\n",
       "        vertical-align: middle;\n",
       "    }\n",
       "\n",
       "    .dataframe tbody tr th {\n",
       "        vertical-align: top;\n",
       "    }\n",
       "\n",
       "    .dataframe thead th {\n",
       "        text-align: right;\n",
       "    }\n",
       "</style>\n",
       "<table border=\"1\" class=\"dataframe\">\n",
       "  <thead>\n",
       "    <tr style=\"text-align: right;\">\n",
       "      <th></th>\n",
       "      <th></th>\n",
       "      <th></th>\n",
       "      <th>abv</th>\n",
       "      <th>brewer_id</th>\n",
       "      <th>beer_name</th>\n",
       "      <th>beer_style</th>\n",
       "      <th>...</th>\n",
       "      <th>review_overall</th>\n",
       "      <th>review_palate</th>\n",
       "      <th>review_taste</th>\n",
       "      <th>text</th>\n",
       "    </tr>\n",
       "    <tr>\n",
       "      <th>profile_name</th>\n",
       "      <th>beer_id</th>\n",
       "      <th>time</th>\n",
       "      <th></th>\n",
       "      <th></th>\n",
       "      <th></th>\n",
       "      <th></th>\n",
       "      <th></th>\n",
       "      <th></th>\n",
       "      <th></th>\n",
       "      <th></th>\n",
       "      <th></th>\n",
       "    </tr>\n",
       "  </thead>\n",
       "  <tbody>\n",
       "    <tr>\n",
       "      <th rowspan=\"2\" valign=\"top\">BeerFMAndy</th>\n",
       "      <th>92</th>\n",
       "      <th>2009-12-24 21:51:46</th>\n",
       "      <td>7.2</td>\n",
       "      <td>147</td>\n",
       "      <td>Arrogant Bastard Ale</td>\n",
       "      <td>American Strong Ale</td>\n",
       "      <td>...</td>\n",
       "      <td>4.5</td>\n",
       "      <td>4.0</td>\n",
       "      <td>4.0</td>\n",
       "      <td>22 oz bottle poured into a Sierra Nevada Impe...</td>\n",
       "    </tr>\n",
       "    <tr>\n",
       "      <th>100</th>\n",
       "      <th>2009-10-22 03:39:21</th>\n",
       "      <td>5.7</td>\n",
       "      <td>306</td>\n",
       "      <td>Blue Moon Harvest Moon Pumpkin Ale</td>\n",
       "      <td>Pumpkin Ale</td>\n",
       "      <td>...</td>\n",
       "      <td>2.0</td>\n",
       "      <td>2.5</td>\n",
       "      <td>2.0</td>\n",
       "      <td>12 oz bottle poured into an Imperial Pint. Ma...</td>\n",
       "    </tr>\n",
       "    <tr>\n",
       "      <th>...</th>\n",
       "      <th>...</th>\n",
       "      <th>...</th>\n",
       "      <td>...</td>\n",
       "      <td>...</td>\n",
       "      <td>...</td>\n",
       "      <td>...</td>\n",
       "      <td>...</td>\n",
       "      <td>...</td>\n",
       "      <td>...</td>\n",
       "      <td>...</td>\n",
       "      <td>...</td>\n",
       "    </tr>\n",
       "    <tr>\n",
       "      <th rowspan=\"2\" valign=\"top\">northyorksammy</th>\n",
       "      <th>54918</th>\n",
       "      <th>2009-12-21 14:56:29</th>\n",
       "      <td>12.0</td>\n",
       "      <td>2097</td>\n",
       "      <td>Kuhnhenn Bonicci Barley Wine</td>\n",
       "      <td>American Barleywine</td>\n",
       "      <td>...</td>\n",
       "      <td>3.0</td>\n",
       "      <td>3.5</td>\n",
       "      <td>3.5</td>\n",
       "      <td>Winner of the amateur brewing fest,Jerry Boni...</td>\n",
       "    </tr>\n",
       "    <tr>\n",
       "      <th>54919</th>\n",
       "      <th>2009-12-21 14:59:39</th>\n",
       "      <td>7.0</td>\n",
       "      <td>2097</td>\n",
       "      <td>Kuhnhenn Foreign Export Stout</td>\n",
       "      <td>Foreign / Export Stout</td>\n",
       "      <td>...</td>\n",
       "      <td>3.5</td>\n",
       "      <td>4.0</td>\n",
       "      <td>3.5</td>\n",
       "      <td>Thick stout, a study in chocolate. Very smoot...</td>\n",
       "    </tr>\n",
       "  </tbody>\n",
       "</table>\n",
       "<p>1062 rows × 10 columns</p>\n",
       "</div>"
      ],
      "text/plain": [
       "                                             abv  brewer_id                           beer_name  \\\n",
       "profile_name   beer_id time                                                                       \n",
       "BeerFMAndy     92      2009-12-24 21:51:46   7.2        147                Arrogant Bastard Ale   \n",
       "               100     2009-10-22 03:39:21   5.7        306  Blue Moon Harvest Moon Pumpkin Ale   \n",
       "...                                          ...        ...                                 ...   \n",
       "northyorksammy 54918   2009-12-21 14:56:29  12.0       2097        Kuhnhenn Bonicci Barley Wine   \n",
       "               54919   2009-12-21 14:59:39   7.0       2097       Kuhnhenn Foreign Export Stout   \n",
       "\n",
       "                                                        beer_style  ...  review_overall  \\\n",
       "profile_name   beer_id time                                         ...                   \n",
       "BeerFMAndy     92      2009-12-24 21:51:46     American Strong Ale  ...             4.5   \n",
       "               100     2009-10-22 03:39:21             Pumpkin Ale  ...             2.0   \n",
       "...                                                            ...  ...             ...   \n",
       "northyorksammy 54918   2009-12-21 14:56:29     American Barleywine  ...             3.0   \n",
       "               54919   2009-12-21 14:59:39  Foreign / Export Stout  ...             3.5   \n",
       "\n",
       "                                            review_palate  review_taste  \\\n",
       "profile_name   beer_id time                                               \n",
       "BeerFMAndy     92      2009-12-24 21:51:46            4.0           4.0   \n",
       "               100     2009-10-22 03:39:21            2.5           2.0   \n",
       "...                                                   ...           ...   \n",
       "northyorksammy 54918   2009-12-21 14:56:29            3.5           3.5   \n",
       "               54919   2009-12-21 14:59:39            4.0           3.5   \n",
       "\n",
       "                                                                                         text  \n",
       "profile_name   beer_id time                                                                    \n",
       "BeerFMAndy     92      2009-12-24 21:51:46   22 oz bottle poured into a Sierra Nevada Impe...  \n",
       "               100     2009-10-22 03:39:21   12 oz bottle poured into an Imperial Pint. Ma...  \n",
       "...                                                                                       ...  \n",
       "northyorksammy 54918   2009-12-21 14:56:29   Winner of the amateur brewing fest,Jerry Boni...  \n",
       "               54919   2009-12-21 14:59:39   Thick stout, a study in chocolate. Very smoot...  \n",
       "\n",
       "[1062 rows x 10 columns]"
      ]
     },
     "execution_count": 195,
     "metadata": {},
     "output_type": "execute_result"
    }
   ],
   "source": [
    "pd.options.display.max_rows=4\n",
    "reviews.loc[top_reviewers.index, :, :]"
   ]
  },
  {
   "cell_type": "markdown",
   "metadata": {},
   "source": [
    "The more complete usage of MulitIindex and `.loc` is to provide the index selection in a tuple whose length is the number of `level`s."
   ]
  },
  {
   "cell_type": "code",
   "execution_count": 196,
   "metadata": {},
   "outputs": [
    {
     "data": {
      "text/html": [
       "<div>\n",
       "<style scoped>\n",
       "    .dataframe tbody tr th:only-of-type {\n",
       "        vertical-align: middle;\n",
       "    }\n",
       "\n",
       "    .dataframe tbody tr th {\n",
       "        vertical-align: top;\n",
       "    }\n",
       "\n",
       "    .dataframe thead th {\n",
       "        text-align: right;\n",
       "    }\n",
       "</style>\n",
       "<table border=\"1\" class=\"dataframe\">\n",
       "  <thead>\n",
       "    <tr style=\"text-align: right;\">\n",
       "      <th></th>\n",
       "      <th></th>\n",
       "      <th></th>\n",
       "      <th>abv</th>\n",
       "      <th>brewer_id</th>\n",
       "      <th>beer_name</th>\n",
       "      <th>beer_style</th>\n",
       "      <th>...</th>\n",
       "      <th>review_overall</th>\n",
       "      <th>review_palate</th>\n",
       "      <th>review_taste</th>\n",
       "      <th>text</th>\n",
       "    </tr>\n",
       "    <tr>\n",
       "      <th>profile_name</th>\n",
       "      <th>beer_id</th>\n",
       "      <th>time</th>\n",
       "      <th></th>\n",
       "      <th></th>\n",
       "      <th></th>\n",
       "      <th></th>\n",
       "      <th></th>\n",
       "      <th></th>\n",
       "      <th></th>\n",
       "      <th></th>\n",
       "      <th></th>\n",
       "    </tr>\n",
       "  </thead>\n",
       "  <tbody>\n",
       "    <tr>\n",
       "      <th>BeerFMAndy</th>\n",
       "      <th>100</th>\n",
       "      <th>2009-10-22 03:39:21</th>\n",
       "      <td>5.7</td>\n",
       "      <td>306</td>\n",
       "      <td>Blue Moon Harvest Moon Pumpkin Ale</td>\n",
       "      <td>Pumpkin Ale</td>\n",
       "      <td>...</td>\n",
       "      <td>2.0</td>\n",
       "      <td>2.5</td>\n",
       "      <td>2.0</td>\n",
       "      <td>12 oz bottle poured into an Imperial Pint. Ma...</td>\n",
       "    </tr>\n",
       "  </tbody>\n",
       "</table>\n",
       "<p>1 rows × 10 columns</p>\n",
       "</div>"
      ],
      "text/plain": [
       "                                          abv  brewer_id                           beer_name  \\\n",
       "profile_name beer_id time                                                                      \n",
       "BeerFMAndy   100     2009-10-22 03:39:21  5.7        306  Blue Moon Harvest Moon Pumpkin Ale   \n",
       "\n",
       "                                           beer_style  ...  review_overall  review_palate  \\\n",
       "profile_name beer_id time                              ...                                  \n",
       "BeerFMAndy   100     2009-10-22 03:39:21  Pumpkin Ale  ...             2.0            2.5   \n",
       "\n",
       "                                          review_taste  \\\n",
       "profile_name beer_id time                                \n",
       "BeerFMAndy   100     2009-10-22 03:39:21           2.0   \n",
       "\n",
       "                                                                                       text  \n",
       "profile_name beer_id time                                                                    \n",
       "BeerFMAndy   100     2009-10-22 03:39:21   12 oz bottle poured into an Imperial Pint. Ma...  \n",
       "\n",
       "[1 rows x 10 columns]"
      ]
     },
     "execution_count": 196,
     "metadata": {},
     "output_type": "execute_result"
    }
   ],
   "source": [
    "reviews.loc[[('BeerFMAndy',100,pd.Timestamp('2009-10-22 03:39:21'))]]"
   ]
  },
  {
   "cell_type": "markdown",
   "metadata": {},
   "source": [
    "## Multi-axis indexers"
   ]
  },
  {
   "cell_type": "code",
   "execution_count": 197,
   "metadata": {},
   "outputs": [],
   "source": [
    "x = [9,10,11,12]"
   ]
  },
  {
   "cell_type": "code",
   "execution_count": 198,
   "metadata": {},
   "outputs": [
    {
     "data": {
      "text/html": [
       "<div>\n",
       "<style scoped>\n",
       "    .dataframe tbody tr th:only-of-type {\n",
       "        vertical-align: middle;\n",
       "    }\n",
       "\n",
       "    .dataframe tbody tr th {\n",
       "        vertical-align: top;\n",
       "    }\n",
       "\n",
       "    .dataframe thead th {\n",
       "        text-align: right;\n",
       "    }\n",
       "</style>\n",
       "<table border=\"1\" class=\"dataframe\">\n",
       "  <thead>\n",
       "    <tr style=\"text-align: right;\">\n",
       "      <th></th>\n",
       "      <th></th>\n",
       "      <th></th>\n",
       "      <th>beer_name</th>\n",
       "      <th>review_overall</th>\n",
       "    </tr>\n",
       "    <tr>\n",
       "      <th>profile_name</th>\n",
       "      <th>beer_id</th>\n",
       "      <th>time</th>\n",
       "      <th></th>\n",
       "      <th></th>\n",
       "    </tr>\n",
       "  </thead>\n",
       "  <tbody>\n",
       "    <tr>\n",
       "      <th rowspan=\"5\" valign=\"top\">BeerFMAndy</th>\n",
       "      <th>129</th>\n",
       "      <th>2009-11-22 16:45:58</th>\n",
       "      <td>Orval Trappist Ale</td>\n",
       "      <td>4.5</td>\n",
       "    </tr>\n",
       "    <tr>\n",
       "      <th>332</th>\n",
       "      <th>2009-11-04 00:36:28</th>\n",
       "      <td>Miller Lite</td>\n",
       "      <td>4.0</td>\n",
       "    </tr>\n",
       "    <tr>\n",
       "      <th>...</th>\n",
       "      <th>...</th>\n",
       "      <td>...</td>\n",
       "      <td>...</td>\n",
       "    </tr>\n",
       "    <tr>\n",
       "      <th>54374</th>\n",
       "      <th>2009-11-26 18:16:13</th>\n",
       "      <td>Downtown Lites</td>\n",
       "      <td>4.0</td>\n",
       "    </tr>\n",
       "    <tr>\n",
       "      <th>54375</th>\n",
       "      <th>2009-11-26 18:24:53</th>\n",
       "      <td>Scooter Ale</td>\n",
       "      <td>3.0</td>\n",
       "    </tr>\n",
       "  </tbody>\n",
       "</table>\n",
       "<p>91 rows × 2 columns</p>\n",
       "</div>"
      ],
      "text/plain": [
       "                                                   beer_name  review_overall\n",
       "profile_name beer_id time                                                   \n",
       "BeerFMAndy   129     2009-11-22 16:45:58  Orval Trappist Ale             4.5\n",
       "             332     2009-11-04 00:36:28         Miller Lite             4.0\n",
       "...                                                      ...             ...\n",
       "             54374   2009-11-26 18:16:13      Downtown Lites             4.0\n",
       "             54375   2009-11-26 18:24:53         Scooter Ale             3.0\n",
       "\n",
       "[91 rows x 2 columns]"
      ]
     },
     "execution_count": 198,
     "metadata": {},
     "output_type": "execute_result"
    }
   ],
   "source": [
    "# Here are the scores for all 91 of BeerFMAndy's reviews\n",
    "# for November only\n",
    "idx=pd.IndexSlice\n",
    "reviews.loc[idx['BeerFMAndy',:,'2009-11':'2009-11'],['beer_name','review_overall']]"
   ]
  },
  {
   "cell_type": "code",
   "execution_count": 211,
   "metadata": {},
   "outputs": [],
   "source": [
    "slice?"
   ]
  },
  {
   "cell_type": "code",
   "execution_count": 199,
   "metadata": {},
   "outputs": [
    {
     "data": {
      "text/html": [
       "<div>\n",
       "<style scoped>\n",
       "    .dataframe tbody tr th:only-of-type {\n",
       "        vertical-align: middle;\n",
       "    }\n",
       "\n",
       "    .dataframe tbody tr th {\n",
       "        vertical-align: top;\n",
       "    }\n",
       "\n",
       "    .dataframe thead th {\n",
       "        text-align: right;\n",
       "    }\n",
       "</style>\n",
       "<table border=\"1\" class=\"dataframe\">\n",
       "  <thead>\n",
       "    <tr style=\"text-align: right;\">\n",
       "      <th></th>\n",
       "      <th></th>\n",
       "      <th></th>\n",
       "      <th>beer_name</th>\n",
       "      <th>review_overall</th>\n",
       "    </tr>\n",
       "    <tr>\n",
       "      <th>profile_name</th>\n",
       "      <th>beer_id</th>\n",
       "      <th>time</th>\n",
       "      <th></th>\n",
       "      <th></th>\n",
       "    </tr>\n",
       "  </thead>\n",
       "  <tbody>\n",
       "    <tr>\n",
       "      <th rowspan=\"5\" valign=\"top\">BeerFMAndy</th>\n",
       "      <th>129</th>\n",
       "      <th>2009-11-22 16:45:58</th>\n",
       "      <td>Orval Trappist Ale</td>\n",
       "      <td>4.5</td>\n",
       "    </tr>\n",
       "    <tr>\n",
       "      <th>332</th>\n",
       "      <th>2009-11-04 00:36:28</th>\n",
       "      <td>Miller Lite</td>\n",
       "      <td>4.0</td>\n",
       "    </tr>\n",
       "    <tr>\n",
       "      <th>...</th>\n",
       "      <th>...</th>\n",
       "      <td>...</td>\n",
       "      <td>...</td>\n",
       "    </tr>\n",
       "    <tr>\n",
       "      <th>54374</th>\n",
       "      <th>2009-11-26 18:16:13</th>\n",
       "      <td>Downtown Lites</td>\n",
       "      <td>4.0</td>\n",
       "    </tr>\n",
       "    <tr>\n",
       "      <th>54375</th>\n",
       "      <th>2009-11-26 18:24:53</th>\n",
       "      <td>Scooter Ale</td>\n",
       "      <td>3.0</td>\n",
       "    </tr>\n",
       "  </tbody>\n",
       "</table>\n",
       "<p>91 rows × 2 columns</p>\n",
       "</div>"
      ],
      "text/plain": [
       "                                                   beer_name  review_overall\n",
       "profile_name beer_id time                                                   \n",
       "BeerFMAndy   129     2009-11-22 16:45:58  Orval Trappist Ale             4.5\n",
       "             332     2009-11-04 00:36:28         Miller Lite             4.0\n",
       "...                                                      ...             ...\n",
       "             54374   2009-11-26 18:16:13      Downtown Lites             4.0\n",
       "             54375   2009-11-26 18:24:53         Scooter Ale             3.0\n",
       "\n",
       "[91 rows x 2 columns]"
      ]
     },
     "execution_count": 199,
     "metadata": {},
     "output_type": "execute_result"
    }
   ],
   "source": [
    "# Alternative syntax using slice objects\n",
    "# slice(None) == :\n",
    "reviews.loc[('BeerFMAndy',slice(None),slice('2009-11','2009-11')),['beer_name','review_overall']]"
   ]
  },
  {
   "cell_type": "code",
   "execution_count": 201,
   "metadata": {},
   "outputs": [
    {
     "data": {
      "text/html": [
       "<div>\n",
       "<style scoped>\n",
       "    .dataframe tbody tr th:only-of-type {\n",
       "        vertical-align: middle;\n",
       "    }\n",
       "\n",
       "    .dataframe tbody tr th {\n",
       "        vertical-align: top;\n",
       "    }\n",
       "\n",
       "    .dataframe thead th {\n",
       "        text-align: right;\n",
       "    }\n",
       "</style>\n",
       "<table border=\"1\" class=\"dataframe\">\n",
       "  <thead>\n",
       "    <tr style=\"text-align: right;\">\n",
       "      <th></th>\n",
       "      <th></th>\n",
       "      <th></th>\n",
       "      <th>beer_name</th>\n",
       "      <th>beer_style</th>\n",
       "    </tr>\n",
       "    <tr>\n",
       "      <th>profile_name</th>\n",
       "      <th>beer_id</th>\n",
       "      <th>time</th>\n",
       "      <th></th>\n",
       "      <th></th>\n",
       "    </tr>\n",
       "  </thead>\n",
       "  <tbody>\n",
       "    <tr>\n",
       "      <th>BeerFMAndy</th>\n",
       "      <th>92</th>\n",
       "      <th>2009-12-24 21:51:46</th>\n",
       "      <td>Arrogant Bastard Ale</td>\n",
       "      <td>American Strong Ale</td>\n",
       "    </tr>\n",
       "    <tr>\n",
       "      <th>northyorksammy</th>\n",
       "      <th>54919</th>\n",
       "      <th>2009-12-21 14:59:39</th>\n",
       "      <td>Kuhnhenn Foreign Export Stout</td>\n",
       "      <td>Foreign / Export Stout</td>\n",
       "    </tr>\n",
       "  </tbody>\n",
       "</table>\n",
       "</div>"
      ],
      "text/plain": [
       "                                                                beer_name              beer_style\n",
       "profile_name   beer_id time                                                                      \n",
       "BeerFMAndy     92      2009-12-24 21:51:46           Arrogant Bastard Ale     American Strong Ale\n",
       "northyorksammy 54919   2009-12-21 14:59:39  Kuhnhenn Foreign Export Stout  Foreign / Export Stout"
      ]
     },
     "execution_count": 201,
     "metadata": {},
     "output_type": "execute_result"
    }
   ],
   "source": [
    "reviews.loc[idx[top_reviewers.index, [92,54919], :], ['beer_name','beer_style']]"
   ]
  },
  {
   "cell_type": "code",
   "execution_count": 200,
   "metadata": {},
   "outputs": [
    {
     "data": {
      "text/html": [
       "<div>\n",
       "<style scoped>\n",
       "    .dataframe tbody tr th:only-of-type {\n",
       "        vertical-align: middle;\n",
       "    }\n",
       "\n",
       "    .dataframe tbody tr th {\n",
       "        vertical-align: top;\n",
       "    }\n",
       "\n",
       "    .dataframe thead th {\n",
       "        text-align: right;\n",
       "    }\n",
       "</style>\n",
       "<table border=\"1\" class=\"dataframe\">\n",
       "  <thead>\n",
       "    <tr style=\"text-align: right;\">\n",
       "      <th></th>\n",
       "      <th></th>\n",
       "      <th></th>\n",
       "      <th>beer_name</th>\n",
       "      <th>beer_style</th>\n",
       "    </tr>\n",
       "    <tr>\n",
       "      <th>profile_name</th>\n",
       "      <th>beer_id</th>\n",
       "      <th>time</th>\n",
       "      <th></th>\n",
       "      <th></th>\n",
       "    </tr>\n",
       "  </thead>\n",
       "  <tbody>\n",
       "    <tr>\n",
       "      <th>BeerFMAndy</th>\n",
       "      <th>92</th>\n",
       "      <th>2009-12-24 21:51:46</th>\n",
       "      <td>Arrogant Bastard Ale</td>\n",
       "      <td>American Strong Ale</td>\n",
       "    </tr>\n",
       "    <tr>\n",
       "      <th>northyorksammy</th>\n",
       "      <th>54919</th>\n",
       "      <th>2009-12-21 14:59:39</th>\n",
       "      <td>Kuhnhenn Foreign Export Stout</td>\n",
       "      <td>Foreign / Export Stout</td>\n",
       "    </tr>\n",
       "  </tbody>\n",
       "</table>\n",
       "</div>"
      ],
      "text/plain": [
       "                                                                beer_name              beer_style\n",
       "profile_name   beer_id time                                                                      \n",
       "BeerFMAndy     92      2009-12-24 21:51:46           Arrogant Bastard Ale     American Strong Ale\n",
       "northyorksammy 54919   2009-12-21 14:59:39  Kuhnhenn Foreign Export Stout  Foreign / Export Stout"
      ]
     },
     "execution_count": 200,
     "metadata": {},
     "output_type": "execute_result"
    }
   ],
   "source": [
    "# SQL like query\n",
    "(reviews\n",
    "        .query('profile_name in @top_reviewers.index and \\\n",
    "                beer_id in [92,54919]')\n",
    "        [['beer_name','beer_style']]\n",
    " )"
   ]
  },
  {
   "cell_type": "code",
   "execution_count": 202,
   "metadata": {},
   "outputs": [
    {
     "data": {
      "text/html": [
       "<div>\n",
       "<style scoped>\n",
       "    .dataframe tbody tr th:only-of-type {\n",
       "        vertical-align: middle;\n",
       "    }\n",
       "\n",
       "    .dataframe tbody tr th {\n",
       "        vertical-align: top;\n",
       "    }\n",
       "\n",
       "    .dataframe thead th {\n",
       "        text-align: right;\n",
       "    }\n",
       "</style>\n",
       "<table border=\"1\" class=\"dataframe\">\n",
       "  <thead>\n",
       "    <tr style=\"text-align: right;\">\n",
       "      <th></th>\n",
       "      <th></th>\n",
       "      <th></th>\n",
       "      <th>beer_name</th>\n",
       "      <th>beer_style</th>\n",
       "    </tr>\n",
       "    <tr>\n",
       "      <th>profile_name</th>\n",
       "      <th>beer_id</th>\n",
       "      <th>time</th>\n",
       "      <th></th>\n",
       "      <th></th>\n",
       "    </tr>\n",
       "  </thead>\n",
       "  <tbody>\n",
       "    <tr>\n",
       "      <th>Arnie2709</th>\n",
       "      <th>92</th>\n",
       "      <th>2009-11-23 17:16:39</th>\n",
       "      <td>Arrogant Bastard Ale</td>\n",
       "      <td>American Strong Ale</td>\n",
       "    </tr>\n",
       "    <tr>\n",
       "      <th>BatsforBeer</th>\n",
       "      <th>92</th>\n",
       "      <th>2009-11-06 04:10:13</th>\n",
       "      <td>Arrogant Bastard Ale</td>\n",
       "      <td>American Strong Ale</td>\n",
       "    </tr>\n",
       "    <tr>\n",
       "      <th>...</th>\n",
       "      <th>...</th>\n",
       "      <th>...</th>\n",
       "      <td>...</td>\n",
       "      <td>...</td>\n",
       "    </tr>\n",
       "    <tr>\n",
       "      <th>wahhmaster</th>\n",
       "      <th>92</th>\n",
       "      <th>2009-10-07 18:02:47</th>\n",
       "      <td>Arrogant Bastard Ale</td>\n",
       "      <td>American Strong Ale</td>\n",
       "    </tr>\n",
       "    <tr>\n",
       "      <th>woosterbill</th>\n",
       "      <th>92</th>\n",
       "      <th>2009-11-12 03:00:54</th>\n",
       "      <td>Arrogant Bastard Ale</td>\n",
       "      <td>American Strong Ale</td>\n",
       "    </tr>\n",
       "  </tbody>\n",
       "</table>\n",
       "<p>72 rows × 2 columns</p>\n",
       "</div>"
      ],
      "text/plain": [
       "                                                     beer_name           beer_style\n",
       "profile_name beer_id time                                                          \n",
       "Arnie2709    92      2009-11-23 17:16:39  Arrogant Bastard Ale  American Strong Ale\n",
       "BatsforBeer  92      2009-11-06 04:10:13  Arrogant Bastard Ale  American Strong Ale\n",
       "...                                                        ...                  ...\n",
       "wahhmaster   92      2009-10-07 18:02:47  Arrogant Bastard Ale  American Strong Ale\n",
       "woosterbill  92      2009-11-12 03:00:54  Arrogant Bastard Ale  American Strong Ale\n",
       "\n",
       "[72 rows x 2 columns]"
      ]
     },
     "execution_count": 202,
     "metadata": {},
     "output_type": "execute_result"
    }
   ],
   "source": [
    "# All review for 92 and 54919\n",
    "reviews.loc[idx[:, [92, 54919], :], ['beer_name' ,'beer_style']]"
   ]
  },
  {
   "cell_type": "markdown",
   "metadata": {},
   "source": [
    "# Categorical data types"
   ]
  },
  {
   "cell_type": "markdown",
   "metadata": {},
   "source": [
    "In addition to the Numpy `dtypes` Pandas introduces a `categorical` dtype."
   ]
  },
  {
   "cell_type": "markdown",
   "metadata": {},
   "source": [
    "## Overview of categoricals"
   ]
  },
  {
   "cell_type": "markdown",
   "metadata": {},
   "source": [
    "The categorical data type is useful in the following cases:\n",
    "\n",
    "* A string variable consisting of only a few different values. \n",
    "    * Converting such a string variable to a categorical variable will save some memory.\n",
    "* The lexical order of a variable is not the same as the logical order (“one”, “two”, “three”). \n",
    "    * By converting to a categorical and specifying an order on the categories, sorting and min/max will use the logical order instead of the lexical order.\n",
    "* As a signal to other python libraries that this column should be treated as a categorical variable\n",
    "    * e.g. to use suitable statistical methods or plot types."
   ]
  },
  {
   "cell_type": "code",
   "execution_count": 203,
   "metadata": {},
   "outputs": [
    {
     "name": "stdout",
     "output_type": "stream",
     "text": [
      "<class 'pandas.core.frame.DataFrame'>\n",
      "Int64Index: 50000 entries, 0 to 49999\n",
      "Data columns (total 13 columns):\n",
      " #   Column             Non-Null Count  Dtype         \n",
      "---  ------             --------------  -----         \n",
      " 0   abv                48389 non-null  float64       \n",
      " 1   beer_id            50000 non-null  int64         \n",
      " 2   brewer_id          50000 non-null  int64         \n",
      " 3   beer_name          50000 non-null  object        \n",
      " 4   beer_style         50000 non-null  object        \n",
      " 5   review_appearance  50000 non-null  float64       \n",
      " 6   review_aroma       50000 non-null  float64       \n",
      " 7   review_overall     50000 non-null  float64       \n",
      " 8   review_palate      50000 non-null  float64       \n",
      " 9   profile_name       50000 non-null  object        \n",
      " 10  review_taste       50000 non-null  float64       \n",
      " 11  text               49991 non-null  object        \n",
      " 12  time               50000 non-null  datetime64[ns]\n",
      "dtypes: datetime64[ns](1), float64(6), int64(2), object(4)\n",
      "memory usage: 6.6+ MB\n"
     ]
    }
   ],
   "source": [
    "df.info()"
   ]
  },
  {
   "cell_type": "markdown",
   "metadata": {},
   "source": [
    "## Categorical Example: Decrease Memory Use"
   ]
  },
  {
   "cell_type": "markdown",
   "metadata": {},
   "source": [
    "Candidates for `categorical` dtypes are columns that have only a small fraction of unique strings. In the next cell we'll see that there are only 104 unique `beer_style`s out of the 50000 independent reviews."
   ]
  },
  {
   "cell_type": "code",
   "execution_count": 204,
   "metadata": {},
   "outputs": [
    {
     "data": {
      "text/html": [
       "<div>\n",
       "<style scoped>\n",
       "    .dataframe tbody tr th:only-of-type {\n",
       "        vertical-align: middle;\n",
       "    }\n",
       "\n",
       "    .dataframe tbody tr th {\n",
       "        vertical-align: top;\n",
       "    }\n",
       "\n",
       "    .dataframe thead th {\n",
       "        text-align: right;\n",
       "    }\n",
       "</style>\n",
       "<table border=\"1\" class=\"dataframe\">\n",
       "  <thead>\n",
       "    <tr style=\"text-align: right;\">\n",
       "      <th></th>\n",
       "      <th>beer_name</th>\n",
       "      <th>beer_style</th>\n",
       "      <th>profile_name</th>\n",
       "      <th>text</th>\n",
       "    </tr>\n",
       "  </thead>\n",
       "  <tbody>\n",
       "    <tr>\n",
       "      <th>count</th>\n",
       "      <td>50000</td>\n",
       "      <td>50000</td>\n",
       "      <td>50000</td>\n",
       "      <td>49991</td>\n",
       "    </tr>\n",
       "    <tr>\n",
       "      <th>unique</th>\n",
       "      <td>8762</td>\n",
       "      <td>104</td>\n",
       "      <td>4124</td>\n",
       "      <td>49977</td>\n",
       "    </tr>\n",
       "    <tr>\n",
       "      <th>top</th>\n",
       "      <td>Sierra Nevada Celebration Ale</td>\n",
       "      <td>American IPA</td>\n",
       "      <td>drabmuh</td>\n",
       "      <td>I had their taster tray of seven beers. All o...</td>\n",
       "    </tr>\n",
       "    <tr>\n",
       "      <th>freq</th>\n",
       "      <td>240</td>\n",
       "      <td>4324</td>\n",
       "      <td>242</td>\n",
       "      <td>3</td>\n",
       "    </tr>\n",
       "  </tbody>\n",
       "</table>\n",
       "</div>"
      ],
      "text/plain": [
       "                            beer_name    beer_style profile_name  \\\n",
       "count                           50000         50000        50000   \n",
       "unique                           8762           104         4124   \n",
       "top     Sierra Nevada Celebration Ale  American IPA      drabmuh   \n",
       "freq                              240          4324          242   \n",
       "\n",
       "                                                     text  \n",
       "count                                               49991  \n",
       "unique                                              49977  \n",
       "top      I had their taster tray of seven beers. All o...  \n",
       "freq                                                    3  "
      ]
     },
     "execution_count": 204,
     "metadata": {},
     "output_type": "execute_result"
    }
   ],
   "source": [
    "# Select all columns of dtype object \n",
    "# Find out which ones have fewest unique values\n",
    "\n",
    "df.select_dtypes(include=['object']).describe()"
   ]
  },
  {
   "cell_type": "code",
   "execution_count": 205,
   "metadata": {},
   "outputs": [
    {
     "data": {
      "text/html": [
       "<div>\n",
       "<style scoped>\n",
       "    .dataframe tbody tr th:only-of-type {\n",
       "        vertical-align: middle;\n",
       "    }\n",
       "\n",
       "    .dataframe tbody tr th {\n",
       "        vertical-align: top;\n",
       "    }\n",
       "\n",
       "    .dataframe thead th {\n",
       "        text-align: right;\n",
       "    }\n",
       "</style>\n",
       "<table border=\"1\" class=\"dataframe\">\n",
       "  <thead>\n",
       "    <tr style=\"text-align: right;\">\n",
       "      <th></th>\n",
       "      <th>beer_style</th>\n",
       "    </tr>\n",
       "  </thead>\n",
       "  <tbody>\n",
       "    <tr>\n",
       "      <th>0</th>\n",
       "      <td>American Stout</td>\n",
       "    </tr>\n",
       "    <tr>\n",
       "      <th>1</th>\n",
       "      <td>American Porter</td>\n",
       "    </tr>\n",
       "    <tr>\n",
       "      <th>...</th>\n",
       "      <td>...</td>\n",
       "    </tr>\n",
       "    <tr>\n",
       "      <th>49998</th>\n",
       "      <td>English Pale Ale</td>\n",
       "    </tr>\n",
       "    <tr>\n",
       "      <th>49999</th>\n",
       "      <td>Russian Imperial Stout</td>\n",
       "    </tr>\n",
       "  </tbody>\n",
       "</table>\n",
       "<p>50000 rows × 1 columns</p>\n",
       "</div>"
      ],
      "text/plain": [
       "                   beer_style\n",
       "0              American Stout\n",
       "1             American Porter\n",
       "...                       ...\n",
       "49998        English Pale Ale\n",
       "49999  Russian Imperial Stout\n",
       "\n",
       "[50000 rows x 1 columns]"
      ]
     },
     "execution_count": 205,
     "metadata": {},
     "output_type": "execute_result"
    }
   ],
   "source": [
    "df[['beer_style']]"
   ]
  },
  {
   "cell_type": "code",
   "execution_count": 206,
   "metadata": {},
   "outputs": [
    {
     "name": "stdout",
     "output_type": "stream",
     "text": [
      "<class 'pandas.core.frame.DataFrame'>\n",
      "Int64Index: 50000 entries, 0 to 49999\n",
      "Data columns (total 1 columns):\n",
      " #   Column      Non-Null Count  Dtype \n",
      "---  ------      --------------  ----- \n",
      " 0   beer_style  50000 non-null  object\n",
      "dtypes: object(1)\n",
      "memory usage: 2.0+ MB\n"
     ]
    }
   ],
   "source": [
    "# fancy selection returns a DataFrame (not a Series) with a single column:\n",
    "\n",
    "df[['beer_style']].info()"
   ]
  },
  {
   "cell_type": "markdown",
   "metadata": {},
   "source": [
    "Convert to categorical:\n",
    "* `beer_style` column converted to a `categorical`\n",
    "* reassign column back into the DataFrame\n",
    "* memory usage for this column has decreased!"
   ]
  },
  {
   "cell_type": "code",
   "execution_count": 207,
   "metadata": {},
   "outputs": [
    {
     "name": "stdout",
     "output_type": "stream",
     "text": [
      "<class 'pandas.core.frame.DataFrame'>\n",
      "Int64Index: 50000 entries, 0 to 49999\n",
      "Data columns (total 1 columns):\n",
      " #   Column      Non-Null Count  Dtype   \n",
      "---  ------      --------------  -----   \n",
      " 0   beer_style  50000 non-null  category\n",
      "dtypes: category(1)\n",
      "memory usage: 1.7 MB\n"
     ]
    }
   ],
   "source": [
    "df['beer_style'] = df['beer_style'].astype('category')\n",
    "df[['beer_style']].info()"
   ]
  },
  {
   "cell_type": "markdown",
   "metadata": {},
   "source": [
    "### A slightly harder way to select IPA styles"
   ]
  },
  {
   "cell_type": "code",
   "execution_count": 208,
   "metadata": {},
   "outputs": [
    {
     "data": {
      "text/plain": [
       "Index(['American Double / Imperial IPA', 'American IPA', 'Belgian IPA',\n",
       "       'English India Pale Ale (IPA)'],\n",
       "      dtype='object')"
      ]
     },
     "execution_count": 208,
     "metadata": {},
     "output_type": "execute_result"
    }
   ],
   "source": [
    "cats = (df\n",
    "          .beer_style\n",
    "          .cat\n",
    "          .categories[df.beer_style.cat.categories.str.contains('IPA')]\n",
    "        )\n",
    "cats"
   ]
  },
  {
   "cell_type": "code",
   "execution_count": 209,
   "metadata": {},
   "outputs": [
    {
     "data": {
      "text/plain": [
       "0        False\n",
       "1        False\n",
       "         ...  \n",
       "49998    False\n",
       "49999    False\n",
       "Name: beer_style, Length: 50000, dtype: bool"
      ]
     },
     "execution_count": 209,
     "metadata": {},
     "output_type": "execute_result"
    }
   ],
   "source": [
    "# generate the boolean indexer\n",
    "df.beer_style.isin(cats)"
   ]
  },
  {
   "cell_type": "code",
   "execution_count": 223,
   "metadata": {},
   "outputs": [
    {
     "data": {
      "text/html": [
       "<div>\n",
       "<table border=\"1\" class=\"dataframe\">\n",
       "  <thead>\n",
       "    <tr style=\"text-align: right;\">\n",
       "      <th></th>\n",
       "      <th>abv</th>\n",
       "      <th>beer_id</th>\n",
       "      <th>brewer_id</th>\n",
       "      <th>beer_name</th>\n",
       "      <th>...</th>\n",
       "      <th>profile_name</th>\n",
       "      <th>review_taste</th>\n",
       "      <th>text</th>\n",
       "      <th>time</th>\n",
       "    </tr>\n",
       "  </thead>\n",
       "  <tbody>\n",
       "    <tr>\n",
       "      <th>3</th>\n",
       "      <td>9.5</td>\n",
       "      <td>28577</td>\n",
       "      <td>3818</td>\n",
       "      <td>Unearthly (Imperial India Pale Ale)</td>\n",
       "      <td>...</td>\n",
       "      <td>nick76</td>\n",
       "      <td>4.0</td>\n",
       "      <td>The aroma has pine, wood, citrus, caramel, an...</td>\n",
       "      <td>2009-10-05 21:32:37</td>\n",
       "    </tr>\n",
       "    <tr>\n",
       "      <th>8</th>\n",
       "      <td>6.7</td>\n",
       "      <td>6549</td>\n",
       "      <td>140</td>\n",
       "      <td>Northern Hemisphere Harvest Wet Hop Ale</td>\n",
       "      <td>...</td>\n",
       "      <td>david18</td>\n",
       "      <td>4.0</td>\n",
       "      <td>I like all of Sierra Nevada's beers but felt ...</td>\n",
       "      <td>2009-10-05 21:34:31</td>\n",
       "    </tr>\n",
       "    <tr>\n",
       "      <th>...</th>\n",
       "      <td>...</td>\n",
       "      <td>...</td>\n",
       "      <td>...</td>\n",
       "      <td>...</td>\n",
       "      <td>...</td>\n",
       "      <td>...</td>\n",
       "      <td>...</td>\n",
       "      <td>...</td>\n",
       "      <td>...</td>\n",
       "    </tr>\n",
       "    <tr>\n",
       "      <th>49984</th>\n",
       "      <td>6.0</td>\n",
       "      <td>38388</td>\n",
       "      <td>3718</td>\n",
       "      <td>L'IPA Du Lièvre</td>\n",
       "      <td>...</td>\n",
       "      <td>hlance</td>\n",
       "      <td>4.5</td>\n",
       "      <td>I love this beer, seek it out when I am in Mo...</td>\n",
       "      <td>2009-12-25 16:25:45</td>\n",
       "    </tr>\n",
       "    <tr>\n",
       "      <th>49996</th>\n",
       "      <td>8.0</td>\n",
       "      <td>7971</td>\n",
       "      <td>863</td>\n",
       "      <td>Pliny The Elder</td>\n",
       "      <td>...</td>\n",
       "      <td>hrking</td>\n",
       "      <td>4.0</td>\n",
       "      <td>This is a big hoppy monster of an IPA..If you...</td>\n",
       "      <td>2009-12-25 17:23:24</td>\n",
       "    </tr>\n",
       "  </tbody>\n",
       "</table>\n",
       "<p>7774 rows × 13 columns</p>\n",
       "</div>"
      ],
      "text/plain": [
       "       abv  beer_id  brewer_id                                beer_name         ...          \\\n",
       "3      9.5    28577       3818      Unearthly (Imperial India Pale Ale)         ...           \n",
       "8      6.7     6549        140  Northern Hemisphere Harvest Wet Hop Ale         ...           \n",
       "...    ...      ...        ...                                      ...         ...           \n",
       "49984  6.0    38388       3718                          L'IPA Du Lièvre         ...           \n",
       "49996  8.0     7971        863                          Pliny The Elder         ...           \n",
       "\n",
       "      profile_name  review_taste                                               text  \\\n",
       "3           nick76           4.0   The aroma has pine, wood, citrus, caramel, an...   \n",
       "8          david18           4.0   I like all of Sierra Nevada's beers but felt ...   \n",
       "...            ...           ...                                                ...   \n",
       "49984       hlance           4.5   I love this beer, seek it out when I am in Mo...   \n",
       "49996       hrking           4.0   This is a big hoppy monster of an IPA..If you...   \n",
       "\n",
       "                     time  \n",
       "3     2009-10-05 21:32:37  \n",
       "8     2009-10-05 21:34:31  \n",
       "...                   ...  \n",
       "49984 2009-12-25 16:25:45  \n",
       "49996 2009-12-25 17:23:24  \n",
       "\n",
       "[7774 rows x 13 columns]"
      ]
     },
     "execution_count": 223,
     "metadata": {},
     "output_type": "execute_result"
    }
   ],
   "source": [
    "df[df.beer_style.isin(cats)]"
   ]
  },
  {
   "cell_type": "markdown",
   "metadata": {},
   "source": [
    "## Categoricals: How it Works"
   ]
  },
  {
   "cell_type": "markdown",
   "metadata": {},
   "source": [
    "`categorical` series or columns store only the unique strings and provide an integer `code` lookup. \n",
    "\n",
    "Notice the dtype of the code series object. Pandas will select the smallest allowable dtype for the number of unique categories."
   ]
  },
  {
   "cell_type": "code",
   "execution_count": 210,
   "metadata": {},
   "outputs": [
    {
     "data": {
      "text/plain": [
       "0        18\n",
       "1        17\n",
       "         ..\n",
       "49998    47\n",
       "49999    89\n",
       "Length: 50000, dtype: int8"
      ]
     },
     "execution_count": 210,
     "metadata": {},
     "output_type": "execute_result"
    }
   ],
   "source": [
    "df.beer_style.cat.codes"
   ]
  },
  {
   "cell_type": "code",
   "execution_count": 211,
   "metadata": {},
   "outputs": [
    {
     "data": {
      "text/plain": [
       "Index(['Altbier', 'American Adjunct Lager', 'American Amber / Red Ale',\n",
       "       'American Amber / Red Lager', 'American Barleywine', 'American Black Ale',\n",
       "       'American Blonde Ale', 'American Brown Ale', 'American Dark Wheat Ale',\n",
       "       'American Double / Imperial IPA',\n",
       "       ...\n",
       "       'Scotch Ale / Wee Heavy', 'Scottish Ale', 'Scottish Gruit / Ancient Herbed Ale',\n",
       "       'Smoked Beer', 'Tripel', 'Vienna Lager', 'Weizenbock', 'Wheatwine', 'Winter Warmer',\n",
       "       'Witbier'],\n",
       "      dtype='object', length=104)"
      ]
     },
     "execution_count": 211,
     "metadata": {},
     "output_type": "execute_result"
    }
   ],
   "source": [
    "df.beer_style.cat.categories"
   ]
  },
  {
   "cell_type": "code",
   "execution_count": 212,
   "metadata": {},
   "outputs": [
    {
     "data": {
      "text/plain": [
       "False"
      ]
     },
     "execution_count": 212,
     "metadata": {},
     "output_type": "execute_result"
    }
   ],
   "source": [
    "df.beer_style.cat.ordered"
   ]
  },
  {
   "cell_type": "markdown",
   "metadata": {},
   "source": [
    "# Section Review"
   ]
  },
  {
   "cell_type": "markdown",
   "metadata": {},
   "source": [
    "Examining Data\n",
    "* Reading data files\n",
    "* Inspecting the DataFrame\n",
    "* Examining Columns\n",
    "   * Selecting Columns\n",
    "   * Adding and Removing Columns\n",
    "   * String operations\n",
    "   * DateTime operations\n",
    "* Indexing\n",
    "   * Attribute and Bracket style indexing\n",
    "   * Column then row indexing\n",
    "   * Setting/Changing the Index\n",
    "   * Boolean indexing\n",
    "   * Hierarchical indexing with MultiIndex\n",
    "   * .loc() and .iloc()\n",
    "* Categorical dtype\n"
   ]
  },
  {
   "cell_type": "markdown",
   "metadata": {},
   "source": [
    "***"
   ]
  },
  {
   "cell_type": "markdown",
   "metadata": {},
   "source": [
    "# Pandas GroupBy Overview"
   ]
  },
  {
   "cell_type": "markdown",
   "metadata": {},
   "source": [
    "## Set-Up"
   ]
  },
  {
   "cell_type": "code",
   "execution_count": 213,
   "metadata": {
    "slideshow": {
     "slide_type": "subslide"
    }
   },
   "outputs": [],
   "source": [
    "import numpy as np\n",
    "\n",
    "import matplotlib.pyplot as plt\n",
    "%matplotlib inline\n",
    "\n",
    "import pandas as pd\n",
    "pd.options.display.max_rows    = 6\n",
    "pd.options.display.max_columns = 6\n",
    "pd.options.display.width       = 80"
   ]
  },
  {
   "cell_type": "markdown",
   "metadata": {},
   "source": [
    "## What is Groupby?"
   ]
  },
  {
   "cell_type": "markdown",
   "metadata": {
    "slideshow": {
     "slide_type": "fragment"
    }
   },
   "source": [
    "Groupby is a fundamental operation in data analysis and is well supported in pandas.\n",
    "> http://pandas.pydata.org/pandas-docs/stable/groupby.html\n",
    "\n",
    "\n",
    "A “group by” involves one or more of the following:\n",
    "\n",
    "1. **Split** a table into groups\n",
    "2. **Apply** a function to each groups\n",
    "3. **Combine** the results\n",
    "\n",
    "The split and combine are often straight-forward. The apply is more interesting\n",
    "\n",
    "In the apply step, perform one or more of the following:\n",
    "\n",
    "* **Aggregation:** compute a summary statistic, e.g. count, sum, mean, or std.\n",
    "* **Transformation:** group-specific computations and return a like-indexed.\n",
    "* **Filtration:** discard some groups, filtering based on mean\n"
   ]
  },
  {
   "cell_type": "markdown",
   "metadata": {},
   "source": [
    "## Groupby Input Types"
   ]
  },
  {
   "cell_type": "markdown",
   "metadata": {
    "slideshow": {
     "slide_type": "subslide"
    }
   },
   "source": [
    "In pandas the first step in a groupby looks like this:"
   ]
  },
  {
   "cell_type": "markdown",
   "metadata": {
    "slideshow": {
     "slide_type": "fragment"
    }
   },
   "source": [
    "``df.groupby( grouper )``"
   ]
  },
  {
   "cell_type": "markdown",
   "metadata": {
    "slideshow": {
     "slide_type": "fragment"
    }
   },
   "source": [
    "`grouper` can be many things\n",
    "\n",
    "- **``Series``** e.g. `df['A']` used as `df.groupby(df['A'])`\n",
    "- **`string`** e.g. `\"A\"` is a column label, used as `df.groupby('A')`, which is equivalent to `df.groupby(df['A'])`\n",
    "- **function** (to be applied on the index)\n",
    "- **dict** : groups by *values*\n",
    "- **`levels=[]`**, names of levels in a MultiIndex"
   ]
  },
  {
   "cell_type": "markdown",
   "metadata": {},
   "source": [
    "# Quick Demo"
   ]
  },
  {
   "cell_type": "markdown",
   "metadata": {},
   "source": [
    "A very brief example of the power of pandas groupby:"
   ]
  },
  {
   "cell_type": "markdown",
   "metadata": {},
   "source": [
    "## Read Data"
   ]
  },
  {
   "cell_type": "code",
   "execution_count": 214,
   "metadata": {},
   "outputs": [
    {
     "data": {
      "text/html": [
       "<div>\n",
       "<style scoped>\n",
       "    .dataframe tbody tr th:only-of-type {\n",
       "        vertical-align: middle;\n",
       "    }\n",
       "\n",
       "    .dataframe tbody tr th {\n",
       "        vertical-align: top;\n",
       "    }\n",
       "\n",
       "    .dataframe thead th {\n",
       "        text-align: right;\n",
       "    }\n",
       "</style>\n",
       "<table border=\"1\" class=\"dataframe\">\n",
       "  <thead>\n",
       "    <tr style=\"text-align: right;\">\n",
       "      <th></th>\n",
       "      <th>NAME</th>\n",
       "      <th>FIRSTREF</th>\n",
       "      <th>FIRSTURL</th>\n",
       "      <th>...</th>\n",
       "      <th>DEC_STRING(d:m:s)</th>\n",
       "      <th>STAR_MASS(msun)</th>\n",
       "      <th>STAR_RADIUS(rsun)</th>\n",
       "    </tr>\n",
       "    <tr>\n",
       "      <th>DATE</th>\n",
       "      <th></th>\n",
       "      <th></th>\n",
       "      <th></th>\n",
       "      <th></th>\n",
       "      <th></th>\n",
       "      <th></th>\n",
       "      <th></th>\n",
       "    </tr>\n",
       "  </thead>\n",
       "  <tbody>\n",
       "    <tr>\n",
       "      <th>1988-01-01</th>\n",
       "      <td>gamma Cep b</td>\n",
       "      <td>Campbell 1988</td>\n",
       "      <td>http://adsabs.harvard.edu/abs/1988ApJ...331..902C</td>\n",
       "      <td>...</td>\n",
       "      <td>+77:37:55.08</td>\n",
       "      <td>1.260000</td>\n",
       "      <td>5.010000</td>\n",
       "    </tr>\n",
       "    <tr>\n",
       "      <th>1989-01-01</th>\n",
       "      <td>HD 114762 b</td>\n",
       "      <td>Latham 1989</td>\n",
       "      <td>http://adsabs.harvard.edu/abs/1989Natur.339...38L</td>\n",
       "      <td>...</td>\n",
       "      <td>+17:31:01.66</td>\n",
       "      <td>0.894578</td>\n",
       "      <td>0.859205</td>\n",
       "    </tr>\n",
       "    <tr>\n",
       "      <th>1992-01-01</th>\n",
       "      <td>PSR B1257+12 B</td>\n",
       "      <td>Wolszczan 1992</td>\n",
       "      <td>http://adsabs.harvard.edu//abs/1992Natur.355.....</td>\n",
       "      <td>...</td>\n",
       "      <td>+12:40:56.4</td>\n",
       "      <td>NaN</td>\n",
       "      <td>NaN</td>\n",
       "    </tr>\n",
       "  </tbody>\n",
       "</table>\n",
       "<p>3 rows × 16 columns</p>\n",
       "</div>"
      ],
      "text/plain": [
       "                      NAME        FIRSTREF  \\\n",
       "DATE                                         \n",
       "1988-01-01     gamma Cep b   Campbell 1988   \n",
       "1989-01-01     HD 114762 b     Latham 1989   \n",
       "1992-01-01  PSR B1257+12 B  Wolszczan 1992   \n",
       "\n",
       "                                                     FIRSTURL  ...  \\\n",
       "DATE                                                           ...   \n",
       "1988-01-01  http://adsabs.harvard.edu/abs/1988ApJ...331..902C  ...   \n",
       "1989-01-01  http://adsabs.harvard.edu/abs/1989Natur.339...38L  ...   \n",
       "1992-01-01  http://adsabs.harvard.edu//abs/1992Natur.355.....  ...   \n",
       "\n",
       "            DEC_STRING(d:m:s)  STAR_MASS(msun)  STAR_RADIUS(rsun)  \n",
       "DATE                                                               \n",
       "1988-01-01       +77:37:55.08         1.260000           5.010000  \n",
       "1989-01-01       +17:31:01.66         0.894578           0.859205  \n",
       "1992-01-01        +12:40:56.4              NaN                NaN  \n",
       "\n",
       "[3 rows x 16 columns]"
      ]
     },
     "execution_count": 214,
     "metadata": {},
     "output_type": "execute_result"
    }
   ],
   "source": [
    "file = \"data/exoplanets.csv\"\n",
    "data = pd.read_csv(file, parse_dates=True, index_col='DATE')\n",
    "data.head(3)"
   ]
  },
  {
   "cell_type": "markdown",
   "metadata": {},
   "source": [
    "## Create a groupby object"
   ]
  },
  {
   "cell_type": "code",
   "execution_count": 215,
   "metadata": {},
   "outputs": [],
   "source": [
    "grouped = data.groupby(lambda x: x.year)"
   ]
  },
  {
   "cell_type": "code",
   "execution_count": 216,
   "metadata": {},
   "outputs": [
    {
     "data": {
      "text/plain": [
       "<pandas.core.groupby.generic.DataFrameGroupBy object at 0x7f88c6918910>"
      ]
     },
     "execution_count": 216,
     "metadata": {},
     "output_type": "execute_result"
    }
   ],
   "source": [
    "grouped"
   ]
  },
  {
   "cell_type": "code",
   "execution_count": 217,
   "metadata": {},
   "outputs": [
    {
     "data": {
      "text/plain": [
       "26"
      ]
     },
     "execution_count": 217,
     "metadata": {},
     "output_type": "execute_result"
    }
   ],
   "source": [
    "len(grouped.groups)"
   ]
  },
  {
   "cell_type": "markdown",
   "metadata": {},
   "source": [
    "## Split"
   ]
  },
  {
   "cell_type": "code",
   "execution_count": 218,
   "metadata": {},
   "outputs": [
    {
     "data": {
      "text/html": [
       "<div>\n",
       "<style scoped>\n",
       "    .dataframe tbody tr th:only-of-type {\n",
       "        vertical-align: middle;\n",
       "    }\n",
       "\n",
       "    .dataframe tbody tr th {\n",
       "        vertical-align: top;\n",
       "    }\n",
       "\n",
       "    .dataframe thead th {\n",
       "        text-align: right;\n",
       "    }\n",
       "</style>\n",
       "<table border=\"1\" class=\"dataframe\">\n",
       "  <thead>\n",
       "    <tr style=\"text-align: right;\">\n",
       "      <th></th>\n",
       "      <th>NAME</th>\n",
       "      <th>FIRSTREF</th>\n",
       "      <th>FIRSTURL</th>\n",
       "      <th>...</th>\n",
       "      <th>DEC_STRING(d:m:s)</th>\n",
       "      <th>STAR_MASS(msun)</th>\n",
       "      <th>STAR_RADIUS(rsun)</th>\n",
       "    </tr>\n",
       "    <tr>\n",
       "      <th>DATE</th>\n",
       "      <th></th>\n",
       "      <th></th>\n",
       "      <th></th>\n",
       "      <th></th>\n",
       "      <th></th>\n",
       "      <th></th>\n",
       "      <th></th>\n",
       "    </tr>\n",
       "  </thead>\n",
       "  <tbody>\n",
       "    <tr>\n",
       "      <th>1997-01-01</th>\n",
       "      <td>16 Cyg B b</td>\n",
       "      <td>Cochran 1997</td>\n",
       "      <td>http://adsabs.harvard.edu/abs/1997ApJ...483..457C</td>\n",
       "      <td>...</td>\n",
       "      <td>+50:31:04.51</td>\n",
       "      <td>0.956</td>\n",
       "      <td>1.11760</td>\n",
       "    </tr>\n",
       "    <tr>\n",
       "      <th>1997-01-01</th>\n",
       "      <td>tau Boo b</td>\n",
       "      <td>Butler 1997</td>\n",
       "      <td>http://adsabs.harvard.edu/abs/1997ApJ...474L.115B</td>\n",
       "      <td>...</td>\n",
       "      <td>+17:27:24.39</td>\n",
       "      <td>1.341</td>\n",
       "      <td>1.41847</td>\n",
       "    </tr>\n",
       "    <tr>\n",
       "      <th>1997-01-01</th>\n",
       "      <td>rho CrB b</td>\n",
       "      <td>Noyes 1997</td>\n",
       "      <td>http://adsabs.harvard.edu/abs/1997ApJ...483L.111N</td>\n",
       "      <td>...</td>\n",
       "      <td>+33:18:19.40</td>\n",
       "      <td>0.965</td>\n",
       "      <td>1.10084</td>\n",
       "    </tr>\n",
       "    <tr>\n",
       "      <th>1997-01-01</th>\n",
       "      <td>55 Cnc b</td>\n",
       "      <td>Butler 1997</td>\n",
       "      <td>http://adsabs.harvard.edu/abs/1997ApJ...474L.115B</td>\n",
       "      <td>...</td>\n",
       "      <td>+28:19:53.00</td>\n",
       "      <td>0.905</td>\n",
       "      <td>0.94300</td>\n",
       "    </tr>\n",
       "    <tr>\n",
       "      <th>1997-01-01</th>\n",
       "      <td>upsilon And b</td>\n",
       "      <td>Butler 1997</td>\n",
       "      <td>http://adsabs.harvard.edu/abs/1997ApJ...474L.115B</td>\n",
       "      <td>...</td>\n",
       "      <td>+41:24:22.99</td>\n",
       "      <td>1.310</td>\n",
       "      <td>1.38300</td>\n",
       "    </tr>\n",
       "  </tbody>\n",
       "</table>\n",
       "<p>5 rows × 16 columns</p>\n",
       "</div>"
      ],
      "text/plain": [
       "                     NAME      FIRSTREF  \\\n",
       "DATE                                      \n",
       "1997-01-01     16 Cyg B b  Cochran 1997   \n",
       "1997-01-01      tau Boo b   Butler 1997   \n",
       "1997-01-01      rho CrB b    Noyes 1997   \n",
       "1997-01-01       55 Cnc b   Butler 1997   \n",
       "1997-01-01  upsilon And b   Butler 1997   \n",
       "\n",
       "                                                     FIRSTURL  ...  \\\n",
       "DATE                                                           ...   \n",
       "1997-01-01  http://adsabs.harvard.edu/abs/1997ApJ...483..457C  ...   \n",
       "1997-01-01  http://adsabs.harvard.edu/abs/1997ApJ...474L.115B  ...   \n",
       "1997-01-01  http://adsabs.harvard.edu/abs/1997ApJ...483L.111N  ...   \n",
       "1997-01-01  http://adsabs.harvard.edu/abs/1997ApJ...474L.115B  ...   \n",
       "1997-01-01  http://adsabs.harvard.edu/abs/1997ApJ...474L.115B  ...   \n",
       "\n",
       "            DEC_STRING(d:m:s)  STAR_MASS(msun)  STAR_RADIUS(rsun)  \n",
       "DATE                                                               \n",
       "1997-01-01       +50:31:04.51            0.956            1.11760  \n",
       "1997-01-01       +17:27:24.39            1.341            1.41847  \n",
       "1997-01-01       +33:18:19.40            0.965            1.10084  \n",
       "1997-01-01       +28:19:53.00            0.905            0.94300  \n",
       "1997-01-01       +41:24:22.99            1.310            1.38300  \n",
       "\n",
       "[5 rows x 16 columns]"
      ]
     },
     "execution_count": 218,
     "metadata": {},
     "output_type": "execute_result"
    }
   ],
   "source": [
    "grouped.get_group(1997)"
   ]
  },
  {
   "cell_type": "markdown",
   "metadata": {},
   "source": [
    "## Apply"
   ]
  },
  {
   "cell_type": "code",
   "execution_count": 219,
   "metadata": {},
   "outputs": [
    {
     "data": {
      "text/plain": [
       "Index(['NAME', 'FIRSTREF', 'FIRSTURL', 'NUM_OBS', 'MASS(mjupiter)',\n",
       "       'RADIUS(rjupiter)', 'PERIOD(day)', 'ECCENTRICITY',\n",
       "       'SEMI_MAJOR_AXIS(AU)', 'SEPARATION(AU)', 'STAR_NAME', 'DIST(PARSEC)',\n",
       "       'RA_STRING(h:m:s)', 'DEC_STRING(d:m:s)', 'STAR_MASS(msun)',\n",
       "       'STAR_RADIUS(rsun)'],\n",
       "      dtype='object')"
      ]
     },
     "execution_count": 219,
     "metadata": {},
     "output_type": "execute_result"
    }
   ],
   "source": [
    "# What can we aggregate? How about distance away from Earth\n",
    "data.columns"
   ]
  },
  {
   "cell_type": "code",
   "execution_count": 220,
   "metadata": {},
   "outputs": [
    {
     "data": {
      "text/plain": [
       "1988     14.102400\n",
       "1989     38.654800\n",
       "1992           NaN\n",
       "           ...    \n",
       "2013    341.894496\n",
       "2014    246.145021\n",
       "2015    279.107200\n",
       "Name: DIST(PARSEC), Length: 26, dtype: float64"
      ]
     },
     "execution_count": 220,
     "metadata": {},
     "output_type": "execute_result"
    }
   ],
   "source": [
    "grouped.agg('mean')['DIST(PARSEC)']\n",
    "\n",
    "# 14 Parsecs... Pfsss!"
   ]
  },
  {
   "cell_type": "markdown",
   "metadata": {},
   "source": [
    "## Visualize"
   ]
  },
  {
   "cell_type": "code",
   "execution_count": 221,
   "metadata": {},
   "outputs": [
    {
     "data": {
      "text/plain": [
       "<matplotlib.axes._subplots.AxesSubplot at 0x7f88af2f5880>"
      ]
     },
     "execution_count": 221,
     "metadata": {},
     "output_type": "execute_result"
    },
    {
     "data": {
      "image/png": "[encoded data removed]",
      "text/plain": [
       "<Figure size 432x288 with 1 Axes>"
      ]
     },
     "metadata": {
      "needs_background": "light"
     },
     "output_type": "display_data"
    }
   ],
   "source": [
    "# Early detections were planets around nearby stars\n",
    "# Later detections found around stars farther away\n",
    "\n",
    "grouped.agg('mean')['DIST(PARSEC)'].plot()"
   ]
  },
  {
   "cell_type": "markdown",
   "metadata": {},
   "source": [
    "# GroupBy with Real Data"
   ]
  },
  {
   "cell_type": "markdown",
   "metadata": {
    "slideshow": {
     "slide_type": "slide"
    }
   },
   "source": [
    "## Choose your Groups"
   ]
  },
  {
   "cell_type": "markdown",
   "metadata": {},
   "source": [
    "We'll use the same dataset of beer reviews seen in previous notebooks."
   ]
  },
  {
   "cell_type": "code",
   "execution_count": 222,
   "metadata": {},
   "outputs": [],
   "source": [
    "df = pd.read_csv('data/beer2.csv.gz',\n",
    "                  index_col=0,\n",
    "                  parse_dates=['time'])"
   ]
  },
  {
   "cell_type": "markdown",
   "metadata": {
    "slideshow": {
     "slide_type": "fragment"
    }
   },
   "source": [
    "The unique values in the column (in this case, `beer_style`) will make up the **keys** or \"group names\" in the groupby."
   ]
  },
  {
   "cell_type": "code",
   "execution_count": 223,
   "metadata": {},
   "outputs": [
    {
     "data": {
      "text/plain": [
       "0                    American Stout\n",
       "1                   American Porter\n",
       "2                   German Pilsener\n",
       "3    American Double / Imperial IPA\n",
       "4           American Pale Ale (APA)\n",
       "Name: beer_style, dtype: object"
      ]
     },
     "execution_count": 223,
     "metadata": {},
     "output_type": "execute_result"
    }
   ],
   "source": [
    "# Example values in the `beer_style` column\n",
    "\n",
    "df['beer_style'].iloc[0:5]"
   ]
  },
  {
   "cell_type": "code",
   "execution_count": 224,
   "metadata": {},
   "outputs": [
    {
     "name": "stdout",
     "output_type": "stream",
     "text": [
      "50000\n",
      "104\n"
     ]
    }
   ],
   "source": [
    "# The unique values in the `beer_style` column will be the keys of our groupby\n",
    "print( len( df['beer_style'] ) )\n",
    "print( len( df['beer_style'].unique() ) )"
   ]
  },
  {
   "cell_type": "markdown",
   "metadata": {},
   "source": [
    "## Create GroupBy Object"
   ]
  },
  {
   "cell_type": "code",
   "execution_count": 225,
   "metadata": {
    "slideshow": {
     "slide_type": "subslide"
    }
   },
   "outputs": [
    {
     "name": "stdout",
     "output_type": "stream",
     "text": [
      "<class 'pandas.core.groupby.generic.DataFrameGroupBy'>\n"
     ]
    }
   ],
   "source": [
    "gr = df.groupby('beer_style')\n",
    "\n",
    "print( type( gr ) )"
   ]
  },
  {
   "cell_type": "code",
   "execution_count": 226,
   "metadata": {
    "slideshow": {
     "slide_type": "subslide"
    }
   },
   "outputs": [
    {
     "data": {
      "text/plain": [
       "104"
      ]
     },
     "execution_count": 226,
     "metadata": {},
     "output_type": "execute_result"
    }
   ],
   "source": [
    "# The number of groups matches the number of unique entries in the column\n",
    "\n",
    "gr.ngroups"
   ]
  },
  {
   "cell_type": "code",
   "execution_count": 227,
   "metadata": {
    "slideshow": {
     "slide_type": "fragment"
    }
   },
   "outputs": [
    {
     "data": {
      "text/plain": [
       "['Altbier',\n",
       " 'American Adjunct Lager',\n",
       " 'American Amber / Red Ale',\n",
       " 'American Amber / Red Lager',\n",
       " 'American Barleywine']"
      ]
     },
     "execution_count": 227,
     "metadata": {},
     "output_type": "execute_result"
    }
   ],
   "source": [
    "# Example of those column entries\n",
    "\n",
    "list(gr.groups)[0:5]"
   ]
  },
  {
   "cell_type": "markdown",
   "metadata": {},
   "source": [
    "## Split"
   ]
  },
  {
   "cell_type": "code",
   "execution_count": 228,
   "metadata": {},
   "outputs": [
    {
     "name": "stdout",
     "output_type": "stream",
     "text": [
      "<class 'pandas.core.frame.DataFrame'>\n",
      "Int64Index: 267 entries, 14 to 49912\n",
      "Data columns (total 13 columns):\n",
      " #   Column             Non-Null Count  Dtype         \n",
      "---  ------             --------------  -----         \n",
      " 0   abv                259 non-null    float64       \n",
      " 1   beer_id            267 non-null    int64         \n",
      " 2   brewer_id          267 non-null    int64         \n",
      " 3   beer_name          267 non-null    object        \n",
      " 4   beer_style         267 non-null    object        \n",
      " 5   review_appearance  267 non-null    float64       \n",
      " 6   review_aroma       267 non-null    float64       \n",
      " 7   review_overall     267 non-null    float64       \n",
      " 8   review_palate      267 non-null    float64       \n",
      " 9   profile_name       267 non-null    object        \n",
      " 10  review_taste       267 non-null    float64       \n",
      " 11  text               266 non-null    object        \n",
      " 12  time               267 non-null    datetime64[ns]\n",
      "dtypes: datetime64[ns](1), float64(6), int64(2), object(4)\n",
      "memory usage: 29.2+ KB\n"
     ]
    }
   ],
   "source": [
    "# Separating one group from many\n",
    "\n",
    "df_dunkel = gr.get_group('Dunkelweizen')\n",
    "df_dunkel.info()\n",
    "\n",
    "# note the number of rows is much less!"
   ]
  },
  {
   "cell_type": "code",
   "execution_count": 229,
   "metadata": {},
   "outputs": [
    {
     "data": {
      "text/plain": [
       "267"
      ]
     },
     "execution_count": 229,
     "metadata": {},
     "output_type": "execute_result"
    }
   ],
   "source": [
    "len(df_dunkel)"
   ]
  },
  {
   "cell_type": "code",
   "execution_count": 230,
   "metadata": {},
   "outputs": [
    {
     "data": {
      "text/html": [
       "<div>\n",
       "<style scoped>\n",
       "    .dataframe tbody tr th:only-of-type {\n",
       "        vertical-align: middle;\n",
       "    }\n",
       "\n",
       "    .dataframe tbody tr th {\n",
       "        vertical-align: top;\n",
       "    }\n",
       "\n",
       "    .dataframe thead th {\n",
       "        text-align: right;\n",
       "    }\n",
       "</style>\n",
       "<table border=\"1\" class=\"dataframe\">\n",
       "  <thead>\n",
       "    <tr style=\"text-align: right;\">\n",
       "      <th></th>\n",
       "      <th>abv</th>\n",
       "      <th>beer_id</th>\n",
       "      <th>brewer_id</th>\n",
       "      <th>...</th>\n",
       "      <th>review_taste</th>\n",
       "      <th>text</th>\n",
       "      <th>time</th>\n",
       "    </tr>\n",
       "  </thead>\n",
       "  <tbody>\n",
       "    <tr>\n",
       "      <th>14</th>\n",
       "      <td>5.2</td>\n",
       "      <td>53130</td>\n",
       "      <td>1114</td>\n",
       "      <td>...</td>\n",
       "      <td>4.0</td>\n",
       "      <td>A-Very deep, dark brown with a thin tan head ...</td>\n",
       "      <td>2009-10-05 21:42:35</td>\n",
       "    </tr>\n",
       "    <tr>\n",
       "      <th>208</th>\n",
       "      <td>5.2</td>\n",
       "      <td>53130</td>\n",
       "      <td>1114</td>\n",
       "      <td>...</td>\n",
       "      <td>3.0</td>\n",
       "      <td>Pours a very deep, dark chestnut brown which ...</td>\n",
       "      <td>2009-10-06 01:13:42</td>\n",
       "    </tr>\n",
       "    <tr>\n",
       "      <th>260</th>\n",
       "      <td>5.8</td>\n",
       "      <td>135</td>\n",
       "      <td>39</td>\n",
       "      <td>...</td>\n",
       "      <td>4.0</td>\n",
       "      <td>A - looks like a polluted hefe(in a good way)...</td>\n",
       "      <td>2009-10-06 01:54:56</td>\n",
       "    </tr>\n",
       "    <tr>\n",
       "      <th>292</th>\n",
       "      <td>5.6</td>\n",
       "      <td>2041</td>\n",
       "      <td>703</td>\n",
       "      <td>...</td>\n",
       "      <td>3.5</td>\n",
       "      <td>Poured from a 16.9oz bottle into a US tumbler...</td>\n",
       "      <td>2009-10-06 02:20:52</td>\n",
       "    </tr>\n",
       "    <tr>\n",
       "      <th>372</th>\n",
       "      <td>5.4</td>\n",
       "      <td>17140</td>\n",
       "      <td>412</td>\n",
       "      <td>...</td>\n",
       "      <td>3.5</td>\n",
       "      <td>One of the new 500ml swing-top bottles. Pours...</td>\n",
       "      <td>2009-10-06 03:49:21</td>\n",
       "    </tr>\n",
       "  </tbody>\n",
       "</table>\n",
       "<p>5 rows × 13 columns</p>\n",
       "</div>"
      ],
      "text/plain": [
       "     abv  beer_id  brewer_id  ... review_taste  \\\n",
       "14   5.2    53130       1114  ...          4.0   \n",
       "208  5.2    53130       1114  ...          3.0   \n",
       "260  5.8      135         39  ...          4.0   \n",
       "292  5.6     2041        703  ...          3.5   \n",
       "372  5.4    17140        412  ...          3.5   \n",
       "\n",
       "                                                  text                time  \n",
       "14    A-Very deep, dark brown with a thin tan head ... 2009-10-05 21:42:35  \n",
       "208   Pours a very deep, dark chestnut brown which ... 2009-10-06 01:13:42  \n",
       "260   A - looks like a polluted hefe(in a good way)... 2009-10-06 01:54:56  \n",
       "292   Poured from a 16.9oz bottle into a US tumbler... 2009-10-06 02:20:52  \n",
       "372   One of the new 500ml swing-top bottles. Pours... 2009-10-06 03:49:21  \n",
       "\n",
       "[5 rows x 13 columns]"
      ]
     },
     "execution_count": 230,
     "metadata": {},
     "output_type": "execute_result"
    }
   ],
   "source": [
    "# The ordering of the columsn is not ideal for viewing results...\n",
    "\n",
    "df_dunkel.head()"
   ]
  },
  {
   "cell_type": "code",
   "execution_count": 231,
   "metadata": {},
   "outputs": [
    {
     "data": {
      "text/plain": [
       "['beer_style',\n",
       " 'abv',\n",
       " 'beer_id',\n",
       " 'beer_name',\n",
       " 'brewer_id',\n",
       " 'profile_name',\n",
       " 'review_appearance',\n",
       " 'review_aroma',\n",
       " 'review_overall',\n",
       " 'review_palate',\n",
       " 'review_taste',\n",
       " 'text',\n",
       " 'time']"
      ]
     },
     "execution_count": 231,
     "metadata": {},
     "output_type": "execute_result"
    }
   ],
   "source": [
    "# For convenient viewing of groupby results\n",
    "# Rearrange the columns such that the groupby keys are first\n",
    "\n",
    "cols = ['beer_style'] + df.columns.difference(['beer_style']).tolist()\n",
    "cols"
   ]
  },
  {
   "cell_type": "code",
   "execution_count": 232,
   "metadata": {
    "slideshow": {
     "slide_type": "subslide"
    }
   },
   "outputs": [
    {
     "data": {
      "text/html": [
       "<div>\n",
       "<style scoped>\n",
       "    .dataframe tbody tr th:only-of-type {\n",
       "        vertical-align: middle;\n",
       "    }\n",
       "\n",
       "    .dataframe tbody tr th {\n",
       "        vertical-align: top;\n",
       "    }\n",
       "\n",
       "    .dataframe thead th {\n",
       "        text-align: right;\n",
       "    }\n",
       "</style>\n",
       "<table border=\"1\" class=\"dataframe\">\n",
       "  <thead>\n",
       "    <tr style=\"text-align: right;\">\n",
       "      <th></th>\n",
       "      <th>beer_style</th>\n",
       "      <th>abv</th>\n",
       "      <th>beer_id</th>\n",
       "      <th>...</th>\n",
       "      <th>review_taste</th>\n",
       "      <th>text</th>\n",
       "      <th>time</th>\n",
       "    </tr>\n",
       "  </thead>\n",
       "  <tbody>\n",
       "    <tr>\n",
       "      <th>42</th>\n",
       "      <td>Tripel</td>\n",
       "      <td>8.0</td>\n",
       "      <td>1631</td>\n",
       "      <td>...</td>\n",
       "      <td>4.0</td>\n",
       "      <td>Was perusing a store for some new items, and ...</td>\n",
       "      <td>2009-10-05 22:12:23</td>\n",
       "    </tr>\n",
       "    <tr>\n",
       "      <th>79</th>\n",
       "      <td>Tripel</td>\n",
       "      <td>8.5</td>\n",
       "      <td>5426</td>\n",
       "      <td>...</td>\n",
       "      <td>4.0</td>\n",
       "      <td>Appearance: Pours a very cloudy chestnut colo...</td>\n",
       "      <td>2009-10-05 23:02:42</td>\n",
       "    </tr>\n",
       "    <tr>\n",
       "      <th>102</th>\n",
       "      <td>Tripel</td>\n",
       "      <td>10.0</td>\n",
       "      <td>2566</td>\n",
       "      <td>...</td>\n",
       "      <td>4.0</td>\n",
       "      <td>Poured a nice slightly cloudy golden yellow w...</td>\n",
       "      <td>2009-10-05 23:31:27</td>\n",
       "    </tr>\n",
       "    <tr>\n",
       "      <th>110</th>\n",
       "      <td>Tripel</td>\n",
       "      <td>10.0</td>\n",
       "      <td>2566</td>\n",
       "      <td>...</td>\n",
       "      <td>4.0</td>\n",
       "      <td>Pours hazy amber-orange in color with a massi...</td>\n",
       "      <td>2009-10-05 23:36:42</td>\n",
       "    </tr>\n",
       "    <tr>\n",
       "      <th>171</th>\n",
       "      <td>Tripel</td>\n",
       "      <td>9.5</td>\n",
       "      <td>646</td>\n",
       "      <td>...</td>\n",
       "      <td>4.5</td>\n",
       "      <td>Pours a murky slightly orangish gold. Huge pe...</td>\n",
       "      <td>2009-10-06 00:44:18</td>\n",
       "    </tr>\n",
       "  </tbody>\n",
       "</table>\n",
       "<p>5 rows × 13 columns</p>\n",
       "</div>"
      ],
      "text/plain": [
       "    beer_style   abv  beer_id  ... review_taste  \\\n",
       "42      Tripel   8.0     1631  ...          4.0   \n",
       "79      Tripel   8.5     5426  ...          4.0   \n",
       "102     Tripel  10.0     2566  ...          4.0   \n",
       "110     Tripel  10.0     2566  ...          4.0   \n",
       "171     Tripel   9.5      646  ...          4.5   \n",
       "\n",
       "                                                  text                time  \n",
       "42    Was perusing a store for some new items, and ... 2009-10-05 22:12:23  \n",
       "79    Appearance: Pours a very cloudy chestnut colo... 2009-10-05 23:02:42  \n",
       "102   Poured a nice slightly cloudy golden yellow w... 2009-10-05 23:31:27  \n",
       "110   Pours hazy amber-orange in color with a massi... 2009-10-05 23:36:42  \n",
       "171   Pours a murky slightly orangish gold. Huge pe... 2009-10-06 00:44:18  \n",
       "\n",
       "[5 rows x 13 columns]"
      ]
     },
     "execution_count": 232,
     "metadata": {},
     "output_type": "execute_result"
    }
   ],
   "source": [
    "# Another group: Separate the 'Tripel' group from the others\n",
    "\n",
    "df_tripel = gr.get_group('Tripel')[cols]\n",
    "df_tripel.head()"
   ]
  },
  {
   "cell_type": "code",
   "execution_count": 247,
   "metadata": {},
   "outputs": [
    {
     "name": "stdout",
     "output_type": "stream",
     "text": [
      "<class 'pandas.core.frame.DataFrame'>\n",
      "Int64Index: 809 entries, 42 to 49949\n",
      "Data columns (total 13 columns):\n",
      "beer_style           809 non-null object\n",
      "abv                  793 non-null float64\n",
      "beer_id              809 non-null int64\n",
      "beer_name            809 non-null object\n",
      "brewer_id            809 non-null int64\n",
      "profile_name         809 non-null object\n",
      "review_appearance    809 non-null float64\n",
      "review_aroma         809 non-null float64\n",
      "review_overall       809 non-null float64\n",
      "review_palate        809 non-null float64\n",
      "review_taste         809 non-null float64\n",
      "text                 809 non-null object\n",
      "time                 809 non-null datetime64[ns]\n",
      "dtypes: datetime64[ns](1), float64(6), int64(2), object(4)\n",
      "memory usage: 88.5+ KB\n"
     ]
    }
   ],
   "source": [
    "# Inspet the group\n",
    "\n",
    "df_tripel.info()"
   ]
  },
  {
   "cell_type": "code",
   "execution_count": 233,
   "metadata": {
    "slideshow": {
     "slide_type": "fragment"
    }
   },
   "outputs": [
    {
     "data": {
      "text/html": [
       "<div>\n",
       "<style scoped>\n",
       "    .dataframe tbody tr th:only-of-type {\n",
       "        vertical-align: middle;\n",
       "    }\n",
       "\n",
       "    .dataframe tbody tr th {\n",
       "        vertical-align: top;\n",
       "    }\n",
       "\n",
       "    .dataframe thead th {\n",
       "        text-align: right;\n",
       "    }\n",
       "</style>\n",
       "<table border=\"1\" class=\"dataframe\">\n",
       "  <thead>\n",
       "    <tr style=\"text-align: right;\">\n",
       "      <th></th>\n",
       "      <th>beer_style</th>\n",
       "      <th>abv</th>\n",
       "      <th>beer_id</th>\n",
       "      <th>...</th>\n",
       "      <th>review_taste</th>\n",
       "      <th>text</th>\n",
       "      <th>time</th>\n",
       "    </tr>\n",
       "  </thead>\n",
       "  <tbody>\n",
       "    <tr>\n",
       "      <th>42</th>\n",
       "      <td>Tripel</td>\n",
       "      <td>8.0</td>\n",
       "      <td>1631</td>\n",
       "      <td>...</td>\n",
       "      <td>4.0</td>\n",
       "      <td>Was perusing a store for some new items, and ...</td>\n",
       "      <td>2009-10-05 22:12:23</td>\n",
       "    </tr>\n",
       "    <tr>\n",
       "      <th>79</th>\n",
       "      <td>Tripel</td>\n",
       "      <td>8.5</td>\n",
       "      <td>5426</td>\n",
       "      <td>...</td>\n",
       "      <td>4.0</td>\n",
       "      <td>Appearance: Pours a very cloudy chestnut colo...</td>\n",
       "      <td>2009-10-05 23:02:42</td>\n",
       "    </tr>\n",
       "    <tr>\n",
       "      <th>102</th>\n",
       "      <td>Tripel</td>\n",
       "      <td>10.0</td>\n",
       "      <td>2566</td>\n",
       "      <td>...</td>\n",
       "      <td>4.0</td>\n",
       "      <td>Poured a nice slightly cloudy golden yellow w...</td>\n",
       "      <td>2009-10-05 23:31:27</td>\n",
       "    </tr>\n",
       "    <tr>\n",
       "      <th>...</th>\n",
       "      <td>...</td>\n",
       "      <td>...</td>\n",
       "      <td>...</td>\n",
       "      <td>...</td>\n",
       "      <td>...</td>\n",
       "      <td>...</td>\n",
       "      <td>...</td>\n",
       "    </tr>\n",
       "    <tr>\n",
       "      <th>49882</th>\n",
       "      <td>Tripel</td>\n",
       "      <td>8.0</td>\n",
       "      <td>1631</td>\n",
       "      <td>...</td>\n",
       "      <td>4.0</td>\n",
       "      <td>Pours a golden amber, with a big head that st...</td>\n",
       "      <td>2009-12-25 05:02:03</td>\n",
       "    </tr>\n",
       "    <tr>\n",
       "      <th>49945</th>\n",
       "      <td>Tripel</td>\n",
       "      <td>7.8</td>\n",
       "      <td>1054</td>\n",
       "      <td>...</td>\n",
       "      <td>3.5</td>\n",
       "      <td>A- It's pretty. Nice golden yellow. Nice and ...</td>\n",
       "      <td>2009-12-25 08:41:01</td>\n",
       "    </tr>\n",
       "    <tr>\n",
       "      <th>49949</th>\n",
       "      <td>Tripel</td>\n",
       "      <td>8.0</td>\n",
       "      <td>658</td>\n",
       "      <td>...</td>\n",
       "      <td>3.5</td>\n",
       "      <td>From a 750 ml caged and corked brown bottle. ...</td>\n",
       "      <td>2009-12-25 09:39:25</td>\n",
       "    </tr>\n",
       "  </tbody>\n",
       "</table>\n",
       "<p>809 rows × 13 columns</p>\n",
       "</div>"
      ],
      "text/plain": [
       "      beer_style   abv  beer_id  ... review_taste  \\\n",
       "42        Tripel   8.0     1631  ...          4.0   \n",
       "79        Tripel   8.5     5426  ...          4.0   \n",
       "102       Tripel  10.0     2566  ...          4.0   \n",
       "...          ...   ...      ...  ...          ...   \n",
       "49882     Tripel   8.0     1631  ...          4.0   \n",
       "49945     Tripel   7.8     1054  ...          3.5   \n",
       "49949     Tripel   8.0      658  ...          3.5   \n",
       "\n",
       "                                                    text                time  \n",
       "42      Was perusing a store for some new items, and ... 2009-10-05 22:12:23  \n",
       "79      Appearance: Pours a very cloudy chestnut colo... 2009-10-05 23:02:42  \n",
       "102     Poured a nice slightly cloudy golden yellow w... 2009-10-05 23:31:27  \n",
       "...                                                  ...                 ...  \n",
       "49882   Pours a golden amber, with a big head that st... 2009-12-25 05:02:03  \n",
       "49945   A- It's pretty. Nice golden yellow. Nice and ... 2009-12-25 08:41:01  \n",
       "49949   From a 750 ml caged and corked brown bottle. ... 2009-12-25 09:39:25  \n",
       "\n",
       "[809 rows x 13 columns]"
      ]
     },
     "execution_count": 233,
     "metadata": {},
     "output_type": "execute_result"
    }
   ],
   "source": [
    "# Alternatively, you could extract a \"group\" using .loc()\n",
    "\n",
    "df.loc[df.beer_style=='Tripel',cols]"
   ]
  },
  {
   "cell_type": "markdown",
   "metadata": {
    "slideshow": {
     "slide_type": "subslide"
    }
   },
   "source": [
    "## Apply"
   ]
  },
  {
   "cell_type": "markdown",
   "metadata": {},
   "source": [
    "In the **split-apply-combine** strategy, during the apply step, one often aggregates across a group"
   ]
  },
  {
   "cell_type": "code",
   "execution_count": 234,
   "metadata": {},
   "outputs": [
    {
     "data": {
      "text/plain": [
       "pandas.core.groupby.generic.DataFrameGroupBy"
      ]
     },
     "execution_count": 234,
     "metadata": {},
     "output_type": "execute_result"
    }
   ],
   "source": [
    "type(gr)"
   ]
  },
  {
   "cell_type": "code",
   "execution_count": 235,
   "metadata": {
    "slideshow": {
     "slide_type": "fragment"
    }
   },
   "outputs": [
    {
     "data": {
      "text/html": [
       "<div>\n",
       "<style scoped>\n",
       "    .dataframe tbody tr th:only-of-type {\n",
       "        vertical-align: middle;\n",
       "    }\n",
       "\n",
       "    .dataframe tbody tr th {\n",
       "        vertical-align: top;\n",
       "    }\n",
       "\n",
       "    .dataframe thead th {\n",
       "        text-align: right;\n",
       "    }\n",
       "</style>\n",
       "<table border=\"1\" class=\"dataframe\">\n",
       "  <thead>\n",
       "    <tr style=\"text-align: right;\">\n",
       "      <th></th>\n",
       "      <th>abv</th>\n",
       "      <th>beer_id</th>\n",
       "      <th>brewer_id</th>\n",
       "      <th>...</th>\n",
       "      <th>review_overall</th>\n",
       "      <th>review_palate</th>\n",
       "      <th>review_taste</th>\n",
       "    </tr>\n",
       "    <tr>\n",
       "      <th>beer_style</th>\n",
       "      <th></th>\n",
       "      <th></th>\n",
       "      <th></th>\n",
       "      <th></th>\n",
       "      <th></th>\n",
       "      <th></th>\n",
       "      <th></th>\n",
       "    </tr>\n",
       "  </thead>\n",
       "  <tbody>\n",
       "    <tr>\n",
       "      <th>Altbier</th>\n",
       "      <td>5.936331</td>\n",
       "      <td>28241.698324</td>\n",
       "      <td>4724.486034</td>\n",
       "      <td>...</td>\n",
       "      <td>3.790503</td>\n",
       "      <td>3.689944</td>\n",
       "      <td>3.703911</td>\n",
       "    </tr>\n",
       "    <tr>\n",
       "      <th>American Adjunct Lager</th>\n",
       "      <td>4.880552</td>\n",
       "      <td>9403.638070</td>\n",
       "      <td>1541.485255</td>\n",
       "      <td>...</td>\n",
       "      <td>3.071716</td>\n",
       "      <td>2.733244</td>\n",
       "      <td>2.674933</td>\n",
       "    </tr>\n",
       "    <tr>\n",
       "      <th>American Amber / Red Ale</th>\n",
       "      <td>6.135963</td>\n",
       "      <td>23557.469145</td>\n",
       "      <td>3314.523420</td>\n",
       "      <td>...</td>\n",
       "      <td>3.833829</td>\n",
       "      <td>3.694796</td>\n",
       "      <td>3.734944</td>\n",
       "    </tr>\n",
       "    <tr>\n",
       "      <th>...</th>\n",
       "      <td>...</td>\n",
       "      <td>...</td>\n",
       "      <td>...</td>\n",
       "      <td>...</td>\n",
       "      <td>...</td>\n",
       "      <td>...</td>\n",
       "      <td>...</td>\n",
       "    </tr>\n",
       "    <tr>\n",
       "      <th>Wheatwine</th>\n",
       "      <td>10.766667</td>\n",
       "      <td>44146.641618</td>\n",
       "      <td>2363.132948</td>\n",
       "      <td>...</td>\n",
       "      <td>3.722543</td>\n",
       "      <td>3.872832</td>\n",
       "      <td>3.947977</td>\n",
       "    </tr>\n",
       "    <tr>\n",
       "      <th>Winter Warmer</th>\n",
       "      <td>6.520407</td>\n",
       "      <td>22726.750603</td>\n",
       "      <td>2315.001609</td>\n",
       "      <td>...</td>\n",
       "      <td>3.805310</td>\n",
       "      <td>3.703540</td>\n",
       "      <td>3.767900</td>\n",
       "    </tr>\n",
       "    <tr>\n",
       "      <th>Witbier</th>\n",
       "      <td>5.850545</td>\n",
       "      <td>29447.023904</td>\n",
       "      <td>3096.407703</td>\n",
       "      <td>...</td>\n",
       "      <td>3.742364</td>\n",
       "      <td>3.567729</td>\n",
       "      <td>3.624170</td>\n",
       "    </tr>\n",
       "  </tbody>\n",
       "</table>\n",
       "<p>104 rows × 8 columns</p>\n",
       "</div>"
      ],
      "text/plain": [
       "                                abv       beer_id    brewer_id  ...  \\\n",
       "beer_style                                                      ...   \n",
       "Altbier                    5.936331  28241.698324  4724.486034  ...   \n",
       "American Adjunct Lager     4.880552   9403.638070  1541.485255  ...   \n",
       "American Amber / Red Ale   6.135963  23557.469145  3314.523420  ...   \n",
       "...                             ...           ...          ...  ...   \n",
       "Wheatwine                 10.766667  44146.641618  2363.132948  ...   \n",
       "Winter Warmer              6.520407  22726.750603  2315.001609  ...   \n",
       "Witbier                    5.850545  29447.023904  3096.407703  ...   \n",
       "\n",
       "                          review_overall  review_palate  review_taste  \n",
       "beer_style                                                             \n",
       "Altbier                         3.790503       3.689944      3.703911  \n",
       "American Adjunct Lager          3.071716       2.733244      2.674933  \n",
       "American Amber / Red Ale        3.833829       3.694796      3.734944  \n",
       "...                                  ...            ...           ...  \n",
       "Wheatwine                       3.722543       3.872832      3.947977  \n",
       "Winter Warmer                   3.805310       3.703540      3.767900  \n",
       "Witbier                         3.742364       3.567729      3.624170  \n",
       "\n",
       "[104 rows x 8 columns]"
      ]
     },
     "execution_count": 235,
     "metadata": {},
     "output_type": "execute_result"
    }
   ],
   "source": [
    "# Aggregation methods apply to each group separately.\n",
    "\n",
    "gr.agg('mean')"
   ]
  },
  {
   "cell_type": "markdown",
   "metadata": {},
   "source": [
    "This says apply the `mean` function to each column. \n",
    "Non-numeric columns (nuisance columns) are excluded."
   ]
  },
  {
   "cell_type": "markdown",
   "metadata": {},
   "source": [
    "We can also select a subset of columns to perform the aggregation on."
   ]
  },
  {
   "cell_type": "code",
   "execution_count": 236,
   "metadata": {
    "slideshow": {
     "slide_type": "subslide"
    }
   },
   "outputs": [
    {
     "data": {
      "text/html": [
       "<div>\n",
       "<style scoped>\n",
       "    .dataframe tbody tr th:only-of-type {\n",
       "        vertical-align: middle;\n",
       "    }\n",
       "\n",
       "    .dataframe tbody tr th {\n",
       "        vertical-align: top;\n",
       "    }\n",
       "\n",
       "    .dataframe thead th {\n",
       "        text-align: right;\n",
       "    }\n",
       "</style>\n",
       "<table border=\"1\" class=\"dataframe\">\n",
       "  <thead>\n",
       "    <tr style=\"text-align: right;\">\n",
       "      <th></th>\n",
       "      <th>abv</th>\n",
       "      <th>review_overall</th>\n",
       "      <th>review_appearance</th>\n",
       "      <th>review_palate</th>\n",
       "      <th>review_taste</th>\n",
       "    </tr>\n",
       "    <tr>\n",
       "      <th>beer_style</th>\n",
       "      <th></th>\n",
       "      <th></th>\n",
       "      <th></th>\n",
       "      <th></th>\n",
       "      <th></th>\n",
       "    </tr>\n",
       "  </thead>\n",
       "  <tbody>\n",
       "    <tr>\n",
       "      <th>Altbier</th>\n",
       "      <td>5.936331</td>\n",
       "      <td>3.790503</td>\n",
       "      <td>3.776536</td>\n",
       "      <td>3.689944</td>\n",
       "      <td>3.703911</td>\n",
       "    </tr>\n",
       "    <tr>\n",
       "      <th>American Adjunct Lager</th>\n",
       "      <td>4.880552</td>\n",
       "      <td>3.071716</td>\n",
       "      <td>2.783512</td>\n",
       "      <td>2.733244</td>\n",
       "      <td>2.674933</td>\n",
       "    </tr>\n",
       "    <tr>\n",
       "      <th>American Amber / Red Ale</th>\n",
       "      <td>6.135963</td>\n",
       "      <td>3.833829</td>\n",
       "      <td>3.836431</td>\n",
       "      <td>3.694796</td>\n",
       "      <td>3.734944</td>\n",
       "    </tr>\n",
       "    <tr>\n",
       "      <th>...</th>\n",
       "      <td>...</td>\n",
       "      <td>...</td>\n",
       "      <td>...</td>\n",
       "      <td>...</td>\n",
       "      <td>...</td>\n",
       "    </tr>\n",
       "    <tr>\n",
       "      <th>Wheatwine</th>\n",
       "      <td>10.766667</td>\n",
       "      <td>3.722543</td>\n",
       "      <td>3.916185</td>\n",
       "      <td>3.872832</td>\n",
       "      <td>3.947977</td>\n",
       "    </tr>\n",
       "    <tr>\n",
       "      <th>Winter Warmer</th>\n",
       "      <td>6.520407</td>\n",
       "      <td>3.805310</td>\n",
       "      <td>3.864441</td>\n",
       "      <td>3.703540</td>\n",
       "      <td>3.767900</td>\n",
       "    </tr>\n",
       "    <tr>\n",
       "      <th>Witbier</th>\n",
       "      <td>5.850545</td>\n",
       "      <td>3.742364</td>\n",
       "      <td>3.634794</td>\n",
       "      <td>3.567729</td>\n",
       "      <td>3.624170</td>\n",
       "    </tr>\n",
       "  </tbody>\n",
       "</table>\n",
       "<p>104 rows × 5 columns</p>\n",
       "</div>"
      ],
      "text/plain": [
       "                                abv  review_overall  review_appearance  \\\n",
       "beer_style                                                               \n",
       "Altbier                    5.936331        3.790503           3.776536   \n",
       "American Adjunct Lager     4.880552        3.071716           2.783512   \n",
       "American Amber / Red Ale   6.135963        3.833829           3.836431   \n",
       "...                             ...             ...                ...   \n",
       "Wheatwine                 10.766667        3.722543           3.916185   \n",
       "Winter Warmer              6.520407        3.805310           3.864441   \n",
       "Witbier                    5.850545        3.742364           3.634794   \n",
       "\n",
       "                          review_palate  review_taste  \n",
       "beer_style                                             \n",
       "Altbier                        3.689944      3.703911  \n",
       "American Adjunct Lager         2.733244      2.674933  \n",
       "American Amber / Red Ale       3.694796      3.734944  \n",
       "...                                 ...           ...  \n",
       "Wheatwine                      3.872832      3.947977  \n",
       "Winter Warmer                  3.703540      3.767900  \n",
       "Witbier                        3.567729      3.624170  \n",
       "\n",
       "[104 rows x 5 columns]"
      ]
     },
     "execution_count": 236,
     "metadata": {},
     "output_type": "execute_result"
    }
   ],
   "source": [
    "# Apply aggregation method only to a subset of columns\n",
    "\n",
    "review_columns = ['abv','review_overall','review_appearance',\n",
    "                  'review_palate','review_taste']\n",
    "gr[review_columns].agg('mean')"
   ]
  },
  {
   "cell_type": "markdown",
   "metadata": {
    "slideshow": {
     "slide_type": "subslide"
    }
   },
   "source": [
    "The `.` attribute lookup works as well."
   ]
  },
  {
   "cell_type": "code",
   "execution_count": 237,
   "metadata": {},
   "outputs": [
    {
     "data": {
      "text/plain": [
       "beer_style\n",
       "Altbier                      5.936331\n",
       "American Adjunct Lager       4.880552\n",
       "American Amber / Red Ale     6.135963\n",
       "                              ...    \n",
       "Wheatwine                   10.766667\n",
       "Winter Warmer                6.520407\n",
       "Witbier                      5.850545\n",
       "Name: abv, Length: 104, dtype: float64"
      ]
     },
     "execution_count": 237,
     "metadata": {},
     "output_type": "execute_result"
    }
   ],
   "source": [
    "gr.abv.agg('mean')"
   ]
  },
  {
   "cell_type": "markdown",
   "metadata": {
    "slideshow": {
     "slide_type": "subslide"
    }
   },
   "source": [
    "Find the `beer_style` with the greatest variance in `abv`."
   ]
  },
  {
   "cell_type": "code",
   "execution_count": 238,
   "metadata": {},
   "outputs": [
    {
     "data": {
      "text/plain": [
       "beer_style\n",
       "American Strong Ale                 3.506721\n",
       "American Double / Imperial Stout    2.785742\n",
       "Flanders Oud Bruin                  2.723145\n",
       "                                      ...   \n",
       "Gose                                0.185557\n",
       "Low Alcohol Beer                    0.121006\n",
       "Happoshu                            0.000000\n",
       "Name: abv, Length: 104, dtype: float64"
      ]
     },
     "execution_count": 238,
     "metadata": {},
     "output_type": "execute_result"
    }
   ],
   "source": [
    "# ex: groupby, then select abv, then aggregrate with std, then sort\n",
    "\n",
    "(df\n",
    "   .groupby('beer_style')\n",
    "   .abv\n",
    "   .std()\n",
    "   .sort_values(ascending=False)\n",
    " )"
   ]
  },
  {
   "cell_type": "markdown",
   "metadata": {},
   "source": [
    "Note: the pattern used above is a common idiom in Pandas: a string of `.method()` calls."
   ]
  },
  {
   "cell_type": "markdown",
   "metadata": {
    "slideshow": {
     "slide_type": "subslide"
    }
   },
   "source": [
    "Multiple Aggregations on one column"
   ]
  },
  {
   "cell_type": "code",
   "execution_count": 239,
   "metadata": {},
   "outputs": [
    {
     "data": {
      "text/html": [
       "<div>\n",
       "<style scoped>\n",
       "    .dataframe tbody tr th:only-of-type {\n",
       "        vertical-align: middle;\n",
       "    }\n",
       "\n",
       "    .dataframe tbody tr th {\n",
       "        vertical-align: top;\n",
       "    }\n",
       "\n",
       "    .dataframe thead th {\n",
       "        text-align: right;\n",
       "    }\n",
       "</style>\n",
       "<table border=\"1\" class=\"dataframe\">\n",
       "  <thead>\n",
       "    <tr style=\"text-align: right;\">\n",
       "      <th></th>\n",
       "      <th>mean</th>\n",
       "      <th>std</th>\n",
       "      <th>count</th>\n",
       "    </tr>\n",
       "    <tr>\n",
       "      <th>beer_style</th>\n",
       "      <th></th>\n",
       "      <th></th>\n",
       "      <th></th>\n",
       "    </tr>\n",
       "  </thead>\n",
       "  <tbody>\n",
       "    <tr>\n",
       "      <th>Altbier</th>\n",
       "      <td>3.581006</td>\n",
       "      <td>0.561276</td>\n",
       "      <td>179</td>\n",
       "    </tr>\n",
       "    <tr>\n",
       "      <th>American Adjunct Lager</th>\n",
       "      <td>2.479893</td>\n",
       "      <td>0.732925</td>\n",
       "      <td>746</td>\n",
       "    </tr>\n",
       "    <tr>\n",
       "      <th>American Amber / Red Ale</th>\n",
       "      <td>3.653532</td>\n",
       "      <td>0.588231</td>\n",
       "      <td>1345</td>\n",
       "    </tr>\n",
       "    <tr>\n",
       "      <th>...</th>\n",
       "      <td>...</td>\n",
       "      <td>...</td>\n",
       "      <td>...</td>\n",
       "    </tr>\n",
       "    <tr>\n",
       "      <th>Wheatwine</th>\n",
       "      <td>3.942197</td>\n",
       "      <td>0.484780</td>\n",
       "      <td>173</td>\n",
       "    </tr>\n",
       "    <tr>\n",
       "      <th>Winter Warmer</th>\n",
       "      <td>3.738938</td>\n",
       "      <td>0.579463</td>\n",
       "      <td>1243</td>\n",
       "    </tr>\n",
       "    <tr>\n",
       "      <th>Witbier</th>\n",
       "      <td>3.619522</td>\n",
       "      <td>0.589968</td>\n",
       "      <td>753</td>\n",
       "    </tr>\n",
       "  </tbody>\n",
       "</table>\n",
       "<p>104 rows × 3 columns</p>\n",
       "</div>"
      ],
      "text/plain": [
       "                              mean       std  count\n",
       "beer_style                                         \n",
       "Altbier                   3.581006  0.561276    179\n",
       "American Adjunct Lager    2.479893  0.732925    746\n",
       "American Amber / Red Ale  3.653532  0.588231   1345\n",
       "...                            ...       ...    ...\n",
       "Wheatwine                 3.942197  0.484780    173\n",
       "Winter Warmer             3.738938  0.579463   1243\n",
       "Witbier                   3.619522  0.589968    753\n",
       "\n",
       "[104 rows x 3 columns]"
      ]
     },
     "execution_count": 239,
     "metadata": {},
     "output_type": "execute_result"
    }
   ],
   "source": [
    "gr['review_aroma'].agg([np.mean, np.std, 'count'])"
   ]
  },
  {
   "cell_type": "markdown",
   "metadata": {
    "slideshow": {
     "slide_type": "subslide"
    }
   },
   "source": [
    "Single Aggregation on multiple columns"
   ]
  },
  {
   "cell_type": "code",
   "execution_count": 241,
   "metadata": {},
   "outputs": [
    {
     "data": {
      "text/html": [
       "<div>\n",
       "<style scoped>\n",
       "    .dataframe tbody tr th:only-of-type {\n",
       "        vertical-align: middle;\n",
       "    }\n",
       "\n",
       "    .dataframe tbody tr th {\n",
       "        vertical-align: top;\n",
       "    }\n",
       "\n",
       "    .dataframe thead th {\n",
       "        text-align: right;\n",
       "    }\n",
       "</style>\n",
       "<table border=\"1\" class=\"dataframe\">\n",
       "  <thead>\n",
       "    <tr style=\"text-align: right;\">\n",
       "      <th></th>\n",
       "      <th>abv</th>\n",
       "      <th>review_overall</th>\n",
       "      <th>review_appearance</th>\n",
       "      <th>review_palate</th>\n",
       "      <th>review_taste</th>\n",
       "    </tr>\n",
       "    <tr>\n",
       "      <th>beer_style</th>\n",
       "      <th></th>\n",
       "      <th></th>\n",
       "      <th></th>\n",
       "      <th></th>\n",
       "      <th></th>\n",
       "    </tr>\n",
       "  </thead>\n",
       "  <tbody>\n",
       "    <tr>\n",
       "      <th>Altbier</th>\n",
       "      <td>5.936331</td>\n",
       "      <td>3.790503</td>\n",
       "      <td>3.776536</td>\n",
       "      <td>3.689944</td>\n",
       "      <td>3.703911</td>\n",
       "    </tr>\n",
       "    <tr>\n",
       "      <th>American Adjunct Lager</th>\n",
       "      <td>4.880552</td>\n",
       "      <td>3.071716</td>\n",
       "      <td>2.783512</td>\n",
       "      <td>2.733244</td>\n",
       "      <td>2.674933</td>\n",
       "    </tr>\n",
       "    <tr>\n",
       "      <th>American Amber / Red Ale</th>\n",
       "      <td>6.135963</td>\n",
       "      <td>3.833829</td>\n",
       "      <td>3.836431</td>\n",
       "      <td>3.694796</td>\n",
       "      <td>3.734944</td>\n",
       "    </tr>\n",
       "    <tr>\n",
       "      <th>...</th>\n",
       "      <td>...</td>\n",
       "      <td>...</td>\n",
       "      <td>...</td>\n",
       "      <td>...</td>\n",
       "      <td>...</td>\n",
       "    </tr>\n",
       "    <tr>\n",
       "      <th>Wheatwine</th>\n",
       "      <td>10.766667</td>\n",
       "      <td>3.722543</td>\n",
       "      <td>3.916185</td>\n",
       "      <td>3.872832</td>\n",
       "      <td>3.947977</td>\n",
       "    </tr>\n",
       "    <tr>\n",
       "      <th>Winter Warmer</th>\n",
       "      <td>6.520407</td>\n",
       "      <td>3.805310</td>\n",
       "      <td>3.864441</td>\n",
       "      <td>3.703540</td>\n",
       "      <td>3.767900</td>\n",
       "    </tr>\n",
       "    <tr>\n",
       "      <th>Witbier</th>\n",
       "      <td>5.850545</td>\n",
       "      <td>3.742364</td>\n",
       "      <td>3.634794</td>\n",
       "      <td>3.567729</td>\n",
       "      <td>3.624170</td>\n",
       "    </tr>\n",
       "  </tbody>\n",
       "</table>\n",
       "<p>104 rows × 5 columns</p>\n",
       "</div>"
      ],
      "text/plain": [
       "                                abv  review_overall  review_appearance  \\\n",
       "beer_style                                                               \n",
       "Altbier                    5.936331        3.790503           3.776536   \n",
       "American Adjunct Lager     4.880552        3.071716           2.783512   \n",
       "American Amber / Red Ale   6.135963        3.833829           3.836431   \n",
       "...                             ...             ...                ...   \n",
       "Wheatwine                 10.766667        3.722543           3.916185   \n",
       "Winter Warmer              6.520407        3.805310           3.864441   \n",
       "Witbier                    5.850545        3.742364           3.634794   \n",
       "\n",
       "                          review_palate  review_taste  \n",
       "beer_style                                             \n",
       "Altbier                        3.689944      3.703911  \n",
       "American Adjunct Lager         2.733244      2.674933  \n",
       "American Amber / Red Ale       3.694796      3.734944  \n",
       "...                                 ...           ...  \n",
       "Wheatwine                      3.872832      3.947977  \n",
       "Winter Warmer                  3.703540      3.767900  \n",
       "Witbier                        3.567729      3.624170  \n",
       "\n",
       "[104 rows x 5 columns]"
      ]
     },
     "execution_count": 241,
     "metadata": {},
     "output_type": "execute_result"
    }
   ],
   "source": [
    "gr[review_columns].mean()"
   ]
  },
  {
   "cell_type": "markdown",
   "metadata": {
    "collapsed": true,
    "slideshow": {
     "slide_type": "subslide"
    }
   },
   "source": [
    "Multiple aggregations on multiple columns"
   ]
  },
  {
   "cell_type": "code",
   "execution_count": 242,
   "metadata": {},
   "outputs": [
    {
     "data": {
      "text/html": [
       "<div>\n",
       "<style scoped>\n",
       "    .dataframe tbody tr th:only-of-type {\n",
       "        vertical-align: middle;\n",
       "    }\n",
       "\n",
       "    .dataframe tbody tr th {\n",
       "        vertical-align: top;\n",
       "    }\n",
       "\n",
       "    .dataframe thead tr th {\n",
       "        text-align: left;\n",
       "    }\n",
       "\n",
       "    .dataframe thead tr:last-of-type th {\n",
       "        text-align: right;\n",
       "    }\n",
       "</style>\n",
       "<table border=\"1\" class=\"dataframe\">\n",
       "  <thead>\n",
       "    <tr>\n",
       "      <th>characteristic</th>\n",
       "      <th colspan=\"3\" halign=\"left\">abv</th>\n",
       "      <th>...</th>\n",
       "      <th colspan=\"3\" halign=\"left\">review_taste</th>\n",
       "    </tr>\n",
       "    <tr>\n",
       "      <th>measure</th>\n",
       "      <th>mean</th>\n",
       "      <th>count</th>\n",
       "      <th>std</th>\n",
       "      <th>...</th>\n",
       "      <th>mean</th>\n",
       "      <th>count</th>\n",
       "      <th>std</th>\n",
       "    </tr>\n",
       "    <tr>\n",
       "      <th>beer_style</th>\n",
       "      <th></th>\n",
       "      <th></th>\n",
       "      <th></th>\n",
       "      <th></th>\n",
       "      <th></th>\n",
       "      <th></th>\n",
       "      <th></th>\n",
       "    </tr>\n",
       "  </thead>\n",
       "  <tbody>\n",
       "    <tr>\n",
       "      <th>Altbier</th>\n",
       "      <td>5.936331</td>\n",
       "      <td>169</td>\n",
       "      <td>1.394085</td>\n",
       "      <td>...</td>\n",
       "      <td>3.703911</td>\n",
       "      <td>179</td>\n",
       "      <td>0.608033</td>\n",
       "    </tr>\n",
       "    <tr>\n",
       "      <th>American Adjunct Lager</th>\n",
       "      <td>4.880552</td>\n",
       "      <td>706</td>\n",
       "      <td>0.405311</td>\n",
       "      <td>...</td>\n",
       "      <td>2.674933</td>\n",
       "      <td>746</td>\n",
       "      <td>0.815884</td>\n",
       "    </tr>\n",
       "    <tr>\n",
       "      <th>American Amber / Red Ale</th>\n",
       "      <td>6.135963</td>\n",
       "      <td>1256</td>\n",
       "      <td>1.299676</td>\n",
       "      <td>...</td>\n",
       "      <td>3.734944</td>\n",
       "      <td>1345</td>\n",
       "      <td>0.640439</td>\n",
       "    </tr>\n",
       "    <tr>\n",
       "      <th>...</th>\n",
       "      <td>...</td>\n",
       "      <td>...</td>\n",
       "      <td>...</td>\n",
       "      <td>...</td>\n",
       "      <td>...</td>\n",
       "      <td>...</td>\n",
       "      <td>...</td>\n",
       "    </tr>\n",
       "    <tr>\n",
       "      <th>Wheatwine</th>\n",
       "      <td>10.766667</td>\n",
       "      <td>171</td>\n",
       "      <td>1.043411</td>\n",
       "      <td>...</td>\n",
       "      <td>3.947977</td>\n",
       "      <td>173</td>\n",
       "      <td>0.624275</td>\n",
       "    </tr>\n",
       "    <tr>\n",
       "      <th>Winter Warmer</th>\n",
       "      <td>6.520407</td>\n",
       "      <td>1228</td>\n",
       "      <td>1.079628</td>\n",
       "      <td>...</td>\n",
       "      <td>3.767900</td>\n",
       "      <td>1243</td>\n",
       "      <td>0.621533</td>\n",
       "    </tr>\n",
       "    <tr>\n",
       "      <th>Witbier</th>\n",
       "      <td>5.850545</td>\n",
       "      <td>716</td>\n",
       "      <td>1.561416</td>\n",
       "      <td>...</td>\n",
       "      <td>3.624170</td>\n",
       "      <td>753</td>\n",
       "      <td>0.674517</td>\n",
       "    </tr>\n",
       "  </tbody>\n",
       "</table>\n",
       "<p>104 rows × 15 columns</p>\n",
       "</div>"
      ],
      "text/plain": [
       "characteristic                  abv                  ... review_taste        \\\n",
       "measure                        mean count       std  ...         mean count   \n",
       "beer_style                                           ...                      \n",
       "Altbier                    5.936331   169  1.394085  ...     3.703911   179   \n",
       "American Adjunct Lager     4.880552   706  0.405311  ...     2.674933   746   \n",
       "American Amber / Red Ale   6.135963  1256  1.299676  ...     3.734944  1345   \n",
       "...                             ...   ...       ...  ...          ...   ...   \n",
       "Wheatwine                 10.766667   171  1.043411  ...     3.947977   173   \n",
       "Winter Warmer              6.520407  1228  1.079628  ...     3.767900  1243   \n",
       "Witbier                    5.850545   716  1.561416  ...     3.624170   753   \n",
       "\n",
       "characteristic                      \n",
       "measure                        std  \n",
       "beer_style                          \n",
       "Altbier                   0.608033  \n",
       "American Adjunct Lager    0.815884  \n",
       "American Amber / Red Ale  0.640439  \n",
       "...                            ...  \n",
       "Wheatwine                 0.624275  \n",
       "Winter Warmer             0.621533  \n",
       "Witbier                   0.674517  \n",
       "\n",
       "[104 rows x 15 columns]"
      ]
     },
     "execution_count": 242,
     "metadata": {},
     "output_type": "execute_result"
    }
   ],
   "source": [
    "result = gr[review_columns].agg(['mean', 'count', 'std'])\n",
    "result.columns.names=['characteristic','measure']\n",
    "result"
   ]
  },
  {
   "cell_type": "markdown",
   "metadata": {
    "slideshow": {
     "slide_type": "slide"
    }
   },
   "source": [
    "## Transform"
   ]
  },
  {
   "cell_type": "markdown",
   "metadata": {},
   "source": [
    "Combined Series / DataFrame is the same shape as the input. \n",
    "\n",
    "Example: standardize the reviews by subtracting the mean."
   ]
  },
  {
   "cell_type": "code",
   "execution_count": 243,
   "metadata": {
    "slideshow": {
     "slide_type": "subslide"
    }
   },
   "outputs": [],
   "source": [
    "# Define a function to perform the demeaning\n",
    "\n",
    "def de_mean(reviews):\n",
    "    s = reviews - reviews.mean()\n",
    "    return s"
   ]
  },
  {
   "cell_type": "code",
   "execution_count": 244,
   "metadata": {
    "slideshow": {
     "slide_type": "fragment"
    }
   },
   "outputs": [
    {
     "data": {
      "text/plain": [
       "0        0.65018\n",
       "1        0.65018\n",
       "2       -0.84982\n",
       "          ...   \n",
       "49997    1.15018\n",
       "49998    0.15018\n",
       "49999    1.15018\n",
       "Name: review_overall, Length: 50000, dtype: float64"
      ]
     },
     "execution_count": 244,
     "metadata": {},
     "output_type": "execute_result"
    }
   ],
   "source": [
    "# Demonstrate the demeaning function acting on a Series\n",
    "\n",
    "de_mean(df.review_overall)"
   ]
  },
  {
   "cell_type": "code",
   "execution_count": 245,
   "metadata": {
    "slideshow": {
     "slide_type": "subslide"
    }
   },
   "outputs": [
    {
     "data": {
      "text/html": [
       "<div>\n",
       "<style scoped>\n",
       "    .dataframe tbody tr th:only-of-type {\n",
       "        vertical-align: middle;\n",
       "    }\n",
       "\n",
       "    .dataframe tbody tr th {\n",
       "        vertical-align: top;\n",
       "    }\n",
       "\n",
       "    .dataframe thead th {\n",
       "        text-align: right;\n",
       "    }\n",
       "</style>\n",
       "<table border=\"1\" class=\"dataframe\">\n",
       "  <thead>\n",
       "    <tr style=\"text-align: right;\">\n",
       "      <th></th>\n",
       "      <th>abv</th>\n",
       "      <th>beer_id</th>\n",
       "      <th>brewer_id</th>\n",
       "      <th>...</th>\n",
       "      <th>review_palate</th>\n",
       "      <th>review_taste</th>\n",
       "      <th>time</th>\n",
       "    </tr>\n",
       "  </thead>\n",
       "  <tbody>\n",
       "    <tr>\n",
       "      <th>0</th>\n",
       "      <td>-2.763000</td>\n",
       "      <td>-14386.800000</td>\n",
       "      <td>-250.800000</td>\n",
       "      <td>...</td>\n",
       "      <td>-0.100000</td>\n",
       "      <td>0.450000</td>\n",
       "      <td>-1 days +12:10:11.900000</td>\n",
       "    </tr>\n",
       "    <tr>\n",
       "      <th>1</th>\n",
       "      <td>-1.501563</td>\n",
       "      <td>-12613.333333</td>\n",
       "      <td>3168.025641</td>\n",
       "      <td>...</td>\n",
       "      <td>0.038462</td>\n",
       "      <td>-0.012821</td>\n",
       "      <td>-34 days +01:54:53.974358</td>\n",
       "    </tr>\n",
       "    <tr>\n",
       "      <th>2</th>\n",
       "      <td>-2.072727</td>\n",
       "      <td>-10567.348485</td>\n",
       "      <td>805.833333</td>\n",
       "      <td>...</td>\n",
       "      <td>-0.568182</td>\n",
       "      <td>-0.287879</td>\n",
       "      <td>-34 days +23:54:09.666667</td>\n",
       "    </tr>\n",
       "    <tr>\n",
       "      <th>...</th>\n",
       "      <td>...</td>\n",
       "      <td>...</td>\n",
       "      <td>...</td>\n",
       "      <td>...</td>\n",
       "      <td>...</td>\n",
       "      <td>...</td>\n",
       "      <td>...</td>\n",
       "    </tr>\n",
       "    <tr>\n",
       "      <th>49997</th>\n",
       "      <td>0.400000</td>\n",
       "      <td>4817.388889</td>\n",
       "      <td>1236.833333</td>\n",
       "      <td>...</td>\n",
       "      <td>0.777778</td>\n",
       "      <td>0.555556</td>\n",
       "      <td>40 days 00:58:02.888888</td>\n",
       "    </tr>\n",
       "    <tr>\n",
       "      <th>49998</th>\n",
       "      <td>-1.625862</td>\n",
       "      <td>-36774.032258</td>\n",
       "      <td>-4302.516129</td>\n",
       "      <td>...</td>\n",
       "      <td>-0.838710</td>\n",
       "      <td>-0.774194</td>\n",
       "      <td>47 days 23:03:03.193548</td>\n",
       "    </tr>\n",
       "    <tr>\n",
       "      <th>49999</th>\n",
       "      <td>2.165500</td>\n",
       "      <td>20759.950000</td>\n",
       "      <td>12161.450000</td>\n",
       "      <td>...</td>\n",
       "      <td>0.575000</td>\n",
       "      <td>0.375000</td>\n",
       "      <td>36 days 16:53:37.250000</td>\n",
       "    </tr>\n",
       "  </tbody>\n",
       "</table>\n",
       "<p>50000 rows × 9 columns</p>\n",
       "</div>"
      ],
      "text/plain": [
       "            abv       beer_id     brewer_id  ...  review_palate  review_taste  \\\n",
       "0     -2.763000 -14386.800000   -250.800000  ...      -0.100000      0.450000   \n",
       "1     -1.501563 -12613.333333   3168.025641  ...       0.038462     -0.012821   \n",
       "2     -2.072727 -10567.348485    805.833333  ...      -0.568182     -0.287879   \n",
       "...         ...           ...           ...  ...            ...           ...   \n",
       "49997  0.400000   4817.388889   1236.833333  ...       0.777778      0.555556   \n",
       "49998 -1.625862 -36774.032258  -4302.516129  ...      -0.838710     -0.774194   \n",
       "49999  2.165500  20759.950000  12161.450000  ...       0.575000      0.375000   \n",
       "\n",
       "                           time  \n",
       "0      -1 days +12:10:11.900000  \n",
       "1     -34 days +01:54:53.974358  \n",
       "2     -34 days +23:54:09.666667  \n",
       "...                         ...  \n",
       "49997   40 days 00:58:02.888888  \n",
       "49998   47 days 23:03:03.193548  \n",
       "49999   36 days 16:53:37.250000  \n",
       "\n",
       "[50000 rows x 9 columns]"
      ]
     },
     "execution_count": 245,
     "metadata": {},
     "output_type": "execute_result"
    }
   ],
   "source": [
    "# Use transform() to apply the demean function to grouped data\n",
    "\n",
    "df.groupby('profile_name').transform(de_mean)"
   ]
  },
  {
   "cell_type": "markdown",
   "metadata": {
    "slideshow": {
     "slide_type": "subslide"
    }
   },
   "source": [
    "Performance: Often, it is better to work with the groupby object directly"
   ]
  },
  {
   "cell_type": "code",
   "execution_count": 246,
   "metadata": {
    "slideshow": {
     "slide_type": "fragment"
    }
   },
   "outputs": [
    {
     "data": {
      "text/html": [
       "<div>\n",
       "<style scoped>\n",
       "    .dataframe tbody tr th:only-of-type {\n",
       "        vertical-align: middle;\n",
       "    }\n",
       "\n",
       "    .dataframe tbody tr th {\n",
       "        vertical-align: top;\n",
       "    }\n",
       "\n",
       "    .dataframe thead th {\n",
       "        text-align: right;\n",
       "    }\n",
       "</style>\n",
       "<table border=\"1\" class=\"dataframe\">\n",
       "  <thead>\n",
       "    <tr style=\"text-align: right;\">\n",
       "      <th></th>\n",
       "      <th>abv</th>\n",
       "      <th>beer_id</th>\n",
       "      <th>beer_name</th>\n",
       "      <th>...</th>\n",
       "      <th>review_taste</th>\n",
       "      <th>text</th>\n",
       "      <th>time</th>\n",
       "    </tr>\n",
       "  </thead>\n",
       "  <tbody>\n",
       "    <tr>\n",
       "      <th>0</th>\n",
       "      <td>-2.763000</td>\n",
       "      <td>-14386.800000</td>\n",
       "      <td>NaN</td>\n",
       "      <td>...</td>\n",
       "      <td>0.450000</td>\n",
       "      <td>NaN</td>\n",
       "      <td>-1 days +12:10:11.900000</td>\n",
       "    </tr>\n",
       "    <tr>\n",
       "      <th>1</th>\n",
       "      <td>-1.501563</td>\n",
       "      <td>-12613.333333</td>\n",
       "      <td>NaN</td>\n",
       "      <td>...</td>\n",
       "      <td>-0.012821</td>\n",
       "      <td>NaN</td>\n",
       "      <td>-34 days +01:54:53.974358</td>\n",
       "    </tr>\n",
       "    <tr>\n",
       "      <th>2</th>\n",
       "      <td>-2.072727</td>\n",
       "      <td>-10567.348485</td>\n",
       "      <td>NaN</td>\n",
       "      <td>...</td>\n",
       "      <td>-0.287879</td>\n",
       "      <td>NaN</td>\n",
       "      <td>-34 days +23:54:09.666667</td>\n",
       "    </tr>\n",
       "    <tr>\n",
       "      <th>...</th>\n",
       "      <td>...</td>\n",
       "      <td>...</td>\n",
       "      <td>...</td>\n",
       "      <td>...</td>\n",
       "      <td>...</td>\n",
       "      <td>...</td>\n",
       "      <td>...</td>\n",
       "    </tr>\n",
       "    <tr>\n",
       "      <th>49997</th>\n",
       "      <td>0.400000</td>\n",
       "      <td>4817.388889</td>\n",
       "      <td>NaN</td>\n",
       "      <td>...</td>\n",
       "      <td>0.555556</td>\n",
       "      <td>NaN</td>\n",
       "      <td>40 days 00:58:02.888888</td>\n",
       "    </tr>\n",
       "    <tr>\n",
       "      <th>49998</th>\n",
       "      <td>-1.625862</td>\n",
       "      <td>-36774.032258</td>\n",
       "      <td>NaN</td>\n",
       "      <td>...</td>\n",
       "      <td>-0.774194</td>\n",
       "      <td>NaN</td>\n",
       "      <td>47 days 23:03:03.193548</td>\n",
       "    </tr>\n",
       "    <tr>\n",
       "      <th>49999</th>\n",
       "      <td>2.165500</td>\n",
       "      <td>20759.950000</td>\n",
       "      <td>NaN</td>\n",
       "      <td>...</td>\n",
       "      <td>0.375000</td>\n",
       "      <td>NaN</td>\n",
       "      <td>36 days 16:53:37.250000</td>\n",
       "    </tr>\n",
       "  </tbody>\n",
       "</table>\n",
       "<p>50000 rows × 13 columns</p>\n",
       "</div>"
      ],
      "text/plain": [
       "            abv       beer_id  beer_name  ...  review_taste  text  \\\n",
       "0     -2.763000 -14386.800000        NaN  ...      0.450000   NaN   \n",
       "1     -1.501563 -12613.333333        NaN  ...     -0.012821   NaN   \n",
       "2     -2.072727 -10567.348485        NaN  ...     -0.287879   NaN   \n",
       "...         ...           ...        ...  ...           ...   ...   \n",
       "49997  0.400000   4817.388889        NaN  ...      0.555556   NaN   \n",
       "49998 -1.625862 -36774.032258        NaN  ...     -0.774194   NaN   \n",
       "49999  2.165500  20759.950000        NaN  ...      0.375000   NaN   \n",
       "\n",
       "                           time  \n",
       "0      -1 days +12:10:11.900000  \n",
       "1     -34 days +01:54:53.974358  \n",
       "2     -34 days +23:54:09.666667  \n",
       "...                         ...  \n",
       "49997   40 days 00:58:02.888888  \n",
       "49998   47 days 23:03:03.193548  \n",
       "49999   36 days 16:53:37.250000  \n",
       "\n",
       "[50000 rows x 13 columns]"
      ]
     },
     "execution_count": 246,
     "metadata": {},
     "output_type": "execute_result"
    }
   ],
   "source": [
    "# Rather than applying the de_mean(), \n",
    "# use the built-in pandas method mean() and \n",
    "# move the arithmetic up to \"df - df.groupby()\"\n",
    "\n",
    "(\n",
    "\n",
    "    df - df.groupby('profile_name').transform('mean')\n",
    "\n",
    ").select_dtypes(exclude=['object'])"
   ]
  },
  {
   "cell_type": "code",
   "execution_count": 247,
   "metadata": {
    "slideshow": {
     "slide_type": "subslide"
    }
   },
   "outputs": [
    {
     "name": "stdout",
     "output_type": "stream",
     "text": [
      "13.2 s ± 733 ms per loop (mean ± std. dev. of 7 runs, 1 loop each)\n"
     ]
    }
   ],
   "source": [
    "%timeit df.groupby('profile_name').transform(de_mean)"
   ]
  },
  {
   "cell_type": "code",
   "execution_count": 248,
   "metadata": {
    "slideshow": {
     "slide_type": "fragment"
    }
   },
   "outputs": [
    {
     "name": "stdout",
     "output_type": "stream",
     "text": [
      "8.88 s ± 293 ms per loop (mean ± std. dev. of 7 runs, 1 loop each)\n"
     ]
    }
   ],
   "source": [
    "%timeit (df-df.groupby('profile_name').transform('mean')).select_dtypes(exclude=['object'])"
   ]
  },
  {
   "cell_type": "code",
   "execution_count": 263,
   "metadata": {
    "slideshow": {
     "slide_type": "fragment"
    }
   },
   "outputs": [
    {
     "data": {
      "text/plain": [
       "4124"
      ]
     },
     "execution_count": 263,
     "metadata": {},
     "output_type": "execute_result"
    }
   ],
   "source": [
    "df.groupby('profile_name').ngroups"
   ]
  },
  {
   "cell_type": "markdown",
   "metadata": {},
   "source": [
    "***"
   ]
  },
  {
   "cell_type": "markdown",
   "metadata": {
    "slideshow": {
     "slide_type": "subslide"
    }
   },
   "source": [
    "# GroupBy with Multiple Columns"
   ]
  },
  {
   "cell_type": "markdown",
   "metadata": {},
   "source": [
    "You can group by **levels** of a MultiIndex."
   ]
  }
 ],
 "metadata": {
  "continuum": {
   "depends": [
    "ip_conda"
   ],
   "requires": [
    "data/goog.csv"
   ],
   "tag": "pd_intro"
  },
  "kernelspec": {
   "display_name": "Python 3",
   "language": "python",
   "name": "python3"
  },
  "language_info": {
   "codemirror_mode": {
    "name": "ipython",
    "version": 3
   },
   "file_extension": ".py",
   "mimetype": "text/x-python",
   "name": "python",
   "nbconvert_exporter": "python",
   "pygments_lexer": "ipython3",
   "version": "3.8.3"
  }
 },
 "nbformat": 4,
 "nbformat_minor": 1
}
